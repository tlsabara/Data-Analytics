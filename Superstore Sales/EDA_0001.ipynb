{
 "cells": [
  {
   "cell_type": "code",
   "execution_count": 2,
   "metadata": {
    "collapsed": true,
    "ExecuteTime": {
     "start_time": "2023-05-06T17:53:49.644519Z",
     "end_time": "2023-05-06T17:53:49.664518Z"
    }
   },
   "outputs": [],
   "source": [
    "import pandas as pd\n",
    "import seaborn as sns\n",
    "import statistics as sts"
   ]
  },
  {
   "cell_type": "code",
   "execution_count": 1,
   "outputs": [],
   "source": [
    "file = \"./Sample - Superstore.xls\"\n"
   ],
   "metadata": {
    "collapsed": false,
    "ExecuteTime": {
     "start_time": "2023-05-06T17:53:35.277750Z",
     "end_time": "2023-05-06T17:53:35.294320Z"
    }
   }
  },
  {
   "cell_type": "code",
   "execution_count": 4,
   "outputs": [],
   "source": [
    "df = pd.read_excel(file)"
   ],
   "metadata": {
    "collapsed": false,
    "ExecuteTime": {
     "start_time": "2023-05-06T17:54:15.467688Z",
     "end_time": "2023-05-06T17:54:15.850452Z"
    }
   }
  },
  {
   "cell_type": "code",
   "execution_count": 35,
   "outputs": [
    {
     "name": "stdout",
     "output_type": "stream",
     "text": [
      "<class 'pandas.core.frame.DataFrame'>\n",
      "RangeIndex: 9994 entries, 0 to 9993\n",
      "Data columns (total 21 columns):\n",
      " #   Column         Non-Null Count  Dtype         \n",
      "---  ------         --------------  -----         \n",
      " 0   Row ID         9994 non-null   int64         \n",
      " 1   Order ID       9994 non-null   object        \n",
      " 2   Order Date     9994 non-null   datetime64[ns]\n",
      " 3   Ship Date      9994 non-null   datetime64[ns]\n",
      " 4   Ship Mode      9994 non-null   object        \n",
      " 5   Customer ID    9994 non-null   object        \n",
      " 6   Customer Name  9994 non-null   object        \n",
      " 7   Segment        9994 non-null   object        \n",
      " 8   Country        9994 non-null   object        \n",
      " 9   City           9994 non-null   object        \n",
      " 10  State          9994 non-null   object        \n",
      " 11  Postal Code    9994 non-null   int64         \n",
      " 12  Region         9994 non-null   object        \n",
      " 13  Product ID     9994 non-null   object        \n",
      " 14  Category       9994 non-null   object        \n",
      " 15  Sub-Category   9994 non-null   object        \n",
      " 16  Product Name   9994 non-null   object        \n",
      " 17  Sales          9994 non-null   float64       \n",
      " 18  Quantity       9994 non-null   int64         \n",
      " 19  Discount       9994 non-null   float64       \n",
      " 20  Profit         9994 non-null   float64       \n",
      "dtypes: datetime64[ns](2), float64(3), int64(3), object(13)\n",
      "memory usage: 1.6+ MB\n"
     ]
    }
   ],
   "source": [
    "df.info()"
   ],
   "metadata": {
    "collapsed": false,
    "ExecuteTime": {
     "start_time": "2023-05-06T18:53:38.524965Z",
     "end_time": "2023-05-06T18:53:38.554813Z"
    }
   }
  },
  {
   "cell_type": "code",
   "execution_count": 36,
   "outputs": [
    {
     "data": {
      "text/plain": "   Row ID        Order ID Order Date  Ship Date       Ship Mode Customer ID   \n0       1  CA-2016-152156 2016-11-08 2016-11-11    Second Class    CG-12520  \\\n1       2  CA-2016-152156 2016-11-08 2016-11-11    Second Class    CG-12520   \n2       3  CA-2016-138688 2016-06-12 2016-06-16    Second Class    DV-13045   \n3       4  US-2015-108966 2015-10-11 2015-10-18  Standard Class    SO-20335   \n4       5  US-2015-108966 2015-10-11 2015-10-18  Standard Class    SO-20335   \n\n     Customer Name    Segment        Country             City  ...   \n0      Claire Gute   Consumer  United States        Henderson  ...  \\\n1      Claire Gute   Consumer  United States        Henderson  ...   \n2  Darrin Van Huff  Corporate  United States      Los Angeles  ...   \n3   Sean O'Donnell   Consumer  United States  Fort Lauderdale  ...   \n4   Sean O'Donnell   Consumer  United States  Fort Lauderdale  ...   \n\n  Postal Code  Region       Product ID         Category Sub-Category   \n0       42420   South  FUR-BO-10001798        Furniture    Bookcases  \\\n1       42420   South  FUR-CH-10000454        Furniture       Chairs   \n2       90036    West  OFF-LA-10000240  Office Supplies       Labels   \n3       33311   South  FUR-TA-10000577        Furniture       Tables   \n4       33311   South  OFF-ST-10000760  Office Supplies      Storage   \n\n                                        Product Name     Sales  Quantity   \n0                  Bush Somerset Collection Bookcase  261.9600         2  \\\n1  Hon Deluxe Fabric Upholstered Stacking Chairs,...  731.9400         3   \n2  Self-Adhesive Address Labels for Typewriters b...   14.6200         2   \n3      Bretford CR4500 Series Slim Rectangular Table  957.5775         5   \n4                     Eldon Fold 'N Roll Cart System   22.3680         2   \n\n   Discount    Profit  \n0      0.00   41.9136  \n1      0.00  219.5820  \n2      0.00    6.8714  \n3      0.45 -383.0310  \n4      0.20    2.5164  \n\n[5 rows x 21 columns]",
      "text/html": "<div>\n<style scoped>\n    .dataframe tbody tr th:only-of-type {\n        vertical-align: middle;\n    }\n\n    .dataframe tbody tr th {\n        vertical-align: top;\n    }\n\n    .dataframe thead th {\n        text-align: right;\n    }\n</style>\n<table border=\"1\" class=\"dataframe\">\n  <thead>\n    <tr style=\"text-align: right;\">\n      <th></th>\n      <th>Row ID</th>\n      <th>Order ID</th>\n      <th>Order Date</th>\n      <th>Ship Date</th>\n      <th>Ship Mode</th>\n      <th>Customer ID</th>\n      <th>Customer Name</th>\n      <th>Segment</th>\n      <th>Country</th>\n      <th>City</th>\n      <th>...</th>\n      <th>Postal Code</th>\n      <th>Region</th>\n      <th>Product ID</th>\n      <th>Category</th>\n      <th>Sub-Category</th>\n      <th>Product Name</th>\n      <th>Sales</th>\n      <th>Quantity</th>\n      <th>Discount</th>\n      <th>Profit</th>\n    </tr>\n  </thead>\n  <tbody>\n    <tr>\n      <th>0</th>\n      <td>1</td>\n      <td>CA-2016-152156</td>\n      <td>2016-11-08</td>\n      <td>2016-11-11</td>\n      <td>Second Class</td>\n      <td>CG-12520</td>\n      <td>Claire Gute</td>\n      <td>Consumer</td>\n      <td>United States</td>\n      <td>Henderson</td>\n      <td>...</td>\n      <td>42420</td>\n      <td>South</td>\n      <td>FUR-BO-10001798</td>\n      <td>Furniture</td>\n      <td>Bookcases</td>\n      <td>Bush Somerset Collection Bookcase</td>\n      <td>261.9600</td>\n      <td>2</td>\n      <td>0.00</td>\n      <td>41.9136</td>\n    </tr>\n    <tr>\n      <th>1</th>\n      <td>2</td>\n      <td>CA-2016-152156</td>\n      <td>2016-11-08</td>\n      <td>2016-11-11</td>\n      <td>Second Class</td>\n      <td>CG-12520</td>\n      <td>Claire Gute</td>\n      <td>Consumer</td>\n      <td>United States</td>\n      <td>Henderson</td>\n      <td>...</td>\n      <td>42420</td>\n      <td>South</td>\n      <td>FUR-CH-10000454</td>\n      <td>Furniture</td>\n      <td>Chairs</td>\n      <td>Hon Deluxe Fabric Upholstered Stacking Chairs,...</td>\n      <td>731.9400</td>\n      <td>3</td>\n      <td>0.00</td>\n      <td>219.5820</td>\n    </tr>\n    <tr>\n      <th>2</th>\n      <td>3</td>\n      <td>CA-2016-138688</td>\n      <td>2016-06-12</td>\n      <td>2016-06-16</td>\n      <td>Second Class</td>\n      <td>DV-13045</td>\n      <td>Darrin Van Huff</td>\n      <td>Corporate</td>\n      <td>United States</td>\n      <td>Los Angeles</td>\n      <td>...</td>\n      <td>90036</td>\n      <td>West</td>\n      <td>OFF-LA-10000240</td>\n      <td>Office Supplies</td>\n      <td>Labels</td>\n      <td>Self-Adhesive Address Labels for Typewriters b...</td>\n      <td>14.6200</td>\n      <td>2</td>\n      <td>0.00</td>\n      <td>6.8714</td>\n    </tr>\n    <tr>\n      <th>3</th>\n      <td>4</td>\n      <td>US-2015-108966</td>\n      <td>2015-10-11</td>\n      <td>2015-10-18</td>\n      <td>Standard Class</td>\n      <td>SO-20335</td>\n      <td>Sean O'Donnell</td>\n      <td>Consumer</td>\n      <td>United States</td>\n      <td>Fort Lauderdale</td>\n      <td>...</td>\n      <td>33311</td>\n      <td>South</td>\n      <td>FUR-TA-10000577</td>\n      <td>Furniture</td>\n      <td>Tables</td>\n      <td>Bretford CR4500 Series Slim Rectangular Table</td>\n      <td>957.5775</td>\n      <td>5</td>\n      <td>0.45</td>\n      <td>-383.0310</td>\n    </tr>\n    <tr>\n      <th>4</th>\n      <td>5</td>\n      <td>US-2015-108966</td>\n      <td>2015-10-11</td>\n      <td>2015-10-18</td>\n      <td>Standard Class</td>\n      <td>SO-20335</td>\n      <td>Sean O'Donnell</td>\n      <td>Consumer</td>\n      <td>United States</td>\n      <td>Fort Lauderdale</td>\n      <td>...</td>\n      <td>33311</td>\n      <td>South</td>\n      <td>OFF-ST-10000760</td>\n      <td>Office Supplies</td>\n      <td>Storage</td>\n      <td>Eldon Fold 'N Roll Cart System</td>\n      <td>22.3680</td>\n      <td>2</td>\n      <td>0.20</td>\n      <td>2.5164</td>\n    </tr>\n  </tbody>\n</table>\n<p>5 rows × 21 columns</p>\n</div>"
     },
     "execution_count": 36,
     "metadata": {},
     "output_type": "execute_result"
    }
   ],
   "source": [
    "df.head()"
   ],
   "metadata": {
    "collapsed": false,
    "ExecuteTime": {
     "start_time": "2023-05-06T18:53:44.614774Z",
     "end_time": "2023-05-06T18:53:44.644692Z"
    }
   }
  },
  {
   "cell_type": "code",
   "execution_count": 37,
   "outputs": [
    {
     "data": {
      "text/plain": "            Row ID                     Order Date   \ncount  9994.000000                           9994  \\\nmean   4997.500000  2016-04-30 00:07:12.259355648   \nmin       1.000000            2014-01-03 00:00:00   \n25%    2499.250000            2015-05-23 00:00:00   \n50%    4997.500000            2016-06-26 00:00:00   \n75%    7495.750000            2017-05-14 00:00:00   \nmax    9994.000000            2017-12-30 00:00:00   \nstd    2885.163629                            NaN   \n\n                           Ship Date   Postal Code         Sales     Quantity   \ncount                           9994   9994.000000   9994.000000  9994.000000  \\\nmean   2016-05-03 23:06:58.571142912  55190.379428    229.858001     3.789574   \nmin              2014-01-07 00:00:00   1040.000000      0.444000     1.000000   \n25%              2015-05-27 00:00:00  23223.000000     17.280000     2.000000   \n50%              2016-06-29 00:00:00  56430.500000     54.490000     3.000000   \n75%              2017-05-18 00:00:00  90008.000000    209.940000     5.000000   \nmax              2018-01-05 00:00:00  99301.000000  22638.480000    14.000000   \nstd                              NaN  32063.693350    623.245101     2.225110   \n\n          Discount       Profit  \ncount  9994.000000  9994.000000  \nmean      0.156203    28.656896  \nmin       0.000000 -6599.978000  \n25%       0.000000     1.728750  \n50%       0.200000     8.666500  \n75%       0.200000    29.364000  \nmax       0.800000  8399.976000  \nstd       0.206452   234.260108  ",
      "text/html": "<div>\n<style scoped>\n    .dataframe tbody tr th:only-of-type {\n        vertical-align: middle;\n    }\n\n    .dataframe tbody tr th {\n        vertical-align: top;\n    }\n\n    .dataframe thead th {\n        text-align: right;\n    }\n</style>\n<table border=\"1\" class=\"dataframe\">\n  <thead>\n    <tr style=\"text-align: right;\">\n      <th></th>\n      <th>Row ID</th>\n      <th>Order Date</th>\n      <th>Ship Date</th>\n      <th>Postal Code</th>\n      <th>Sales</th>\n      <th>Quantity</th>\n      <th>Discount</th>\n      <th>Profit</th>\n    </tr>\n  </thead>\n  <tbody>\n    <tr>\n      <th>count</th>\n      <td>9994.000000</td>\n      <td>9994</td>\n      <td>9994</td>\n      <td>9994.000000</td>\n      <td>9994.000000</td>\n      <td>9994.000000</td>\n      <td>9994.000000</td>\n      <td>9994.000000</td>\n    </tr>\n    <tr>\n      <th>mean</th>\n      <td>4997.500000</td>\n      <td>2016-04-30 00:07:12.259355648</td>\n      <td>2016-05-03 23:06:58.571142912</td>\n      <td>55190.379428</td>\n      <td>229.858001</td>\n      <td>3.789574</td>\n      <td>0.156203</td>\n      <td>28.656896</td>\n    </tr>\n    <tr>\n      <th>min</th>\n      <td>1.000000</td>\n      <td>2014-01-03 00:00:00</td>\n      <td>2014-01-07 00:00:00</td>\n      <td>1040.000000</td>\n      <td>0.444000</td>\n      <td>1.000000</td>\n      <td>0.000000</td>\n      <td>-6599.978000</td>\n    </tr>\n    <tr>\n      <th>25%</th>\n      <td>2499.250000</td>\n      <td>2015-05-23 00:00:00</td>\n      <td>2015-05-27 00:00:00</td>\n      <td>23223.000000</td>\n      <td>17.280000</td>\n      <td>2.000000</td>\n      <td>0.000000</td>\n      <td>1.728750</td>\n    </tr>\n    <tr>\n      <th>50%</th>\n      <td>4997.500000</td>\n      <td>2016-06-26 00:00:00</td>\n      <td>2016-06-29 00:00:00</td>\n      <td>56430.500000</td>\n      <td>54.490000</td>\n      <td>3.000000</td>\n      <td>0.200000</td>\n      <td>8.666500</td>\n    </tr>\n    <tr>\n      <th>75%</th>\n      <td>7495.750000</td>\n      <td>2017-05-14 00:00:00</td>\n      <td>2017-05-18 00:00:00</td>\n      <td>90008.000000</td>\n      <td>209.940000</td>\n      <td>5.000000</td>\n      <td>0.200000</td>\n      <td>29.364000</td>\n    </tr>\n    <tr>\n      <th>max</th>\n      <td>9994.000000</td>\n      <td>2017-12-30 00:00:00</td>\n      <td>2018-01-05 00:00:00</td>\n      <td>99301.000000</td>\n      <td>22638.480000</td>\n      <td>14.000000</td>\n      <td>0.800000</td>\n      <td>8399.976000</td>\n    </tr>\n    <tr>\n      <th>std</th>\n      <td>2885.163629</td>\n      <td>NaN</td>\n      <td>NaN</td>\n      <td>32063.693350</td>\n      <td>623.245101</td>\n      <td>2.225110</td>\n      <td>0.206452</td>\n      <td>234.260108</td>\n    </tr>\n  </tbody>\n</table>\n</div>"
     },
     "execution_count": 37,
     "metadata": {},
     "output_type": "execute_result"
    }
   ],
   "source": [
    "df.describe()"
   ],
   "metadata": {
    "collapsed": false,
    "ExecuteTime": {
     "start_time": "2023-05-06T18:53:49.619762Z",
     "end_time": "2023-05-06T18:53:49.655066Z"
    }
   }
  },
  {
   "cell_type": "code",
   "execution_count": 38,
   "outputs": [
    {
     "data": {
      "text/plain": "Index(['Row ID', 'Order ID', 'Order Date', 'Ship Date', 'Ship Mode',\n       'Customer ID', 'Customer Name', 'Segment', 'Country', 'City', 'State',\n       'Postal Code', 'Region', 'Product ID', 'Category', 'Sub-Category',\n       'Product Name', 'Sales', 'Quantity', 'Discount', 'Profit'],\n      dtype='object')"
     },
     "execution_count": 38,
     "metadata": {},
     "output_type": "execute_result"
    }
   ],
   "source": [
    "df.columns"
   ],
   "metadata": {
    "collapsed": false,
    "ExecuteTime": {
     "start_time": "2023-05-06T18:54:35.124869Z",
     "end_time": "2023-05-06T18:54:35.145236Z"
    }
   }
  },
  {
   "cell_type": "code",
   "execution_count": 44,
   "outputs": [],
   "source": [
    "new_columns_names = {\n",
    "    'Row ID': \"ROW_ID__del\",\n",
    "    'Order ID': \"ORDER_ID\",\n",
    "    'Order Date': \"ORDER_DATE\",\n",
    "    'Ship Date': \"SHIP_DATE\",\n",
    "    'Ship Mode': \"SHIP_MODE\",\n",
    "    'Customer ID': \"CUSTOME_ID\",\n",
    "    'Customer Name': \"CUSTOMER_NAME\",\n",
    "    'Segment': \"SEGMENT\",\n",
    "    'Country': \"COUNTRY\",\n",
    "    'City': \"CITY\",\n",
    "    'State': \"STATE\",\n",
    "    'Postal Code': \"POSTAL_CODE\",\n",
    "    'Region': \"REGION\",\n",
    "    'Product ID': \"PRODUCT_ID\",\n",
    "    'Category': \"CATEGORY\",\n",
    "    'Sub-Category': \"SUB_CATEGORY\",\n",
    "    'Product Name': \"PRODUCT_NAME\",\n",
    "    'Sales': \"SALES\",\n",
    "    'Quantity': \"QUANTITY\",\n",
    "    'Discount': \"DISCOUNT\",\n",
    "    'Profit': \"PROFIT\"\n",
    "}\n",
    "df.rename(columns=new_columns_names, inplace=True)"
   ],
   "metadata": {
    "collapsed": false,
    "ExecuteTime": {
     "start_time": "2023-05-06T19:01:21.074872Z",
     "end_time": "2023-05-06T19:01:21.094549Z"
    }
   }
  },
  {
   "cell_type": "code",
   "execution_count": 45,
   "outputs": [
    {
     "data": {
      "text/plain": "   ROW_ID__del        ORDER_ID ORDER_DATE  SHIP_DATE       SHIP_MODE   \n0            1  CA-2016-152156 2016-11-08 2016-11-11    Second Class  \\\n1            2  CA-2016-152156 2016-11-08 2016-11-11    Second Class   \n2            3  CA-2016-138688 2016-06-12 2016-06-16    Second Class   \n3            4  US-2015-108966 2015-10-11 2015-10-18  Standard Class   \n4            5  US-2015-108966 2015-10-11 2015-10-18  Standard Class   \n\n  CUSTOME_ID    CUSTOMER_NAME    SEGMENT        COUNTRY             CITY  ...   \n0   CG-12520      Claire Gute   Consumer  United States        Henderson  ...  \\\n1   CG-12520      Claire Gute   Consumer  United States        Henderson  ...   \n2   DV-13045  Darrin Van Huff  Corporate  United States      Los Angeles  ...   \n3   SO-20335   Sean O'Donnell   Consumer  United States  Fort Lauderdale  ...   \n4   SO-20335   Sean O'Donnell   Consumer  United States  Fort Lauderdale  ...   \n\n  POSTAL_CODE  REGION       PRODUCT_ID         CATEGORY SUB_CATEGORY   \n0       42420   South  FUR-BO-10001798        Furniture    Bookcases  \\\n1       42420   South  FUR-CH-10000454        Furniture       Chairs   \n2       90036    West  OFF-LA-10000240  Office Supplies       Labels   \n3       33311   South  FUR-TA-10000577        Furniture       Tables   \n4       33311   South  OFF-ST-10000760  Office Supplies      Storage   \n\n                                        PRODUCT_NAME     SALES  QUANTITY   \n0                  Bush Somerset Collection Bookcase  261.9600         2  \\\n1  Hon Deluxe Fabric Upholstered Stacking Chairs,...  731.9400         3   \n2  Self-Adhesive Address Labels for Typewriters b...   14.6200         2   \n3      Bretford CR4500 Series Slim Rectangular Table  957.5775         5   \n4                     Eldon Fold 'N Roll Cart System   22.3680         2   \n\n   DISCOUNT    PROFIT  \n0      0.00   41.9136  \n1      0.00  219.5820  \n2      0.00    6.8714  \n3      0.45 -383.0310  \n4      0.20    2.5164  \n\n[5 rows x 21 columns]",
      "text/html": "<div>\n<style scoped>\n    .dataframe tbody tr th:only-of-type {\n        vertical-align: middle;\n    }\n\n    .dataframe tbody tr th {\n        vertical-align: top;\n    }\n\n    .dataframe thead th {\n        text-align: right;\n    }\n</style>\n<table border=\"1\" class=\"dataframe\">\n  <thead>\n    <tr style=\"text-align: right;\">\n      <th></th>\n      <th>ROW_ID__del</th>\n      <th>ORDER_ID</th>\n      <th>ORDER_DATE</th>\n      <th>SHIP_DATE</th>\n      <th>SHIP_MODE</th>\n      <th>CUSTOME_ID</th>\n      <th>CUSTOMER_NAME</th>\n      <th>SEGMENT</th>\n      <th>COUNTRY</th>\n      <th>CITY</th>\n      <th>...</th>\n      <th>POSTAL_CODE</th>\n      <th>REGION</th>\n      <th>PRODUCT_ID</th>\n      <th>CATEGORY</th>\n      <th>SUB_CATEGORY</th>\n      <th>PRODUCT_NAME</th>\n      <th>SALES</th>\n      <th>QUANTITY</th>\n      <th>DISCOUNT</th>\n      <th>PROFIT</th>\n    </tr>\n  </thead>\n  <tbody>\n    <tr>\n      <th>0</th>\n      <td>1</td>\n      <td>CA-2016-152156</td>\n      <td>2016-11-08</td>\n      <td>2016-11-11</td>\n      <td>Second Class</td>\n      <td>CG-12520</td>\n      <td>Claire Gute</td>\n      <td>Consumer</td>\n      <td>United States</td>\n      <td>Henderson</td>\n      <td>...</td>\n      <td>42420</td>\n      <td>South</td>\n      <td>FUR-BO-10001798</td>\n      <td>Furniture</td>\n      <td>Bookcases</td>\n      <td>Bush Somerset Collection Bookcase</td>\n      <td>261.9600</td>\n      <td>2</td>\n      <td>0.00</td>\n      <td>41.9136</td>\n    </tr>\n    <tr>\n      <th>1</th>\n      <td>2</td>\n      <td>CA-2016-152156</td>\n      <td>2016-11-08</td>\n      <td>2016-11-11</td>\n      <td>Second Class</td>\n      <td>CG-12520</td>\n      <td>Claire Gute</td>\n      <td>Consumer</td>\n      <td>United States</td>\n      <td>Henderson</td>\n      <td>...</td>\n      <td>42420</td>\n      <td>South</td>\n      <td>FUR-CH-10000454</td>\n      <td>Furniture</td>\n      <td>Chairs</td>\n      <td>Hon Deluxe Fabric Upholstered Stacking Chairs,...</td>\n      <td>731.9400</td>\n      <td>3</td>\n      <td>0.00</td>\n      <td>219.5820</td>\n    </tr>\n    <tr>\n      <th>2</th>\n      <td>3</td>\n      <td>CA-2016-138688</td>\n      <td>2016-06-12</td>\n      <td>2016-06-16</td>\n      <td>Second Class</td>\n      <td>DV-13045</td>\n      <td>Darrin Van Huff</td>\n      <td>Corporate</td>\n      <td>United States</td>\n      <td>Los Angeles</td>\n      <td>...</td>\n      <td>90036</td>\n      <td>West</td>\n      <td>OFF-LA-10000240</td>\n      <td>Office Supplies</td>\n      <td>Labels</td>\n      <td>Self-Adhesive Address Labels for Typewriters b...</td>\n      <td>14.6200</td>\n      <td>2</td>\n      <td>0.00</td>\n      <td>6.8714</td>\n    </tr>\n    <tr>\n      <th>3</th>\n      <td>4</td>\n      <td>US-2015-108966</td>\n      <td>2015-10-11</td>\n      <td>2015-10-18</td>\n      <td>Standard Class</td>\n      <td>SO-20335</td>\n      <td>Sean O'Donnell</td>\n      <td>Consumer</td>\n      <td>United States</td>\n      <td>Fort Lauderdale</td>\n      <td>...</td>\n      <td>33311</td>\n      <td>South</td>\n      <td>FUR-TA-10000577</td>\n      <td>Furniture</td>\n      <td>Tables</td>\n      <td>Bretford CR4500 Series Slim Rectangular Table</td>\n      <td>957.5775</td>\n      <td>5</td>\n      <td>0.45</td>\n      <td>-383.0310</td>\n    </tr>\n    <tr>\n      <th>4</th>\n      <td>5</td>\n      <td>US-2015-108966</td>\n      <td>2015-10-11</td>\n      <td>2015-10-18</td>\n      <td>Standard Class</td>\n      <td>SO-20335</td>\n      <td>Sean O'Donnell</td>\n      <td>Consumer</td>\n      <td>United States</td>\n      <td>Fort Lauderdale</td>\n      <td>...</td>\n      <td>33311</td>\n      <td>South</td>\n      <td>OFF-ST-10000760</td>\n      <td>Office Supplies</td>\n      <td>Storage</td>\n      <td>Eldon Fold 'N Roll Cart System</td>\n      <td>22.3680</td>\n      <td>2</td>\n      <td>0.20</td>\n      <td>2.5164</td>\n    </tr>\n  </tbody>\n</table>\n<p>5 rows × 21 columns</p>\n</div>"
     },
     "execution_count": 45,
     "metadata": {},
     "output_type": "execute_result"
    }
   ],
   "source": [
    "df.head()"
   ],
   "metadata": {
    "collapsed": false,
    "ExecuteTime": {
     "start_time": "2023-05-06T19:01:22.674721Z",
     "end_time": "2023-05-06T19:01:22.694816Z"
    }
   }
  },
  {
   "cell_type": "code",
   "execution_count": 46,
   "outputs": [
    {
     "name": "stdout",
     "output_type": "stream",
     "text": [
      "<class 'pandas.core.frame.DataFrame'>\n",
      "Index: 9994 entries, 0 to 9993\n",
      "Data columns (total 21 columns):\n",
      " #   Column         Non-Null Count  Dtype         \n",
      "---  ------         --------------  -----         \n",
      " 0   ROW_ID__del    9994 non-null   int64         \n",
      " 1   ORDER_ID       9994 non-null   object        \n",
      " 2   ORDER_DATE     9994 non-null   datetime64[ns]\n",
      " 3   SHIP_DATE      9994 non-null   datetime64[ns]\n",
      " 4   SHIP_MODE      9994 non-null   object        \n",
      " 5   CUSTOME_ID     9994 non-null   object        \n",
      " 6   CUSTOMER_NAME  9994 non-null   object        \n",
      " 7   SEGMENT        9994 non-null   object        \n",
      " 8   COUNTRY        9994 non-null   object        \n",
      " 9   CITY           9994 non-null   object        \n",
      " 10  STATE          9994 non-null   object        \n",
      " 11  POSTAL_CODE    9994 non-null   int64         \n",
      " 12  REGION         9994 non-null   object        \n",
      " 13  PRODUCT_ID     9994 non-null   object        \n",
      " 14  CATEGORY       9994 non-null   object        \n",
      " 15  SUB_CATEGORY   9994 non-null   object        \n",
      " 16  PRODUCT_NAME   9994 non-null   object        \n",
      " 17  SALES          9994 non-null   float64       \n",
      " 18  QUANTITY       9994 non-null   int64         \n",
      " 19  DISCOUNT       9994 non-null   float64       \n",
      " 20  PROFIT         9994 non-null   float64       \n",
      "dtypes: datetime64[ns](2), float64(3), int64(3), object(13)\n",
      "memory usage: 1.9+ MB\n"
     ]
    }
   ],
   "source": [
    "df.info()"
   ],
   "metadata": {
    "collapsed": false,
    "ExecuteTime": {
     "start_time": "2023-05-06T19:01:42.470450Z",
     "end_time": "2023-05-06T19:01:42.486349Z"
    }
   }
  },
  {
   "cell_type": "code",
   "execution_count": 47,
   "outputs": [
    {
     "data": {
      "text/plain": "ROW_ID__del      0.0\nORDER_ID         0.0\nORDER_DATE       0.0\nSHIP_DATE        0.0\nSHIP_MODE        0.0\nCUSTOME_ID       0.0\nCUSTOMER_NAME    0.0\nSEGMENT          0.0\nCOUNTRY          0.0\nCITY             0.0\nSTATE            0.0\nPOSTAL_CODE      0.0\nREGION           0.0\nPRODUCT_ID       0.0\nCATEGORY         0.0\nSUB_CATEGORY     0.0\nPRODUCT_NAME     0.0\nSALES            0.0\nQUANTITY         0.0\nDISCOUNT         0.0\nPROFIT           0.0\ndtype: float64"
     },
     "execution_count": 47,
     "metadata": {},
     "output_type": "execute_result"
    }
   ],
   "source": [
    "df.isna().mean()"
   ],
   "metadata": {
    "collapsed": false,
    "ExecuteTime": {
     "start_time": "2023-05-06T19:03:24.214535Z",
     "end_time": "2023-05-06T19:03:24.224372Z"
    }
   }
  },
  {
   "cell_type": "code",
   "execution_count": 52,
   "outputs": [
    {
     "data": {
      "text/plain": "<seaborn.axisgrid.FacetGrid at 0x28df3db0940>"
     },
     "execution_count": 52,
     "metadata": {},
     "output_type": "execute_result"
    },
    {
     "data": {
      "text/plain": "<Figure size 500x500 with 1 Axes>",
      "image/png": "[encoded data removed]"
     },
     "metadata": {},
     "output_type": "display_data"
    }
   ],
   "source": [
    "sns.displot(\n",
    "    data=df.groupby('CUSTOMER_NAME').count().sort_values('ORDER_ID', axis=0, ascending=False)['ORDER_ID'],\n",
    "\n",
    ")"
   ],
   "metadata": {
    "collapsed": false,
    "ExecuteTime": {
     "start_time": "2023-05-06T19:06:08.804448Z",
     "end_time": "2023-05-06T19:06:09.043518Z"
    }
   }
  },
  {
   "cell_type": "code",
   "execution_count": 54,
   "outputs": [
    {
     "data": {
      "text/plain": "                  count       mean        min       25%      50%      75%   \nCATEGORY                                                                    \nFurniture        2121.0   8.699327 -1862.3124 -12.84900   7.7748  33.7266  \\\nOffice Supplies  6026.0  20.327050 -3701.8928   2.10150   6.8824  19.4163   \nTechnology       1847.0  78.752002 -6599.9780   5.20365  25.0182  74.8946   \n\n                      max         std  \nCATEGORY                               \nFurniture        1013.127  136.049246  \nOffice Supplies  4946.370  164.887280  \nTechnology       8399.976  428.816633  ",
      "text/html": "<div>\n<style scoped>\n    .dataframe tbody tr th:only-of-type {\n        vertical-align: middle;\n    }\n\n    .dataframe tbody tr th {\n        vertical-align: top;\n    }\n\n    .dataframe thead th {\n        text-align: right;\n    }\n</style>\n<table border=\"1\" class=\"dataframe\">\n  <thead>\n    <tr style=\"text-align: right;\">\n      <th></th>\n      <th>count</th>\n      <th>mean</th>\n      <th>min</th>\n      <th>25%</th>\n      <th>50%</th>\n      <th>75%</th>\n      <th>max</th>\n      <th>std</th>\n    </tr>\n    <tr>\n      <th>CATEGORY</th>\n      <th></th>\n      <th></th>\n      <th></th>\n      <th></th>\n      <th></th>\n      <th></th>\n      <th></th>\n      <th></th>\n    </tr>\n  </thead>\n  <tbody>\n    <tr>\n      <th>Furniture</th>\n      <td>2121.0</td>\n      <td>8.699327</td>\n      <td>-1862.3124</td>\n      <td>-12.84900</td>\n      <td>7.7748</td>\n      <td>33.7266</td>\n      <td>1013.127</td>\n      <td>136.049246</td>\n    </tr>\n    <tr>\n      <th>Office Supplies</th>\n      <td>6026.0</td>\n      <td>20.327050</td>\n      <td>-3701.8928</td>\n      <td>2.10150</td>\n      <td>6.8824</td>\n      <td>19.4163</td>\n      <td>4946.370</td>\n      <td>164.887280</td>\n    </tr>\n    <tr>\n      <th>Technology</th>\n      <td>1847.0</td>\n      <td>78.752002</td>\n      <td>-6599.9780</td>\n      <td>5.20365</td>\n      <td>25.0182</td>\n      <td>74.8946</td>\n      <td>8399.976</td>\n      <td>428.816633</td>\n    </tr>\n  </tbody>\n</table>\n</div>"
     },
     "execution_count": 54,
     "metadata": {},
     "output_type": "execute_result"
    }
   ],
   "source": [
    "df.groupby('CATEGORY').describe()['PROFIT']"
   ],
   "metadata": {
    "collapsed": false,
    "ExecuteTime": {
     "start_time": "2023-05-06T19:08:37.704414Z",
     "end_time": "2023-05-06T19:08:37.754623Z"
    }
   }
  },
  {
   "cell_type": "code",
   "execution_count": null,
   "outputs": [],
   "source": [],
   "metadata": {
    "collapsed": false
   }
  }
 ],
 "metadata": {
  "kernelspec": {
   "display_name": "Python 3",
   "language": "python",
   "name": "python3"
  },
  "language_info": {
   "codemirror_mode": {
    "name": "ipython",
    "version": 2
   },
   "file_extension": ".py",
   "mimetype": "text/x-python",
   "name": "python",
   "nbconvert_exporter": "python",
   "pygments_lexer": "ipython2",
   "version": "2.7.6"
  }
 },
 "nbformat": 4,
 "nbformat_minor": 0
}
