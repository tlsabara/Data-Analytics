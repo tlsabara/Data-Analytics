{
 "cells": [
  {
   "cell_type": "markdown",
   "id": "3028f45f-460b-4092-982b-6c998f2afcbf",
   "metadata": {},
   "source": [
    "# Gerenciamento de riscos"
   ]
  },
  {
   "cell_type": "markdown",
   "id": "7ad93090-5991-4c82-b009-170216bd13cf",
   "metadata": {
    "tags": []
   },
   "source": [
    "#### Analise de Viabilidade\n",
    "\n",
    "##### POC - Prova de conceito\n",
    "\n",
    "Desenvolvimento de uma pequena parte do projeto, com o gasto minimo de tempo e recursos à fim de avaliar se o projeto é viável.\n",
    "\n",
    "##### PROTÓTIPO\n",
    "\n",
    "Desenvolvimento com a finalidade de sumular uma parte ou todo o projeto para que possa ser validado com os stakeholders.\n",
    "\n",
    "##### Piloto\n",
    "\n",
    "Desenvolvimento de um sistema oficial, implementado e testado, com o objetivo de validar um processo.\n",
    "\n",
    "\n",
    "\n"
   ]
  },
  {
   "cell_type": "markdown",
   "id": "04dd98ad-9664-41ea-97e8-374f73c5599b",
   "metadata": {},
   "source": [
    "#### Medidas\n",
    "\n",
    "Avaliar as medidas com os stakeholders e definir um modo único de ser calculado (Dicionário de Dados).\n"
   ]
  },
  {
   "cell_type": "markdown",
   "id": "afba22ee-2191-4e65-ad18-7c91ac66a6a8",
   "metadata": {},
   "source": [
    "#### Modelos\n",
    "\n",
    "Avaliar se a taxa de acerto atende o negócio.\n",
    "Avaliar se existem os dados minimos para treinamento.\n",
    "Avaliar a qualidade dos dados para treinamento do modelo."
   ]
  },
  {
   "cell_type": "markdown",
   "id": "0e9a4b22-1ea6-4cad-860e-d2d6eb01e85b",
   "metadata": {},
   "source": [
    "#### Expectativa de Tempo\n",
    "\n",
    "Definir prazos de tempo realistas e factiveis.\n",
    "(Projetos de BIG DATA podem demorar anos para uma implementação completa)\n"
   ]
  },
  {
   "cell_type": "markdown",
   "id": "a2ade1db-e0c2-4617-9851-9b9c74d8f331",
   "metadata": {},
   "source": [
    "#### Segurança e Privacidade\n",
    "\n",
    "Segurança deve ser avaliada dentro do projeto e das deemandas de negócios, além da legislação vigente.\n",
    "Pontos de avaliação:\n",
    " - Data at Rest\n",
    " - Data at Wire\n",
    " - Autenticação e Autorização\n",
    " - Acesso Público e Privado"
   ]
  },
  {
   "cell_type": "markdown",
   "id": "e5739a6f-2274-4ee1-9eb1-e79264b529ec",
   "metadata": {},
   "source": [
    "#### Idiomas e Localidades\n",
    "\n",
    "projetos multi regionais(nacionalidades) devem atender necessidades e conformidades de cada região."
   ]
  },
  {
   "cell_type": "markdown",
   "id": "94efadff-3dc3-4de9-8913-e1df5a677984",
   "metadata": {},
   "source": [
    "#### Plano de Testes\n",
    "\n",
    "Todo projeto de Big Data, é um projeto de software e deve seguir as boas práticas para um melhor fluxo no desenvolvimento e manutenção do projeto.\n",
    "Testes de código e aplicação são ferramentas de grande ajuda para a manuteção do projeto.\n"
   ]
  },
  {
   "cell_type": "markdown",
   "id": "846db0a8-e7e8-4a07-909a-206a2d747bfe",
   "metadata": {},
   "source": [
    "#### Maturidade de soluções\n",
    "\n",
    "Avaliar se uma ferramenta ou solução ja passou sobre seu pico de expectativas.\n",
    "Procure soluções maduras e estáveis o suficiente.\n",
    "\n"
   ]
  },
  {
   "cell_type": "markdown",
   "id": "978c7195-3cb8-4329-8af7-a47e3ebf6e58",
   "metadata": {},
   "source": [
    "### Entrega de Valor\n",
    "\n",
    "Alguns projetos podem ser idealizados com bases em necessidades individuais de um setor/gerente, e transofrmadas em demandas de engenharia de dados.\n",
    "Questões essas que podem ser respondidas de formas mais simples, com uma query sql ou soluções com menor custo de implementação.\n"
   ]
  },
  {
   "cell_type": "markdown",
   "id": "4ea4c8ea-7596-42ea-9426-2166beca5426",
   "metadata": {},
   "source": [
    "#### Critérios de sucesso\n",
    "\n",
    "Os critérios de sucesso foram definidos? estão documentados e são possíveis de serem medidos?\n"
   ]
  },
  {
   "cell_type": "markdown",
   "id": "f769acc8-fd70-4365-995c-813b4253fc8d",
   "metadata": {},
   "source": [
    "#### Dados em conformidade com as diretivas de governança de dados\n",
    "\n",
    "Em tempos de LGPD, existem normas a serem seguidas referentes aos acessos e consumos dos dados.\n",
    "A solução de dados deve seguir as normas da governança."
   ]
  },
  {
   "cell_type": "markdown",
   "id": "ca00c185-2d8c-4185-8df7-17b137e94da6",
   "metadata": {},
   "source": [
    "#### Insfraestrutura do projeto é conhecida?(E escalável)\n",
    "\n",
    "Considere um plano de expansão com no minimo 3 anos do projeto em execução.\n",
    "\n",
    "Para soluções Cloud:\n",
    " - Avaliar se a solução IaaS ou PaaS atende estas necessidades, e consegue ser escalada dentro dos planos de custo do projeto.\n",
    " \n",
    "Para soluções on Premisses:\n",
    " - Avaliar se o Hardware atende as necessidades de software\n",
    " - Avaliar se o Hardware atende as necessidades de Expansão.\n"
   ]
  },
  {
   "cell_type": "markdown",
   "id": "ea3d223b-c900-4699-9508-bc1ba259fe9e",
   "metadata": {},
   "source": [
    "#### Requisitos de disponibilidade?\n",
    "\n",
    "Avalie a necessidade da disponibilidade do projeto.\n",
    "Existem projetos de disponibilidade crítica "
   ]
  },
  {
   "cell_type": "markdown",
   "id": "a6047cd1-219a-4d76-a2fa-1fd312c99df3",
   "metadata": {},
   "source": [
    "#### Manuais e Docuimentação\n",
    "\n",
    "Um projeto deve trocar de mantenedores ao longo de sua vida util, sejam equipes, ou colaboradores. Por isso é fundamental ter toda a documentação do projeto, para que se saiba como foi feito, sua proposta e direcionamento em casos de correção.\n"
   ]
  },
  {
   "cell_type": "markdown",
   "id": "6452577f-d103-481f-a652-72eb4c1ca156",
   "metadata": {},
   "source": [
    "#### Avaliação da qualidade de dados\n",
    "\n",
    "Montar um plano para avaliar a qualiudadede dos dados(Existem ferramentas para isso, mas em alguns casos pode ser necessário intervenção manual)\n",
    "Deve se ter um processo/rotina/software para avaliar e realizar a limpeza dos dados, em determinada sazionalidade(conforme as diretrizes do negócio).\n"
   ]
  },
  {
   "cell_type": "markdown",
   "id": "e2c17be7-7b73-4771-b9db-7821c1b2bbdc",
   "metadata": {},
   "source": [
    "#### Identificação das fontes de dados\n",
    "\n",
    "As fontes de dados para o processo de engenharia devem ser préviamente definidas e sua disponibilidade deve ser avaliada. Este é um dos fatores que pode inviabilizar um projeto, ou diminuir seu alcançe, uma vez que seu dado de análise não existe ou não está completamente disponivel durante o processo de ETL/ELT, afetando assim o produto de dado final.\n",
    "Algumas fontes, podem não ser sistemas há casos que as origens são planilhas utilizadas por colaboradores em seu dia-a-dia de trabalho. (E o que acontece se este usuário alterar esta planilha? ou se os dados forem modificados? ou até perdidos? Isso mesmo se respondeu que o engenheiro de dados esta ferr@do!!!)\n",
    "Existem também sistemas em que a informação é disponível, mas em formato/padrão que não é diretamente compatível com o projeto de engenharia de dados.\n",
    "Outro problema comum são formas de armazenamento com criptografia ou ofuscação dos dados, mas isso só é um problema quando não se tem a documentação dos dados."
   ]
  },
  {
   "cell_type": "markdown",
   "id": "38c2c195-1547-46aa-8f44-5e5c1e6d33a7",
   "metadata": {},
   "source": [
    "#### Latência da disponibilidade dos dados gerados\n",
    "\n",
    "latencia dos dados entre a produção(OLTP) e a carga do dados na base analítica, é suficiente para atender o negócio ou gerar valor?\n",
    "Esta é outra pergunta que um engenheiro de dados deve avaliar."
   ]
  },
  {
   "cell_type": "markdown",
   "id": "39a05458-2925-43a6-933b-7b01b8b7f2ff",
   "metadata": {},
   "source": [
    "#### Orçamento inadequado\n",
    "\n",
    "Engenharia de dados envolve uma grande gama de tecnologias/software, mesmo que em sua grande maioria os softwares sejam free, seu hardware envolvido pode não ser, ou o serviço PaaS envolvido tem um custo a ser considerado. Evite deixar seus stakeholders iludidos com orçamentos enxutos, pois uma certeza que se tem em projetos de dados é sempre vai haver uma proxima pergunta, que envolve mais dados, mais recursos, mais custos e assim por diante. \n",
    "\n",
    "Além de um orçamento principal, se é necessário considerar um orçamento para falhas e contingencias, sejam para tratamento e recuperação de desastres como erro no planejamento do projeto, além de novas aquisições.\n"
   ]
  },
  {
   "cell_type": "markdown",
   "id": "d3ca1eaf-23e9-4185-ba9d-a8374520296b",
   "metadata": {},
   "source": [
    "#### Atuação de Terceiros\n",
    "\n",
    "Desde entregas de hardware e recursos, como a contratação de uma nova cloud ou a obtenção de respostas junto aos fornecedres, assim como disponibilidade de infraestrutura e SLAs devem ser avaliadas e consideradas no escopo do projeto de engenharia. Itens como estes influenciam no custo e prazos do projeto, não esqueça de avaliá-los."
   ]
  },
  {
   "cell_type": "markdown",
   "id": "f809e531-7e74-4f2e-86f0-1d0ef726b6d1",
   "metadata": {},
   "source": [
    "#### Recursos Humanos\n",
    "\n",
    "Todas as competências do projeto foram identificadas e estão disponíveis? Algumas habilidades podem não esta disponíveis para o projeto, e qual vai ser a solução para este problema? Capacitar nossa equipe ou contratar um terceiro? Estas respostas também fazem parte do gerenciamento de risco do projeto."
   ]
  },
  {
   "cell_type": "markdown",
   "id": "776f1749-7546-41c6-9bb2-896421a700cd",
   "metadata": {},
   "source": [
    "#### Falta de envolvimento\n",
    "\n",
    "É comum (principalmente em empresas matriciais) se ter um recurso envolvido em mais de um projeto, ou deslocado de sua principal atividade para atender necessidades de um projeto. O problema começa quando se tenta acionar este recurso e ele não está disponível ou recebeu uma nova demanda \"urgente\", fazendo com que o projeto de engenharia fique parado, aguardando sua próxima janela de disponibilidade para resolver o problema. Principalmente tome cuidado com \"heróis\", geralmente são estes recursos."
   ]
  },
  {
   "cell_type": "markdown",
   "id": "3189e57a-55cc-4498-88b9-7a7c467dc6c5",
   "metadata": {},
   "source": [
    "#### Plano de capacitação de usuários Finais\n",
    "\n",
    "Em alguns projetos de dados pode ser necessário treinar os usuários finais sobre com utilizar o produto de dados gerado, e este também é um item a ser avaliado, pois impacta no tempo do projeto, e dependendo da quantidade de usuários finais, podem ser necessários cronogramas completos pois podem envolver a utilização do tempo de trabalho de setores inteiros.\n"
   ]
  },
  {
   "cell_type": "markdown",
   "id": "b2f02d2c-ed93-44d5-8d79-5046a73f07d5",
   "metadata": {},
   "source": [
    "#### Evangelização de partes interessadas\n",
    "\n",
    "Considere evangelizar seus stakeholders, mostrando para eles os ganhos que seu setor/empresa/processo tende a ganhar com projetos de BigData/Engenharia de Dados. Assim conseguindo com que eles apoiem o projeto, inclusive na liberação de recursos.\n"
   ]
  },
  {
   "cell_type": "code",
   "execution_count": null,
   "id": "4f8d03b5-b7de-4d00-a9bf-4582787af90b",
   "metadata": {},
   "outputs": [],
   "source": []
  }
 ],
 "metadata": {
  "kernelspec": {
   "display_name": "Python 3 (ipykernel)",
   "language": "python",
   "name": "python3"
  },
  "language_info": {
   "codemirror_mode": {
    "name": "ipython",
    "version": 3
   },
   "file_extension": ".py",
   "mimetype": "text/x-python",
   "name": "python",
   "nbconvert_exporter": "python",
   "pygments_lexer": "ipython3",
   "version": "3.9.16"
  }
 },
 "nbformat": 4,
 "nbformat_minor": 5
}
