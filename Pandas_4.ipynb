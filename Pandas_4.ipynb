{
 "cells": [
  {
   "cell_type": "markdown",
   "source": [
    "# Pandas\n",
    "#### Pre processamento de dados"
   ],
   "metadata": {
    "collapsed": false
   }
  },
  {
   "cell_type": "code",
   "execution_count": 1,
   "metadata": {
    "collapsed": true
   },
   "outputs": [],
   "source": [
    "import pandas as pd\n",
    "import numpy as np\n",
    "from sklearn.model_selection import train_test_split\n",
    "from sklearn.impute import SimpleImputer\n",
    "from feature_engine.imputation import  MeanMedianImputer, CategoricalImputer, ArbitraryNumberImputer, EndTailImputer"
   ]
  },
  {
   "cell_type": "code",
   "execution_count": 2,
   "outputs": [],
   "source": [
    "df001 = pd.read_csv('datasets/amsat-active-frequencies.csv')\n",
    "\n",
    "# import"
   ],
   "metadata": {
    "collapsed": false
   }
  },
  {
   "cell_type": "code",
   "execution_count": 3,
   "outputs": [
    {
     "data": {
      "text/plain": "           name  norad_id uplink          downlink   beacon  \\\n0       Aalto-1   42775.0    NaN  437.220/2402.000  437.220   \n1      AAUSAT-2   32788.0    NaN           437.426      NaN   \n2      AAUSAT-4   41460.0    NaN           437.425  437.425   \n3  AISTECHSAT-2   43768.0    NaN           436.730      NaN   \n4  AISTECHSAT-3   44103.0    NaN           436.730      NaN   \n\n                    mode callsign                satnogs_id  \n0         9600bps FSK CW   OH2A1S  MTTJ-9379-5566-8860-4453  \n1        1k2*MSK 9k6 FSK   OZ2CUB  IMKY-8694-8138-3077-8494  \n2  2k4*/9k6/19k2 GFSK CW   OZ4CUB  AISX-1350-2546-0237-2310  \n3           4k8/9k6* FSK      NaN  MSIH-7029-5546-1995-2723  \n4           4k8/9k6* FSK      NaN  RERZ-6166-7809-6282-7939  ",
      "text/html": "<div>\n<style scoped>\n    .dataframe tbody tr th:only-of-type {\n        vertical-align: middle;\n    }\n\n    .dataframe tbody tr th {\n        vertical-align: top;\n    }\n\n    .dataframe thead th {\n        text-align: right;\n    }\n</style>\n<table border=\"1\" class=\"dataframe\">\n  <thead>\n    <tr style=\"text-align: right;\">\n      <th></th>\n      <th>name</th>\n      <th>norad_id</th>\n      <th>uplink</th>\n      <th>downlink</th>\n      <th>beacon</th>\n      <th>mode</th>\n      <th>callsign</th>\n      <th>satnogs_id</th>\n    </tr>\n  </thead>\n  <tbody>\n    <tr>\n      <th>0</th>\n      <td>Aalto-1</td>\n      <td>42775.0</td>\n      <td>NaN</td>\n      <td>437.220/2402.000</td>\n      <td>437.220</td>\n      <td>9600bps FSK CW</td>\n      <td>OH2A1S</td>\n      <td>MTTJ-9379-5566-8860-4453</td>\n    </tr>\n    <tr>\n      <th>1</th>\n      <td>AAUSAT-2</td>\n      <td>32788.0</td>\n      <td>NaN</td>\n      <td>437.426</td>\n      <td>NaN</td>\n      <td>1k2*MSK 9k6 FSK</td>\n      <td>OZ2CUB</td>\n      <td>IMKY-8694-8138-3077-8494</td>\n    </tr>\n    <tr>\n      <th>2</th>\n      <td>AAUSAT-4</td>\n      <td>41460.0</td>\n      <td>NaN</td>\n      <td>437.425</td>\n      <td>437.425</td>\n      <td>2k4*/9k6/19k2 GFSK CW</td>\n      <td>OZ4CUB</td>\n      <td>AISX-1350-2546-0237-2310</td>\n    </tr>\n    <tr>\n      <th>3</th>\n      <td>AISTECHSAT-2</td>\n      <td>43768.0</td>\n      <td>NaN</td>\n      <td>436.730</td>\n      <td>NaN</td>\n      <td>4k8/9k6* FSK</td>\n      <td>NaN</td>\n      <td>MSIH-7029-5546-1995-2723</td>\n    </tr>\n    <tr>\n      <th>4</th>\n      <td>AISTECHSAT-3</td>\n      <td>44103.0</td>\n      <td>NaN</td>\n      <td>436.730</td>\n      <td>NaN</td>\n      <td>4k8/9k6* FSK</td>\n      <td>NaN</td>\n      <td>RERZ-6166-7809-6282-7939</td>\n    </tr>\n  </tbody>\n</table>\n</div>"
     },
     "execution_count": 3,
     "metadata": {},
     "output_type": "execute_result"
    }
   ],
   "source": [
    "df001.head()\n",
    "\n",
    "# entendendo o material"
   ],
   "metadata": {
    "collapsed": false
   }
  },
  {
   "cell_type": "code",
   "execution_count": 4,
   "outputs": [
    {
     "data": {
      "text/plain": "name          0.000000\nnorad_id      0.005917\nuplink        0.686391\ndownlink      0.035503\nbeacon        0.639053\nmode          0.005917\ncallsign      0.334320\nsatnogs_id    0.136095\ndtype: float64"
     },
     "execution_count": 4,
     "metadata": {},
     "output_type": "execute_result"
    }
   ],
   "source": [
    "df001.isnull().mean()\n",
    "\n",
    "# % de faltantes nas colunas"
   ],
   "metadata": {
    "collapsed": false
   }
  },
  {
   "cell_type": "code",
   "execution_count": 14,
   "outputs": [
    {
     "data": {
      "text/plain": "(338, 8)"
     },
     "execution_count": 14,
     "metadata": {},
     "output_type": "execute_result"
    }
   ],
   "source": [
    "df001.shape\n",
    "\n",
    "# numero de linhas e colunas"
   ],
   "metadata": {
    "collapsed": false
   }
  },
  {
   "cell_type": "code",
   "execution_count": 5,
   "outputs": [
    {
     "data": {
      "text/plain": "name            0\nnorad_id        2\nuplink        232\ndownlink       12\nbeacon        216\nmode            2\ncallsign      113\nsatnogs_id     46\ndtype: int64"
     },
     "execution_count": 5,
     "metadata": {},
     "output_type": "execute_result"
    }
   ],
   "source": [
    "df001.isnull().sum()\n",
    "\n",
    "# quantidade de linhas com erros"
   ],
   "metadata": {
    "collapsed": false
   }
  },
  {
   "cell_type": "code",
   "execution_count": 6,
   "outputs": [
    {
     "data": {
      "text/plain": "name           object\nnorad_id      float64\nuplink         object\ndownlink       object\nbeacon         object\nmode           object\ncallsign       object\nsatnogs_id     object\ndtype: object"
     },
     "execution_count": 6,
     "metadata": {},
     "output_type": "execute_result"
    }
   ],
   "source": [
    "df001.dtypes\n",
    "\n",
    "# tipos de dados nas colunas"
   ],
   "metadata": {
    "collapsed": false
   }
  },
  {
   "cell_type": "code",
   "execution_count": 7,
   "outputs": [
    {
     "data": {
      "text/plain": "                            name  norad_id           uplink          downlink  \\\n5                       AlfaCrux   52160.0          437.225  437.100*/437.225   \n8                AO-7 (Phase-2B)    7530.0  145.850-145.950    29.400- 29.500   \n9                AO-7 (Phase-2B)    7530.0  432.125-432.175   145.975-145.925   \n10              AO-27 (EYESAT-A)   22825.0          145.850           436.795   \n11             AO-73 (FUNcube-1)   39444.0  435.130-435.150   145.970-145.950   \n..                           ...       ...              ...               ...   \n322               XW-2F (CAS-3F)   40910.0  435.330-435.350   146.000-145.980   \n323          XW-3 (CAS-9 HO-113)   50466.0          145.870           435.180   \n335                     ZACube-1   39417.0          145.860           437.355   \n336  Zhou Enlai (Huai'An-1 HA-1)   43156.0          145.930           436.950   \n337                        Z-Sat   49399.0          435.480           145.875   \n\n               beacon                    mode callsign  \\\n5                 NaN  4800bps FSK Digipeater      NaN   \n8              29.502                       A      NaN   \n9             145.970                     B C      NaN   \n10                NaN         1200bps AFSK FM      NaN   \n11            145.935       1200*bps BPSK SSB      NaN   \n..                ...                     ...      ...   \n322   145.955/145.975            9k6 GMSK/CW*    BJ1SG   \n323               NaN            VHF/UHF SSB*      NaN   \n335            14.099    1k2AFSK/9k6* GMSK CW   123456   \n336  437.350/437.644*         FM 9600bps BPSK    BI4ST   \n337           145.875          9k6GMSK FM CW*   JJ2YPO   \n\n                   satnogs_id  \n5    LVHV-7932-2909-1988-0093  \n8    HHSS-6325-1344-4603-7774  \n9    HHSS-6325-1344-4603-7774  \n10   XTDR-0995-4168-5549-5936  \n11   OTOF-8025-8953-4756-4779  \n..                        ...  \n322  YWAV-5902-3690-5734-3273  \n323  WMPC-3806-8308-1122-5138  \n335  GRVM-9505-5712-0753-7014  \n336  YFPC-1248-4077-8296-8715  \n337  KMUR-8898-9913-2178-8848  \n\n[106 rows x 8 columns]",
      "text/html": "<div>\n<style scoped>\n    .dataframe tbody tr th:only-of-type {\n        vertical-align: middle;\n    }\n\n    .dataframe tbody tr th {\n        vertical-align: top;\n    }\n\n    .dataframe thead th {\n        text-align: right;\n    }\n</style>\n<table border=\"1\" class=\"dataframe\">\n  <thead>\n    <tr style=\"text-align: right;\">\n      <th></th>\n      <th>name</th>\n      <th>norad_id</th>\n      <th>uplink</th>\n      <th>downlink</th>\n      <th>beacon</th>\n      <th>mode</th>\n      <th>callsign</th>\n      <th>satnogs_id</th>\n    </tr>\n  </thead>\n  <tbody>\n    <tr>\n      <th>5</th>\n      <td>AlfaCrux</td>\n      <td>52160.0</td>\n      <td>437.225</td>\n      <td>437.100*/437.225</td>\n      <td>NaN</td>\n      <td>4800bps FSK Digipeater</td>\n      <td>NaN</td>\n      <td>LVHV-7932-2909-1988-0093</td>\n    </tr>\n    <tr>\n      <th>8</th>\n      <td>AO-7 (Phase-2B)</td>\n      <td>7530.0</td>\n      <td>145.850-145.950</td>\n      <td>29.400- 29.500</td>\n      <td>29.502</td>\n      <td>A</td>\n      <td>NaN</td>\n      <td>HHSS-6325-1344-4603-7774</td>\n    </tr>\n    <tr>\n      <th>9</th>\n      <td>AO-7 (Phase-2B)</td>\n      <td>7530.0</td>\n      <td>432.125-432.175</td>\n      <td>145.975-145.925</td>\n      <td>145.970</td>\n      <td>B C</td>\n      <td>NaN</td>\n      <td>HHSS-6325-1344-4603-7774</td>\n    </tr>\n    <tr>\n      <th>10</th>\n      <td>AO-27 (EYESAT-A)</td>\n      <td>22825.0</td>\n      <td>145.850</td>\n      <td>436.795</td>\n      <td>NaN</td>\n      <td>1200bps AFSK FM</td>\n      <td>NaN</td>\n      <td>XTDR-0995-4168-5549-5936</td>\n    </tr>\n    <tr>\n      <th>11</th>\n      <td>AO-73 (FUNcube-1)</td>\n      <td>39444.0</td>\n      <td>435.130-435.150</td>\n      <td>145.970-145.950</td>\n      <td>145.935</td>\n      <td>1200*bps BPSK SSB</td>\n      <td>NaN</td>\n      <td>OTOF-8025-8953-4756-4779</td>\n    </tr>\n    <tr>\n      <th>...</th>\n      <td>...</td>\n      <td>...</td>\n      <td>...</td>\n      <td>...</td>\n      <td>...</td>\n      <td>...</td>\n      <td>...</td>\n      <td>...</td>\n    </tr>\n    <tr>\n      <th>322</th>\n      <td>XW-2F (CAS-3F)</td>\n      <td>40910.0</td>\n      <td>435.330-435.350</td>\n      <td>146.000-145.980</td>\n      <td>145.955/145.975</td>\n      <td>9k6 GMSK/CW*</td>\n      <td>BJ1SG</td>\n      <td>YWAV-5902-3690-5734-3273</td>\n    </tr>\n    <tr>\n      <th>323</th>\n      <td>XW-3 (CAS-9 HO-113)</td>\n      <td>50466.0</td>\n      <td>145.870</td>\n      <td>435.180</td>\n      <td>NaN</td>\n      <td>VHF/UHF SSB*</td>\n      <td>NaN</td>\n      <td>WMPC-3806-8308-1122-5138</td>\n    </tr>\n    <tr>\n      <th>335</th>\n      <td>ZACube-1</td>\n      <td>39417.0</td>\n      <td>145.860</td>\n      <td>437.355</td>\n      <td>14.099</td>\n      <td>1k2AFSK/9k6* GMSK CW</td>\n      <td>123456</td>\n      <td>GRVM-9505-5712-0753-7014</td>\n    </tr>\n    <tr>\n      <th>336</th>\n      <td>Zhou Enlai (Huai'An-1 HA-1)</td>\n      <td>43156.0</td>\n      <td>145.930</td>\n      <td>436.950</td>\n      <td>437.350/437.644*</td>\n      <td>FM 9600bps BPSK</td>\n      <td>BI4ST</td>\n      <td>YFPC-1248-4077-8296-8715</td>\n    </tr>\n    <tr>\n      <th>337</th>\n      <td>Z-Sat</td>\n      <td>49399.0</td>\n      <td>435.480</td>\n      <td>145.875</td>\n      <td>145.875</td>\n      <td>9k6GMSK FM CW*</td>\n      <td>JJ2YPO</td>\n      <td>KMUR-8898-9913-2178-8848</td>\n    </tr>\n  </tbody>\n</table>\n<p>106 rows × 8 columns</p>\n</div>"
     },
     "execution_count": 7,
     "metadata": {},
     "output_type": "execute_result"
    }
   ],
   "source": [
    "df001[df001['uplink'].apply(lambda x: True if isinstance(x, str) else False)]"
   ],
   "metadata": {
    "collapsed": false
   }
  },
  {
   "cell_type": "code",
   "execution_count": 8,
   "outputs": [
    {
     "data": {
      "text/plain": "Empty DataFrame\nColumns: [name, norad_id, uplink, downlink, beacon, mode, callsign, satnogs_id]\nIndex: []",
      "text/html": "<div>\n<style scoped>\n    .dataframe tbody tr th:only-of-type {\n        vertical-align: middle;\n    }\n\n    .dataframe tbody tr th {\n        vertical-align: top;\n    }\n\n    .dataframe thead th {\n        text-align: right;\n    }\n</style>\n<table border=\"1\" class=\"dataframe\">\n  <thead>\n    <tr style=\"text-align: right;\">\n      <th></th>\n      <th>name</th>\n      <th>norad_id</th>\n      <th>uplink</th>\n      <th>downlink</th>\n      <th>beacon</th>\n      <th>mode</th>\n      <th>callsign</th>\n      <th>satnogs_id</th>\n    </tr>\n  </thead>\n  <tbody>\n  </tbody>\n</table>\n</div>"
     },
     "execution_count": 8,
     "metadata": {},
     "output_type": "execute_result"
    }
   ],
   "source": [
    "df001['uplink'] = df001['uplink'].apply(lambda x: float(str(x).split('/')[0].split('-')[0]))\n",
    "df001[df001['uplink'].apply(lambda x: True if isinstance(x, str) else False)]"
   ],
   "metadata": {
    "collapsed": false
   }
  },
  {
   "cell_type": "code",
   "execution_count": 9,
   "outputs": [
    {
     "data": {
      "text/plain": "                 name  norad_id   uplink          downlink   beacon  \\\n5            AlfaCrux   52160.0  437.225  437.100*/437.225      NaN   \n8     AO-7 (Phase-2B)    7530.0  145.850    29.400- 29.500   29.502   \n9     AO-7 (Phase-2B)    7530.0  432.125   145.975-145.925  145.970   \n10   AO-27 (EYESAT-A)   22825.0  145.850           436.795      NaN   \n11  AO-73 (FUNcube-1)   39444.0  435.130   145.970-145.950  145.935   \n\n                      mode callsign                satnogs_id  \n5   4800bps FSK Digipeater      NaN  LVHV-7932-2909-1988-0093  \n8                        A      NaN  HHSS-6325-1344-4603-7774  \n9                      B C      NaN  HHSS-6325-1344-4603-7774  \n10         1200bps AFSK FM      NaN  XTDR-0995-4168-5549-5936  \n11       1200*bps BPSK SSB      NaN  OTOF-8025-8953-4756-4779  ",
      "text/html": "<div>\n<style scoped>\n    .dataframe tbody tr th:only-of-type {\n        vertical-align: middle;\n    }\n\n    .dataframe tbody tr th {\n        vertical-align: top;\n    }\n\n    .dataframe thead th {\n        text-align: right;\n    }\n</style>\n<table border=\"1\" class=\"dataframe\">\n  <thead>\n    <tr style=\"text-align: right;\">\n      <th></th>\n      <th>name</th>\n      <th>norad_id</th>\n      <th>uplink</th>\n      <th>downlink</th>\n      <th>beacon</th>\n      <th>mode</th>\n      <th>callsign</th>\n      <th>satnogs_id</th>\n    </tr>\n  </thead>\n  <tbody>\n    <tr>\n      <th>5</th>\n      <td>AlfaCrux</td>\n      <td>52160.0</td>\n      <td>437.225</td>\n      <td>437.100*/437.225</td>\n      <td>NaN</td>\n      <td>4800bps FSK Digipeater</td>\n      <td>NaN</td>\n      <td>LVHV-7932-2909-1988-0093</td>\n    </tr>\n    <tr>\n      <th>8</th>\n      <td>AO-7 (Phase-2B)</td>\n      <td>7530.0</td>\n      <td>145.850</td>\n      <td>29.400- 29.500</td>\n      <td>29.502</td>\n      <td>A</td>\n      <td>NaN</td>\n      <td>HHSS-6325-1344-4603-7774</td>\n    </tr>\n    <tr>\n      <th>9</th>\n      <td>AO-7 (Phase-2B)</td>\n      <td>7530.0</td>\n      <td>432.125</td>\n      <td>145.975-145.925</td>\n      <td>145.970</td>\n      <td>B C</td>\n      <td>NaN</td>\n      <td>HHSS-6325-1344-4603-7774</td>\n    </tr>\n    <tr>\n      <th>10</th>\n      <td>AO-27 (EYESAT-A)</td>\n      <td>22825.0</td>\n      <td>145.850</td>\n      <td>436.795</td>\n      <td>NaN</td>\n      <td>1200bps AFSK FM</td>\n      <td>NaN</td>\n      <td>XTDR-0995-4168-5549-5936</td>\n    </tr>\n    <tr>\n      <th>11</th>\n      <td>AO-73 (FUNcube-1)</td>\n      <td>39444.0</td>\n      <td>435.130</td>\n      <td>145.970-145.950</td>\n      <td>145.935</td>\n      <td>1200*bps BPSK SSB</td>\n      <td>NaN</td>\n      <td>OTOF-8025-8953-4756-4779</td>\n    </tr>\n  </tbody>\n</table>\n</div>"
     },
     "execution_count": 9,
     "metadata": {},
     "output_type": "execute_result"
    }
   ],
   "source": [
    "df001[df001['uplink'].notnull()].head()"
   ],
   "metadata": {
    "collapsed": false
   }
  },
  {
   "cell_type": "code",
   "execution_count": 10,
   "outputs": [
    {
     "data": {
      "text/plain": "           name  norad_id  uplink          downlink   beacon  \\\n0       Aalto-1   42775.0     NaN  437.220/2402.000  437.220   \n1      AAUSAT-2   32788.0     NaN           437.426      NaN   \n2      AAUSAT-4   41460.0     NaN           437.425  437.425   \n3  AISTECHSAT-2   43768.0     NaN           436.730      NaN   \n4  AISTECHSAT-3   44103.0     NaN           436.730      NaN   \n\n                    mode callsign                satnogs_id  \n0         9600bps FSK CW   OH2A1S  MTTJ-9379-5566-8860-4453  \n1        1k2*MSK 9k6 FSK   OZ2CUB  IMKY-8694-8138-3077-8494  \n2  2k4*/9k6/19k2 GFSK CW   OZ4CUB  AISX-1350-2546-0237-2310  \n3           4k8/9k6* FSK      NaN  MSIH-7029-5546-1995-2723  \n4           4k8/9k6* FSK      NaN  RERZ-6166-7809-6282-7939  ",
      "text/html": "<div>\n<style scoped>\n    .dataframe tbody tr th:only-of-type {\n        vertical-align: middle;\n    }\n\n    .dataframe tbody tr th {\n        vertical-align: top;\n    }\n\n    .dataframe thead th {\n        text-align: right;\n    }\n</style>\n<table border=\"1\" class=\"dataframe\">\n  <thead>\n    <tr style=\"text-align: right;\">\n      <th></th>\n      <th>name</th>\n      <th>norad_id</th>\n      <th>uplink</th>\n      <th>downlink</th>\n      <th>beacon</th>\n      <th>mode</th>\n      <th>callsign</th>\n      <th>satnogs_id</th>\n    </tr>\n  </thead>\n  <tbody>\n    <tr>\n      <th>0</th>\n      <td>Aalto-1</td>\n      <td>42775.0</td>\n      <td>NaN</td>\n      <td>437.220/2402.000</td>\n      <td>437.220</td>\n      <td>9600bps FSK CW</td>\n      <td>OH2A1S</td>\n      <td>MTTJ-9379-5566-8860-4453</td>\n    </tr>\n    <tr>\n      <th>1</th>\n      <td>AAUSAT-2</td>\n      <td>32788.0</td>\n      <td>NaN</td>\n      <td>437.426</td>\n      <td>NaN</td>\n      <td>1k2*MSK 9k6 FSK</td>\n      <td>OZ2CUB</td>\n      <td>IMKY-8694-8138-3077-8494</td>\n    </tr>\n    <tr>\n      <th>2</th>\n      <td>AAUSAT-4</td>\n      <td>41460.0</td>\n      <td>NaN</td>\n      <td>437.425</td>\n      <td>437.425</td>\n      <td>2k4*/9k6/19k2 GFSK CW</td>\n      <td>OZ4CUB</td>\n      <td>AISX-1350-2546-0237-2310</td>\n    </tr>\n    <tr>\n      <th>3</th>\n      <td>AISTECHSAT-2</td>\n      <td>43768.0</td>\n      <td>NaN</td>\n      <td>436.730</td>\n      <td>NaN</td>\n      <td>4k8/9k6* FSK</td>\n      <td>NaN</td>\n      <td>MSIH-7029-5546-1995-2723</td>\n    </tr>\n    <tr>\n      <th>4</th>\n      <td>AISTECHSAT-3</td>\n      <td>44103.0</td>\n      <td>NaN</td>\n      <td>436.730</td>\n      <td>NaN</td>\n      <td>4k8/9k6* FSK</td>\n      <td>NaN</td>\n      <td>RERZ-6166-7809-6282-7939</td>\n    </tr>\n  </tbody>\n</table>\n</div>"
     },
     "execution_count": 10,
     "metadata": {},
     "output_type": "execute_result"
    }
   ],
   "source": [
    "df001.head()"
   ],
   "metadata": {
    "collapsed": false
   }
  },
  {
   "cell_type": "code",
   "execution_count": 17,
   "outputs": [],
   "source": [
    "df001.insert(8,'analise',df001['callsign'].apply(lambda x: str(x)[0:2]))"
   ],
   "metadata": {
    "collapsed": false
   }
  },
  {
   "cell_type": "code",
   "execution_count": 18,
   "outputs": [
    {
     "data": {
      "text/plain": "                            name  norad_id  uplink          downlink  \\\n0                        Aalto-1   42775.0     NaN  437.220/2402.000   \n1                       AAUSAT-2   32788.0     NaN           437.426   \n2                       AAUSAT-4   41460.0     NaN           437.425   \n3                   AISTECHSAT-2   43768.0     NaN           436.730   \n4                   AISTECHSAT-3   44103.0     NaN           436.730   \n..                           ...       ...     ...               ...   \n333     YuZGU No11 (SWSU-55 No7)   53310.0     NaN  437.050/437.1125   \n334     YuZGU No12 (SWSU-55 No8)   53311.0     NaN   437.050/437.000   \n335                     ZACube-1   39417.0  145.86           437.355   \n336  Zhou Enlai (Huai'An-1 HA-1)   43156.0  145.93           436.950   \n337                        Z-Sat   49399.0  435.48           145.875   \n\n               beacon                   mode callsign  \\\n0             437.220         9600bps FSK CW   OH2A1S   \n1                 NaN        1k2*MSK 9k6 FSK   OZ2CUB   \n2             437.425  2k4*/9k6/19k2 GFSK CW   OZ4CUB   \n3                 NaN           4k8/9k6* FSK      NaN   \n4                 NaN           4k8/9k6* FSK      NaN   \n..                ...                    ...      ...   \n333               NaN  1k145 AFSK SSTV AUDIO     RS5S   \n334               NaN  1k145 AFSK SSTV AUDIO     RS6S   \n335            14.099   1k2AFSK/9k6* GMSK CW   123456   \n336  437.350/437.644*        FM 9600bps BPSK    BI4ST   \n337           145.875         9k6GMSK FM CW*   JJ2YPO   \n\n                   satnogs_id analise  \n0    MTTJ-9379-5566-8860-4453      OH  \n1    IMKY-8694-8138-3077-8494      OZ  \n2    AISX-1350-2546-0237-2310      OZ  \n3    MSIH-7029-5546-1995-2723      na  \n4    RERZ-6166-7809-6282-7939      na  \n..                        ...     ...  \n333                       NaN      RS  \n334                       NaN      RS  \n335  GRVM-9505-5712-0753-7014      12  \n336  YFPC-1248-4077-8296-8715      BI  \n337  KMUR-8898-9913-2178-8848      JJ  \n\n[338 rows x 9 columns]",
      "text/html": "<div>\n<style scoped>\n    .dataframe tbody tr th:only-of-type {\n        vertical-align: middle;\n    }\n\n    .dataframe tbody tr th {\n        vertical-align: top;\n    }\n\n    .dataframe thead th {\n        text-align: right;\n    }\n</style>\n<table border=\"1\" class=\"dataframe\">\n  <thead>\n    <tr style=\"text-align: right;\">\n      <th></th>\n      <th>name</th>\n      <th>norad_id</th>\n      <th>uplink</th>\n      <th>downlink</th>\n      <th>beacon</th>\n      <th>mode</th>\n      <th>callsign</th>\n      <th>satnogs_id</th>\n      <th>analise</th>\n    </tr>\n  </thead>\n  <tbody>\n    <tr>\n      <th>0</th>\n      <td>Aalto-1</td>\n      <td>42775.0</td>\n      <td>NaN</td>\n      <td>437.220/2402.000</td>\n      <td>437.220</td>\n      <td>9600bps FSK CW</td>\n      <td>OH2A1S</td>\n      <td>MTTJ-9379-5566-8860-4453</td>\n      <td>OH</td>\n    </tr>\n    <tr>\n      <th>1</th>\n      <td>AAUSAT-2</td>\n      <td>32788.0</td>\n      <td>NaN</td>\n      <td>437.426</td>\n      <td>NaN</td>\n      <td>1k2*MSK 9k6 FSK</td>\n      <td>OZ2CUB</td>\n      <td>IMKY-8694-8138-3077-8494</td>\n      <td>OZ</td>\n    </tr>\n    <tr>\n      <th>2</th>\n      <td>AAUSAT-4</td>\n      <td>41460.0</td>\n      <td>NaN</td>\n      <td>437.425</td>\n      <td>437.425</td>\n      <td>2k4*/9k6/19k2 GFSK CW</td>\n      <td>OZ4CUB</td>\n      <td>AISX-1350-2546-0237-2310</td>\n      <td>OZ</td>\n    </tr>\n    <tr>\n      <th>3</th>\n      <td>AISTECHSAT-2</td>\n      <td>43768.0</td>\n      <td>NaN</td>\n      <td>436.730</td>\n      <td>NaN</td>\n      <td>4k8/9k6* FSK</td>\n      <td>NaN</td>\n      <td>MSIH-7029-5546-1995-2723</td>\n      <td>na</td>\n    </tr>\n    <tr>\n      <th>4</th>\n      <td>AISTECHSAT-3</td>\n      <td>44103.0</td>\n      <td>NaN</td>\n      <td>436.730</td>\n      <td>NaN</td>\n      <td>4k8/9k6* FSK</td>\n      <td>NaN</td>\n      <td>RERZ-6166-7809-6282-7939</td>\n      <td>na</td>\n    </tr>\n    <tr>\n      <th>...</th>\n      <td>...</td>\n      <td>...</td>\n      <td>...</td>\n      <td>...</td>\n      <td>...</td>\n      <td>...</td>\n      <td>...</td>\n      <td>...</td>\n      <td>...</td>\n    </tr>\n    <tr>\n      <th>333</th>\n      <td>YuZGU No11 (SWSU-55 No7)</td>\n      <td>53310.0</td>\n      <td>NaN</td>\n      <td>437.050/437.1125</td>\n      <td>NaN</td>\n      <td>1k145 AFSK SSTV AUDIO</td>\n      <td>RS5S</td>\n      <td>NaN</td>\n      <td>RS</td>\n    </tr>\n    <tr>\n      <th>334</th>\n      <td>YuZGU No12 (SWSU-55 No8)</td>\n      <td>53311.0</td>\n      <td>NaN</td>\n      <td>437.050/437.000</td>\n      <td>NaN</td>\n      <td>1k145 AFSK SSTV AUDIO</td>\n      <td>RS6S</td>\n      <td>NaN</td>\n      <td>RS</td>\n    </tr>\n    <tr>\n      <th>335</th>\n      <td>ZACube-1</td>\n      <td>39417.0</td>\n      <td>145.86</td>\n      <td>437.355</td>\n      <td>14.099</td>\n      <td>1k2AFSK/9k6* GMSK CW</td>\n      <td>123456</td>\n      <td>GRVM-9505-5712-0753-7014</td>\n      <td>12</td>\n    </tr>\n    <tr>\n      <th>336</th>\n      <td>Zhou Enlai (Huai'An-1 HA-1)</td>\n      <td>43156.0</td>\n      <td>145.93</td>\n      <td>436.950</td>\n      <td>437.350/437.644*</td>\n      <td>FM 9600bps BPSK</td>\n      <td>BI4ST</td>\n      <td>YFPC-1248-4077-8296-8715</td>\n      <td>BI</td>\n    </tr>\n    <tr>\n      <th>337</th>\n      <td>Z-Sat</td>\n      <td>49399.0</td>\n      <td>435.48</td>\n      <td>145.875</td>\n      <td>145.875</td>\n      <td>9k6GMSK FM CW*</td>\n      <td>JJ2YPO</td>\n      <td>KMUR-8898-9913-2178-8848</td>\n      <td>JJ</td>\n    </tr>\n  </tbody>\n</table>\n<p>338 rows × 9 columns</p>\n</div>"
     },
     "execution_count": 18,
     "metadata": {},
     "output_type": "execute_result"
    }
   ],
   "source": [
    "df001"
   ],
   "metadata": {
    "collapsed": false
   }
  },
  {
   "cell_type": "code",
   "execution_count": null,
   "outputs": [],
   "source": [],
   "metadata": {
    "collapsed": false
   }
  }
 ],
 "metadata": {
  "kernelspec": {
   "display_name": "Python 3",
   "language": "python",
   "name": "python3"
  },
  "language_info": {
   "codemirror_mode": {
    "name": "ipython",
    "version": 2
   },
   "file_extension": ".py",
   "mimetype": "text/x-python",
   "name": "python",
   "nbconvert_exporter": "python",
   "pygments_lexer": "ipython2",
   "version": "2.7.6"
  }
 },
 "nbformat": 4,
 "nbformat_minor": 0
}
