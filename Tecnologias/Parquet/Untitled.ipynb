{
 "cells": [
  {
   "cell_type": "code",
   "execution_count": 11,
   "id": "dc27de98",
   "metadata": {},
   "outputs": [],
   "source": [
    "import pyarrow.parquet as pq\n",
    "import pyarrow as pa\n",
    "import numpy as np\n",
    "import pandas as pd"
   ]
  },
  {
   "cell_type": "code",
   "execution_count": 7,
   "id": "f008c345",
   "metadata": {},
   "outputs": [],
   "source": [
    "arr = np.random.randint(60, size=(300, 7))"
   ]
  },
  {
   "cell_type": "code",
   "execution_count": 9,
   "outputs": [
    {
     "data": {
      "text/plain": "   dez1  dez2  dez3  dez4  dez5  dez6  dez7\n0     4    53    26    18    23    28    24\n1    27    34    10    29     0    22    41\n2    45    50     3    44    47    49    47\n3     2    53    39    20    40    37    53\n4    14    49    32     9    12    31     2",
      "text/html": "<div>\n<style scoped>\n    .dataframe tbody tr th:only-of-type {\n        vertical-align: middle;\n    }\n\n    .dataframe tbody tr th {\n        vertical-align: top;\n    }\n\n    .dataframe thead th {\n        text-align: right;\n    }\n</style>\n<table border=\"1\" class=\"dataframe\">\n  <thead>\n    <tr style=\"text-align: right;\">\n      <th></th>\n      <th>dez1</th>\n      <th>dez2</th>\n      <th>dez3</th>\n      <th>dez4</th>\n      <th>dez5</th>\n      <th>dez6</th>\n      <th>dez7</th>\n    </tr>\n  </thead>\n  <tbody>\n    <tr>\n      <th>0</th>\n      <td>4</td>\n      <td>53</td>\n      <td>26</td>\n      <td>18</td>\n      <td>23</td>\n      <td>28</td>\n      <td>24</td>\n    </tr>\n    <tr>\n      <th>1</th>\n      <td>27</td>\n      <td>34</td>\n      <td>10</td>\n      <td>29</td>\n      <td>0</td>\n      <td>22</td>\n      <td>41</td>\n    </tr>\n    <tr>\n      <th>2</th>\n      <td>45</td>\n      <td>50</td>\n      <td>3</td>\n      <td>44</td>\n      <td>47</td>\n      <td>49</td>\n      <td>47</td>\n    </tr>\n    <tr>\n      <th>3</th>\n      <td>2</td>\n      <td>53</td>\n      <td>39</td>\n      <td>20</td>\n      <td>40</td>\n      <td>37</td>\n      <td>53</td>\n    </tr>\n    <tr>\n      <th>4</th>\n      <td>14</td>\n      <td>49</td>\n      <td>32</td>\n      <td>9</td>\n      <td>12</td>\n      <td>31</td>\n      <td>2</td>\n    </tr>\n  </tbody>\n</table>\n</div>"
     },
     "execution_count": 9,
     "metadata": {},
     "output_type": "execute_result"
    }
   ],
   "source": [
    "cols_nam = \"dez1 dez2 dez3 dez4 dez5 dez6 dez7\".split()\n",
    "\n",
    "df = pd.DataFrame(arr, columns=cols_nam)\n",
    "df.head()"
   ],
   "metadata": {
    "collapsed": false
   }
  },
  {
   "cell_type": "code",
   "execution_count": 13,
   "outputs": [],
   "source": [
    "table = pa.Table.from_pandas(df)\n",
    "pq.write_table(table, 'model_parq.parquet')"
   ],
   "metadata": {
    "collapsed": false
   }
  },
  {
   "cell_type": "code",
   "execution_count": 17,
   "outputs": [],
   "source": [
    "file = r\"C:\\Users\\root\\Downloads\\LOAD00000001.parquet\"\n",
    "df = pd.read_parquet(file)"
   ],
   "metadata": {
    "collapsed": false
   }
  },
  {
   "cell_type": "code",
   "execution_count": 18,
   "outputs": [
    {
     "name": "stdout",
     "output_type": "stream",
     "text": [
      "<class 'pandas.core.frame.DataFrame'>\n",
      "RangeIndex: 24194 entries, 0 to 24193\n",
      "Data columns (total 95 columns):\n",
      " #   Column                                  Non-Null Count  Dtype         \n",
      "---  ------                                  --------------  -----         \n",
      " 0   id_usuario                              24194 non-null  object        \n",
      " 1   estagio                                 24194 non-null  object        \n",
      " 2   estagio_provedor                        14478 non-null  object        \n",
      " 3   tipo                                    5346 non-null   object        \n",
      " 4   status                                  24194 non-null  object        \n",
      " 5   tipo_conta                              24194 non-null  object        \n",
      " 6   provedor                                24194 non-null  object        \n",
      " 7   cpf                                     24132 non-null  object        \n",
      " 8   cnpj                                    669 non-null    object        \n",
      " 9   parceiro                                0 non-null      object        \n",
      " 10  ib                                      24194 non-null  int8          \n",
      " 11  email                                   24122 non-null  object        \n",
      " 12  email_alternativo                       0 non-null      object        \n",
      " 13  email_confirmado                        24194 non-null  int8          \n",
      " 14  celular                                 24060 non-null  object        \n",
      " 15  celular_alternativo                     0 non-null      object        \n",
      " 16  nickname                                24060 non-null  object        \n",
      " 17  nome                                    24132 non-null  object        \n",
      " 18  nome_social                             19101 non-null  object        \n",
      " 19  num_erros_pin                           24194 non-null  int32         \n",
      " 20  ultimo_erro_pin                         161 non-null    datetime64[ns]\n",
      " 21  pessoa_exposta_politicamente            0 non-null      object        \n",
      " 22  ocupacao                                0 non-null      object        \n",
      " 23  rg                                      0 non-null      object        \n",
      " 24  telefone                                0 non-null      object        \n",
      " 25  sexo                                    0 non-null      object        \n",
      " 26  nascimento                              23860 non-null  object        \n",
      " 27  estado_civil                            23405 non-null  object        \n",
      " 28  nacionalidade                           0 non-null      object        \n",
      " 29  nome_pai                                1 non-null      object        \n",
      " 30  nome_mae                                19452 non-null  object        \n",
      " 31  logradouro                              22345 non-null  object        \n",
      " 32  numero                                  22345 non-null  object        \n",
      " 33  complemento                             22326 non-null  object        \n",
      " 34  bairro                                  22345 non-null  object        \n",
      " 35  cidade                                  22513 non-null  float64       \n",
      " 36  estado                                  22513 non-null  float64       \n",
      " 37  cep                                     22345 non-null  object        \n",
      " 38  investidor_qualificado                  24194 non-null  int8          \n",
      " 39  suspeita_fraude                         24194 non-null  int8          \n",
      " 40  rg_estado                               0 non-null      object        \n",
      " 41  rg_emissor                              0 non-null      object        \n",
      " 42  rg_data_emissao                         0 non-null      object        \n",
      " 43  observacoes_gerais                      4701 non-null   object        \n",
      " 44  ref_pessoal_nome_1                      0 non-null      object        \n",
      " 45  ref_pessoal_telefone_1                  0 non-null      object        \n",
      " 46  ref_pessoal_parentesco_1                0 non-null      object        \n",
      " 47  ref_pessoal_nome_2                      0 non-null      object        \n",
      " 48  ref_pessoal_telefone_2                  0 non-null      object        \n",
      " 49  ref_pessoal_parentesco_2                0 non-null      object        \n",
      " 50  salario_bruto                           0 non-null      object        \n",
      " 51  salario_liquido                         0 non-null      object        \n",
      " 52  faixa_renda_mensal                      0 non-null      object        \n",
      " 53  score_biro                              0 non-null      float64       \n",
      " 54  cod_ver_sms                             24012 non-null  object        \n",
      " 55  sms_validado                            22723 non-null  float64       \n",
      " 56  data_hora_sms                           23419 non-null  datetime64[ns]\n",
      " 57  num_tentativas_sms                      24194 non-null  int32         \n",
      " 58  ultima_tentativa_sms                    24013 non-null  datetime64[ns]\n",
      " 59  cod_ver_sms_ib                          7 non-null      object        \n",
      " 60  num_tentativas_sms_ib                   24194 non-null  int32         \n",
      " 61  data_hora_sms_ib                        21 non-null     datetime64[ns]\n",
      " 62  ultima_tentativa_sms_ib                 18 non-null     datetime64[ns]\n",
      " 63  data_liberacao_token_ib                 0 non-null      datetime64[ns]\n",
      " 64  usuario_dispositivo_validacao_token_ib  0 non-null      object        \n",
      " 65  cod_ver_email                           245 non-null    object        \n",
      " 66  num_tentativas_email                    24194 non-null  int32         \n",
      " 67  ultima_tentativa_email                  3202 non-null   datetime64[ns]\n",
      " 68  email_validado                          0 non-null      float64       \n",
      " 69  cod_ver_dispositivo                     149 non-null    object        \n",
      " 70  num_tentativas_dispositivo              24194 non-null  int32         \n",
      " 71  ultima_tentativa_dispositivo            149 non-null    datetime64[ns]\n",
      " 72  tarifa_transferencia_lote               15488 non-null  object        \n",
      " 73  data_expiracao_token_senha              1906 non-null   datetime64[ns]\n",
      " 74  data_expiracao_token_pin                170 non-null    datetime64[ns]\n",
      " 75  data_hora_email                         0 non-null      datetime64[ns]\n",
      " 76  data_cadastro                           24194 non-null  datetime64[ns]\n",
      " 77  data_pendente                           21708 non-null  datetime64[ns]\n",
      " 78  data_dados_responsavel                  38 non-null     datetime64[ns]\n",
      " 79  data_endereco_responsavel               38 non-null     datetime64[ns]\n",
      " 80  data_verificacao_celular                38 non-null     datetime64[ns]\n",
      " 81  data_bloqueado                          0 non-null      datetime64[ns]\n",
      " 82  data_bloqueado_expiracao_email          0 non-null      datetime64[ns]\n",
      " 83  data_bloqueado_fraude                   0 non-null      datetime64[ns]\n",
      " 84  data_inativo                            0 non-null      datetime64[ns]\n",
      " 85  data_ativo                              13600 non-null  datetime64[ns]\n",
      " 86  data_auth                               14774 non-null  datetime64[ns]\n",
      " 87  data_exclusao                           0 non-null      datetime64[ns]\n",
      " 88  data_atualizacao_cadastral              1668 non-null   datetime64[ns]\n",
      " 89  data_score_biro                         0 non-null      datetime64[ns]\n",
      " 90  termo_compromisso_id                    14806 non-null  object        \n",
      " 91  termo_provedor_id                       373 non-null    object        \n",
      " 92  data_termo_provedor                     373 non-null    datetime64[ns]\n",
      " 93  controle_usuario_id                     1156 non-null   object        \n",
      " 94  data_cancelado                          0 non-null      datetime64[ns]\n",
      "dtypes: datetime64[ns](27), float64(5), int32(5), int8(4), object(54)\n",
      "memory usage: 16.4+ MB\n"
     ]
    }
   ],
   "source": [
    "df.info()"
   ],
   "metadata": {
    "collapsed": false
   }
  },
  {
   "cell_type": "code",
   "execution_count": 22,
   "outputs": [
    {
     "name": "stdout",
     "output_type": "stream",
     "text": [
      "key: pin col_name: num_erros_pin \n",
      "\n",
      "\n",
      "key: pin col_name: ultimo_erro_pin \n",
      "\n",
      "\n",
      "key: token col_name: data_liberacao_token_ib \n",
      "\n",
      "\n",
      "key: token col_name: usuario_dispositivo_validacao_token_ib \n",
      "\n",
      "\n",
      "key: token col_name: data_expiracao_token_senha \n",
      "\n",
      "\n",
      "key: senha col_name: data_expiracao_token_senha \n",
      "\n",
      "\n",
      "key: pin col_name: data_expiracao_token_pin \n",
      "\n",
      "\n",
      "key: token col_name: data_expiracao_token_pin \n",
      "\n",
      "\n"
     ]
    }
   ],
   "source": [
    "valor = \"pin token senha\".split()\n",
    "\n",
    "for i in df.columns:\n",
    "    for v in valor:\n",
    "        loc =  str(i).find(v)\n",
    "        if loc >= 0:\n",
    "            print('key:', v,'col_name:', i, '\\n\\n')"
   ],
   "metadata": {
    "collapsed": false
   }
  },
  {
   "cell_type": "code",
   "execution_count": null,
   "outputs": [],
   "source": [],
   "metadata": {
    "collapsed": false
   }
  }
 ],
 "metadata": {
  "kernelspec": {
   "display_name": "Python 3 (ipykernel)",
   "language": "python",
   "name": "python3"
  },
  "language_info": {
   "codemirror_mode": {
    "name": "ipython",
    "version": 3
   },
   "file_extension": ".py",
   "mimetype": "text/x-python",
   "name": "python",
   "nbconvert_exporter": "python",
   "pygments_lexer": "ipython3",
   "version": "3.9.13"
  }
 },
 "nbformat": 4,
 "nbformat_minor": 5
}
