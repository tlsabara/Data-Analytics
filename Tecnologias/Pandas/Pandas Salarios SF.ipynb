{
 "cells": [
  {
   "cell_type": "markdown",
   "source": [
    "Realizando a  analise de salarios de são São Francisco (USA)"
   ],
   "metadata": {
    "collapsed": false
   }
  },
  {
   "cell_type": "code",
   "execution_count": 38,
   "outputs": [],
   "source": [
    "import numpy as np\n",
    "\n",
    "import pandas as pd\n",
    "import os\n",
    "from  pathlib import Path\n",
    "\n",
    "# Importações"
   ],
   "metadata": {
    "collapsed": false
   }
  },
  {
   "cell_type": "code",
   "execution_count": 14,
   "outputs": [],
   "source": [
    "# Variáveis\n",
    "DATASETS_ROOT_DIR = Path(os.path.abspath(os.curdir)).parent / 'datasets'\n"
   ],
   "metadata": {
    "collapsed": false
   }
  },
  {
   "cell_type": "code",
   "execution_count": null,
   "outputs": [],
   "source": [
    "# Funções\n",
    "\n"
   ],
   "metadata": {
    "collapsed": false
   }
  },
  {
   "cell_type": "code",
   "execution_count": 48,
   "outputs": [
    {
     "name": "stderr",
     "output_type": "stream",
     "text": [
      "C:\\Users\\root\\AppData\\Local\\Temp\\ipykernel_7344\\1680589119.py:3: DtypeWarning: Columns (2,3,4,5) have mixed types. Specify dtype option on import or set low_memory=False.\n",
      "  df = pd.read_csv(DATASETS_ROOT_DIR / 'Salarios_SF.csv')\n"
     ]
    }
   ],
   "source": [
    "# Carregando o df\n",
    "\n",
    "df = pd.read_csv(DATASETS_ROOT_DIR / 'Salarios_SF.csv')\n"
   ],
   "metadata": {
    "collapsed": false
   }
  },
  {
   "cell_type": "code",
   "execution_count": 49,
   "outputs": [
    {
     "data": {
      "text/plain": "        EmployeeName                                        JobTitle  \\\n0     NATHANIEL FORD  GENERAL MANAGER-METROPOLITAN TRANSIT AUTHORITY   \n1       GARY JIMENEZ                 CAPTAIN III (POLICE DEPARTMENT)   \n2     ALBERT PARDINI                 CAPTAIN III (POLICE DEPARTMENT)   \n3  CHRISTOPHER CHONG            WIRE ROPE CABLE MAINTENANCE MECHANIC   \n4    PATRICK GARDNER    DEPUTY CHIEF OF DEPARTMENT,(FIRE DEPARTMENT)   \n\n     BasePay OvertimePay   OtherPay      Benefits   TotalPay  \\\n0  167411.18         0.0  400184.25  Not Provided  567595.43   \n1  155966.02   245131.88  137811.38  Not Provided  538909.28   \n2  212739.13   106088.18    16452.6  Not Provided  335279.91   \n3    77916.0    56120.71   198306.9  Not Provided  332343.61   \n4   134401.6      9737.0  182234.59  Not Provided  326373.19   \n\n   TotalPayBenefits  Year  \n0         567595.43  2011  \n1         538909.28  2011  \n2         335279.91  2011  \n3         332343.61  2011  \n4         326373.19  2011  ",
      "text/html": "<div>\n<style scoped>\n    .dataframe tbody tr th:only-of-type {\n        vertical-align: middle;\n    }\n\n    .dataframe tbody tr th {\n        vertical-align: top;\n    }\n\n    .dataframe thead th {\n        text-align: right;\n    }\n</style>\n<table border=\"1\" class=\"dataframe\">\n  <thead>\n    <tr style=\"text-align: right;\">\n      <th></th>\n      <th>EmployeeName</th>\n      <th>JobTitle</th>\n      <th>BasePay</th>\n      <th>OvertimePay</th>\n      <th>OtherPay</th>\n      <th>Benefits</th>\n      <th>TotalPay</th>\n      <th>TotalPayBenefits</th>\n      <th>Year</th>\n    </tr>\n  </thead>\n  <tbody>\n    <tr>\n      <th>0</th>\n      <td>NATHANIEL FORD</td>\n      <td>GENERAL MANAGER-METROPOLITAN TRANSIT AUTHORITY</td>\n      <td>167411.18</td>\n      <td>0.0</td>\n      <td>400184.25</td>\n      <td>Not Provided</td>\n      <td>567595.43</td>\n      <td>567595.43</td>\n      <td>2011</td>\n    </tr>\n    <tr>\n      <th>1</th>\n      <td>GARY JIMENEZ</td>\n      <td>CAPTAIN III (POLICE DEPARTMENT)</td>\n      <td>155966.02</td>\n      <td>245131.88</td>\n      <td>137811.38</td>\n      <td>Not Provided</td>\n      <td>538909.28</td>\n      <td>538909.28</td>\n      <td>2011</td>\n    </tr>\n    <tr>\n      <th>2</th>\n      <td>ALBERT PARDINI</td>\n      <td>CAPTAIN III (POLICE DEPARTMENT)</td>\n      <td>212739.13</td>\n      <td>106088.18</td>\n      <td>16452.6</td>\n      <td>Not Provided</td>\n      <td>335279.91</td>\n      <td>335279.91</td>\n      <td>2011</td>\n    </tr>\n    <tr>\n      <th>3</th>\n      <td>CHRISTOPHER CHONG</td>\n      <td>WIRE ROPE CABLE MAINTENANCE MECHANIC</td>\n      <td>77916.0</td>\n      <td>56120.71</td>\n      <td>198306.9</td>\n      <td>Not Provided</td>\n      <td>332343.61</td>\n      <td>332343.61</td>\n      <td>2011</td>\n    </tr>\n    <tr>\n      <th>4</th>\n      <td>PATRICK GARDNER</td>\n      <td>DEPUTY CHIEF OF DEPARTMENT,(FIRE DEPARTMENT)</td>\n      <td>134401.6</td>\n      <td>9737.0</td>\n      <td>182234.59</td>\n      <td>Not Provided</td>\n      <td>326373.19</td>\n      <td>326373.19</td>\n      <td>2011</td>\n    </tr>\n  </tbody>\n</table>\n</div>"
     },
     "execution_count": 49,
     "metadata": {},
     "output_type": "execute_result"
    }
   ],
   "source": [
    "# Uma olhada para saber a estrutura de colunas do dataset.\n",
    "df.head()"
   ],
   "metadata": {
    "collapsed": false
   }
  },
  {
   "cell_type": "code",
   "execution_count": 50,
   "outputs": [
    {
     "name": "stdout",
     "output_type": "stream",
     "text": [
      "<class 'pandas.core.frame.DataFrame'>\n",
      "RangeIndex: 312882 entries, 0 to 312881\n",
      "Data columns (total 9 columns):\n",
      " #   Column            Non-Null Count   Dtype  \n",
      "---  ------            --------------   -----  \n",
      " 0   EmployeeName      312882 non-null  object \n",
      " 1   JobTitle          312882 non-null  object \n",
      " 2   BasePay           312882 non-null  object \n",
      " 3   OvertimePay       312882 non-null  object \n",
      " 4   OtherPay          312882 non-null  object \n",
      " 5   Benefits          312882 non-null  object \n",
      " 6   TotalPay          312882 non-null  float64\n",
      " 7   TotalPayBenefits  312882 non-null  float64\n",
      " 8   Year              312882 non-null  int64  \n",
      "dtypes: float64(2), int64(1), object(6)\n",
      "memory usage: 21.5+ MB\n"
     ]
    }
   ],
   "source": [
    "# Uma olhada na composição e para saber cada tipo de dados.\n",
    "df.info()"
   ],
   "metadata": {
    "collapsed": false
   }
  },
  {
   "cell_type": "code",
   "execution_count": 56,
   "outputs": [
    {
     "data": {
      "text/plain": "       EmployeeName JobTitle BasePay OvertimePay OtherPay Benefits  TotalPay  \\\n0               NaN      NaN     NaN         NaN      NaN        0       NaN   \n1               NaN      NaN     NaN         NaN      NaN        0       NaN   \n2               NaN      NaN     NaN         NaN      NaN        0       NaN   \n3               NaN      NaN     NaN         NaN      NaN        0       NaN   \n4               NaN      NaN     NaN         NaN      NaN        0       NaN   \n...             ...      ...     ...         ...      ...      ...       ...   \n312877          NaN      NaN     NaN         NaN      NaN      NaN       NaN   \n312878          NaN      NaN     NaN         NaN      NaN      NaN       NaN   \n312879          NaN      NaN     NaN         NaN      NaN      NaN       NaN   \n312880          NaN      NaN     NaN         NaN      NaN      NaN       NaN   \n312881          NaN      NaN     NaN         NaN      NaN      NaN       NaN   \n\n        TotalPayBenefits  Year  \n0                    NaN   NaN  \n1                    NaN   NaN  \n2                    NaN   NaN  \n3                    NaN   NaN  \n4                    NaN   NaN  \n...                  ...   ...  \n312877               NaN   NaN  \n312878               NaN   NaN  \n312879               NaN   NaN  \n312880               NaN   NaN  \n312881               NaN   NaN  \n\n[312882 rows x 9 columns]",
      "text/html": "<div>\n<style scoped>\n    .dataframe tbody tr th:only-of-type {\n        vertical-align: middle;\n    }\n\n    .dataframe tbody tr th {\n        vertical-align: top;\n    }\n\n    .dataframe thead th {\n        text-align: right;\n    }\n</style>\n<table border=\"1\" class=\"dataframe\">\n  <thead>\n    <tr style=\"text-align: right;\">\n      <th></th>\n      <th>EmployeeName</th>\n      <th>JobTitle</th>\n      <th>BasePay</th>\n      <th>OvertimePay</th>\n      <th>OtherPay</th>\n      <th>Benefits</th>\n      <th>TotalPay</th>\n      <th>TotalPayBenefits</th>\n      <th>Year</th>\n    </tr>\n  </thead>\n  <tbody>\n    <tr>\n      <th>0</th>\n      <td>NaN</td>\n      <td>NaN</td>\n      <td>NaN</td>\n      <td>NaN</td>\n      <td>NaN</td>\n      <td>0</td>\n      <td>NaN</td>\n      <td>NaN</td>\n      <td>NaN</td>\n    </tr>\n    <tr>\n      <th>1</th>\n      <td>NaN</td>\n      <td>NaN</td>\n      <td>NaN</td>\n      <td>NaN</td>\n      <td>NaN</td>\n      <td>0</td>\n      <td>NaN</td>\n      <td>NaN</td>\n      <td>NaN</td>\n    </tr>\n    <tr>\n      <th>2</th>\n      <td>NaN</td>\n      <td>NaN</td>\n      <td>NaN</td>\n      <td>NaN</td>\n      <td>NaN</td>\n      <td>0</td>\n      <td>NaN</td>\n      <td>NaN</td>\n      <td>NaN</td>\n    </tr>\n    <tr>\n      <th>3</th>\n      <td>NaN</td>\n      <td>NaN</td>\n      <td>NaN</td>\n      <td>NaN</td>\n      <td>NaN</td>\n      <td>0</td>\n      <td>NaN</td>\n      <td>NaN</td>\n      <td>NaN</td>\n    </tr>\n    <tr>\n      <th>4</th>\n      <td>NaN</td>\n      <td>NaN</td>\n      <td>NaN</td>\n      <td>NaN</td>\n      <td>NaN</td>\n      <td>0</td>\n      <td>NaN</td>\n      <td>NaN</td>\n      <td>NaN</td>\n    </tr>\n    <tr>\n      <th>...</th>\n      <td>...</td>\n      <td>...</td>\n      <td>...</td>\n      <td>...</td>\n      <td>...</td>\n      <td>...</td>\n      <td>...</td>\n      <td>...</td>\n      <td>...</td>\n    </tr>\n    <tr>\n      <th>312877</th>\n      <td>NaN</td>\n      <td>NaN</td>\n      <td>NaN</td>\n      <td>NaN</td>\n      <td>NaN</td>\n      <td>NaN</td>\n      <td>NaN</td>\n      <td>NaN</td>\n      <td>NaN</td>\n    </tr>\n    <tr>\n      <th>312878</th>\n      <td>NaN</td>\n      <td>NaN</td>\n      <td>NaN</td>\n      <td>NaN</td>\n      <td>NaN</td>\n      <td>NaN</td>\n      <td>NaN</td>\n      <td>NaN</td>\n      <td>NaN</td>\n    </tr>\n    <tr>\n      <th>312879</th>\n      <td>NaN</td>\n      <td>NaN</td>\n      <td>NaN</td>\n      <td>NaN</td>\n      <td>NaN</td>\n      <td>NaN</td>\n      <td>NaN</td>\n      <td>NaN</td>\n      <td>NaN</td>\n    </tr>\n    <tr>\n      <th>312880</th>\n      <td>NaN</td>\n      <td>NaN</td>\n      <td>NaN</td>\n      <td>NaN</td>\n      <td>NaN</td>\n      <td>NaN</td>\n      <td>NaN</td>\n      <td>NaN</td>\n      <td>NaN</td>\n    </tr>\n    <tr>\n      <th>312881</th>\n      <td>NaN</td>\n      <td>NaN</td>\n      <td>NaN</td>\n      <td>NaN</td>\n      <td>NaN</td>\n      <td>NaN</td>\n      <td>NaN</td>\n      <td>NaN</td>\n      <td>NaN</td>\n    </tr>\n  </tbody>\n</table>\n<p>312882 rows × 9 columns</p>\n</div>"
     },
     "execution_count": 56,
     "metadata": {},
     "output_type": "execute_result"
    }
   ],
   "source": [
    "# as colunas acima que apresentaram seu dtype como object, foi porque temos valores textuais nestas colunas, por conta disso não estava funcionando a conversão\n",
    "# realizei o replace dos valores para 0\n",
    "df_1 = df.replace('Not Provided', value=0)\n",
    "df_1[df == 'Not Provided']\n",
    "# Eu sei, eu sei, usei o df ao invés do DF1 né, mas foi de propósito para conferir se os valores foram substituidos,\n",
    "# e ja vui que vou precisar fazer com os valores NaN tmb.BasePay\n"
   ],
   "metadata": {
    "collapsed": false
   }
  },
  {
   "cell_type": "code",
   "execution_count": 57,
   "outputs": [],
   "source": [
    "# Agora o replace com os valores NaN\n",
    "df_1.fillna(0, inplace=True)\n"
   ],
   "metadata": {
    "collapsed": false
   }
  },
  {
   "cell_type": "code",
   "execution_count": 58,
   "outputs": [
    {
     "data": {
      "text/plain": "              EmployeeName                                        JobTitle  \\\n0           NATHANIEL FORD  GENERAL MANAGER-METROPOLITAN TRANSIT AUTHORITY   \n1             GARY JIMENEZ                 CAPTAIN III (POLICE DEPARTMENT)   \n2           ALBERT PARDINI                 CAPTAIN III (POLICE DEPARTMENT)   \n3        CHRISTOPHER CHONG            WIRE ROPE CABLE MAINTENANCE MECHANIC   \n4          PATRICK GARDNER    DEPUTY CHIEF OF DEPARTMENT,(FIRE DEPARTMENT)   \n...                    ...                                             ...   \n312877     Daniel W Plautz                          Public Service Trainee   \n312878    David J Thompson                                  Deputy Sheriff   \n312879  Keiko Weng Yee Lau                          Public Service Trainee   \n312880          David Wong                                  Deputy Sheriff   \n312881     Debora E Howard                               Recreation Leader   \n\n          BasePay  OvertimePay   OtherPay  Benefits   TotalPay  \\\n0       167411.18         0.00  400184.25       0.0  567595.43   \n1       155966.02    245131.88  137811.38       0.0  538909.28   \n2       212739.13    106088.18   16452.60       0.0  335279.91   \n3        77916.00     56120.71  198306.90       0.0  332343.61   \n4       134401.60      9737.00  182234.59       0.0  326373.19   \n...           ...          ...        ...       ...        ...   \n312877       0.00         0.00       0.00       0.0       0.00   \n312878       0.00         0.00       0.00       0.0       0.00   \n312879       0.00         0.00       0.00       0.0       0.00   \n312880       0.00         0.00       0.00       0.0       0.00   \n312881       0.00         0.00       0.00       0.0       0.00   \n\n        TotalPayBenefits  Year  \n0              567595.43  2011  \n1              538909.28  2011  \n2              335279.91  2011  \n3              332343.61  2011  \n4              326373.19  2011  \n...                  ...   ...  \n312877              0.00  2018  \n312878              0.00  2018  \n312879              0.00  2018  \n312880              0.00  2018  \n312881              0.00  2018  \n\n[312882 rows x 9 columns]",
      "text/html": "<div>\n<style scoped>\n    .dataframe tbody tr th:only-of-type {\n        vertical-align: middle;\n    }\n\n    .dataframe tbody tr th {\n        vertical-align: top;\n    }\n\n    .dataframe thead th {\n        text-align: right;\n    }\n</style>\n<table border=\"1\" class=\"dataframe\">\n  <thead>\n    <tr style=\"text-align: right;\">\n      <th></th>\n      <th>EmployeeName</th>\n      <th>JobTitle</th>\n      <th>BasePay</th>\n      <th>OvertimePay</th>\n      <th>OtherPay</th>\n      <th>Benefits</th>\n      <th>TotalPay</th>\n      <th>TotalPayBenefits</th>\n      <th>Year</th>\n    </tr>\n  </thead>\n  <tbody>\n    <tr>\n      <th>0</th>\n      <td>NATHANIEL FORD</td>\n      <td>GENERAL MANAGER-METROPOLITAN TRANSIT AUTHORITY</td>\n      <td>167411.18</td>\n      <td>0.00</td>\n      <td>400184.25</td>\n      <td>0.0</td>\n      <td>567595.43</td>\n      <td>567595.43</td>\n      <td>2011</td>\n    </tr>\n    <tr>\n      <th>1</th>\n      <td>GARY JIMENEZ</td>\n      <td>CAPTAIN III (POLICE DEPARTMENT)</td>\n      <td>155966.02</td>\n      <td>245131.88</td>\n      <td>137811.38</td>\n      <td>0.0</td>\n      <td>538909.28</td>\n      <td>538909.28</td>\n      <td>2011</td>\n    </tr>\n    <tr>\n      <th>2</th>\n      <td>ALBERT PARDINI</td>\n      <td>CAPTAIN III (POLICE DEPARTMENT)</td>\n      <td>212739.13</td>\n      <td>106088.18</td>\n      <td>16452.60</td>\n      <td>0.0</td>\n      <td>335279.91</td>\n      <td>335279.91</td>\n      <td>2011</td>\n    </tr>\n    <tr>\n      <th>3</th>\n      <td>CHRISTOPHER CHONG</td>\n      <td>WIRE ROPE CABLE MAINTENANCE MECHANIC</td>\n      <td>77916.00</td>\n      <td>56120.71</td>\n      <td>198306.90</td>\n      <td>0.0</td>\n      <td>332343.61</td>\n      <td>332343.61</td>\n      <td>2011</td>\n    </tr>\n    <tr>\n      <th>4</th>\n      <td>PATRICK GARDNER</td>\n      <td>DEPUTY CHIEF OF DEPARTMENT,(FIRE DEPARTMENT)</td>\n      <td>134401.60</td>\n      <td>9737.00</td>\n      <td>182234.59</td>\n      <td>0.0</td>\n      <td>326373.19</td>\n      <td>326373.19</td>\n      <td>2011</td>\n    </tr>\n    <tr>\n      <th>...</th>\n      <td>...</td>\n      <td>...</td>\n      <td>...</td>\n      <td>...</td>\n      <td>...</td>\n      <td>...</td>\n      <td>...</td>\n      <td>...</td>\n      <td>...</td>\n    </tr>\n    <tr>\n      <th>312877</th>\n      <td>Daniel W Plautz</td>\n      <td>Public Service Trainee</td>\n      <td>0.00</td>\n      <td>0.00</td>\n      <td>0.00</td>\n      <td>0.0</td>\n      <td>0.00</td>\n      <td>0.00</td>\n      <td>2018</td>\n    </tr>\n    <tr>\n      <th>312878</th>\n      <td>David J Thompson</td>\n      <td>Deputy Sheriff</td>\n      <td>0.00</td>\n      <td>0.00</td>\n      <td>0.00</td>\n      <td>0.0</td>\n      <td>0.00</td>\n      <td>0.00</td>\n      <td>2018</td>\n    </tr>\n    <tr>\n      <th>312879</th>\n      <td>Keiko Weng Yee Lau</td>\n      <td>Public Service Trainee</td>\n      <td>0.00</td>\n      <td>0.00</td>\n      <td>0.00</td>\n      <td>0.0</td>\n      <td>0.00</td>\n      <td>0.00</td>\n      <td>2018</td>\n    </tr>\n    <tr>\n      <th>312880</th>\n      <td>David Wong</td>\n      <td>Deputy Sheriff</td>\n      <td>0.00</td>\n      <td>0.00</td>\n      <td>0.00</td>\n      <td>0.0</td>\n      <td>0.00</td>\n      <td>0.00</td>\n      <td>2018</td>\n    </tr>\n    <tr>\n      <th>312881</th>\n      <td>Debora E Howard</td>\n      <td>Recreation Leader</td>\n      <td>0.00</td>\n      <td>0.00</td>\n      <td>0.00</td>\n      <td>0.0</td>\n      <td>0.00</td>\n      <td>0.00</td>\n      <td>2018</td>\n    </tr>\n  </tbody>\n</table>\n<p>312882 rows × 9 columns</p>\n</div>"
     },
     "execution_count": 58,
     "metadata": {},
     "output_type": "execute_result"
    }
   ],
   "source": [
    "# Precisamos trabalhar a conversão das colunas BasePay, OvertimePay, OtherPay e Benefits\n",
    "df_1['BasePay OvertimePay OtherPay Benefits'.split()] = pd.DataFrame(df_1['BasePay OvertimePay OtherPay Benefits'.split()], dtype=float)\n",
    "df_1"
   ],
   "metadata": {
    "collapsed": false
   }
  },
  {
   "cell_type": "code",
   "execution_count": 59,
   "outputs": [
    {
     "name": "stdout",
     "output_type": "stream",
     "text": [
      "<class 'pandas.core.frame.DataFrame'>\n",
      "RangeIndex: 312882 entries, 0 to 312881\n",
      "Data columns (total 9 columns):\n",
      " #   Column            Non-Null Count   Dtype  \n",
      "---  ------            --------------   -----  \n",
      " 0   EmployeeName      312882 non-null  object \n",
      " 1   JobTitle          312882 non-null  object \n",
      " 2   BasePay           312882 non-null  float64\n",
      " 3   OvertimePay       312882 non-null  float64\n",
      " 4   OtherPay          312882 non-null  float64\n",
      " 5   Benefits          312882 non-null  float64\n",
      " 6   TotalPay          312882 non-null  float64\n",
      " 7   TotalPayBenefits  312882 non-null  float64\n",
      " 8   Year              312882 non-null  int64  \n",
      "dtypes: float64(6), int64(1), object(2)\n",
      "memory usage: 21.5+ MB\n"
     ]
    }
   ],
   "source": [
    "# Conferindo se os valores foram modificados\n",
    "df_1.info()"
   ],
   "metadata": {
    "collapsed": false
   }
  },
  {
   "cell_type": "code",
   "execution_count": 65,
   "outputs": [
    {
     "name": "stdout",
     "output_type": "stream",
     "text": [
      "Média de Salario Base:  69673.05\n",
      "Média de Horas Extras:  5668.91\n",
      "Média de Benefícios:  22125.69\n",
      "Média de Outros Pagamentos:  3460.68\n",
      "Média de Total Pagamentos:  78802.65\n",
      "Média de Total Pagamentos e Benefícios:  100928.34\n"
     ]
    }
   ],
   "source": [
    "# Médias\n",
    "mean_base_pay = round(df_1.BasePay.mean(), 2)\n",
    "mean_overtime_pay = round(df_1.OvertimePay.mean(), 2)\n",
    "mean_benefits = round(df_1.Benefits.mean(), 2)\n",
    "mean_other_pay = round(df_1.OtherPay.mean(), 2)\n",
    "mean_total_pay = round(df_1.TotalPay.mean(), 2)\n",
    "mean_total_pay_benefits = round(df_1.TotalPayBenefits.mean(), 2)\n",
    "\n",
    "print('Média de Salario Base: ', mean_base_pay)\n",
    "print('Média de Horas Extras: ', mean_overtime_pay)\n",
    "print('Média de Benefícios: ', mean_benefits)\n",
    "print('Média de Outros Pagamentos: ', mean_other_pay)\n",
    "print('Média de Total Pagamentos: ', mean_total_pay)\n",
    "print('Média de Total Pagamentos e Benefícios: ', mean_total_pay_benefits)"
   ],
   "metadata": {
    "collapsed": false
   }
  },
  {
   "cell_type": "code",
   "execution_count": 102,
   "outputs": [
    {
     "data": {
      "text/plain": "      EmployeersOverMean  TotalEmployers_Year  Repr(%)\nYear                                                  \n2011               14932                36159     41.0\n2012               15923                36766     43.0\n2013               17291                37606     46.0\n2014               16820                38119     44.0\n2015               18130                39387     46.0\n2016               20475                40970     50.0\n2017               22310                41566     54.0\n2018               23549                42309     56.0",
      "text/html": "<div>\n<style scoped>\n    .dataframe tbody tr th:only-of-type {\n        vertical-align: middle;\n    }\n\n    .dataframe tbody tr th {\n        vertical-align: top;\n    }\n\n    .dataframe thead th {\n        text-align: right;\n    }\n</style>\n<table border=\"1\" class=\"dataframe\">\n  <thead>\n    <tr style=\"text-align: right;\">\n      <th></th>\n      <th>EmployeersOverMean</th>\n      <th>TotalEmployers_Year</th>\n      <th>Repr(%)</th>\n    </tr>\n    <tr>\n      <th>Year</th>\n      <th></th>\n      <th></th>\n      <th></th>\n    </tr>\n  </thead>\n  <tbody>\n    <tr>\n      <th>2011</th>\n      <td>14932</td>\n      <td>36159</td>\n      <td>41.0</td>\n    </tr>\n    <tr>\n      <th>2012</th>\n      <td>15923</td>\n      <td>36766</td>\n      <td>43.0</td>\n    </tr>\n    <tr>\n      <th>2013</th>\n      <td>17291</td>\n      <td>37606</td>\n      <td>46.0</td>\n    </tr>\n    <tr>\n      <th>2014</th>\n      <td>16820</td>\n      <td>38119</td>\n      <td>44.0</td>\n    </tr>\n    <tr>\n      <th>2015</th>\n      <td>18130</td>\n      <td>39387</td>\n      <td>46.0</td>\n    </tr>\n    <tr>\n      <th>2016</th>\n      <td>20475</td>\n      <td>40970</td>\n      <td>50.0</td>\n    </tr>\n    <tr>\n      <th>2017</th>\n      <td>22310</td>\n      <td>41566</td>\n      <td>54.0</td>\n    </tr>\n    <tr>\n      <th>2018</th>\n      <td>23549</td>\n      <td>42309</td>\n      <td>56.0</td>\n    </tr>\n  </tbody>\n</table>\n</div>"
     },
     "execution_count": 102,
     "metadata": {},
     "output_type": "execute_result"
    }
   ],
   "source": [
    "# Quantidade de pessoas que tiveram o salario base, maior que a média total durante, viz por anos.\n",
    "df__basepay_over_mean_by_year = df_1[df_1.BasePay > mean_base_pay].groupby('Year')['EmployeeName'].count()\n",
    "df__basepay_over_mean_by_year = df__basepay_over_mean_by_year.to_frame(name='EmployeersOverMean')\n",
    "df__basepay_over_mean_by_year['TotalEmployers_Year'] =  df_1.groupby('Year')['EmployeeName'].count()\n",
    "df__basepay_over_mean_by_year['Repr(%)'] = round(df__basepay_over_mean_by_year['EmployeersOverMean'] / df__basepay_over_mean_by_year['TotalEmployers_Year'], 2)*100\n",
    "df__basepay_over_mean_by_year\n",
    "# df__basepay_over_mean_by_year.info()\n"
   ],
   "metadata": {
    "collapsed": false
   }
  },
  {
   "cell_type": "code",
   "execution_count": 108,
   "outputs": [],
   "source": [
    "# Quantidade gasta em Horas extas por ano.\n",
    "df__spended_value_on_overtimepay = df_1.groupby('Year')['OvertimePay'].sum().to_frame('Total Spend Overtime Pays')\n",
    "df__spended_value_on_overtimepay['Total Spend Overtime Pays'] = df__spended_value_on_overtimepay['Total Spend Overtime Pays'].apply(lambda v: str(v))"
   ],
   "metadata": {
    "collapsed": false
   }
  },
  {
   "cell_type": "code",
   "execution_count": 109,
   "outputs": [
    {
     "data": {
      "text/plain": "     Total Spend Overtime Pays\nYear                          \n2011              163838794.83\n2012              184690979.73\n2013              198621428.29\n2014              205918599.27\n2015              220840311.85\n2016              251403088.33\n2017              262937147.14\n2018              285449947.93",
      "text/html": "<div>\n<style scoped>\n    .dataframe tbody tr th:only-of-type {\n        vertical-align: middle;\n    }\n\n    .dataframe tbody tr th {\n        vertical-align: top;\n    }\n\n    .dataframe thead th {\n        text-align: right;\n    }\n</style>\n<table border=\"1\" class=\"dataframe\">\n  <thead>\n    <tr style=\"text-align: right;\">\n      <th></th>\n      <th>Total Spend Overtime Pays</th>\n    </tr>\n    <tr>\n      <th>Year</th>\n      <th></th>\n    </tr>\n  </thead>\n  <tbody>\n    <tr>\n      <th>2011</th>\n      <td>163838794.83</td>\n    </tr>\n    <tr>\n      <th>2012</th>\n      <td>184690979.73</td>\n    </tr>\n    <tr>\n      <th>2013</th>\n      <td>198621428.29</td>\n    </tr>\n    <tr>\n      <th>2014</th>\n      <td>205918599.27</td>\n    </tr>\n    <tr>\n      <th>2015</th>\n      <td>220840311.85</td>\n    </tr>\n    <tr>\n      <th>2016</th>\n      <td>251403088.33</td>\n    </tr>\n    <tr>\n      <th>2017</th>\n      <td>262937147.14</td>\n    </tr>\n    <tr>\n      <th>2018</th>\n      <td>285449947.93</td>\n    </tr>\n  </tbody>\n</table>\n</div>"
     },
     "execution_count": 109,
     "metadata": {},
     "output_type": "execute_result"
    }
   ],
   "source": [],
   "metadata": {
    "collapsed": false
   }
  },
  {
   "cell_type": "code",
   "execution_count": null,
   "outputs": [],
   "source": [],
   "metadata": {
    "collapsed": false
   }
  }
 ],
 "metadata": {
  "kernelspec": {
   "display_name": "Python 3",
   "language": "python",
   "name": "python3"
  },
  "language_info": {
   "codemirror_mode": {
    "name": "ipython",
    "version": 2
   },
   "file_extension": ".py",
   "mimetype": "text/x-python",
   "name": "python",
   "nbconvert_exporter": "python",
   "pygments_lexer": "ipython2",
   "version": "2.7.6"
  }
 },
 "nbformat": 4,
 "nbformat_minor": 0
}
