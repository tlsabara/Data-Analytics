{
 "cells": [
  {
   "cell_type": "code",
   "execution_count": 1,
   "metadata": {
    "collapsed": true
   },
   "outputs": [],
   "source": [
    "import pandas as pd\n",
    "from numpy.random import randn\n",
    "import numpy as np\n"
   ]
  },
  {
   "cell_type": "markdown",
   "source": [
    "# Ainda no Pandas"
   ],
   "metadata": {
    "collapsed": false
   }
  },
  {
   "cell_type": "code",
   "execution_count": 2,
   "outputs": [],
   "source": [
    "np.random.seed(101)\n",
    "dados = {\n",
    "    'Empresas': ['Google', 'Apple', 'Microsoft', 'Facebook', 'Amazon', 'Google', 'Apple', 'Microsoft', 'Facebook', 'Amazon'],\n",
    "    'Nome_vendedor': [ 'José', 'Maria', 'Carlos', 'José', 'Maria', 'Carlos', 'José', 'Maria', 'Carlos', 'Fabio'],\n",
    "    'Valor_venda': [round((i+3)*2000, 2) for i in randn(10)],\n",
    "    'Valor_imposto': [round((i+3)*500, 2) for i in randn(10)],\n",
    "}"
   ],
   "metadata": {
    "collapsed": false
   }
  },
  {
   "cell_type": "markdown",
   "source": [
    "### Groupby\n",
    "groupby('Coluna de agregação').METODO()"
   ],
   "metadata": {
    "collapsed": false
   }
  },
  {
   "cell_type": "code",
   "execution_count": 3,
   "outputs": [
    {
     "data": {
      "text/plain": "    Empresas Nome_vendedor  Valor_venda  Valor_imposto\n0     Google          José     11413.70        1764.41\n1      Apple         Maria      7256.27        1205.50\n2  Microsoft        Carlos      7815.94        1594.35\n3   Facebook          José      7007.65        1120.56\n4     Amazon         Maria      7302.24        1033.38\n5     Google        Carlos      5361.36        1977.53\n6      Apple          José      4303.85        1595.40\n7  Microsoft         Maria      7211.93        2489.38\n8   Facebook        Carlos      1963.66        2802.98\n9     Amazon         Fabio      7480.24        1841.75",
      "text/html": "<div>\n<style scoped>\n    .dataframe tbody tr th:only-of-type {\n        vertical-align: middle;\n    }\n\n    .dataframe tbody tr th {\n        vertical-align: top;\n    }\n\n    .dataframe thead th {\n        text-align: right;\n    }\n</style>\n<table border=\"1\" class=\"dataframe\">\n  <thead>\n    <tr style=\"text-align: right;\">\n      <th></th>\n      <th>Empresas</th>\n      <th>Nome_vendedor</th>\n      <th>Valor_venda</th>\n      <th>Valor_imposto</th>\n    </tr>\n  </thead>\n  <tbody>\n    <tr>\n      <th>0</th>\n      <td>Google</td>\n      <td>José</td>\n      <td>11413.70</td>\n      <td>1764.41</td>\n    </tr>\n    <tr>\n      <th>1</th>\n      <td>Apple</td>\n      <td>Maria</td>\n      <td>7256.27</td>\n      <td>1205.50</td>\n    </tr>\n    <tr>\n      <th>2</th>\n      <td>Microsoft</td>\n      <td>Carlos</td>\n      <td>7815.94</td>\n      <td>1594.35</td>\n    </tr>\n    <tr>\n      <th>3</th>\n      <td>Facebook</td>\n      <td>José</td>\n      <td>7007.65</td>\n      <td>1120.56</td>\n    </tr>\n    <tr>\n      <th>4</th>\n      <td>Amazon</td>\n      <td>Maria</td>\n      <td>7302.24</td>\n      <td>1033.38</td>\n    </tr>\n    <tr>\n      <th>5</th>\n      <td>Google</td>\n      <td>Carlos</td>\n      <td>5361.36</td>\n      <td>1977.53</td>\n    </tr>\n    <tr>\n      <th>6</th>\n      <td>Apple</td>\n      <td>José</td>\n      <td>4303.85</td>\n      <td>1595.40</td>\n    </tr>\n    <tr>\n      <th>7</th>\n      <td>Microsoft</td>\n      <td>Maria</td>\n      <td>7211.93</td>\n      <td>2489.38</td>\n    </tr>\n    <tr>\n      <th>8</th>\n      <td>Facebook</td>\n      <td>Carlos</td>\n      <td>1963.66</td>\n      <td>2802.98</td>\n    </tr>\n    <tr>\n      <th>9</th>\n      <td>Amazon</td>\n      <td>Fabio</td>\n      <td>7480.24</td>\n      <td>1841.75</td>\n    </tr>\n  </tbody>\n</table>\n</div>"
     },
     "execution_count": 3,
     "metadata": {},
     "output_type": "execute_result"
    }
   ],
   "source": [
    "df_01 = pd.DataFrame(dados)\n",
    "df_01"
   ],
   "metadata": {
    "collapsed": false
   }
  },
  {
   "cell_type": "code",
   "execution_count": 4,
   "outputs": [
    {
     "data": {
      "text/plain": "           Valor_venda  Valor_imposto\nEmpresas                             \nAmazon        14782.48        2875.13\nApple         11560.12        2800.90\nFacebook       8971.31        3923.54\nGoogle        16775.06        3741.94\nMicrosoft     15027.87        4083.73",
      "text/html": "<div>\n<style scoped>\n    .dataframe tbody tr th:only-of-type {\n        vertical-align: middle;\n    }\n\n    .dataframe tbody tr th {\n        vertical-align: top;\n    }\n\n    .dataframe thead th {\n        text-align: right;\n    }\n</style>\n<table border=\"1\" class=\"dataframe\">\n  <thead>\n    <tr style=\"text-align: right;\">\n      <th></th>\n      <th>Valor_venda</th>\n      <th>Valor_imposto</th>\n    </tr>\n    <tr>\n      <th>Empresas</th>\n      <th></th>\n      <th></th>\n    </tr>\n  </thead>\n  <tbody>\n    <tr>\n      <th>Amazon</th>\n      <td>14782.48</td>\n      <td>2875.13</td>\n    </tr>\n    <tr>\n      <th>Apple</th>\n      <td>11560.12</td>\n      <td>2800.90</td>\n    </tr>\n    <tr>\n      <th>Facebook</th>\n      <td>8971.31</td>\n      <td>3923.54</td>\n    </tr>\n    <tr>\n      <th>Google</th>\n      <td>16775.06</td>\n      <td>3741.94</td>\n    </tr>\n    <tr>\n      <th>Microsoft</th>\n      <td>15027.87</td>\n      <td>4083.73</td>\n    </tr>\n  </tbody>\n</table>\n</div>"
     },
     "execution_count": 4,
     "metadata": {},
     "output_type": "execute_result"
    }
   ],
   "source": [
    "df_01.groupby('Empresas').sum(numeric_only=True)\n",
    "# Soma por empresa"
   ],
   "metadata": {
    "collapsed": false
   }
  },
  {
   "cell_type": "code",
   "execution_count": 5,
   "outputs": [
    {
     "data": {
      "text/plain": "           Valor_venda  Valor_imposto\nEmpresas                             \nAmazon        7391.240       1437.565\nApple         5780.060       1400.450\nFacebook      4485.655       1961.770\nGoogle        8387.530       1870.970\nMicrosoft     7513.935       2041.865",
      "text/html": "<div>\n<style scoped>\n    .dataframe tbody tr th:only-of-type {\n        vertical-align: middle;\n    }\n\n    .dataframe tbody tr th {\n        vertical-align: top;\n    }\n\n    .dataframe thead th {\n        text-align: right;\n    }\n</style>\n<table border=\"1\" class=\"dataframe\">\n  <thead>\n    <tr style=\"text-align: right;\">\n      <th></th>\n      <th>Valor_venda</th>\n      <th>Valor_imposto</th>\n    </tr>\n    <tr>\n      <th>Empresas</th>\n      <th></th>\n      <th></th>\n    </tr>\n  </thead>\n  <tbody>\n    <tr>\n      <th>Amazon</th>\n      <td>7391.240</td>\n      <td>1437.565</td>\n    </tr>\n    <tr>\n      <th>Apple</th>\n      <td>5780.060</td>\n      <td>1400.450</td>\n    </tr>\n    <tr>\n      <th>Facebook</th>\n      <td>4485.655</td>\n      <td>1961.770</td>\n    </tr>\n    <tr>\n      <th>Google</th>\n      <td>8387.530</td>\n      <td>1870.970</td>\n    </tr>\n    <tr>\n      <th>Microsoft</th>\n      <td>7513.935</td>\n      <td>2041.865</td>\n    </tr>\n  </tbody>\n</table>\n</div>"
     },
     "execution_count": 5,
     "metadata": {},
     "output_type": "execute_result"
    }
   ],
   "source": [
    "df_01.groupby('Empresas').mean(numeric_only=True)\n",
    "# Média de venda por empresa"
   ],
   "metadata": {
    "collapsed": false
   }
  },
  {
   "cell_type": "code",
   "execution_count": 6,
   "outputs": [
    {
     "data": {
      "text/plain": "               Valor_venda  Valor_imposto\nNome_vendedor                            \nCarlos            15140.96        6374.86\nFabio              7480.24        1841.75\nJosé              22725.20        4480.37\nMaria             21770.44        4728.26",
      "text/html": "<div>\n<style scoped>\n    .dataframe tbody tr th:only-of-type {\n        vertical-align: middle;\n    }\n\n    .dataframe tbody tr th {\n        vertical-align: top;\n    }\n\n    .dataframe thead th {\n        text-align: right;\n    }\n</style>\n<table border=\"1\" class=\"dataframe\">\n  <thead>\n    <tr style=\"text-align: right;\">\n      <th></th>\n      <th>Valor_venda</th>\n      <th>Valor_imposto</th>\n    </tr>\n    <tr>\n      <th>Nome_vendedor</th>\n      <th></th>\n      <th></th>\n    </tr>\n  </thead>\n  <tbody>\n    <tr>\n      <th>Carlos</th>\n      <td>15140.96</td>\n      <td>6374.86</td>\n    </tr>\n    <tr>\n      <th>Fabio</th>\n      <td>7480.24</td>\n      <td>1841.75</td>\n    </tr>\n    <tr>\n      <th>José</th>\n      <td>22725.20</td>\n      <td>4480.37</td>\n    </tr>\n    <tr>\n      <th>Maria</th>\n      <td>21770.44</td>\n      <td>4728.26</td>\n    </tr>\n  </tbody>\n</table>\n</div>"
     },
     "execution_count": 6,
     "metadata": {},
     "output_type": "execute_result"
    }
   ],
   "source": [
    "df_01.groupby('Nome_vendedor').sum(numeric_only=True)\n",
    "# Soma por vendero"
   ],
   "metadata": {
    "collapsed": false
   }
  },
  {
   "cell_type": "code",
   "execution_count": 7,
   "outputs": [
    {
     "data": {
      "text/plain": "          Valor_venda                                                       \\\n                count      mean          std      min        25%       50%   \nEmpresas                                                                     \nAmazon            2.0  7391.240   125.865007  7302.24  7346.7400  7391.240   \nApple             2.0  5780.060  2087.676203  4303.85  5041.9550  5780.060   \nFacebook          2.0  4485.655  3566.639533  1963.66  3224.6575  4485.655   \nGoogle            2.0  8387.530  4279.650656  5361.36  6874.4450  8387.530   \nMicrosoft         2.0  7513.935   427.099567  7211.93  7362.9325  7513.935   \n\n                               Valor_imposto                                  \\\n                 75%       max         count      mean          std      min   \nEmpresas                                                                       \nAmazon     7435.7400   7480.24           2.0  1437.565   571.603909  1033.38   \nApple      6518.1650   7256.27           2.0  1400.450   275.700934  1205.50   \nFacebook   5746.6525   7007.65           2.0  1961.770  1189.650591  1120.56   \nGoogle     9900.6150  11413.70           2.0  1870.970   150.698597  1764.41   \nMicrosoft  7664.9375   7815.94           2.0  2041.865   632.881782  1594.35   \n\n                                                    \n                 25%       50%        75%      max  \nEmpresas                                            \nAmazon     1235.4725  1437.565  1639.6575  1841.75  \nApple      1302.9750  1400.450  1497.9250  1595.40  \nFacebook   1541.1650  1961.770  2382.3750  2802.98  \nGoogle     1817.6900  1870.970  1924.2500  1977.53  \nMicrosoft  1818.1075  2041.865  2265.6225  2489.38  ",
      "text/html": "<div>\n<style scoped>\n    .dataframe tbody tr th:only-of-type {\n        vertical-align: middle;\n    }\n\n    .dataframe tbody tr th {\n        vertical-align: top;\n    }\n\n    .dataframe thead tr th {\n        text-align: left;\n    }\n\n    .dataframe thead tr:last-of-type th {\n        text-align: right;\n    }\n</style>\n<table border=\"1\" class=\"dataframe\">\n  <thead>\n    <tr>\n      <th></th>\n      <th colspan=\"8\" halign=\"left\">Valor_venda</th>\n      <th colspan=\"8\" halign=\"left\">Valor_imposto</th>\n    </tr>\n    <tr>\n      <th></th>\n      <th>count</th>\n      <th>mean</th>\n      <th>std</th>\n      <th>min</th>\n      <th>25%</th>\n      <th>50%</th>\n      <th>75%</th>\n      <th>max</th>\n      <th>count</th>\n      <th>mean</th>\n      <th>std</th>\n      <th>min</th>\n      <th>25%</th>\n      <th>50%</th>\n      <th>75%</th>\n      <th>max</th>\n    </tr>\n    <tr>\n      <th>Empresas</th>\n      <th></th>\n      <th></th>\n      <th></th>\n      <th></th>\n      <th></th>\n      <th></th>\n      <th></th>\n      <th></th>\n      <th></th>\n      <th></th>\n      <th></th>\n      <th></th>\n      <th></th>\n      <th></th>\n      <th></th>\n      <th></th>\n    </tr>\n  </thead>\n  <tbody>\n    <tr>\n      <th>Amazon</th>\n      <td>2.0</td>\n      <td>7391.240</td>\n      <td>125.865007</td>\n      <td>7302.24</td>\n      <td>7346.7400</td>\n      <td>7391.240</td>\n      <td>7435.7400</td>\n      <td>7480.24</td>\n      <td>2.0</td>\n      <td>1437.565</td>\n      <td>571.603909</td>\n      <td>1033.38</td>\n      <td>1235.4725</td>\n      <td>1437.565</td>\n      <td>1639.6575</td>\n      <td>1841.75</td>\n    </tr>\n    <tr>\n      <th>Apple</th>\n      <td>2.0</td>\n      <td>5780.060</td>\n      <td>2087.676203</td>\n      <td>4303.85</td>\n      <td>5041.9550</td>\n      <td>5780.060</td>\n      <td>6518.1650</td>\n      <td>7256.27</td>\n      <td>2.0</td>\n      <td>1400.450</td>\n      <td>275.700934</td>\n      <td>1205.50</td>\n      <td>1302.9750</td>\n      <td>1400.450</td>\n      <td>1497.9250</td>\n      <td>1595.40</td>\n    </tr>\n    <tr>\n      <th>Facebook</th>\n      <td>2.0</td>\n      <td>4485.655</td>\n      <td>3566.639533</td>\n      <td>1963.66</td>\n      <td>3224.6575</td>\n      <td>4485.655</td>\n      <td>5746.6525</td>\n      <td>7007.65</td>\n      <td>2.0</td>\n      <td>1961.770</td>\n      <td>1189.650591</td>\n      <td>1120.56</td>\n      <td>1541.1650</td>\n      <td>1961.770</td>\n      <td>2382.3750</td>\n      <td>2802.98</td>\n    </tr>\n    <tr>\n      <th>Google</th>\n      <td>2.0</td>\n      <td>8387.530</td>\n      <td>4279.650656</td>\n      <td>5361.36</td>\n      <td>6874.4450</td>\n      <td>8387.530</td>\n      <td>9900.6150</td>\n      <td>11413.70</td>\n      <td>2.0</td>\n      <td>1870.970</td>\n      <td>150.698597</td>\n      <td>1764.41</td>\n      <td>1817.6900</td>\n      <td>1870.970</td>\n      <td>1924.2500</td>\n      <td>1977.53</td>\n    </tr>\n    <tr>\n      <th>Microsoft</th>\n      <td>2.0</td>\n      <td>7513.935</td>\n      <td>427.099567</td>\n      <td>7211.93</td>\n      <td>7362.9325</td>\n      <td>7513.935</td>\n      <td>7664.9375</td>\n      <td>7815.94</td>\n      <td>2.0</td>\n      <td>2041.865</td>\n      <td>632.881782</td>\n      <td>1594.35</td>\n      <td>1818.1075</td>\n      <td>2041.865</td>\n      <td>2265.6225</td>\n      <td>2489.38</td>\n    </tr>\n  </tbody>\n</table>\n</div>"
     },
     "execution_count": 7,
     "metadata": {},
     "output_type": "execute_result"
    }
   ],
   "source": [
    "df_01.groupby('Empresas').describe()\n"
   ],
   "metadata": {
    "collapsed": false
   }
  },
  {
   "cell_type": "markdown",
   "source": [
    "### Juntar DFs\n"
   ],
   "metadata": {
    "collapsed": false
   }
  },
  {
   "cell_type": "code",
   "execution_count": 16,
   "outputs": [],
   "source": [
    "\n",
    "dados1 = {\n",
    "    'reg_venda': [i for i in range(10,0,-1)],\n",
    "    'empresas': ['Google', 'Apple', 'Microsoft', 'Facebook', 'Amazon', 'Google', 'Apple', 'Microsoft', 'Facebook', 'Amazon'],\n",
    "    'nome_vendedor': [ 'José', 'Maria', 'Carlos', 'José', 'Maria', 'Carlos', 'José', 'Maria', 'Carlos', 'Fabio'],\n",
    "    'valor_venda': [round((i+3)*2000, 2) for i in randn(10)],\n",
    "    'valor_imposto': [round((i+3)*500, 2) for i in randn(10)],\n",
    "}\n",
    "\n",
    "dados_complemento1 = {\n",
    "    'reg_venda': [i for i in range(10,0,-1)],\n",
    "    'loja': ['l1', 'l2', 'l3', 'l1', 'l1', 'l4', 'l2', 'l1', 'l3', 'l1'],\n",
    "    'nome_gerente': [ 'José', 'José', 'José', 'José', 'Maria', 'Carlos', 'Carlos', 'Carlos', 'Carlos', 'Carlos'],\n",
    "    'itens_venda': [round((i+3), 0) for i in randn(10)],\n",
    "    'valor_comissao': [round((i+3)*56, 2) for i in randn(10)],\n",
    "}\n",
    "\n",
    "dados2 = {\n",
    "    'empresas': ['Samsung', 'Dell', 'Microsoft', 'HP', 'Samsung', 'Dell', 'Apple', 'Microsoft', 'HP', 'HP'],\n",
    "    'nome_vendedor': [ 'Kelvin', 'Kelvin', 'Nando', 'Nando', 'Nando', 'Thiago', 'Thiago', 'Paty', 'Thiago', 'Kelvin'],\n",
    "    'valor_venda': [round((i+3)*2000, 2) for i in randn(10)],\n",
    "    'valor_imposto': [round((i+3)*500, 2) for i in randn(10)],\n",
    "}\n"
   ],
   "metadata": {
    "collapsed": false
   }
  },
  {
   "cell_type": "code",
   "execution_count": 23,
   "outputs": [],
   "source": [
    "df01 = pd.DataFrame(dados1)\n",
    "df02 = pd.DataFrame(dados2)\n",
    "df03 = pd.DataFrame(dados_complemento1)"
   ],
   "metadata": {
    "collapsed": false
   }
  },
  {
   "cell_type": "code",
   "execution_count": 24,
   "outputs": [
    {
     "data": {
      "text/plain": "   reg_venda   empresas nome_vendedor  valor_venda  valor_imposto\n0         10     Google          José      3064.97        1215.71\n1          9      Apple         Maria      5011.81        2203.67\n2          8  Microsoft        Carlos      5674.93        1820.90\n3          7   Facebook          José      6971.62        1047.45\n4          6     Amazon         Maria      6784.98        1304.42\n5          5     Google        Carlos      6442.98        2014.15\n6          4      Apple          José      4289.61         513.70\n7          3  Microsoft         Maria      9083.98        1066.56\n8          2   Facebook        Carlos      7332.64        1860.39\n9          1     Amazon         Fabio      4923.53         888.46",
      "text/html": "<div>\n<style scoped>\n    .dataframe tbody tr th:only-of-type {\n        vertical-align: middle;\n    }\n\n    .dataframe tbody tr th {\n        vertical-align: top;\n    }\n\n    .dataframe thead th {\n        text-align: right;\n    }\n</style>\n<table border=\"1\" class=\"dataframe\">\n  <thead>\n    <tr style=\"text-align: right;\">\n      <th></th>\n      <th>reg_venda</th>\n      <th>empresas</th>\n      <th>nome_vendedor</th>\n      <th>valor_venda</th>\n      <th>valor_imposto</th>\n    </tr>\n  </thead>\n  <tbody>\n    <tr>\n      <th>0</th>\n      <td>10</td>\n      <td>Google</td>\n      <td>José</td>\n      <td>3064.97</td>\n      <td>1215.71</td>\n    </tr>\n    <tr>\n      <th>1</th>\n      <td>9</td>\n      <td>Apple</td>\n      <td>Maria</td>\n      <td>5011.81</td>\n      <td>2203.67</td>\n    </tr>\n    <tr>\n      <th>2</th>\n      <td>8</td>\n      <td>Microsoft</td>\n      <td>Carlos</td>\n      <td>5674.93</td>\n      <td>1820.90</td>\n    </tr>\n    <tr>\n      <th>3</th>\n      <td>7</td>\n      <td>Facebook</td>\n      <td>José</td>\n      <td>6971.62</td>\n      <td>1047.45</td>\n    </tr>\n    <tr>\n      <th>4</th>\n      <td>6</td>\n      <td>Amazon</td>\n      <td>Maria</td>\n      <td>6784.98</td>\n      <td>1304.42</td>\n    </tr>\n    <tr>\n      <th>5</th>\n      <td>5</td>\n      <td>Google</td>\n      <td>Carlos</td>\n      <td>6442.98</td>\n      <td>2014.15</td>\n    </tr>\n    <tr>\n      <th>6</th>\n      <td>4</td>\n      <td>Apple</td>\n      <td>José</td>\n      <td>4289.61</td>\n      <td>513.70</td>\n    </tr>\n    <tr>\n      <th>7</th>\n      <td>3</td>\n      <td>Microsoft</td>\n      <td>Maria</td>\n      <td>9083.98</td>\n      <td>1066.56</td>\n    </tr>\n    <tr>\n      <th>8</th>\n      <td>2</td>\n      <td>Facebook</td>\n      <td>Carlos</td>\n      <td>7332.64</td>\n      <td>1860.39</td>\n    </tr>\n    <tr>\n      <th>9</th>\n      <td>1</td>\n      <td>Amazon</td>\n      <td>Fabio</td>\n      <td>4923.53</td>\n      <td>888.46</td>\n    </tr>\n  </tbody>\n</table>\n</div>"
     },
     "execution_count": 24,
     "metadata": {},
     "output_type": "execute_result"
    }
   ],
   "source": [
    "df01"
   ],
   "metadata": {
    "collapsed": false
   }
  },
  {
   "cell_type": "code",
   "execution_count": 25,
   "outputs": [
    {
     "data": {
      "text/plain": "    empresas nome_vendedor  valor_venda  valor_imposto\n0    Samsung        Kelvin      7173.69        1864.51\n1       Dell        Kelvin      2757.30        1068.45\n2  Microsoft         Nando      7355.07        1652.82\n3         HP         Nando      6052.21        1621.59\n4    Samsung         Nando      2643.43        1932.08\n5       Dell        Thiago      6667.95         719.53\n6      Apple        Thiago      4935.06        1374.05\n7  Microsoft          Paty     10235.45        1210.94\n8         HP        Thiago      6395.05        1618.50\n9         HP        Kelvin     10605.97        1600.39",
      "text/html": "<div>\n<style scoped>\n    .dataframe tbody tr th:only-of-type {\n        vertical-align: middle;\n    }\n\n    .dataframe tbody tr th {\n        vertical-align: top;\n    }\n\n    .dataframe thead th {\n        text-align: right;\n    }\n</style>\n<table border=\"1\" class=\"dataframe\">\n  <thead>\n    <tr style=\"text-align: right;\">\n      <th></th>\n      <th>empresas</th>\n      <th>nome_vendedor</th>\n      <th>valor_venda</th>\n      <th>valor_imposto</th>\n    </tr>\n  </thead>\n  <tbody>\n    <tr>\n      <th>0</th>\n      <td>Samsung</td>\n      <td>Kelvin</td>\n      <td>7173.69</td>\n      <td>1864.51</td>\n    </tr>\n    <tr>\n      <th>1</th>\n      <td>Dell</td>\n      <td>Kelvin</td>\n      <td>2757.30</td>\n      <td>1068.45</td>\n    </tr>\n    <tr>\n      <th>2</th>\n      <td>Microsoft</td>\n      <td>Nando</td>\n      <td>7355.07</td>\n      <td>1652.82</td>\n    </tr>\n    <tr>\n      <th>3</th>\n      <td>HP</td>\n      <td>Nando</td>\n      <td>6052.21</td>\n      <td>1621.59</td>\n    </tr>\n    <tr>\n      <th>4</th>\n      <td>Samsung</td>\n      <td>Nando</td>\n      <td>2643.43</td>\n      <td>1932.08</td>\n    </tr>\n    <tr>\n      <th>5</th>\n      <td>Dell</td>\n      <td>Thiago</td>\n      <td>6667.95</td>\n      <td>719.53</td>\n    </tr>\n    <tr>\n      <th>6</th>\n      <td>Apple</td>\n      <td>Thiago</td>\n      <td>4935.06</td>\n      <td>1374.05</td>\n    </tr>\n    <tr>\n      <th>7</th>\n      <td>Microsoft</td>\n      <td>Paty</td>\n      <td>10235.45</td>\n      <td>1210.94</td>\n    </tr>\n    <tr>\n      <th>8</th>\n      <td>HP</td>\n      <td>Thiago</td>\n      <td>6395.05</td>\n      <td>1618.50</td>\n    </tr>\n    <tr>\n      <th>9</th>\n      <td>HP</td>\n      <td>Kelvin</td>\n      <td>10605.97</td>\n      <td>1600.39</td>\n    </tr>\n  </tbody>\n</table>\n</div>"
     },
     "execution_count": 25,
     "metadata": {},
     "output_type": "execute_result"
    }
   ],
   "source": [
    "df02"
   ],
   "metadata": {
    "collapsed": false
   }
  },
  {
   "cell_type": "code",
   "execution_count": 19,
   "outputs": [
    {
     "data": {
      "text/plain": "   reg_venda loja nome_gerente  itens_venda  valor_comissao\n0         10   l1         José          5.0          204.35\n1          9   l2         José          2.0          188.10\n2          8   l3         José          2.0          107.49\n3          7   l1         José          2.0          218.53\n4          6   l1        Maria          3.0          177.06\n5          5   l4       Carlos          3.0          214.65\n6          4   l2       Carlos          2.0          222.64\n7          3   l1       Carlos          3.0          146.26\n8          2   l3       Carlos          2.0          211.87\n9          1   l1       Carlos          3.0          128.30",
      "text/html": "<div>\n<style scoped>\n    .dataframe tbody tr th:only-of-type {\n        vertical-align: middle;\n    }\n\n    .dataframe tbody tr th {\n        vertical-align: top;\n    }\n\n    .dataframe thead th {\n        text-align: right;\n    }\n</style>\n<table border=\"1\" class=\"dataframe\">\n  <thead>\n    <tr style=\"text-align: right;\">\n      <th></th>\n      <th>reg_venda</th>\n      <th>loja</th>\n      <th>nome_gerente</th>\n      <th>itens_venda</th>\n      <th>valor_comissao</th>\n    </tr>\n  </thead>\n  <tbody>\n    <tr>\n      <th>0</th>\n      <td>10</td>\n      <td>l1</td>\n      <td>José</td>\n      <td>5.0</td>\n      <td>204.35</td>\n    </tr>\n    <tr>\n      <th>1</th>\n      <td>9</td>\n      <td>l2</td>\n      <td>José</td>\n      <td>2.0</td>\n      <td>188.10</td>\n    </tr>\n    <tr>\n      <th>2</th>\n      <td>8</td>\n      <td>l3</td>\n      <td>José</td>\n      <td>2.0</td>\n      <td>107.49</td>\n    </tr>\n    <tr>\n      <th>3</th>\n      <td>7</td>\n      <td>l1</td>\n      <td>José</td>\n      <td>2.0</td>\n      <td>218.53</td>\n    </tr>\n    <tr>\n      <th>4</th>\n      <td>6</td>\n      <td>l1</td>\n      <td>Maria</td>\n      <td>3.0</td>\n      <td>177.06</td>\n    </tr>\n    <tr>\n      <th>5</th>\n      <td>5</td>\n      <td>l4</td>\n      <td>Carlos</td>\n      <td>3.0</td>\n      <td>214.65</td>\n    </tr>\n    <tr>\n      <th>6</th>\n      <td>4</td>\n      <td>l2</td>\n      <td>Carlos</td>\n      <td>2.0</td>\n      <td>222.64</td>\n    </tr>\n    <tr>\n      <th>7</th>\n      <td>3</td>\n      <td>l1</td>\n      <td>Carlos</td>\n      <td>3.0</td>\n      <td>146.26</td>\n    </tr>\n    <tr>\n      <th>8</th>\n      <td>2</td>\n      <td>l3</td>\n      <td>Carlos</td>\n      <td>2.0</td>\n      <td>211.87</td>\n    </tr>\n    <tr>\n      <th>9</th>\n      <td>1</td>\n      <td>l1</td>\n      <td>Carlos</td>\n      <td>3.0</td>\n      <td>128.30</td>\n    </tr>\n  </tbody>\n</table>\n</div>"
     },
     "execution_count": 19,
     "metadata": {},
     "output_type": "execute_result"
    }
   ],
   "source": [
    "df03"
   ],
   "metadata": {
    "collapsed": false
   }
  },
  {
   "cell_type": "markdown",
   "source": [
    "### Concatenar Dataframes\n",
    "concat()"
   ],
   "metadata": {
    "collapsed": false
   }
  },
  {
   "cell_type": "code",
   "execution_count": 26,
   "outputs": [
    {
     "data": {
      "text/plain": "   reg_venda   empresas nome_vendedor  valor_venda  valor_imposto\n0       10.0     Google          José      3064.97        1215.71\n1        9.0      Apple         Maria      5011.81        2203.67\n2        8.0  Microsoft        Carlos      5674.93        1820.90\n3        7.0   Facebook          José      6971.62        1047.45\n4        6.0     Amazon         Maria      6784.98        1304.42\n5        5.0     Google        Carlos      6442.98        2014.15\n6        4.0      Apple          José      4289.61         513.70\n7        3.0  Microsoft         Maria      9083.98        1066.56\n8        2.0   Facebook        Carlos      7332.64        1860.39\n9        1.0     Amazon         Fabio      4923.53         888.46\n0        NaN    Samsung        Kelvin      7173.69        1864.51\n1        NaN       Dell        Kelvin      2757.30        1068.45\n2        NaN  Microsoft         Nando      7355.07        1652.82\n3        NaN         HP         Nando      6052.21        1621.59\n4        NaN    Samsung         Nando      2643.43        1932.08\n5        NaN       Dell        Thiago      6667.95         719.53\n6        NaN      Apple        Thiago      4935.06        1374.05\n7        NaN  Microsoft          Paty     10235.45        1210.94\n8        NaN         HP        Thiago      6395.05        1618.50\n9        NaN         HP        Kelvin     10605.97        1600.39",
      "text/html": "<div>\n<style scoped>\n    .dataframe tbody tr th:only-of-type {\n        vertical-align: middle;\n    }\n\n    .dataframe tbody tr th {\n        vertical-align: top;\n    }\n\n    .dataframe thead th {\n        text-align: right;\n    }\n</style>\n<table border=\"1\" class=\"dataframe\">\n  <thead>\n    <tr style=\"text-align: right;\">\n      <th></th>\n      <th>reg_venda</th>\n      <th>empresas</th>\n      <th>nome_vendedor</th>\n      <th>valor_venda</th>\n      <th>valor_imposto</th>\n    </tr>\n  </thead>\n  <tbody>\n    <tr>\n      <th>0</th>\n      <td>10.0</td>\n      <td>Google</td>\n      <td>José</td>\n      <td>3064.97</td>\n      <td>1215.71</td>\n    </tr>\n    <tr>\n      <th>1</th>\n      <td>9.0</td>\n      <td>Apple</td>\n      <td>Maria</td>\n      <td>5011.81</td>\n      <td>2203.67</td>\n    </tr>\n    <tr>\n      <th>2</th>\n      <td>8.0</td>\n      <td>Microsoft</td>\n      <td>Carlos</td>\n      <td>5674.93</td>\n      <td>1820.90</td>\n    </tr>\n    <tr>\n      <th>3</th>\n      <td>7.0</td>\n      <td>Facebook</td>\n      <td>José</td>\n      <td>6971.62</td>\n      <td>1047.45</td>\n    </tr>\n    <tr>\n      <th>4</th>\n      <td>6.0</td>\n      <td>Amazon</td>\n      <td>Maria</td>\n      <td>6784.98</td>\n      <td>1304.42</td>\n    </tr>\n    <tr>\n      <th>5</th>\n      <td>5.0</td>\n      <td>Google</td>\n      <td>Carlos</td>\n      <td>6442.98</td>\n      <td>2014.15</td>\n    </tr>\n    <tr>\n      <th>6</th>\n      <td>4.0</td>\n      <td>Apple</td>\n      <td>José</td>\n      <td>4289.61</td>\n      <td>513.70</td>\n    </tr>\n    <tr>\n      <th>7</th>\n      <td>3.0</td>\n      <td>Microsoft</td>\n      <td>Maria</td>\n      <td>9083.98</td>\n      <td>1066.56</td>\n    </tr>\n    <tr>\n      <th>8</th>\n      <td>2.0</td>\n      <td>Facebook</td>\n      <td>Carlos</td>\n      <td>7332.64</td>\n      <td>1860.39</td>\n    </tr>\n    <tr>\n      <th>9</th>\n      <td>1.0</td>\n      <td>Amazon</td>\n      <td>Fabio</td>\n      <td>4923.53</td>\n      <td>888.46</td>\n    </tr>\n    <tr>\n      <th>0</th>\n      <td>NaN</td>\n      <td>Samsung</td>\n      <td>Kelvin</td>\n      <td>7173.69</td>\n      <td>1864.51</td>\n    </tr>\n    <tr>\n      <th>1</th>\n      <td>NaN</td>\n      <td>Dell</td>\n      <td>Kelvin</td>\n      <td>2757.30</td>\n      <td>1068.45</td>\n    </tr>\n    <tr>\n      <th>2</th>\n      <td>NaN</td>\n      <td>Microsoft</td>\n      <td>Nando</td>\n      <td>7355.07</td>\n      <td>1652.82</td>\n    </tr>\n    <tr>\n      <th>3</th>\n      <td>NaN</td>\n      <td>HP</td>\n      <td>Nando</td>\n      <td>6052.21</td>\n      <td>1621.59</td>\n    </tr>\n    <tr>\n      <th>4</th>\n      <td>NaN</td>\n      <td>Samsung</td>\n      <td>Nando</td>\n      <td>2643.43</td>\n      <td>1932.08</td>\n    </tr>\n    <tr>\n      <th>5</th>\n      <td>NaN</td>\n      <td>Dell</td>\n      <td>Thiago</td>\n      <td>6667.95</td>\n      <td>719.53</td>\n    </tr>\n    <tr>\n      <th>6</th>\n      <td>NaN</td>\n      <td>Apple</td>\n      <td>Thiago</td>\n      <td>4935.06</td>\n      <td>1374.05</td>\n    </tr>\n    <tr>\n      <th>7</th>\n      <td>NaN</td>\n      <td>Microsoft</td>\n      <td>Paty</td>\n      <td>10235.45</td>\n      <td>1210.94</td>\n    </tr>\n    <tr>\n      <th>8</th>\n      <td>NaN</td>\n      <td>HP</td>\n      <td>Thiago</td>\n      <td>6395.05</td>\n      <td>1618.50</td>\n    </tr>\n    <tr>\n      <th>9</th>\n      <td>NaN</td>\n      <td>HP</td>\n      <td>Kelvin</td>\n      <td>10605.97</td>\n      <td>1600.39</td>\n    </tr>\n  </tbody>\n</table>\n</div>"
     },
     "execution_count": 26,
     "metadata": {},
     "output_type": "execute_result"
    }
   ],
   "source": [
    "df_concat_01 = pd.concat([df01, df02])\n",
    "df_concat_01\n",
    "# Usa os nomes das colunas para alinhar dos dados\n",
    "# Não esqueça de resetar o index, caso não tenha criado com index\n",
    "# Se o index não bater será preenchido com NaN"
   ],
   "metadata": {
    "collapsed": false
   }
  },
  {
   "cell_type": "code",
   "execution_count": 27,
   "outputs": [
    {
     "data": {
      "text/plain": "   reg_venda   empresas nome_vendedor  valor_venda  valor_imposto   empresas  \\\n0         10     Google          José      3064.97        1215.71    Samsung   \n1          9      Apple         Maria      5011.81        2203.67       Dell   \n2          8  Microsoft        Carlos      5674.93        1820.90  Microsoft   \n3          7   Facebook          José      6971.62        1047.45         HP   \n4          6     Amazon         Maria      6784.98        1304.42    Samsung   \n5          5     Google        Carlos      6442.98        2014.15       Dell   \n6          4      Apple          José      4289.61         513.70      Apple   \n7          3  Microsoft         Maria      9083.98        1066.56  Microsoft   \n8          2   Facebook        Carlos      7332.64        1860.39         HP   \n9          1     Amazon         Fabio      4923.53         888.46         HP   \n\n  nome_vendedor  valor_venda  valor_imposto  \n0        Kelvin      7173.69        1864.51  \n1        Kelvin      2757.30        1068.45  \n2         Nando      7355.07        1652.82  \n3         Nando      6052.21        1621.59  \n4         Nando      2643.43        1932.08  \n5        Thiago      6667.95         719.53  \n6        Thiago      4935.06        1374.05  \n7          Paty     10235.45        1210.94  \n8        Thiago      6395.05        1618.50  \n9        Kelvin     10605.97        1600.39  ",
      "text/html": "<div>\n<style scoped>\n    .dataframe tbody tr th:only-of-type {\n        vertical-align: middle;\n    }\n\n    .dataframe tbody tr th {\n        vertical-align: top;\n    }\n\n    .dataframe thead th {\n        text-align: right;\n    }\n</style>\n<table border=\"1\" class=\"dataframe\">\n  <thead>\n    <tr style=\"text-align: right;\">\n      <th></th>\n      <th>reg_venda</th>\n      <th>empresas</th>\n      <th>nome_vendedor</th>\n      <th>valor_venda</th>\n      <th>valor_imposto</th>\n      <th>empresas</th>\n      <th>nome_vendedor</th>\n      <th>valor_venda</th>\n      <th>valor_imposto</th>\n    </tr>\n  </thead>\n  <tbody>\n    <tr>\n      <th>0</th>\n      <td>10</td>\n      <td>Google</td>\n      <td>José</td>\n      <td>3064.97</td>\n      <td>1215.71</td>\n      <td>Samsung</td>\n      <td>Kelvin</td>\n      <td>7173.69</td>\n      <td>1864.51</td>\n    </tr>\n    <tr>\n      <th>1</th>\n      <td>9</td>\n      <td>Apple</td>\n      <td>Maria</td>\n      <td>5011.81</td>\n      <td>2203.67</td>\n      <td>Dell</td>\n      <td>Kelvin</td>\n      <td>2757.30</td>\n      <td>1068.45</td>\n    </tr>\n    <tr>\n      <th>2</th>\n      <td>8</td>\n      <td>Microsoft</td>\n      <td>Carlos</td>\n      <td>5674.93</td>\n      <td>1820.90</td>\n      <td>Microsoft</td>\n      <td>Nando</td>\n      <td>7355.07</td>\n      <td>1652.82</td>\n    </tr>\n    <tr>\n      <th>3</th>\n      <td>7</td>\n      <td>Facebook</td>\n      <td>José</td>\n      <td>6971.62</td>\n      <td>1047.45</td>\n      <td>HP</td>\n      <td>Nando</td>\n      <td>6052.21</td>\n      <td>1621.59</td>\n    </tr>\n    <tr>\n      <th>4</th>\n      <td>6</td>\n      <td>Amazon</td>\n      <td>Maria</td>\n      <td>6784.98</td>\n      <td>1304.42</td>\n      <td>Samsung</td>\n      <td>Nando</td>\n      <td>2643.43</td>\n      <td>1932.08</td>\n    </tr>\n    <tr>\n      <th>5</th>\n      <td>5</td>\n      <td>Google</td>\n      <td>Carlos</td>\n      <td>6442.98</td>\n      <td>2014.15</td>\n      <td>Dell</td>\n      <td>Thiago</td>\n      <td>6667.95</td>\n      <td>719.53</td>\n    </tr>\n    <tr>\n      <th>6</th>\n      <td>4</td>\n      <td>Apple</td>\n      <td>José</td>\n      <td>4289.61</td>\n      <td>513.70</td>\n      <td>Apple</td>\n      <td>Thiago</td>\n      <td>4935.06</td>\n      <td>1374.05</td>\n    </tr>\n    <tr>\n      <th>7</th>\n      <td>3</td>\n      <td>Microsoft</td>\n      <td>Maria</td>\n      <td>9083.98</td>\n      <td>1066.56</td>\n      <td>Microsoft</td>\n      <td>Paty</td>\n      <td>10235.45</td>\n      <td>1210.94</td>\n    </tr>\n    <tr>\n      <th>8</th>\n      <td>2</td>\n      <td>Facebook</td>\n      <td>Carlos</td>\n      <td>7332.64</td>\n      <td>1860.39</td>\n      <td>HP</td>\n      <td>Thiago</td>\n      <td>6395.05</td>\n      <td>1618.50</td>\n    </tr>\n    <tr>\n      <th>9</th>\n      <td>1</td>\n      <td>Amazon</td>\n      <td>Fabio</td>\n      <td>4923.53</td>\n      <td>888.46</td>\n      <td>HP</td>\n      <td>Kelvin</td>\n      <td>10605.97</td>\n      <td>1600.39</td>\n    </tr>\n  </tbody>\n</table>\n</div>"
     },
     "execution_count": 27,
     "metadata": {},
     "output_type": "execute_result"
    }
   ],
   "source": [
    "df_concat_02 = pd.concat([df01, df02], axis=1)\n",
    "df_concat_02\n",
    "# Funciona por conta do INDEX\n",
    "# Se o index não bater será preenchido com NaN"
   ],
   "metadata": {
    "collapsed": false
   }
  },
  {
   "cell_type": "markdown",
   "source": [
    "### Mesclar DF\n",
    "merge()"
   ],
   "metadata": {
    "collapsed": false
   }
  },
  {
   "cell_type": "code",
   "execution_count": 29,
   "outputs": [
    {
     "data": {
      "text/plain": "   reg_venda   empresas nome_vendedor  valor_venda  valor_imposto loja  \\\n0         10     Google          José      3064.97        1215.71   l1   \n1          9      Apple         Maria      5011.81        2203.67   l2   \n2          8  Microsoft        Carlos      5674.93        1820.90   l3   \n3          7   Facebook          José      6971.62        1047.45   l1   \n4          6     Amazon         Maria      6784.98        1304.42   l1   \n5          5     Google        Carlos      6442.98        2014.15   l4   \n6          4      Apple          José      4289.61         513.70   l2   \n7          3  Microsoft         Maria      9083.98        1066.56   l1   \n8          2   Facebook        Carlos      7332.64        1860.39   l3   \n9          1     Amazon         Fabio      4923.53         888.46   l1   \n\n  nome_gerente  itens_venda  valor_comissao  \n0         José          5.0          204.35  \n1         José          2.0          188.10  \n2         José          2.0          107.49  \n3         José          2.0          218.53  \n4        Maria          3.0          177.06  \n5       Carlos          3.0          214.65  \n6       Carlos          2.0          222.64  \n7       Carlos          3.0          146.26  \n8       Carlos          2.0          211.87  \n9       Carlos          3.0          128.30  ",
      "text/html": "<div>\n<style scoped>\n    .dataframe tbody tr th:only-of-type {\n        vertical-align: middle;\n    }\n\n    .dataframe tbody tr th {\n        vertical-align: top;\n    }\n\n    .dataframe thead th {\n        text-align: right;\n    }\n</style>\n<table border=\"1\" class=\"dataframe\">\n  <thead>\n    <tr style=\"text-align: right;\">\n      <th></th>\n      <th>reg_venda</th>\n      <th>empresas</th>\n      <th>nome_vendedor</th>\n      <th>valor_venda</th>\n      <th>valor_imposto</th>\n      <th>loja</th>\n      <th>nome_gerente</th>\n      <th>itens_venda</th>\n      <th>valor_comissao</th>\n    </tr>\n  </thead>\n  <tbody>\n    <tr>\n      <th>0</th>\n      <td>10</td>\n      <td>Google</td>\n      <td>José</td>\n      <td>3064.97</td>\n      <td>1215.71</td>\n      <td>l1</td>\n      <td>José</td>\n      <td>5.0</td>\n      <td>204.35</td>\n    </tr>\n    <tr>\n      <th>1</th>\n      <td>9</td>\n      <td>Apple</td>\n      <td>Maria</td>\n      <td>5011.81</td>\n      <td>2203.67</td>\n      <td>l2</td>\n      <td>José</td>\n      <td>2.0</td>\n      <td>188.10</td>\n    </tr>\n    <tr>\n      <th>2</th>\n      <td>8</td>\n      <td>Microsoft</td>\n      <td>Carlos</td>\n      <td>5674.93</td>\n      <td>1820.90</td>\n      <td>l3</td>\n      <td>José</td>\n      <td>2.0</td>\n      <td>107.49</td>\n    </tr>\n    <tr>\n      <th>3</th>\n      <td>7</td>\n      <td>Facebook</td>\n      <td>José</td>\n      <td>6971.62</td>\n      <td>1047.45</td>\n      <td>l1</td>\n      <td>José</td>\n      <td>2.0</td>\n      <td>218.53</td>\n    </tr>\n    <tr>\n      <th>4</th>\n      <td>6</td>\n      <td>Amazon</td>\n      <td>Maria</td>\n      <td>6784.98</td>\n      <td>1304.42</td>\n      <td>l1</td>\n      <td>Maria</td>\n      <td>3.0</td>\n      <td>177.06</td>\n    </tr>\n    <tr>\n      <th>5</th>\n      <td>5</td>\n      <td>Google</td>\n      <td>Carlos</td>\n      <td>6442.98</td>\n      <td>2014.15</td>\n      <td>l4</td>\n      <td>Carlos</td>\n      <td>3.0</td>\n      <td>214.65</td>\n    </tr>\n    <tr>\n      <th>6</th>\n      <td>4</td>\n      <td>Apple</td>\n      <td>José</td>\n      <td>4289.61</td>\n      <td>513.70</td>\n      <td>l2</td>\n      <td>Carlos</td>\n      <td>2.0</td>\n      <td>222.64</td>\n    </tr>\n    <tr>\n      <th>7</th>\n      <td>3</td>\n      <td>Microsoft</td>\n      <td>Maria</td>\n      <td>9083.98</td>\n      <td>1066.56</td>\n      <td>l1</td>\n      <td>Carlos</td>\n      <td>3.0</td>\n      <td>146.26</td>\n    </tr>\n    <tr>\n      <th>8</th>\n      <td>2</td>\n      <td>Facebook</td>\n      <td>Carlos</td>\n      <td>7332.64</td>\n      <td>1860.39</td>\n      <td>l3</td>\n      <td>Carlos</td>\n      <td>2.0</td>\n      <td>211.87</td>\n    </tr>\n    <tr>\n      <th>9</th>\n      <td>1</td>\n      <td>Amazon</td>\n      <td>Fabio</td>\n      <td>4923.53</td>\n      <td>888.46</td>\n      <td>l1</td>\n      <td>Carlos</td>\n      <td>3.0</td>\n      <td>128.30</td>\n    </tr>\n  </tbody>\n</table>\n</div>"
     },
     "execution_count": 29,
     "metadata": {},
     "output_type": "execute_result"
    }
   ],
   "source": [
    "df_merge_01 = pd.merge(df01, df03, on=['reg_venda', 'reg_venda'])\n",
    "df_merge_01\n",
    "\n",
    "# Mesclar de forma direta onde o valor é exatamente o mesmo entre as chaves"
   ],
   "metadata": {
    "collapsed": false
   }
  },
  {
   "cell_type": "code",
   "execution_count": 31,
   "outputs": [],
   "source": [
    "dados_complemento2 = {\n",
    "    'reg_venda': [i for i in range(10,1,-1)],\n",
    "    'loja': ['l1', 'l2', 'l3', 'l1', 'l1', 'l4', 'l2', 'l1', 'l3'],\n",
    "    'nome_gerente': [ 'José', 'José', 'José', 'José', 'Maria', 'Carlos', 'Carlos', 'Carlos', 'Carlos'],\n",
    "    'itens_venda': [round((i+3), 0) for i in randn(9)],\n",
    "    'valor_comissao': [round((i+3)*56, 2) for i in randn(9)],\n",
    "}\n",
    "df04 = pd.DataFrame(dados_complemento2)"
   ],
   "metadata": {
    "collapsed": false
   }
  },
  {
   "cell_type": "code",
   "execution_count": 32,
   "outputs": [
    {
     "data": {
      "text/plain": "   reg_venda   empresas nome_vendedor  valor_venda  valor_imposto loja  \\\n0         10     Google          José      3064.97        1215.71   l1   \n1          9      Apple         Maria      5011.81        2203.67   l2   \n2          8  Microsoft        Carlos      5674.93        1820.90   l3   \n3          7   Facebook          José      6971.62        1047.45   l1   \n4          6     Amazon         Maria      6784.98        1304.42   l1   \n5          5     Google        Carlos      6442.98        2014.15   l4   \n6          4      Apple          José      4289.61         513.70   l2   \n7          3  Microsoft         Maria      9083.98        1066.56   l1   \n8          2   Facebook        Carlos      7332.64        1860.39   l3   \n\n  nome_gerente  itens_venda  valor_comissao  \n0         José          3.0          253.26  \n1         José          3.0          177.97  \n2         José          3.0          132.90  \n3         José          4.0          146.10  \n4        Maria          2.0          265.63  \n5       Carlos          1.0          231.28  \n6       Carlos          3.0          218.28  \n7       Carlos          1.0          186.53  \n8       Carlos          0.0          108.47  ",
      "text/html": "<div>\n<style scoped>\n    .dataframe tbody tr th:only-of-type {\n        vertical-align: middle;\n    }\n\n    .dataframe tbody tr th {\n        vertical-align: top;\n    }\n\n    .dataframe thead th {\n        text-align: right;\n    }\n</style>\n<table border=\"1\" class=\"dataframe\">\n  <thead>\n    <tr style=\"text-align: right;\">\n      <th></th>\n      <th>reg_venda</th>\n      <th>empresas</th>\n      <th>nome_vendedor</th>\n      <th>valor_venda</th>\n      <th>valor_imposto</th>\n      <th>loja</th>\n      <th>nome_gerente</th>\n      <th>itens_venda</th>\n      <th>valor_comissao</th>\n    </tr>\n  </thead>\n  <tbody>\n    <tr>\n      <th>0</th>\n      <td>10</td>\n      <td>Google</td>\n      <td>José</td>\n      <td>3064.97</td>\n      <td>1215.71</td>\n      <td>l1</td>\n      <td>José</td>\n      <td>3.0</td>\n      <td>253.26</td>\n    </tr>\n    <tr>\n      <th>1</th>\n      <td>9</td>\n      <td>Apple</td>\n      <td>Maria</td>\n      <td>5011.81</td>\n      <td>2203.67</td>\n      <td>l2</td>\n      <td>José</td>\n      <td>3.0</td>\n      <td>177.97</td>\n    </tr>\n    <tr>\n      <th>2</th>\n      <td>8</td>\n      <td>Microsoft</td>\n      <td>Carlos</td>\n      <td>5674.93</td>\n      <td>1820.90</td>\n      <td>l3</td>\n      <td>José</td>\n      <td>3.0</td>\n      <td>132.90</td>\n    </tr>\n    <tr>\n      <th>3</th>\n      <td>7</td>\n      <td>Facebook</td>\n      <td>José</td>\n      <td>6971.62</td>\n      <td>1047.45</td>\n      <td>l1</td>\n      <td>José</td>\n      <td>4.0</td>\n      <td>146.10</td>\n    </tr>\n    <tr>\n      <th>4</th>\n      <td>6</td>\n      <td>Amazon</td>\n      <td>Maria</td>\n      <td>6784.98</td>\n      <td>1304.42</td>\n      <td>l1</td>\n      <td>Maria</td>\n      <td>2.0</td>\n      <td>265.63</td>\n    </tr>\n    <tr>\n      <th>5</th>\n      <td>5</td>\n      <td>Google</td>\n      <td>Carlos</td>\n      <td>6442.98</td>\n      <td>2014.15</td>\n      <td>l4</td>\n      <td>Carlos</td>\n      <td>1.0</td>\n      <td>231.28</td>\n    </tr>\n    <tr>\n      <th>6</th>\n      <td>4</td>\n      <td>Apple</td>\n      <td>José</td>\n      <td>4289.61</td>\n      <td>513.70</td>\n      <td>l2</td>\n      <td>Carlos</td>\n      <td>3.0</td>\n      <td>218.28</td>\n    </tr>\n    <tr>\n      <th>7</th>\n      <td>3</td>\n      <td>Microsoft</td>\n      <td>Maria</td>\n      <td>9083.98</td>\n      <td>1066.56</td>\n      <td>l1</td>\n      <td>Carlos</td>\n      <td>1.0</td>\n      <td>186.53</td>\n    </tr>\n    <tr>\n      <th>8</th>\n      <td>2</td>\n      <td>Facebook</td>\n      <td>Carlos</td>\n      <td>7332.64</td>\n      <td>1860.39</td>\n      <td>l3</td>\n      <td>Carlos</td>\n      <td>0.0</td>\n      <td>108.47</td>\n    </tr>\n  </tbody>\n</table>\n</div>"
     },
     "execution_count": 32,
     "metadata": {},
     "output_type": "execute_result"
    }
   ],
   "source": [
    "df_merge_02 = pd.merge(df01, df04, on=['reg_venda', 'reg_venda'])\n",
    "df_merge_02\n",
    "\n",
    "#Default"
   ],
   "metadata": {
    "collapsed": false
   }
  },
  {
   "cell_type": "code",
   "execution_count": 33,
   "outputs": [
    {
     "data": {
      "text/plain": "   reg_venda   empresas nome_vendedor  valor_venda  valor_imposto loja  \\\n0         10     Google          José      3064.97        1215.71   l1   \n1          9      Apple         Maria      5011.81        2203.67   l2   \n2          8  Microsoft        Carlos      5674.93        1820.90   l3   \n3          7   Facebook          José      6971.62        1047.45   l1   \n4          6     Amazon         Maria      6784.98        1304.42   l1   \n5          5     Google        Carlos      6442.98        2014.15   l4   \n6          4      Apple          José      4289.61         513.70   l2   \n7          3  Microsoft         Maria      9083.98        1066.56   l1   \n8          2   Facebook        Carlos      7332.64        1860.39   l3   \n\n  nome_gerente  itens_venda  valor_comissao  \n0         José          3.0          253.26  \n1         José          3.0          177.97  \n2         José          3.0          132.90  \n3         José          4.0          146.10  \n4        Maria          2.0          265.63  \n5       Carlos          1.0          231.28  \n6       Carlos          3.0          218.28  \n7       Carlos          1.0          186.53  \n8       Carlos          0.0          108.47  ",
      "text/html": "<div>\n<style scoped>\n    .dataframe tbody tr th:only-of-type {\n        vertical-align: middle;\n    }\n\n    .dataframe tbody tr th {\n        vertical-align: top;\n    }\n\n    .dataframe thead th {\n        text-align: right;\n    }\n</style>\n<table border=\"1\" class=\"dataframe\">\n  <thead>\n    <tr style=\"text-align: right;\">\n      <th></th>\n      <th>reg_venda</th>\n      <th>empresas</th>\n      <th>nome_vendedor</th>\n      <th>valor_venda</th>\n      <th>valor_imposto</th>\n      <th>loja</th>\n      <th>nome_gerente</th>\n      <th>itens_venda</th>\n      <th>valor_comissao</th>\n    </tr>\n  </thead>\n  <tbody>\n    <tr>\n      <th>0</th>\n      <td>10</td>\n      <td>Google</td>\n      <td>José</td>\n      <td>3064.97</td>\n      <td>1215.71</td>\n      <td>l1</td>\n      <td>José</td>\n      <td>3.0</td>\n      <td>253.26</td>\n    </tr>\n    <tr>\n      <th>1</th>\n      <td>9</td>\n      <td>Apple</td>\n      <td>Maria</td>\n      <td>5011.81</td>\n      <td>2203.67</td>\n      <td>l2</td>\n      <td>José</td>\n      <td>3.0</td>\n      <td>177.97</td>\n    </tr>\n    <tr>\n      <th>2</th>\n      <td>8</td>\n      <td>Microsoft</td>\n      <td>Carlos</td>\n      <td>5674.93</td>\n      <td>1820.90</td>\n      <td>l3</td>\n      <td>José</td>\n      <td>3.0</td>\n      <td>132.90</td>\n    </tr>\n    <tr>\n      <th>3</th>\n      <td>7</td>\n      <td>Facebook</td>\n      <td>José</td>\n      <td>6971.62</td>\n      <td>1047.45</td>\n      <td>l1</td>\n      <td>José</td>\n      <td>4.0</td>\n      <td>146.10</td>\n    </tr>\n    <tr>\n      <th>4</th>\n      <td>6</td>\n      <td>Amazon</td>\n      <td>Maria</td>\n      <td>6784.98</td>\n      <td>1304.42</td>\n      <td>l1</td>\n      <td>Maria</td>\n      <td>2.0</td>\n      <td>265.63</td>\n    </tr>\n    <tr>\n      <th>5</th>\n      <td>5</td>\n      <td>Google</td>\n      <td>Carlos</td>\n      <td>6442.98</td>\n      <td>2014.15</td>\n      <td>l4</td>\n      <td>Carlos</td>\n      <td>1.0</td>\n      <td>231.28</td>\n    </tr>\n    <tr>\n      <th>6</th>\n      <td>4</td>\n      <td>Apple</td>\n      <td>José</td>\n      <td>4289.61</td>\n      <td>513.70</td>\n      <td>l2</td>\n      <td>Carlos</td>\n      <td>3.0</td>\n      <td>218.28</td>\n    </tr>\n    <tr>\n      <th>7</th>\n      <td>3</td>\n      <td>Microsoft</td>\n      <td>Maria</td>\n      <td>9083.98</td>\n      <td>1066.56</td>\n      <td>l1</td>\n      <td>Carlos</td>\n      <td>1.0</td>\n      <td>186.53</td>\n    </tr>\n    <tr>\n      <th>8</th>\n      <td>2</td>\n      <td>Facebook</td>\n      <td>Carlos</td>\n      <td>7332.64</td>\n      <td>1860.39</td>\n      <td>l3</td>\n      <td>Carlos</td>\n      <td>0.0</td>\n      <td>108.47</td>\n    </tr>\n  </tbody>\n</table>\n</div>"
     },
     "execution_count": 33,
     "metadata": {},
     "output_type": "execute_result"
    }
   ],
   "source": [
    "df_merge_02 = pd.merge(df01, df04, on=['reg_venda', 'reg_venda'], how='inner')\n",
    "df_merge_02\n",
    "\n",
    "# inner"
   ],
   "metadata": {
    "collapsed": false
   }
  },
  {
   "cell_type": "code",
   "execution_count": 34,
   "outputs": [
    {
     "data": {
      "text/plain": "   reg_venda   empresas nome_vendedor  valor_venda  valor_imposto loja  \\\n0         10     Google          José      3064.97        1215.71   l1   \n1          9      Apple         Maria      5011.81        2203.67   l2   \n2          8  Microsoft        Carlos      5674.93        1820.90   l3   \n3          7   Facebook          José      6971.62        1047.45   l1   \n4          6     Amazon         Maria      6784.98        1304.42   l1   \n5          5     Google        Carlos      6442.98        2014.15   l4   \n6          4      Apple          José      4289.61         513.70   l2   \n7          3  Microsoft         Maria      9083.98        1066.56   l1   \n8          2   Facebook        Carlos      7332.64        1860.39   l3   \n9          1     Amazon         Fabio      4923.53         888.46  NaN   \n\n  nome_gerente  itens_venda  valor_comissao  \n0         José          3.0          253.26  \n1         José          3.0          177.97  \n2         José          3.0          132.90  \n3         José          4.0          146.10  \n4        Maria          2.0          265.63  \n5       Carlos          1.0          231.28  \n6       Carlos          3.0          218.28  \n7       Carlos          1.0          186.53  \n8       Carlos          0.0          108.47  \n9          NaN          NaN             NaN  ",
      "text/html": "<div>\n<style scoped>\n    .dataframe tbody tr th:only-of-type {\n        vertical-align: middle;\n    }\n\n    .dataframe tbody tr th {\n        vertical-align: top;\n    }\n\n    .dataframe thead th {\n        text-align: right;\n    }\n</style>\n<table border=\"1\" class=\"dataframe\">\n  <thead>\n    <tr style=\"text-align: right;\">\n      <th></th>\n      <th>reg_venda</th>\n      <th>empresas</th>\n      <th>nome_vendedor</th>\n      <th>valor_venda</th>\n      <th>valor_imposto</th>\n      <th>loja</th>\n      <th>nome_gerente</th>\n      <th>itens_venda</th>\n      <th>valor_comissao</th>\n    </tr>\n  </thead>\n  <tbody>\n    <tr>\n      <th>0</th>\n      <td>10</td>\n      <td>Google</td>\n      <td>José</td>\n      <td>3064.97</td>\n      <td>1215.71</td>\n      <td>l1</td>\n      <td>José</td>\n      <td>3.0</td>\n      <td>253.26</td>\n    </tr>\n    <tr>\n      <th>1</th>\n      <td>9</td>\n      <td>Apple</td>\n      <td>Maria</td>\n      <td>5011.81</td>\n      <td>2203.67</td>\n      <td>l2</td>\n      <td>José</td>\n      <td>3.0</td>\n      <td>177.97</td>\n    </tr>\n    <tr>\n      <th>2</th>\n      <td>8</td>\n      <td>Microsoft</td>\n      <td>Carlos</td>\n      <td>5674.93</td>\n      <td>1820.90</td>\n      <td>l3</td>\n      <td>José</td>\n      <td>3.0</td>\n      <td>132.90</td>\n    </tr>\n    <tr>\n      <th>3</th>\n      <td>7</td>\n      <td>Facebook</td>\n      <td>José</td>\n      <td>6971.62</td>\n      <td>1047.45</td>\n      <td>l1</td>\n      <td>José</td>\n      <td>4.0</td>\n      <td>146.10</td>\n    </tr>\n    <tr>\n      <th>4</th>\n      <td>6</td>\n      <td>Amazon</td>\n      <td>Maria</td>\n      <td>6784.98</td>\n      <td>1304.42</td>\n      <td>l1</td>\n      <td>Maria</td>\n      <td>2.0</td>\n      <td>265.63</td>\n    </tr>\n    <tr>\n      <th>5</th>\n      <td>5</td>\n      <td>Google</td>\n      <td>Carlos</td>\n      <td>6442.98</td>\n      <td>2014.15</td>\n      <td>l4</td>\n      <td>Carlos</td>\n      <td>1.0</td>\n      <td>231.28</td>\n    </tr>\n    <tr>\n      <th>6</th>\n      <td>4</td>\n      <td>Apple</td>\n      <td>José</td>\n      <td>4289.61</td>\n      <td>513.70</td>\n      <td>l2</td>\n      <td>Carlos</td>\n      <td>3.0</td>\n      <td>218.28</td>\n    </tr>\n    <tr>\n      <th>7</th>\n      <td>3</td>\n      <td>Microsoft</td>\n      <td>Maria</td>\n      <td>9083.98</td>\n      <td>1066.56</td>\n      <td>l1</td>\n      <td>Carlos</td>\n      <td>1.0</td>\n      <td>186.53</td>\n    </tr>\n    <tr>\n      <th>8</th>\n      <td>2</td>\n      <td>Facebook</td>\n      <td>Carlos</td>\n      <td>7332.64</td>\n      <td>1860.39</td>\n      <td>l3</td>\n      <td>Carlos</td>\n      <td>0.0</td>\n      <td>108.47</td>\n    </tr>\n    <tr>\n      <th>9</th>\n      <td>1</td>\n      <td>Amazon</td>\n      <td>Fabio</td>\n      <td>4923.53</td>\n      <td>888.46</td>\n      <td>NaN</td>\n      <td>NaN</td>\n      <td>NaN</td>\n      <td>NaN</td>\n    </tr>\n  </tbody>\n</table>\n</div>"
     },
     "execution_count": 34,
     "metadata": {},
     "output_type": "execute_result"
    }
   ],
   "source": [
    "df_merge_02 = pd.merge(df01, df04, on=['reg_venda', 'reg_venda'], how='outer')\n",
    "df_merge_02\n",
    "\n",
    "# outer"
   ],
   "metadata": {
    "collapsed": false
   }
  },
  {
   "cell_type": "code",
   "execution_count": 35,
   "outputs": [
    {
     "data": {
      "text/plain": "   reg_venda   empresas nome_vendedor  valor_venda  valor_imposto loja  \\\n0         10     Google          José      3064.97        1215.71   l1   \n1          9      Apple         Maria      5011.81        2203.67   l2   \n2          8  Microsoft        Carlos      5674.93        1820.90   l3   \n3          7   Facebook          José      6971.62        1047.45   l1   \n4          6     Amazon         Maria      6784.98        1304.42   l1   \n5          5     Google        Carlos      6442.98        2014.15   l4   \n6          4      Apple          José      4289.61         513.70   l2   \n7          3  Microsoft         Maria      9083.98        1066.56   l1   \n8          2   Facebook        Carlos      7332.64        1860.39   l3   \n9          1     Amazon         Fabio      4923.53         888.46  NaN   \n\n  nome_gerente  itens_venda  valor_comissao  \n0         José          3.0          253.26  \n1         José          3.0          177.97  \n2         José          3.0          132.90  \n3         José          4.0          146.10  \n4        Maria          2.0          265.63  \n5       Carlos          1.0          231.28  \n6       Carlos          3.0          218.28  \n7       Carlos          1.0          186.53  \n8       Carlos          0.0          108.47  \n9          NaN          NaN             NaN  ",
      "text/html": "<div>\n<style scoped>\n    .dataframe tbody tr th:only-of-type {\n        vertical-align: middle;\n    }\n\n    .dataframe tbody tr th {\n        vertical-align: top;\n    }\n\n    .dataframe thead th {\n        text-align: right;\n    }\n</style>\n<table border=\"1\" class=\"dataframe\">\n  <thead>\n    <tr style=\"text-align: right;\">\n      <th></th>\n      <th>reg_venda</th>\n      <th>empresas</th>\n      <th>nome_vendedor</th>\n      <th>valor_venda</th>\n      <th>valor_imposto</th>\n      <th>loja</th>\n      <th>nome_gerente</th>\n      <th>itens_venda</th>\n      <th>valor_comissao</th>\n    </tr>\n  </thead>\n  <tbody>\n    <tr>\n      <th>0</th>\n      <td>10</td>\n      <td>Google</td>\n      <td>José</td>\n      <td>3064.97</td>\n      <td>1215.71</td>\n      <td>l1</td>\n      <td>José</td>\n      <td>3.0</td>\n      <td>253.26</td>\n    </tr>\n    <tr>\n      <th>1</th>\n      <td>9</td>\n      <td>Apple</td>\n      <td>Maria</td>\n      <td>5011.81</td>\n      <td>2203.67</td>\n      <td>l2</td>\n      <td>José</td>\n      <td>3.0</td>\n      <td>177.97</td>\n    </tr>\n    <tr>\n      <th>2</th>\n      <td>8</td>\n      <td>Microsoft</td>\n      <td>Carlos</td>\n      <td>5674.93</td>\n      <td>1820.90</td>\n      <td>l3</td>\n      <td>José</td>\n      <td>3.0</td>\n      <td>132.90</td>\n    </tr>\n    <tr>\n      <th>3</th>\n      <td>7</td>\n      <td>Facebook</td>\n      <td>José</td>\n      <td>6971.62</td>\n      <td>1047.45</td>\n      <td>l1</td>\n      <td>José</td>\n      <td>4.0</td>\n      <td>146.10</td>\n    </tr>\n    <tr>\n      <th>4</th>\n      <td>6</td>\n      <td>Amazon</td>\n      <td>Maria</td>\n      <td>6784.98</td>\n      <td>1304.42</td>\n      <td>l1</td>\n      <td>Maria</td>\n      <td>2.0</td>\n      <td>265.63</td>\n    </tr>\n    <tr>\n      <th>5</th>\n      <td>5</td>\n      <td>Google</td>\n      <td>Carlos</td>\n      <td>6442.98</td>\n      <td>2014.15</td>\n      <td>l4</td>\n      <td>Carlos</td>\n      <td>1.0</td>\n      <td>231.28</td>\n    </tr>\n    <tr>\n      <th>6</th>\n      <td>4</td>\n      <td>Apple</td>\n      <td>José</td>\n      <td>4289.61</td>\n      <td>513.70</td>\n      <td>l2</td>\n      <td>Carlos</td>\n      <td>3.0</td>\n      <td>218.28</td>\n    </tr>\n    <tr>\n      <th>7</th>\n      <td>3</td>\n      <td>Microsoft</td>\n      <td>Maria</td>\n      <td>9083.98</td>\n      <td>1066.56</td>\n      <td>l1</td>\n      <td>Carlos</td>\n      <td>1.0</td>\n      <td>186.53</td>\n    </tr>\n    <tr>\n      <th>8</th>\n      <td>2</td>\n      <td>Facebook</td>\n      <td>Carlos</td>\n      <td>7332.64</td>\n      <td>1860.39</td>\n      <td>l3</td>\n      <td>Carlos</td>\n      <td>0.0</td>\n      <td>108.47</td>\n    </tr>\n    <tr>\n      <th>9</th>\n      <td>1</td>\n      <td>Amazon</td>\n      <td>Fabio</td>\n      <td>4923.53</td>\n      <td>888.46</td>\n      <td>NaN</td>\n      <td>NaN</td>\n      <td>NaN</td>\n      <td>NaN</td>\n    </tr>\n  </tbody>\n</table>\n</div>"
     },
     "execution_count": 35,
     "metadata": {},
     "output_type": "execute_result"
    }
   ],
   "source": [
    "df_merge_02 = pd.merge(df01, df04, on=['reg_venda', 'reg_venda'], how='left')\n",
    "df_merge_02\n",
    "\n",
    "# left"
   ],
   "metadata": {
    "collapsed": false
   }
  },
  {
   "cell_type": "code",
   "execution_count": 36,
   "outputs": [
    {
     "data": {
      "text/plain": "   reg_venda   empresas nome_vendedor  valor_venda  valor_imposto loja  \\\n0         10     Google          José      3064.97        1215.71   l1   \n1          9      Apple         Maria      5011.81        2203.67   l2   \n2          8  Microsoft        Carlos      5674.93        1820.90   l3   \n3          7   Facebook          José      6971.62        1047.45   l1   \n4          6     Amazon         Maria      6784.98        1304.42   l1   \n5          5     Google        Carlos      6442.98        2014.15   l4   \n6          4      Apple          José      4289.61         513.70   l2   \n7          3  Microsoft         Maria      9083.98        1066.56   l1   \n8          2   Facebook        Carlos      7332.64        1860.39   l3   \n\n  nome_gerente  itens_venda  valor_comissao  \n0         José          3.0          253.26  \n1         José          3.0          177.97  \n2         José          3.0          132.90  \n3         José          4.0          146.10  \n4        Maria          2.0          265.63  \n5       Carlos          1.0          231.28  \n6       Carlos          3.0          218.28  \n7       Carlos          1.0          186.53  \n8       Carlos          0.0          108.47  ",
      "text/html": "<div>\n<style scoped>\n    .dataframe tbody tr th:only-of-type {\n        vertical-align: middle;\n    }\n\n    .dataframe tbody tr th {\n        vertical-align: top;\n    }\n\n    .dataframe thead th {\n        text-align: right;\n    }\n</style>\n<table border=\"1\" class=\"dataframe\">\n  <thead>\n    <tr style=\"text-align: right;\">\n      <th></th>\n      <th>reg_venda</th>\n      <th>empresas</th>\n      <th>nome_vendedor</th>\n      <th>valor_venda</th>\n      <th>valor_imposto</th>\n      <th>loja</th>\n      <th>nome_gerente</th>\n      <th>itens_venda</th>\n      <th>valor_comissao</th>\n    </tr>\n  </thead>\n  <tbody>\n    <tr>\n      <th>0</th>\n      <td>10</td>\n      <td>Google</td>\n      <td>José</td>\n      <td>3064.97</td>\n      <td>1215.71</td>\n      <td>l1</td>\n      <td>José</td>\n      <td>3.0</td>\n      <td>253.26</td>\n    </tr>\n    <tr>\n      <th>1</th>\n      <td>9</td>\n      <td>Apple</td>\n      <td>Maria</td>\n      <td>5011.81</td>\n      <td>2203.67</td>\n      <td>l2</td>\n      <td>José</td>\n      <td>3.0</td>\n      <td>177.97</td>\n    </tr>\n    <tr>\n      <th>2</th>\n      <td>8</td>\n      <td>Microsoft</td>\n      <td>Carlos</td>\n      <td>5674.93</td>\n      <td>1820.90</td>\n      <td>l3</td>\n      <td>José</td>\n      <td>3.0</td>\n      <td>132.90</td>\n    </tr>\n    <tr>\n      <th>3</th>\n      <td>7</td>\n      <td>Facebook</td>\n      <td>José</td>\n      <td>6971.62</td>\n      <td>1047.45</td>\n      <td>l1</td>\n      <td>José</td>\n      <td>4.0</td>\n      <td>146.10</td>\n    </tr>\n    <tr>\n      <th>4</th>\n      <td>6</td>\n      <td>Amazon</td>\n      <td>Maria</td>\n      <td>6784.98</td>\n      <td>1304.42</td>\n      <td>l1</td>\n      <td>Maria</td>\n      <td>2.0</td>\n      <td>265.63</td>\n    </tr>\n    <tr>\n      <th>5</th>\n      <td>5</td>\n      <td>Google</td>\n      <td>Carlos</td>\n      <td>6442.98</td>\n      <td>2014.15</td>\n      <td>l4</td>\n      <td>Carlos</td>\n      <td>1.0</td>\n      <td>231.28</td>\n    </tr>\n    <tr>\n      <th>6</th>\n      <td>4</td>\n      <td>Apple</td>\n      <td>José</td>\n      <td>4289.61</td>\n      <td>513.70</td>\n      <td>l2</td>\n      <td>Carlos</td>\n      <td>3.0</td>\n      <td>218.28</td>\n    </tr>\n    <tr>\n      <th>7</th>\n      <td>3</td>\n      <td>Microsoft</td>\n      <td>Maria</td>\n      <td>9083.98</td>\n      <td>1066.56</td>\n      <td>l1</td>\n      <td>Carlos</td>\n      <td>1.0</td>\n      <td>186.53</td>\n    </tr>\n    <tr>\n      <th>8</th>\n      <td>2</td>\n      <td>Facebook</td>\n      <td>Carlos</td>\n      <td>7332.64</td>\n      <td>1860.39</td>\n      <td>l3</td>\n      <td>Carlos</td>\n      <td>0.0</td>\n      <td>108.47</td>\n    </tr>\n  </tbody>\n</table>\n</div>"
     },
     "execution_count": 36,
     "metadata": {},
     "output_type": "execute_result"
    }
   ],
   "source": [
    "df_merge_02 = pd.merge(df01, df04, on=['reg_venda', 'reg_venda'], how='right')\n",
    "df_merge_02\n",
    "\n",
    "# right"
   ],
   "metadata": {
    "collapsed": false
   }
  },
  {
   "cell_type": "code",
   "execution_count": 37,
   "outputs": [
    {
     "data": {
      "text/plain": "   reg_venda   empresas nome_vendedor  valor_venda  valor_imposto loja  \\\n0         10     Google          José      3064.97        1215.71   l1   \n1          9      Apple         Maria      5011.81        2203.67   l2   \n2          8  Microsoft        Carlos      5674.93        1820.90   l3   \n3          7   Facebook          José      6971.62        1047.45   l1   \n4          6     Amazon         Maria      6784.98        1304.42   l1   \n5          5     Google        Carlos      6442.98        2014.15   l4   \n6          4      Apple          José      4289.61         513.70   l2   \n7          3  Microsoft         Maria      9083.98        1066.56   l1   \n8          2   Facebook        Carlos      7332.64        1860.39   l3   \n9          1     Amazon         Fabio      4923.53         888.46  NaN   \n\n  nome_gerente  itens_venda  valor_comissao  \n0         José          3.0          253.26  \n1         José          3.0          177.97  \n2         José          3.0          132.90  \n3         José          4.0          146.10  \n4        Maria          2.0          265.63  \n5       Carlos          1.0          231.28  \n6       Carlos          3.0          218.28  \n7       Carlos          1.0          186.53  \n8       Carlos          0.0          108.47  \n9          NaN          NaN             NaN  ",
      "text/html": "<div>\n<style scoped>\n    .dataframe tbody tr th:only-of-type {\n        vertical-align: middle;\n    }\n\n    .dataframe tbody tr th {\n        vertical-align: top;\n    }\n\n    .dataframe thead th {\n        text-align: right;\n    }\n</style>\n<table border=\"1\" class=\"dataframe\">\n  <thead>\n    <tr style=\"text-align: right;\">\n      <th></th>\n      <th>reg_venda</th>\n      <th>empresas</th>\n      <th>nome_vendedor</th>\n      <th>valor_venda</th>\n      <th>valor_imposto</th>\n      <th>loja</th>\n      <th>nome_gerente</th>\n      <th>itens_venda</th>\n      <th>valor_comissao</th>\n    </tr>\n  </thead>\n  <tbody>\n    <tr>\n      <th>0</th>\n      <td>10</td>\n      <td>Google</td>\n      <td>José</td>\n      <td>3064.97</td>\n      <td>1215.71</td>\n      <td>l1</td>\n      <td>José</td>\n      <td>3.0</td>\n      <td>253.26</td>\n    </tr>\n    <tr>\n      <th>1</th>\n      <td>9</td>\n      <td>Apple</td>\n      <td>Maria</td>\n      <td>5011.81</td>\n      <td>2203.67</td>\n      <td>l2</td>\n      <td>José</td>\n      <td>3.0</td>\n      <td>177.97</td>\n    </tr>\n    <tr>\n      <th>2</th>\n      <td>8</td>\n      <td>Microsoft</td>\n      <td>Carlos</td>\n      <td>5674.93</td>\n      <td>1820.90</td>\n      <td>l3</td>\n      <td>José</td>\n      <td>3.0</td>\n      <td>132.90</td>\n    </tr>\n    <tr>\n      <th>3</th>\n      <td>7</td>\n      <td>Facebook</td>\n      <td>José</td>\n      <td>6971.62</td>\n      <td>1047.45</td>\n      <td>l1</td>\n      <td>José</td>\n      <td>4.0</td>\n      <td>146.10</td>\n    </tr>\n    <tr>\n      <th>4</th>\n      <td>6</td>\n      <td>Amazon</td>\n      <td>Maria</td>\n      <td>6784.98</td>\n      <td>1304.42</td>\n      <td>l1</td>\n      <td>Maria</td>\n      <td>2.0</td>\n      <td>265.63</td>\n    </tr>\n    <tr>\n      <th>5</th>\n      <td>5</td>\n      <td>Google</td>\n      <td>Carlos</td>\n      <td>6442.98</td>\n      <td>2014.15</td>\n      <td>l4</td>\n      <td>Carlos</td>\n      <td>1.0</td>\n      <td>231.28</td>\n    </tr>\n    <tr>\n      <th>6</th>\n      <td>4</td>\n      <td>Apple</td>\n      <td>José</td>\n      <td>4289.61</td>\n      <td>513.70</td>\n      <td>l2</td>\n      <td>Carlos</td>\n      <td>3.0</td>\n      <td>218.28</td>\n    </tr>\n    <tr>\n      <th>7</th>\n      <td>3</td>\n      <td>Microsoft</td>\n      <td>Maria</td>\n      <td>9083.98</td>\n      <td>1066.56</td>\n      <td>l1</td>\n      <td>Carlos</td>\n      <td>1.0</td>\n      <td>186.53</td>\n    </tr>\n    <tr>\n      <th>8</th>\n      <td>2</td>\n      <td>Facebook</td>\n      <td>Carlos</td>\n      <td>7332.64</td>\n      <td>1860.39</td>\n      <td>l3</td>\n      <td>Carlos</td>\n      <td>0.0</td>\n      <td>108.47</td>\n    </tr>\n    <tr>\n      <th>9</th>\n      <td>1</td>\n      <td>Amazon</td>\n      <td>Fabio</td>\n      <td>4923.53</td>\n      <td>888.46</td>\n      <td>NaN</td>\n      <td>NaN</td>\n      <td>NaN</td>\n      <td>NaN</td>\n    </tr>\n  </tbody>\n</table>\n</div>"
     },
     "execution_count": 37,
     "metadata": {},
     "output_type": "execute_result"
    }
   ],
   "source": [
    "# Especificando a coluna de outra forma\n",
    "df_merge_02 = pd.merge(df01, df04, right_on='reg_venda', left_on='reg_venda', how='left')\n",
    "df_merge_02\n",
    "\n",
    "# left"
   ],
   "metadata": {
    "collapsed": false
   }
  },
  {
   "cell_type": "markdown",
   "source": [
    "### JOIN\n",
    "join()\n",
    "\n",
    "join é um método do df\n",
    "\n",
    "\n",
    "Para o join NECESSITA do INDEX"
   ],
   "metadata": {
    "collapsed": false
   }
  },
  {
   "cell_type": "code",
   "execution_count": 69,
   "outputs": [
    {
     "data": {
      "text/plain": "   reg_venda loja nome_gerente  itens_venda  valor_comissao\n0         10   l1         José          3.0          253.26\n2          8   l3         José          3.0          132.90\n4          6   l1        Maria          2.0          265.63\n6          4   l2       Carlos          3.0          218.28\n8          2   l3       Carlos          0.0          108.47\n0         20   l1         José          3.0          506.52\n2         16   l3         José          3.0          265.80\n4         12   l1        Maria          2.0          531.26\n6          8   l2       Carlos          3.0          436.56\n8          4   l3       Carlos          0.0          216.94",
      "text/html": "<div>\n<style scoped>\n    .dataframe tbody tr th:only-of-type {\n        vertical-align: middle;\n    }\n\n    .dataframe tbody tr th {\n        vertical-align: top;\n    }\n\n    .dataframe thead th {\n        text-align: right;\n    }\n</style>\n<table border=\"1\" class=\"dataframe\">\n  <thead>\n    <tr style=\"text-align: right;\">\n      <th></th>\n      <th>reg_venda</th>\n      <th>loja</th>\n      <th>nome_gerente</th>\n      <th>itens_venda</th>\n      <th>valor_comissao</th>\n    </tr>\n  </thead>\n  <tbody>\n    <tr>\n      <th>0</th>\n      <td>10</td>\n      <td>l1</td>\n      <td>José</td>\n      <td>3.0</td>\n      <td>253.26</td>\n    </tr>\n    <tr>\n      <th>2</th>\n      <td>8</td>\n      <td>l3</td>\n      <td>José</td>\n      <td>3.0</td>\n      <td>132.90</td>\n    </tr>\n    <tr>\n      <th>4</th>\n      <td>6</td>\n      <td>l1</td>\n      <td>Maria</td>\n      <td>2.0</td>\n      <td>265.63</td>\n    </tr>\n    <tr>\n      <th>6</th>\n      <td>4</td>\n      <td>l2</td>\n      <td>Carlos</td>\n      <td>3.0</td>\n      <td>218.28</td>\n    </tr>\n    <tr>\n      <th>8</th>\n      <td>2</td>\n      <td>l3</td>\n      <td>Carlos</td>\n      <td>0.0</td>\n      <td>108.47</td>\n    </tr>\n    <tr>\n      <th>0</th>\n      <td>20</td>\n      <td>l1</td>\n      <td>José</td>\n      <td>3.0</td>\n      <td>506.52</td>\n    </tr>\n    <tr>\n      <th>2</th>\n      <td>16</td>\n      <td>l3</td>\n      <td>José</td>\n      <td>3.0</td>\n      <td>265.80</td>\n    </tr>\n    <tr>\n      <th>4</th>\n      <td>12</td>\n      <td>l1</td>\n      <td>Maria</td>\n      <td>2.0</td>\n      <td>531.26</td>\n    </tr>\n    <tr>\n      <th>6</th>\n      <td>8</td>\n      <td>l2</td>\n      <td>Carlos</td>\n      <td>3.0</td>\n      <td>436.56</td>\n    </tr>\n    <tr>\n      <th>8</th>\n      <td>4</td>\n      <td>l3</td>\n      <td>Carlos</td>\n      <td>0.0</td>\n      <td>216.94</td>\n    </tr>\n  </tbody>\n</table>\n</div>"
     },
     "execution_count": 69,
     "metadata": {},
     "output_type": "execute_result"
    }
   ],
   "source": [
    "df05 = df04[df04['reg_venda'] % 2 == 0].copy()\n",
    "df05.set_index('reg_venda')\n",
    "df06 = df05.copy()\n",
    "df06['reg_venda'] = df06['reg_venda'].apply(lambda x: x*2)\n",
    "df06['valor_comissao'] = df06['valor_comissao'].apply(lambda x: x*2)\n",
    "df07 = pd.concat([df05, df06])\n",
    "df07"
   ],
   "metadata": {
    "collapsed": false
   }
  },
  {
   "cell_type": "code",
   "execution_count": 70,
   "outputs": [
    {
     "data": {
      "text/plain": "            empresas nome_vendedor  valor_venda  valor_imposto  reg_venda  \\\nreg_venda                                                                   \n10            Google          José      3064.97        1215.71        NaN   \n9              Apple         Maria      5011.81        2203.67        NaN   \n8          Microsoft        Carlos      5674.93        1820.90        2.0   \n7           Facebook          José      6971.62        1047.45        NaN   \n6             Amazon         Maria      6784.98        1304.42        4.0   \n5             Google        Carlos      6442.98        2014.15        NaN   \n4              Apple          José      4289.61         513.70        6.0   \n3          Microsoft         Maria      9083.98        1066.56        NaN   \n2           Facebook        Carlos      7332.64        1860.39        8.0   \n1             Amazon         Fabio      4923.53         888.46        NaN   \n\n          loja nome_gerente  itens_venda  valor_comissao  \nreg_venda                                                 \n10         NaN          NaN          NaN             NaN  \n9          NaN          NaN          NaN             NaN  \n8           l3       Carlos          0.0          108.47  \n7          NaN          NaN          NaN             NaN  \n6           l2       Carlos          3.0          218.28  \n5          NaN          NaN          NaN             NaN  \n4           l1        Maria          2.0          265.63  \n3          NaN          NaN          NaN             NaN  \n2           l3         José          3.0          132.90  \n1          NaN          NaN          NaN             NaN  ",
      "text/html": "<div>\n<style scoped>\n    .dataframe tbody tr th:only-of-type {\n        vertical-align: middle;\n    }\n\n    .dataframe tbody tr th {\n        vertical-align: top;\n    }\n\n    .dataframe thead th {\n        text-align: right;\n    }\n</style>\n<table border=\"1\" class=\"dataframe\">\n  <thead>\n    <tr style=\"text-align: right;\">\n      <th></th>\n      <th>empresas</th>\n      <th>nome_vendedor</th>\n      <th>valor_venda</th>\n      <th>valor_imposto</th>\n      <th>reg_venda</th>\n      <th>loja</th>\n      <th>nome_gerente</th>\n      <th>itens_venda</th>\n      <th>valor_comissao</th>\n    </tr>\n    <tr>\n      <th>reg_venda</th>\n      <th></th>\n      <th></th>\n      <th></th>\n      <th></th>\n      <th></th>\n      <th></th>\n      <th></th>\n      <th></th>\n      <th></th>\n    </tr>\n  </thead>\n  <tbody>\n    <tr>\n      <th>10</th>\n      <td>Google</td>\n      <td>José</td>\n      <td>3064.97</td>\n      <td>1215.71</td>\n      <td>NaN</td>\n      <td>NaN</td>\n      <td>NaN</td>\n      <td>NaN</td>\n      <td>NaN</td>\n    </tr>\n    <tr>\n      <th>9</th>\n      <td>Apple</td>\n      <td>Maria</td>\n      <td>5011.81</td>\n      <td>2203.67</td>\n      <td>NaN</td>\n      <td>NaN</td>\n      <td>NaN</td>\n      <td>NaN</td>\n      <td>NaN</td>\n    </tr>\n    <tr>\n      <th>8</th>\n      <td>Microsoft</td>\n      <td>Carlos</td>\n      <td>5674.93</td>\n      <td>1820.90</td>\n      <td>2.0</td>\n      <td>l3</td>\n      <td>Carlos</td>\n      <td>0.0</td>\n      <td>108.47</td>\n    </tr>\n    <tr>\n      <th>7</th>\n      <td>Facebook</td>\n      <td>José</td>\n      <td>6971.62</td>\n      <td>1047.45</td>\n      <td>NaN</td>\n      <td>NaN</td>\n      <td>NaN</td>\n      <td>NaN</td>\n      <td>NaN</td>\n    </tr>\n    <tr>\n      <th>6</th>\n      <td>Amazon</td>\n      <td>Maria</td>\n      <td>6784.98</td>\n      <td>1304.42</td>\n      <td>4.0</td>\n      <td>l2</td>\n      <td>Carlos</td>\n      <td>3.0</td>\n      <td>218.28</td>\n    </tr>\n    <tr>\n      <th>5</th>\n      <td>Google</td>\n      <td>Carlos</td>\n      <td>6442.98</td>\n      <td>2014.15</td>\n      <td>NaN</td>\n      <td>NaN</td>\n      <td>NaN</td>\n      <td>NaN</td>\n      <td>NaN</td>\n    </tr>\n    <tr>\n      <th>4</th>\n      <td>Apple</td>\n      <td>José</td>\n      <td>4289.61</td>\n      <td>513.70</td>\n      <td>6.0</td>\n      <td>l1</td>\n      <td>Maria</td>\n      <td>2.0</td>\n      <td>265.63</td>\n    </tr>\n    <tr>\n      <th>3</th>\n      <td>Microsoft</td>\n      <td>Maria</td>\n      <td>9083.98</td>\n      <td>1066.56</td>\n      <td>NaN</td>\n      <td>NaN</td>\n      <td>NaN</td>\n      <td>NaN</td>\n      <td>NaN</td>\n    </tr>\n    <tr>\n      <th>2</th>\n      <td>Facebook</td>\n      <td>Carlos</td>\n      <td>7332.64</td>\n      <td>1860.39</td>\n      <td>8.0</td>\n      <td>l3</td>\n      <td>José</td>\n      <td>3.0</td>\n      <td>132.90</td>\n    </tr>\n    <tr>\n      <th>1</th>\n      <td>Amazon</td>\n      <td>Fabio</td>\n      <td>4923.53</td>\n      <td>888.46</td>\n      <td>NaN</td>\n      <td>NaN</td>\n      <td>NaN</td>\n      <td>NaN</td>\n      <td>NaN</td>\n    </tr>\n  </tbody>\n</table>\n</div>"
     },
     "execution_count": 70,
     "metadata": {},
     "output_type": "execute_result"
    }
   ],
   "source": [
    "df_join_01 = df01.set_index('reg_venda').join(df05)\n",
    "df_join_01"
   ],
   "metadata": {
    "collapsed": false
   }
  },
  {
   "cell_type": "code",
   "execution_count": 71,
   "outputs": [
    {
     "data": {
      "text/plain": "     empresas nome_vendedor  valor_venda  valor_imposto  reg_venda loja  \\\n0         NaN           NaN          NaN            NaN       10.0   l1   \n0         NaN           NaN          NaN            NaN       20.0   l1   \n1      Amazon         Fabio      4923.53         888.46        NaN  NaN   \n2    Facebook        Carlos      7332.64        1860.39        8.0   l3   \n2    Facebook        Carlos      7332.64        1860.39       16.0   l3   \n3   Microsoft         Maria      9083.98        1066.56        NaN  NaN   \n4       Apple          José      4289.61         513.70        6.0   l1   \n4       Apple          José      4289.61         513.70       12.0   l1   \n5      Google        Carlos      6442.98        2014.15        NaN  NaN   \n6      Amazon         Maria      6784.98        1304.42        4.0   l2   \n6      Amazon         Maria      6784.98        1304.42        8.0   l2   \n7    Facebook          José      6971.62        1047.45        NaN  NaN   \n8   Microsoft        Carlos      5674.93        1820.90        2.0   l3   \n8   Microsoft        Carlos      5674.93        1820.90        4.0   l3   \n9       Apple         Maria      5011.81        2203.67        NaN  NaN   \n10     Google          José      3064.97        1215.71        NaN  NaN   \n\n   nome_gerente  itens_venda  valor_comissao  \n0          José          3.0          253.26  \n0          José          3.0          506.52  \n1           NaN          NaN             NaN  \n2          José          3.0          132.90  \n2          José          3.0          265.80  \n3           NaN          NaN             NaN  \n4         Maria          2.0          265.63  \n4         Maria          2.0          531.26  \n5           NaN          NaN             NaN  \n6        Carlos          3.0          218.28  \n6        Carlos          3.0          436.56  \n7           NaN          NaN             NaN  \n8        Carlos          0.0          108.47  \n8        Carlos          0.0          216.94  \n9           NaN          NaN             NaN  \n10          NaN          NaN             NaN  ",
      "text/html": "<div>\n<style scoped>\n    .dataframe tbody tr th:only-of-type {\n        vertical-align: middle;\n    }\n\n    .dataframe tbody tr th {\n        vertical-align: top;\n    }\n\n    .dataframe thead th {\n        text-align: right;\n    }\n</style>\n<table border=\"1\" class=\"dataframe\">\n  <thead>\n    <tr style=\"text-align: right;\">\n      <th></th>\n      <th>empresas</th>\n      <th>nome_vendedor</th>\n      <th>valor_venda</th>\n      <th>valor_imposto</th>\n      <th>reg_venda</th>\n      <th>loja</th>\n      <th>nome_gerente</th>\n      <th>itens_venda</th>\n      <th>valor_comissao</th>\n    </tr>\n  </thead>\n  <tbody>\n    <tr>\n      <th>0</th>\n      <td>NaN</td>\n      <td>NaN</td>\n      <td>NaN</td>\n      <td>NaN</td>\n      <td>10.0</td>\n      <td>l1</td>\n      <td>José</td>\n      <td>3.0</td>\n      <td>253.26</td>\n    </tr>\n    <tr>\n      <th>0</th>\n      <td>NaN</td>\n      <td>NaN</td>\n      <td>NaN</td>\n      <td>NaN</td>\n      <td>20.0</td>\n      <td>l1</td>\n      <td>José</td>\n      <td>3.0</td>\n      <td>506.52</td>\n    </tr>\n    <tr>\n      <th>1</th>\n      <td>Amazon</td>\n      <td>Fabio</td>\n      <td>4923.53</td>\n      <td>888.46</td>\n      <td>NaN</td>\n      <td>NaN</td>\n      <td>NaN</td>\n      <td>NaN</td>\n      <td>NaN</td>\n    </tr>\n    <tr>\n      <th>2</th>\n      <td>Facebook</td>\n      <td>Carlos</td>\n      <td>7332.64</td>\n      <td>1860.39</td>\n      <td>8.0</td>\n      <td>l3</td>\n      <td>José</td>\n      <td>3.0</td>\n      <td>132.90</td>\n    </tr>\n    <tr>\n      <th>2</th>\n      <td>Facebook</td>\n      <td>Carlos</td>\n      <td>7332.64</td>\n      <td>1860.39</td>\n      <td>16.0</td>\n      <td>l3</td>\n      <td>José</td>\n      <td>3.0</td>\n      <td>265.80</td>\n    </tr>\n    <tr>\n      <th>3</th>\n      <td>Microsoft</td>\n      <td>Maria</td>\n      <td>9083.98</td>\n      <td>1066.56</td>\n      <td>NaN</td>\n      <td>NaN</td>\n      <td>NaN</td>\n      <td>NaN</td>\n      <td>NaN</td>\n    </tr>\n    <tr>\n      <th>4</th>\n      <td>Apple</td>\n      <td>José</td>\n      <td>4289.61</td>\n      <td>513.70</td>\n      <td>6.0</td>\n      <td>l1</td>\n      <td>Maria</td>\n      <td>2.0</td>\n      <td>265.63</td>\n    </tr>\n    <tr>\n      <th>4</th>\n      <td>Apple</td>\n      <td>José</td>\n      <td>4289.61</td>\n      <td>513.70</td>\n      <td>12.0</td>\n      <td>l1</td>\n      <td>Maria</td>\n      <td>2.0</td>\n      <td>531.26</td>\n    </tr>\n    <tr>\n      <th>5</th>\n      <td>Google</td>\n      <td>Carlos</td>\n      <td>6442.98</td>\n      <td>2014.15</td>\n      <td>NaN</td>\n      <td>NaN</td>\n      <td>NaN</td>\n      <td>NaN</td>\n      <td>NaN</td>\n    </tr>\n    <tr>\n      <th>6</th>\n      <td>Amazon</td>\n      <td>Maria</td>\n      <td>6784.98</td>\n      <td>1304.42</td>\n      <td>4.0</td>\n      <td>l2</td>\n      <td>Carlos</td>\n      <td>3.0</td>\n      <td>218.28</td>\n    </tr>\n    <tr>\n      <th>6</th>\n      <td>Amazon</td>\n      <td>Maria</td>\n      <td>6784.98</td>\n      <td>1304.42</td>\n      <td>8.0</td>\n      <td>l2</td>\n      <td>Carlos</td>\n      <td>3.0</td>\n      <td>436.56</td>\n    </tr>\n    <tr>\n      <th>7</th>\n      <td>Facebook</td>\n      <td>José</td>\n      <td>6971.62</td>\n      <td>1047.45</td>\n      <td>NaN</td>\n      <td>NaN</td>\n      <td>NaN</td>\n      <td>NaN</td>\n      <td>NaN</td>\n    </tr>\n    <tr>\n      <th>8</th>\n      <td>Microsoft</td>\n      <td>Carlos</td>\n      <td>5674.93</td>\n      <td>1820.90</td>\n      <td>2.0</td>\n      <td>l3</td>\n      <td>Carlos</td>\n      <td>0.0</td>\n      <td>108.47</td>\n    </tr>\n    <tr>\n      <th>8</th>\n      <td>Microsoft</td>\n      <td>Carlos</td>\n      <td>5674.93</td>\n      <td>1820.90</td>\n      <td>4.0</td>\n      <td>l3</td>\n      <td>Carlos</td>\n      <td>0.0</td>\n      <td>216.94</td>\n    </tr>\n    <tr>\n      <th>9</th>\n      <td>Apple</td>\n      <td>Maria</td>\n      <td>5011.81</td>\n      <td>2203.67</td>\n      <td>NaN</td>\n      <td>NaN</td>\n      <td>NaN</td>\n      <td>NaN</td>\n      <td>NaN</td>\n    </tr>\n    <tr>\n      <th>10</th>\n      <td>Google</td>\n      <td>José</td>\n      <td>3064.97</td>\n      <td>1215.71</td>\n      <td>NaN</td>\n      <td>NaN</td>\n      <td>NaN</td>\n      <td>NaN</td>\n      <td>NaN</td>\n    </tr>\n  </tbody>\n</table>\n</div>"
     },
     "execution_count": 71,
     "metadata": {},
     "output_type": "execute_result"
    }
   ],
   "source": [
    "df_join_02 = df01.set_index('reg_venda').join(df07, how='outer')\n",
    "df_join_02"
   ],
   "metadata": {
    "collapsed": false
   }
  },
  {
   "cell_type": "markdown",
   "source": [
    "## Outras operações corriqueiras no pandas"
   ],
   "metadata": {
    "collapsed": false
   }
  },
  {
   "cell_type": "markdown",
   "source": [
    "unique()"
   ],
   "metadata": {
    "collapsed": false
   }
  },
  {
   "cell_type": "code",
   "execution_count": 72,
   "outputs": [],
   "source": [
    "df08 = df_join_02.copy()"
   ],
   "metadata": {
    "collapsed": false
   }
  },
  {
   "cell_type": "code",
   "execution_count": 73,
   "outputs": [
    {
     "data": {
      "text/plain": "array([nan, 'Amazon', 'Facebook', 'Microsoft', 'Apple', 'Google'],\n      dtype=object)"
     },
     "execution_count": 73,
     "metadata": {},
     "output_type": "execute_result"
    }
   ],
   "source": [
    "df08['empresas'].unique()"
   ],
   "metadata": {
    "collapsed": false
   }
  },
  {
   "cell_type": "code",
   "execution_count": 74,
   "outputs": [
    {
     "data": {
      "text/plain": "array(['José', nan, 'Maria', 'Carlos'], dtype=object)"
     },
     "execution_count": 74,
     "metadata": {},
     "output_type": "execute_result"
    }
   ],
   "source": [
    "df08['nome_gerente'].unique()"
   ],
   "metadata": {
    "collapsed": false
   }
  },
  {
   "cell_type": "code",
   "execution_count": 75,
   "outputs": [
    {
     "data": {
      "text/plain": "empresas           5\nnome_vendedor      4\nvalor_venda       10\nvalor_imposto     10\nreg_venda          8\nloja               3\nnome_gerente       3\nitens_venda        3\nvalor_comissao    10\ndtype: int64"
     },
     "execution_count": 75,
     "metadata": {},
     "output_type": "execute_result"
    }
   ],
   "source": [
    "df08.nunique()\n",
    "\n",
    "# pd.DataFrame não tem o método unique() mas tem o nunique()"
   ],
   "metadata": {
    "collapsed": false
   }
  },
  {
   "cell_type": "code",
   "execution_count": 76,
   "outputs": [
    {
     "data": {
      "text/plain": "3"
     },
     "execution_count": 76,
     "metadata": {},
     "output_type": "execute_result"
    }
   ],
   "source": [
    "df08['nome_gerente'].nunique()\n",
    "\n",
    "# Contagem de valores de gerentes unicos (Não contabiliza o NaN)"
   ],
   "metadata": {
    "collapsed": false
   }
  },
  {
   "cell_type": "code",
   "execution_count": 77,
   "outputs": [
    {
     "data": {
      "text/plain": "5"
     },
     "execution_count": 77,
     "metadata": {},
     "output_type": "execute_result"
    }
   ],
   "source": [
    "df08['empresas'].nunique()\n",
    "\n",
    "# Não conta o NaN"
   ],
   "metadata": {
    "collapsed": false
   }
  },
  {
   "cell_type": "code",
   "execution_count": 78,
   "outputs": [
    {
     "data": {
      "text/plain": "Amazon       3\nFacebook     3\nMicrosoft    3\nApple        3\nGoogle       2\nName: empresas, dtype: int64"
     },
     "execution_count": 78,
     "metadata": {},
     "output_type": "execute_result"
    }
   ],
   "source": [
    "df08['empresas'].value_counts()\n",
    "# Realiza a contagem de unicos"
   ],
   "metadata": {
    "collapsed": false
   }
  },
  {
   "cell_type": "code",
   "execution_count": 83,
   "outputs": [
    {
     "data": {
      "text/plain": "empresas   nome_vendedor  valor_venda  valor_imposto  reg_venda  loja  nome_gerente  itens_venda  valor_comissao\nAmazon     Maria          6784.98      1304.42        4.0        l2    Carlos        3.0          218.28            1\n                                                      8.0        l2    Carlos        3.0          436.56            1\nApple      José           4289.61      513.70         6.0        l1    Maria         2.0          265.63            1\n                                                      12.0       l1    Maria         2.0          531.26            1\nFacebook   Carlos         7332.64      1860.39        8.0        l3    José          3.0          132.90            1\n                                                      16.0       l3    José          3.0          265.80            1\nMicrosoft  Carlos         5674.93      1820.90        2.0        l3    Carlos        0.0          108.47            1\n                                                      4.0        l3    Carlos        0.0          216.94            1\ndtype: int64"
     },
     "execution_count": 83,
     "metadata": {},
     "output_type": "execute_result"
    }
   ],
   "source": [
    "df08.value_counts()\n",
    "# um belo resumo do dataframe."
   ],
   "metadata": {
    "collapsed": false
   }
  },
  {
   "cell_type": "code",
   "execution_count": 81,
   "outputs": [
    {
     "data": {
      "text/plain": "     empresas nome_vendedor  valor_venda  valor_imposto  reg_venda loja  \\\n0         NaN           NaN          NaN            NaN       10.0   l1   \n0         NaN           NaN          NaN            NaN       20.0   l1   \n1      Amazon         Fabio      4923.53         888.46        NaN  NaN   \n2    Facebook        Carlos      7332.64        1860.39        8.0   l3   \n2    Facebook        Carlos      7332.64        1860.39       16.0   l3   \n3   Microsoft         Maria      9083.98        1066.56        NaN  NaN   \n4       Apple          José      4289.61         513.70        6.0   l1   \n4       Apple          José      4289.61         513.70       12.0   l1   \n5      Google        Carlos      6442.98        2014.15        NaN  NaN   \n6      Amazon         Maria      6784.98        1304.42        4.0   l2   \n6      Amazon         Maria      6784.98        1304.42        8.0   l2   \n7    Facebook          José      6971.62        1047.45        NaN  NaN   \n8   Microsoft        Carlos      5674.93        1820.90        2.0   l3   \n8   Microsoft        Carlos      5674.93        1820.90        4.0   l3   \n9       Apple         Maria      5011.81        2203.67        NaN  NaN   \n10     Google          José      3064.97        1215.71        NaN  NaN   \n\n   nome_gerente  itens_venda  valor_comissao  \n0          José          3.0          253.26  \n0          José          3.0          506.52  \n1           NaN          NaN             NaN  \n2          José          3.0          132.90  \n2          José          3.0          265.80  \n3           NaN          NaN             NaN  \n4         Maria          2.0          265.63  \n4         Maria          2.0          531.26  \n5           NaN          NaN             NaN  \n6        Carlos          3.0          218.28  \n6        Carlos          3.0          436.56  \n7           NaN          NaN             NaN  \n8        Carlos          0.0          108.47  \n8        Carlos          0.0          216.94  \n9           NaN          NaN             NaN  \n10          NaN          NaN             NaN  ",
      "text/html": "<div>\n<style scoped>\n    .dataframe tbody tr th:only-of-type {\n        vertical-align: middle;\n    }\n\n    .dataframe tbody tr th {\n        vertical-align: top;\n    }\n\n    .dataframe thead th {\n        text-align: right;\n    }\n</style>\n<table border=\"1\" class=\"dataframe\">\n  <thead>\n    <tr style=\"text-align: right;\">\n      <th></th>\n      <th>empresas</th>\n      <th>nome_vendedor</th>\n      <th>valor_venda</th>\n      <th>valor_imposto</th>\n      <th>reg_venda</th>\n      <th>loja</th>\n      <th>nome_gerente</th>\n      <th>itens_venda</th>\n      <th>valor_comissao</th>\n    </tr>\n  </thead>\n  <tbody>\n    <tr>\n      <th>0</th>\n      <td>NaN</td>\n      <td>NaN</td>\n      <td>NaN</td>\n      <td>NaN</td>\n      <td>10.0</td>\n      <td>l1</td>\n      <td>José</td>\n      <td>3.0</td>\n      <td>253.26</td>\n    </tr>\n    <tr>\n      <th>0</th>\n      <td>NaN</td>\n      <td>NaN</td>\n      <td>NaN</td>\n      <td>NaN</td>\n      <td>20.0</td>\n      <td>l1</td>\n      <td>José</td>\n      <td>3.0</td>\n      <td>506.52</td>\n    </tr>\n    <tr>\n      <th>1</th>\n      <td>Amazon</td>\n      <td>Fabio</td>\n      <td>4923.53</td>\n      <td>888.46</td>\n      <td>NaN</td>\n      <td>NaN</td>\n      <td>NaN</td>\n      <td>NaN</td>\n      <td>NaN</td>\n    </tr>\n    <tr>\n      <th>2</th>\n      <td>Facebook</td>\n      <td>Carlos</td>\n      <td>7332.64</td>\n      <td>1860.39</td>\n      <td>8.0</td>\n      <td>l3</td>\n      <td>José</td>\n      <td>3.0</td>\n      <td>132.90</td>\n    </tr>\n    <tr>\n      <th>2</th>\n      <td>Facebook</td>\n      <td>Carlos</td>\n      <td>7332.64</td>\n      <td>1860.39</td>\n      <td>16.0</td>\n      <td>l3</td>\n      <td>José</td>\n      <td>3.0</td>\n      <td>265.80</td>\n    </tr>\n    <tr>\n      <th>3</th>\n      <td>Microsoft</td>\n      <td>Maria</td>\n      <td>9083.98</td>\n      <td>1066.56</td>\n      <td>NaN</td>\n      <td>NaN</td>\n      <td>NaN</td>\n      <td>NaN</td>\n      <td>NaN</td>\n    </tr>\n    <tr>\n      <th>4</th>\n      <td>Apple</td>\n      <td>José</td>\n      <td>4289.61</td>\n      <td>513.70</td>\n      <td>6.0</td>\n      <td>l1</td>\n      <td>Maria</td>\n      <td>2.0</td>\n      <td>265.63</td>\n    </tr>\n    <tr>\n      <th>4</th>\n      <td>Apple</td>\n      <td>José</td>\n      <td>4289.61</td>\n      <td>513.70</td>\n      <td>12.0</td>\n      <td>l1</td>\n      <td>Maria</td>\n      <td>2.0</td>\n      <td>531.26</td>\n    </tr>\n    <tr>\n      <th>5</th>\n      <td>Google</td>\n      <td>Carlos</td>\n      <td>6442.98</td>\n      <td>2014.15</td>\n      <td>NaN</td>\n      <td>NaN</td>\n      <td>NaN</td>\n      <td>NaN</td>\n      <td>NaN</td>\n    </tr>\n    <tr>\n      <th>6</th>\n      <td>Amazon</td>\n      <td>Maria</td>\n      <td>6784.98</td>\n      <td>1304.42</td>\n      <td>4.0</td>\n      <td>l2</td>\n      <td>Carlos</td>\n      <td>3.0</td>\n      <td>218.28</td>\n    </tr>\n    <tr>\n      <th>6</th>\n      <td>Amazon</td>\n      <td>Maria</td>\n      <td>6784.98</td>\n      <td>1304.42</td>\n      <td>8.0</td>\n      <td>l2</td>\n      <td>Carlos</td>\n      <td>3.0</td>\n      <td>436.56</td>\n    </tr>\n    <tr>\n      <th>7</th>\n      <td>Facebook</td>\n      <td>José</td>\n      <td>6971.62</td>\n      <td>1047.45</td>\n      <td>NaN</td>\n      <td>NaN</td>\n      <td>NaN</td>\n      <td>NaN</td>\n      <td>NaN</td>\n    </tr>\n    <tr>\n      <th>8</th>\n      <td>Microsoft</td>\n      <td>Carlos</td>\n      <td>5674.93</td>\n      <td>1820.90</td>\n      <td>2.0</td>\n      <td>l3</td>\n      <td>Carlos</td>\n      <td>0.0</td>\n      <td>108.47</td>\n    </tr>\n    <tr>\n      <th>8</th>\n      <td>Microsoft</td>\n      <td>Carlos</td>\n      <td>5674.93</td>\n      <td>1820.90</td>\n      <td>4.0</td>\n      <td>l3</td>\n      <td>Carlos</td>\n      <td>0.0</td>\n      <td>216.94</td>\n    </tr>\n    <tr>\n      <th>9</th>\n      <td>Apple</td>\n      <td>Maria</td>\n      <td>5011.81</td>\n      <td>2203.67</td>\n      <td>NaN</td>\n      <td>NaN</td>\n      <td>NaN</td>\n      <td>NaN</td>\n      <td>NaN</td>\n    </tr>\n    <tr>\n      <th>10</th>\n      <td>Google</td>\n      <td>José</td>\n      <td>3064.97</td>\n      <td>1215.71</td>\n      <td>NaN</td>\n      <td>NaN</td>\n      <td>NaN</td>\n      <td>NaN</td>\n      <td>NaN</td>\n    </tr>\n  </tbody>\n</table>\n</div>"
     },
     "execution_count": 81,
     "metadata": {},
     "output_type": "execute_result"
    }
   ],
   "source": [
    "df08"
   ],
   "metadata": {
    "collapsed": false
   }
  },
  {
   "cell_type": "markdown",
   "source": [
    "### Ordenar dataframe\n",
    "sort_values()\n",
    "\n",
    "Também afetado pelo INPLACE"
   ],
   "metadata": {
    "collapsed": false
   }
  },
  {
   "cell_type": "code",
   "execution_count": 84,
   "outputs": [
    {
     "data": {
      "text/plain": "     empresas nome_vendedor  valor_venda  valor_imposto  reg_venda loja  \\\n8   Microsoft        Carlos      5674.93        1820.90        2.0   l3   \n2    Facebook        Carlos      7332.64        1860.39        8.0   l3   \n8   Microsoft        Carlos      5674.93        1820.90        4.0   l3   \n6      Amazon         Maria      6784.98        1304.42        4.0   l2   \n0         NaN           NaN          NaN            NaN       10.0   l1   \n4       Apple          José      4289.61         513.70        6.0   l1   \n2    Facebook        Carlos      7332.64        1860.39       16.0   l3   \n6      Amazon         Maria      6784.98        1304.42        8.0   l2   \n0         NaN           NaN          NaN            NaN       20.0   l1   \n4       Apple          José      4289.61         513.70       12.0   l1   \n1      Amazon         Fabio      4923.53         888.46        NaN  NaN   \n3   Microsoft         Maria      9083.98        1066.56        NaN  NaN   \n5      Google        Carlos      6442.98        2014.15        NaN  NaN   \n7    Facebook          José      6971.62        1047.45        NaN  NaN   \n9       Apple         Maria      5011.81        2203.67        NaN  NaN   \n10     Google          José      3064.97        1215.71        NaN  NaN   \n\n   nome_gerente  itens_venda  valor_comissao  \n8        Carlos          0.0          108.47  \n2          José          3.0          132.90  \n8        Carlos          0.0          216.94  \n6        Carlos          3.0          218.28  \n0          José          3.0          253.26  \n4         Maria          2.0          265.63  \n2          José          3.0          265.80  \n6        Carlos          3.0          436.56  \n0          José          3.0          506.52  \n4         Maria          2.0          531.26  \n1           NaN          NaN             NaN  \n3           NaN          NaN             NaN  \n5           NaN          NaN             NaN  \n7           NaN          NaN             NaN  \n9           NaN          NaN             NaN  \n10          NaN          NaN             NaN  ",
      "text/html": "<div>\n<style scoped>\n    .dataframe tbody tr th:only-of-type {\n        vertical-align: middle;\n    }\n\n    .dataframe tbody tr th {\n        vertical-align: top;\n    }\n\n    .dataframe thead th {\n        text-align: right;\n    }\n</style>\n<table border=\"1\" class=\"dataframe\">\n  <thead>\n    <tr style=\"text-align: right;\">\n      <th></th>\n      <th>empresas</th>\n      <th>nome_vendedor</th>\n      <th>valor_venda</th>\n      <th>valor_imposto</th>\n      <th>reg_venda</th>\n      <th>loja</th>\n      <th>nome_gerente</th>\n      <th>itens_venda</th>\n      <th>valor_comissao</th>\n    </tr>\n  </thead>\n  <tbody>\n    <tr>\n      <th>8</th>\n      <td>Microsoft</td>\n      <td>Carlos</td>\n      <td>5674.93</td>\n      <td>1820.90</td>\n      <td>2.0</td>\n      <td>l3</td>\n      <td>Carlos</td>\n      <td>0.0</td>\n      <td>108.47</td>\n    </tr>\n    <tr>\n      <th>2</th>\n      <td>Facebook</td>\n      <td>Carlos</td>\n      <td>7332.64</td>\n      <td>1860.39</td>\n      <td>8.0</td>\n      <td>l3</td>\n      <td>José</td>\n      <td>3.0</td>\n      <td>132.90</td>\n    </tr>\n    <tr>\n      <th>8</th>\n      <td>Microsoft</td>\n      <td>Carlos</td>\n      <td>5674.93</td>\n      <td>1820.90</td>\n      <td>4.0</td>\n      <td>l3</td>\n      <td>Carlos</td>\n      <td>0.0</td>\n      <td>216.94</td>\n    </tr>\n    <tr>\n      <th>6</th>\n      <td>Amazon</td>\n      <td>Maria</td>\n      <td>6784.98</td>\n      <td>1304.42</td>\n      <td>4.0</td>\n      <td>l2</td>\n      <td>Carlos</td>\n      <td>3.0</td>\n      <td>218.28</td>\n    </tr>\n    <tr>\n      <th>0</th>\n      <td>NaN</td>\n      <td>NaN</td>\n      <td>NaN</td>\n      <td>NaN</td>\n      <td>10.0</td>\n      <td>l1</td>\n      <td>José</td>\n      <td>3.0</td>\n      <td>253.26</td>\n    </tr>\n    <tr>\n      <th>4</th>\n      <td>Apple</td>\n      <td>José</td>\n      <td>4289.61</td>\n      <td>513.70</td>\n      <td>6.0</td>\n      <td>l1</td>\n      <td>Maria</td>\n      <td>2.0</td>\n      <td>265.63</td>\n    </tr>\n    <tr>\n      <th>2</th>\n      <td>Facebook</td>\n      <td>Carlos</td>\n      <td>7332.64</td>\n      <td>1860.39</td>\n      <td>16.0</td>\n      <td>l3</td>\n      <td>José</td>\n      <td>3.0</td>\n      <td>265.80</td>\n    </tr>\n    <tr>\n      <th>6</th>\n      <td>Amazon</td>\n      <td>Maria</td>\n      <td>6784.98</td>\n      <td>1304.42</td>\n      <td>8.0</td>\n      <td>l2</td>\n      <td>Carlos</td>\n      <td>3.0</td>\n      <td>436.56</td>\n    </tr>\n    <tr>\n      <th>0</th>\n      <td>NaN</td>\n      <td>NaN</td>\n      <td>NaN</td>\n      <td>NaN</td>\n      <td>20.0</td>\n      <td>l1</td>\n      <td>José</td>\n      <td>3.0</td>\n      <td>506.52</td>\n    </tr>\n    <tr>\n      <th>4</th>\n      <td>Apple</td>\n      <td>José</td>\n      <td>4289.61</td>\n      <td>513.70</td>\n      <td>12.0</td>\n      <td>l1</td>\n      <td>Maria</td>\n      <td>2.0</td>\n      <td>531.26</td>\n    </tr>\n    <tr>\n      <th>1</th>\n      <td>Amazon</td>\n      <td>Fabio</td>\n      <td>4923.53</td>\n      <td>888.46</td>\n      <td>NaN</td>\n      <td>NaN</td>\n      <td>NaN</td>\n      <td>NaN</td>\n      <td>NaN</td>\n    </tr>\n    <tr>\n      <th>3</th>\n      <td>Microsoft</td>\n      <td>Maria</td>\n      <td>9083.98</td>\n      <td>1066.56</td>\n      <td>NaN</td>\n      <td>NaN</td>\n      <td>NaN</td>\n      <td>NaN</td>\n      <td>NaN</td>\n    </tr>\n    <tr>\n      <th>5</th>\n      <td>Google</td>\n      <td>Carlos</td>\n      <td>6442.98</td>\n      <td>2014.15</td>\n      <td>NaN</td>\n      <td>NaN</td>\n      <td>NaN</td>\n      <td>NaN</td>\n      <td>NaN</td>\n    </tr>\n    <tr>\n      <th>7</th>\n      <td>Facebook</td>\n      <td>José</td>\n      <td>6971.62</td>\n      <td>1047.45</td>\n      <td>NaN</td>\n      <td>NaN</td>\n      <td>NaN</td>\n      <td>NaN</td>\n      <td>NaN</td>\n    </tr>\n    <tr>\n      <th>9</th>\n      <td>Apple</td>\n      <td>Maria</td>\n      <td>5011.81</td>\n      <td>2203.67</td>\n      <td>NaN</td>\n      <td>NaN</td>\n      <td>NaN</td>\n      <td>NaN</td>\n      <td>NaN</td>\n    </tr>\n    <tr>\n      <th>10</th>\n      <td>Google</td>\n      <td>José</td>\n      <td>3064.97</td>\n      <td>1215.71</td>\n      <td>NaN</td>\n      <td>NaN</td>\n      <td>NaN</td>\n      <td>NaN</td>\n      <td>NaN</td>\n    </tr>\n  </tbody>\n</table>\n</div>"
     },
     "execution_count": 84,
     "metadata": {},
     "output_type": "execute_result"
    }
   ],
   "source": [
    "df08.sort_values(by='valor_comissao')\n",
    "\n",
    "# Modo Default Crescente."
   ],
   "metadata": {
    "collapsed": false
   }
  },
  {
   "cell_type": "code",
   "execution_count": 86,
   "outputs": [
    {
     "data": {
      "text/plain": "     empresas nome_vendedor  valor_venda  valor_imposto  reg_venda loja  \\\n4       Apple          José      4289.61         513.70       12.0   l1   \n0         NaN           NaN          NaN            NaN       20.0   l1   \n6      Amazon         Maria      6784.98        1304.42        8.0   l2   \n2    Facebook        Carlos      7332.64        1860.39       16.0   l3   \n4       Apple          José      4289.61         513.70        6.0   l1   \n0         NaN           NaN          NaN            NaN       10.0   l1   \n6      Amazon         Maria      6784.98        1304.42        4.0   l2   \n8   Microsoft        Carlos      5674.93        1820.90        4.0   l3   \n2    Facebook        Carlos      7332.64        1860.39        8.0   l3   \n8   Microsoft        Carlos      5674.93        1820.90        2.0   l3   \n1      Amazon         Fabio      4923.53         888.46        NaN  NaN   \n3   Microsoft         Maria      9083.98        1066.56        NaN  NaN   \n5      Google        Carlos      6442.98        2014.15        NaN  NaN   \n7    Facebook          José      6971.62        1047.45        NaN  NaN   \n9       Apple         Maria      5011.81        2203.67        NaN  NaN   \n10     Google          José      3064.97        1215.71        NaN  NaN   \n\n   nome_gerente  itens_venda  valor_comissao  \n4         Maria          2.0          531.26  \n0          José          3.0          506.52  \n6        Carlos          3.0          436.56  \n2          José          3.0          265.80  \n4         Maria          2.0          265.63  \n0          José          3.0          253.26  \n6        Carlos          3.0          218.28  \n8        Carlos          0.0          216.94  \n2          José          3.0          132.90  \n8        Carlos          0.0          108.47  \n1           NaN          NaN             NaN  \n3           NaN          NaN             NaN  \n5           NaN          NaN             NaN  \n7           NaN          NaN             NaN  \n9           NaN          NaN             NaN  \n10          NaN          NaN             NaN  ",
      "text/html": "<div>\n<style scoped>\n    .dataframe tbody tr th:only-of-type {\n        vertical-align: middle;\n    }\n\n    .dataframe tbody tr th {\n        vertical-align: top;\n    }\n\n    .dataframe thead th {\n        text-align: right;\n    }\n</style>\n<table border=\"1\" class=\"dataframe\">\n  <thead>\n    <tr style=\"text-align: right;\">\n      <th></th>\n      <th>empresas</th>\n      <th>nome_vendedor</th>\n      <th>valor_venda</th>\n      <th>valor_imposto</th>\n      <th>reg_venda</th>\n      <th>loja</th>\n      <th>nome_gerente</th>\n      <th>itens_venda</th>\n      <th>valor_comissao</th>\n    </tr>\n  </thead>\n  <tbody>\n    <tr>\n      <th>4</th>\n      <td>Apple</td>\n      <td>José</td>\n      <td>4289.61</td>\n      <td>513.70</td>\n      <td>12.0</td>\n      <td>l1</td>\n      <td>Maria</td>\n      <td>2.0</td>\n      <td>531.26</td>\n    </tr>\n    <tr>\n      <th>0</th>\n      <td>NaN</td>\n      <td>NaN</td>\n      <td>NaN</td>\n      <td>NaN</td>\n      <td>20.0</td>\n      <td>l1</td>\n      <td>José</td>\n      <td>3.0</td>\n      <td>506.52</td>\n    </tr>\n    <tr>\n      <th>6</th>\n      <td>Amazon</td>\n      <td>Maria</td>\n      <td>6784.98</td>\n      <td>1304.42</td>\n      <td>8.0</td>\n      <td>l2</td>\n      <td>Carlos</td>\n      <td>3.0</td>\n      <td>436.56</td>\n    </tr>\n    <tr>\n      <th>2</th>\n      <td>Facebook</td>\n      <td>Carlos</td>\n      <td>7332.64</td>\n      <td>1860.39</td>\n      <td>16.0</td>\n      <td>l3</td>\n      <td>José</td>\n      <td>3.0</td>\n      <td>265.80</td>\n    </tr>\n    <tr>\n      <th>4</th>\n      <td>Apple</td>\n      <td>José</td>\n      <td>4289.61</td>\n      <td>513.70</td>\n      <td>6.0</td>\n      <td>l1</td>\n      <td>Maria</td>\n      <td>2.0</td>\n      <td>265.63</td>\n    </tr>\n    <tr>\n      <th>0</th>\n      <td>NaN</td>\n      <td>NaN</td>\n      <td>NaN</td>\n      <td>NaN</td>\n      <td>10.0</td>\n      <td>l1</td>\n      <td>José</td>\n      <td>3.0</td>\n      <td>253.26</td>\n    </tr>\n    <tr>\n      <th>6</th>\n      <td>Amazon</td>\n      <td>Maria</td>\n      <td>6784.98</td>\n      <td>1304.42</td>\n      <td>4.0</td>\n      <td>l2</td>\n      <td>Carlos</td>\n      <td>3.0</td>\n      <td>218.28</td>\n    </tr>\n    <tr>\n      <th>8</th>\n      <td>Microsoft</td>\n      <td>Carlos</td>\n      <td>5674.93</td>\n      <td>1820.90</td>\n      <td>4.0</td>\n      <td>l3</td>\n      <td>Carlos</td>\n      <td>0.0</td>\n      <td>216.94</td>\n    </tr>\n    <tr>\n      <th>2</th>\n      <td>Facebook</td>\n      <td>Carlos</td>\n      <td>7332.64</td>\n      <td>1860.39</td>\n      <td>8.0</td>\n      <td>l3</td>\n      <td>José</td>\n      <td>3.0</td>\n      <td>132.90</td>\n    </tr>\n    <tr>\n      <th>8</th>\n      <td>Microsoft</td>\n      <td>Carlos</td>\n      <td>5674.93</td>\n      <td>1820.90</td>\n      <td>2.0</td>\n      <td>l3</td>\n      <td>Carlos</td>\n      <td>0.0</td>\n      <td>108.47</td>\n    </tr>\n    <tr>\n      <th>1</th>\n      <td>Amazon</td>\n      <td>Fabio</td>\n      <td>4923.53</td>\n      <td>888.46</td>\n      <td>NaN</td>\n      <td>NaN</td>\n      <td>NaN</td>\n      <td>NaN</td>\n      <td>NaN</td>\n    </tr>\n    <tr>\n      <th>3</th>\n      <td>Microsoft</td>\n      <td>Maria</td>\n      <td>9083.98</td>\n      <td>1066.56</td>\n      <td>NaN</td>\n      <td>NaN</td>\n      <td>NaN</td>\n      <td>NaN</td>\n      <td>NaN</td>\n    </tr>\n    <tr>\n      <th>5</th>\n      <td>Google</td>\n      <td>Carlos</td>\n      <td>6442.98</td>\n      <td>2014.15</td>\n      <td>NaN</td>\n      <td>NaN</td>\n      <td>NaN</td>\n      <td>NaN</td>\n      <td>NaN</td>\n    </tr>\n    <tr>\n      <th>7</th>\n      <td>Facebook</td>\n      <td>José</td>\n      <td>6971.62</td>\n      <td>1047.45</td>\n      <td>NaN</td>\n      <td>NaN</td>\n      <td>NaN</td>\n      <td>NaN</td>\n      <td>NaN</td>\n    </tr>\n    <tr>\n      <th>9</th>\n      <td>Apple</td>\n      <td>Maria</td>\n      <td>5011.81</td>\n      <td>2203.67</td>\n      <td>NaN</td>\n      <td>NaN</td>\n      <td>NaN</td>\n      <td>NaN</td>\n      <td>NaN</td>\n    </tr>\n    <tr>\n      <th>10</th>\n      <td>Google</td>\n      <td>José</td>\n      <td>3064.97</td>\n      <td>1215.71</td>\n      <td>NaN</td>\n      <td>NaN</td>\n      <td>NaN</td>\n      <td>NaN</td>\n      <td>NaN</td>\n    </tr>\n  </tbody>\n</table>\n</div>"
     },
     "execution_count": 86,
     "metadata": {},
     "output_type": "execute_result"
    }
   ],
   "source": [
    "df08.sort_values(by='valor_comissao', ascending=False)\n",
    "# Ordenação de forma decrescente."
   ],
   "metadata": {
    "collapsed": false
   }
  },
  {
   "cell_type": "markdown",
   "source": [
    "### Checagem de valores nulos\n",
    "isnull()"
   ],
   "metadata": {
    "collapsed": false
   }
  },
  {
   "cell_type": "code",
   "execution_count": 87,
   "outputs": [
    {
     "data": {
      "text/plain": "    empresas  nome_vendedor  valor_venda  valor_imposto  reg_venda   loja  \\\n0       True           True         True           True      False  False   \n0       True           True         True           True      False  False   \n1      False          False        False          False       True   True   \n2      False          False        False          False      False  False   \n2      False          False        False          False      False  False   \n3      False          False        False          False       True   True   \n4      False          False        False          False      False  False   \n4      False          False        False          False      False  False   \n5      False          False        False          False       True   True   \n6      False          False        False          False      False  False   \n6      False          False        False          False      False  False   \n7      False          False        False          False       True   True   \n8      False          False        False          False      False  False   \n8      False          False        False          False      False  False   \n9      False          False        False          False       True   True   \n10     False          False        False          False       True   True   \n\n    nome_gerente  itens_venda  valor_comissao  \n0          False        False           False  \n0          False        False           False  \n1           True         True            True  \n2          False        False           False  \n2          False        False           False  \n3           True         True            True  \n4          False        False           False  \n4          False        False           False  \n5           True         True            True  \n6          False        False           False  \n6          False        False           False  \n7           True         True            True  \n8          False        False           False  \n8          False        False           False  \n9           True         True            True  \n10          True         True            True  ",
      "text/html": "<div>\n<style scoped>\n    .dataframe tbody tr th:only-of-type {\n        vertical-align: middle;\n    }\n\n    .dataframe tbody tr th {\n        vertical-align: top;\n    }\n\n    .dataframe thead th {\n        text-align: right;\n    }\n</style>\n<table border=\"1\" class=\"dataframe\">\n  <thead>\n    <tr style=\"text-align: right;\">\n      <th></th>\n      <th>empresas</th>\n      <th>nome_vendedor</th>\n      <th>valor_venda</th>\n      <th>valor_imposto</th>\n      <th>reg_venda</th>\n      <th>loja</th>\n      <th>nome_gerente</th>\n      <th>itens_venda</th>\n      <th>valor_comissao</th>\n    </tr>\n  </thead>\n  <tbody>\n    <tr>\n      <th>0</th>\n      <td>True</td>\n      <td>True</td>\n      <td>True</td>\n      <td>True</td>\n      <td>False</td>\n      <td>False</td>\n      <td>False</td>\n      <td>False</td>\n      <td>False</td>\n    </tr>\n    <tr>\n      <th>0</th>\n      <td>True</td>\n      <td>True</td>\n      <td>True</td>\n      <td>True</td>\n      <td>False</td>\n      <td>False</td>\n      <td>False</td>\n      <td>False</td>\n      <td>False</td>\n    </tr>\n    <tr>\n      <th>1</th>\n      <td>False</td>\n      <td>False</td>\n      <td>False</td>\n      <td>False</td>\n      <td>True</td>\n      <td>True</td>\n      <td>True</td>\n      <td>True</td>\n      <td>True</td>\n    </tr>\n    <tr>\n      <th>2</th>\n      <td>False</td>\n      <td>False</td>\n      <td>False</td>\n      <td>False</td>\n      <td>False</td>\n      <td>False</td>\n      <td>False</td>\n      <td>False</td>\n      <td>False</td>\n    </tr>\n    <tr>\n      <th>2</th>\n      <td>False</td>\n      <td>False</td>\n      <td>False</td>\n      <td>False</td>\n      <td>False</td>\n      <td>False</td>\n      <td>False</td>\n      <td>False</td>\n      <td>False</td>\n    </tr>\n    <tr>\n      <th>3</th>\n      <td>False</td>\n      <td>False</td>\n      <td>False</td>\n      <td>False</td>\n      <td>True</td>\n      <td>True</td>\n      <td>True</td>\n      <td>True</td>\n      <td>True</td>\n    </tr>\n    <tr>\n      <th>4</th>\n      <td>False</td>\n      <td>False</td>\n      <td>False</td>\n      <td>False</td>\n      <td>False</td>\n      <td>False</td>\n      <td>False</td>\n      <td>False</td>\n      <td>False</td>\n    </tr>\n    <tr>\n      <th>4</th>\n      <td>False</td>\n      <td>False</td>\n      <td>False</td>\n      <td>False</td>\n      <td>False</td>\n      <td>False</td>\n      <td>False</td>\n      <td>False</td>\n      <td>False</td>\n    </tr>\n    <tr>\n      <th>5</th>\n      <td>False</td>\n      <td>False</td>\n      <td>False</td>\n      <td>False</td>\n      <td>True</td>\n      <td>True</td>\n      <td>True</td>\n      <td>True</td>\n      <td>True</td>\n    </tr>\n    <tr>\n      <th>6</th>\n      <td>False</td>\n      <td>False</td>\n      <td>False</td>\n      <td>False</td>\n      <td>False</td>\n      <td>False</td>\n      <td>False</td>\n      <td>False</td>\n      <td>False</td>\n    </tr>\n    <tr>\n      <th>6</th>\n      <td>False</td>\n      <td>False</td>\n      <td>False</td>\n      <td>False</td>\n      <td>False</td>\n      <td>False</td>\n      <td>False</td>\n      <td>False</td>\n      <td>False</td>\n    </tr>\n    <tr>\n      <th>7</th>\n      <td>False</td>\n      <td>False</td>\n      <td>False</td>\n      <td>False</td>\n      <td>True</td>\n      <td>True</td>\n      <td>True</td>\n      <td>True</td>\n      <td>True</td>\n    </tr>\n    <tr>\n      <th>8</th>\n      <td>False</td>\n      <td>False</td>\n      <td>False</td>\n      <td>False</td>\n      <td>False</td>\n      <td>False</td>\n      <td>False</td>\n      <td>False</td>\n      <td>False</td>\n    </tr>\n    <tr>\n      <th>8</th>\n      <td>False</td>\n      <td>False</td>\n      <td>False</td>\n      <td>False</td>\n      <td>False</td>\n      <td>False</td>\n      <td>False</td>\n      <td>False</td>\n      <td>False</td>\n    </tr>\n    <tr>\n      <th>9</th>\n      <td>False</td>\n      <td>False</td>\n      <td>False</td>\n      <td>False</td>\n      <td>True</td>\n      <td>True</td>\n      <td>True</td>\n      <td>True</td>\n      <td>True</td>\n    </tr>\n    <tr>\n      <th>10</th>\n      <td>False</td>\n      <td>False</td>\n      <td>False</td>\n      <td>False</td>\n      <td>True</td>\n      <td>True</td>\n      <td>True</td>\n      <td>True</td>\n      <td>True</td>\n    </tr>\n  </tbody>\n</table>\n</div>"
     },
     "execution_count": 87,
     "metadata": {},
     "output_type": "execute_result"
    }
   ],
   "source": [
    "df08.isnull()\n",
    "\n",
    "# retorna um DF boleano, bom para filtros"
   ],
   "metadata": {
    "collapsed": false
   }
  },
  {
   "cell_type": "code",
   "execution_count": 89,
   "outputs": [
    {
     "data": {
      "text/plain": "    empresas  nome_vendedor  valor_venda  valor_imposto  reg_venda   loja  \\\n0       True           True         True           True      False  False   \n0       True           True         True           True      False  False   \n1      False          False        False          False       True   True   \n2      False          False        False          False      False  False   \n2      False          False        False          False      False  False   \n3      False          False        False          False       True   True   \n4      False          False        False          False      False  False   \n4      False          False        False          False      False  False   \n5      False          False        False          False       True   True   \n6      False          False        False          False      False  False   \n6      False          False        False          False      False  False   \n7      False          False        False          False       True   True   \n8      False          False        False          False      False  False   \n8      False          False        False          False      False  False   \n9      False          False        False          False       True   True   \n10     False          False        False          False       True   True   \n\n    nome_gerente  itens_venda  valor_comissao  \n0          False        False           False  \n0          False        False           False  \n1           True         True            True  \n2          False        False           False  \n2          False        False           False  \n3           True         True            True  \n4          False        False           False  \n4          False        False           False  \n5           True         True            True  \n6          False        False           False  \n6          False        False           False  \n7           True         True            True  \n8          False        False           False  \n8          False        False           False  \n9           True         True            True  \n10          True         True            True  ",
      "text/html": "<div>\n<style scoped>\n    .dataframe tbody tr th:only-of-type {\n        vertical-align: middle;\n    }\n\n    .dataframe tbody tr th {\n        vertical-align: top;\n    }\n\n    .dataframe thead th {\n        text-align: right;\n    }\n</style>\n<table border=\"1\" class=\"dataframe\">\n  <thead>\n    <tr style=\"text-align: right;\">\n      <th></th>\n      <th>empresas</th>\n      <th>nome_vendedor</th>\n      <th>valor_venda</th>\n      <th>valor_imposto</th>\n      <th>reg_venda</th>\n      <th>loja</th>\n      <th>nome_gerente</th>\n      <th>itens_venda</th>\n      <th>valor_comissao</th>\n    </tr>\n  </thead>\n  <tbody>\n    <tr>\n      <th>0</th>\n      <td>True</td>\n      <td>True</td>\n      <td>True</td>\n      <td>True</td>\n      <td>False</td>\n      <td>False</td>\n      <td>False</td>\n      <td>False</td>\n      <td>False</td>\n    </tr>\n    <tr>\n      <th>0</th>\n      <td>True</td>\n      <td>True</td>\n      <td>True</td>\n      <td>True</td>\n      <td>False</td>\n      <td>False</td>\n      <td>False</td>\n      <td>False</td>\n      <td>False</td>\n    </tr>\n    <tr>\n      <th>1</th>\n      <td>False</td>\n      <td>False</td>\n      <td>False</td>\n      <td>False</td>\n      <td>True</td>\n      <td>True</td>\n      <td>True</td>\n      <td>True</td>\n      <td>True</td>\n    </tr>\n    <tr>\n      <th>2</th>\n      <td>False</td>\n      <td>False</td>\n      <td>False</td>\n      <td>False</td>\n      <td>False</td>\n      <td>False</td>\n      <td>False</td>\n      <td>False</td>\n      <td>False</td>\n    </tr>\n    <tr>\n      <th>2</th>\n      <td>False</td>\n      <td>False</td>\n      <td>False</td>\n      <td>False</td>\n      <td>False</td>\n      <td>False</td>\n      <td>False</td>\n      <td>False</td>\n      <td>False</td>\n    </tr>\n    <tr>\n      <th>3</th>\n      <td>False</td>\n      <td>False</td>\n      <td>False</td>\n      <td>False</td>\n      <td>True</td>\n      <td>True</td>\n      <td>True</td>\n      <td>True</td>\n      <td>True</td>\n    </tr>\n    <tr>\n      <th>4</th>\n      <td>False</td>\n      <td>False</td>\n      <td>False</td>\n      <td>False</td>\n      <td>False</td>\n      <td>False</td>\n      <td>False</td>\n      <td>False</td>\n      <td>False</td>\n    </tr>\n    <tr>\n      <th>4</th>\n      <td>False</td>\n      <td>False</td>\n      <td>False</td>\n      <td>False</td>\n      <td>False</td>\n      <td>False</td>\n      <td>False</td>\n      <td>False</td>\n      <td>False</td>\n    </tr>\n    <tr>\n      <th>5</th>\n      <td>False</td>\n      <td>False</td>\n      <td>False</td>\n      <td>False</td>\n      <td>True</td>\n      <td>True</td>\n      <td>True</td>\n      <td>True</td>\n      <td>True</td>\n    </tr>\n    <tr>\n      <th>6</th>\n      <td>False</td>\n      <td>False</td>\n      <td>False</td>\n      <td>False</td>\n      <td>False</td>\n      <td>False</td>\n      <td>False</td>\n      <td>False</td>\n      <td>False</td>\n    </tr>\n    <tr>\n      <th>6</th>\n      <td>False</td>\n      <td>False</td>\n      <td>False</td>\n      <td>False</td>\n      <td>False</td>\n      <td>False</td>\n      <td>False</td>\n      <td>False</td>\n      <td>False</td>\n    </tr>\n    <tr>\n      <th>7</th>\n      <td>False</td>\n      <td>False</td>\n      <td>False</td>\n      <td>False</td>\n      <td>True</td>\n      <td>True</td>\n      <td>True</td>\n      <td>True</td>\n      <td>True</td>\n    </tr>\n    <tr>\n      <th>8</th>\n      <td>False</td>\n      <td>False</td>\n      <td>False</td>\n      <td>False</td>\n      <td>False</td>\n      <td>False</td>\n      <td>False</td>\n      <td>False</td>\n      <td>False</td>\n    </tr>\n    <tr>\n      <th>8</th>\n      <td>False</td>\n      <td>False</td>\n      <td>False</td>\n      <td>False</td>\n      <td>False</td>\n      <td>False</td>\n      <td>False</td>\n      <td>False</td>\n      <td>False</td>\n    </tr>\n    <tr>\n      <th>9</th>\n      <td>False</td>\n      <td>False</td>\n      <td>False</td>\n      <td>False</td>\n      <td>True</td>\n      <td>True</td>\n      <td>True</td>\n      <td>True</td>\n      <td>True</td>\n    </tr>\n    <tr>\n      <th>10</th>\n      <td>False</td>\n      <td>False</td>\n      <td>False</td>\n      <td>False</td>\n      <td>True</td>\n      <td>True</td>\n      <td>True</td>\n      <td>True</td>\n      <td>True</td>\n    </tr>\n  </tbody>\n</table>\n</div>"
     },
     "execution_count": 89,
     "metadata": {},
     "output_type": "execute_result"
    }
   ],
   "source": [
    "df08.isna()\n",
    "\n",
    "# Retorna um DF boleano, bom para filtros."
   ],
   "metadata": {
    "collapsed": false
   }
  },
  {
   "cell_type": "code",
   "execution_count": 90,
   "outputs": [
    {
     "data": {
      "text/plain": "   empresas nome_vendedor  valor_venda  valor_imposto  reg_venda loja  \\\n0       NaN           NaN          NaN            NaN       10.0   l1   \n0       NaN           NaN          NaN            NaN       20.0   l1   \n1    Amazon         Fabio      4923.53         888.46        NaN  NaN   \n2  Facebook        Carlos      7332.64        1860.39        8.0   l3   \n2  Facebook        Carlos      7332.64        1860.39       16.0   l3   \n\n  nome_gerente  itens_venda  valor_comissao  \n0         José          3.0          253.26  \n0         José          3.0          506.52  \n1          NaN          NaN             NaN  \n2         José          3.0          132.90  \n2         José          3.0          265.80  ",
      "text/html": "<div>\n<style scoped>\n    .dataframe tbody tr th:only-of-type {\n        vertical-align: middle;\n    }\n\n    .dataframe tbody tr th {\n        vertical-align: top;\n    }\n\n    .dataframe thead th {\n        text-align: right;\n    }\n</style>\n<table border=\"1\" class=\"dataframe\">\n  <thead>\n    <tr style=\"text-align: right;\">\n      <th></th>\n      <th>empresas</th>\n      <th>nome_vendedor</th>\n      <th>valor_venda</th>\n      <th>valor_imposto</th>\n      <th>reg_venda</th>\n      <th>loja</th>\n      <th>nome_gerente</th>\n      <th>itens_venda</th>\n      <th>valor_comissao</th>\n    </tr>\n  </thead>\n  <tbody>\n    <tr>\n      <th>0</th>\n      <td>NaN</td>\n      <td>NaN</td>\n      <td>NaN</td>\n      <td>NaN</td>\n      <td>10.0</td>\n      <td>l1</td>\n      <td>José</td>\n      <td>3.0</td>\n      <td>253.26</td>\n    </tr>\n    <tr>\n      <th>0</th>\n      <td>NaN</td>\n      <td>NaN</td>\n      <td>NaN</td>\n      <td>NaN</td>\n      <td>20.0</td>\n      <td>l1</td>\n      <td>José</td>\n      <td>3.0</td>\n      <td>506.52</td>\n    </tr>\n    <tr>\n      <th>1</th>\n      <td>Amazon</td>\n      <td>Fabio</td>\n      <td>4923.53</td>\n      <td>888.46</td>\n      <td>NaN</td>\n      <td>NaN</td>\n      <td>NaN</td>\n      <td>NaN</td>\n      <td>NaN</td>\n    </tr>\n    <tr>\n      <th>2</th>\n      <td>Facebook</td>\n      <td>Carlos</td>\n      <td>7332.64</td>\n      <td>1860.39</td>\n      <td>8.0</td>\n      <td>l3</td>\n      <td>José</td>\n      <td>3.0</td>\n      <td>132.90</td>\n    </tr>\n    <tr>\n      <th>2</th>\n      <td>Facebook</td>\n      <td>Carlos</td>\n      <td>7332.64</td>\n      <td>1860.39</td>\n      <td>16.0</td>\n      <td>l3</td>\n      <td>José</td>\n      <td>3.0</td>\n      <td>265.80</td>\n    </tr>\n  </tbody>\n</table>\n</div>"
     },
     "execution_count": 90,
     "metadata": {},
     "output_type": "execute_result"
    }
   ],
   "source": [
    "df08.head()\n",
    "\n",
    "# Mosta as primeiras linhas de um DF"
   ],
   "metadata": {
    "collapsed": false
   }
  },
  {
   "cell_type": "markdown",
   "source": [
    "## Pivot_table\n",
    "A tabela dinamica do excel, muito mais poderosa.\n",
    "pivot_table()"
   ],
   "metadata": {
    "collapsed": false
   }
  },
  {
   "cell_type": "code",
   "execution_count": 95,
   "outputs": [
    {
     "data": {
      "text/plain": "                       valor_comissao                  valor_venda           \\\nloja                               l1      l2       l3          l1       l2   \nnome_gerente empresas                                                         \nCarlos       Amazon             0.000  327.42    0.000        0.00  6784.98   \n             Microsoft          0.000    0.00  162.705        0.00     0.00   \nJosé         Facebook           0.000    0.00  199.350        0.00     0.00   \nMaria        Apple            398.445    0.00    0.000     4289.61     0.00   \n\n                                 \nloja                         l3  \nnome_gerente empresas            \nCarlos       Amazon        0.00  \n             Microsoft  5674.93  \nJosé         Facebook   7332.64  \nMaria        Apple         0.00  ",
      "text/html": "<div>\n<style scoped>\n    .dataframe tbody tr th:only-of-type {\n        vertical-align: middle;\n    }\n\n    .dataframe tbody tr th {\n        vertical-align: top;\n    }\n\n    .dataframe thead tr th {\n        text-align: left;\n    }\n\n    .dataframe thead tr:last-of-type th {\n        text-align: right;\n    }\n</style>\n<table border=\"1\" class=\"dataframe\">\n  <thead>\n    <tr>\n      <th></th>\n      <th></th>\n      <th colspan=\"3\" halign=\"left\">valor_comissao</th>\n      <th colspan=\"3\" halign=\"left\">valor_venda</th>\n    </tr>\n    <tr>\n      <th></th>\n      <th>loja</th>\n      <th>l1</th>\n      <th>l2</th>\n      <th>l3</th>\n      <th>l1</th>\n      <th>l2</th>\n      <th>l3</th>\n    </tr>\n    <tr>\n      <th>nome_gerente</th>\n      <th>empresas</th>\n      <th></th>\n      <th></th>\n      <th></th>\n      <th></th>\n      <th></th>\n      <th></th>\n    </tr>\n  </thead>\n  <tbody>\n    <tr>\n      <th rowspan=\"2\" valign=\"top\">Carlos</th>\n      <th>Amazon</th>\n      <td>0.000</td>\n      <td>327.42</td>\n      <td>0.000</td>\n      <td>0.00</td>\n      <td>6784.98</td>\n      <td>0.00</td>\n    </tr>\n    <tr>\n      <th>Microsoft</th>\n      <td>0.000</td>\n      <td>0.00</td>\n      <td>162.705</td>\n      <td>0.00</td>\n      <td>0.00</td>\n      <td>5674.93</td>\n    </tr>\n    <tr>\n      <th>José</th>\n      <th>Facebook</th>\n      <td>0.000</td>\n      <td>0.00</td>\n      <td>199.350</td>\n      <td>0.00</td>\n      <td>0.00</td>\n      <td>7332.64</td>\n    </tr>\n    <tr>\n      <th>Maria</th>\n      <th>Apple</th>\n      <td>398.445</td>\n      <td>0.00</td>\n      <td>0.000</td>\n      <td>4289.61</td>\n      <td>0.00</td>\n      <td>0.00</td>\n    </tr>\n  </tbody>\n</table>\n</div>"
     },
     "execution_count": 95,
     "metadata": {},
     "output_type": "execute_result"
    }
   ],
   "source": [
    "df08_pivot = pd.pivot_table(df08, values=['valor_venda', 'valor_comissao'], index=['nome_gerente', 'empresas'], columns='loja').fillna(0)\n",
    "df08_pivot\n",
    "\n",
    "\n",
    "# Note o fillna() no final, pois pivot_table retorna NaN para casos de não localização"
   ],
   "metadata": {
    "collapsed": false
   }
  },
  {
   "cell_type": "markdown",
   "source": [
    "## Leitura de dados\n",
    "\n",
    "read_csv()\n",
    "read_exce()\n",
    "read_html()"
   ],
   "metadata": {
    "collapsed": false
   }
  },
  {
   "cell_type": "code",
   "execution_count": null,
   "outputs": [],
   "source": [],
   "metadata": {
    "collapsed": false
   }
  }
 ],
 "metadata": {
  "kernelspec": {
   "display_name": "Python 3",
   "language": "python",
   "name": "python3"
  },
  "language_info": {
   "codemirror_mode": {
    "name": "ipython",
    "version": 2
   },
   "file_extension": ".py",
   "mimetype": "text/x-python",
   "name": "python",
   "nbconvert_exporter": "python",
   "pygments_lexer": "ipython2",
   "version": "2.7.6"
  }
 },
 "nbformat": 4,
 "nbformat_minor": 0
}
