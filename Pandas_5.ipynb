{
 "cells": [
  {
   "cell_type": "markdown",
   "source": [
    "# Pandas\n",
    "#### Tratando dados ausentes."
   ],
   "metadata": {
    "collapsed": false
   }
  },
  {
   "cell_type": "code",
   "execution_count": 1,
   "metadata": {
    "collapsed": true
   },
   "outputs": [],
   "source": [
    "import pandas as pd\n",
    "import numpy as np\n",
    "from sklearn.model_selection import train_test_split\n",
    "from sklearn.impute import SimpleImputer\n",
    "from feature_engine.imputation import  MeanMedianImputer, CategoricalImputer, ArbitraryNumberImputer, EndTailImputer"
   ]
  },
  {
   "cell_type": "code",
   "execution_count": 14,
   "outputs": [
    {
     "name": "stdout",
     "output_type": "stream",
     "text": [
      "Collecting package metadata (current_repodata.json): ...working... done\n",
      "Solving environment: ...working... failed with initial frozen solve. Retrying with flexible solve.\n",
      "Collecting package metadata (repodata.json): ...working... done\n",
      "Solving environment: ...working... failed with initial frozen solve. Retrying with flexible solve.\n"
     ]
    },
    {
     "name": "stderr",
     "output_type": "stream",
     "text": [
      "\n",
      "PackagesNotFoundError: The following packages are not available from current channels:\n",
      "\n",
      "  - feature_engine\n",
      "\n",
      "Current channels:\n",
      "\n",
      "  - https://repo.anaconda.com/pkgs/main/win-64\n",
      "  - https://repo.anaconda.com/pkgs/main/noarch\n",
      "  - https://repo.anaconda.com/pkgs/r/win-64\n",
      "  - https://repo.anaconda.com/pkgs/r/noarch\n",
      "  - https://repo.anaconda.com/pkgs/msys2/win-64\n",
      "  - https://repo.anaconda.com/pkgs/msys2/noarch\n",
      "\n",
      "To search for alternate channels that may provide the conda package you're\n",
      "looking for, navigate to\n",
      "\n",
      "    https://anaconda.org\n",
      "\n",
      "and use the search bar at the top of the page.\n",
      "\n",
      "\n"
     ]
    }
   ],
   "source": [
    "!conda install feature_engine"
   ],
   "metadata": {
    "collapsed": false
   }
  },
  {
   "cell_type": "code",
   "execution_count": 3,
   "outputs": [],
   "source": [
    "df001 = pd.read_csv('datasets/heart.csv')\n",
    "\n",
    "# import"
   ],
   "metadata": {
    "collapsed": false
   }
  },
  {
   "cell_type": "code",
   "execution_count": 4,
   "outputs": [
    {
     "data": {
      "text/plain": "      id  age     sex        dataset               cp  trestbps   chol    fbs  \\\n0      1   63    Male      Cleveland   typical angina     145.0  233.0   True   \n1      2   67    Male      Cleveland     asymptomatic     160.0  286.0  False   \n2      3   67    Male      Cleveland     asymptomatic     120.0  229.0  False   \n3      4   37    Male      Cleveland      non-anginal     130.0  250.0  False   \n4      5   41  Female      Cleveland  atypical angina     130.0  204.0  False   \n..   ...  ...     ...            ...              ...       ...    ...    ...   \n915  916   54  Female  VA Long Beach     asymptomatic     127.0  333.0   True   \n916  917   62    Male  VA Long Beach   typical angina       NaN  139.0  False   \n917  918   55    Male  VA Long Beach     asymptomatic     122.0  223.0   True   \n918  919   58    Male  VA Long Beach     asymptomatic       NaN  385.0   True   \n919  920   62    Male  VA Long Beach  atypical angina     120.0  254.0  False   \n\n              restecg  thalch  exang  oldpeak        slope   ca  \\\n0      lv hypertrophy   150.0  False      2.3  downsloping  0.0   \n1      lv hypertrophy   108.0   True      1.5         flat  3.0   \n2      lv hypertrophy   129.0   True      2.6         flat  2.0   \n3              normal   187.0  False      3.5  downsloping  0.0   \n4      lv hypertrophy   172.0  False      1.4    upsloping  0.0   \n..                ...     ...    ...      ...          ...  ...   \n915  st-t abnormality   154.0  False      0.0          NaN  NaN   \n916  st-t abnormality     NaN    NaN      NaN          NaN  NaN   \n917  st-t abnormality   100.0  False      0.0          NaN  NaN   \n918    lv hypertrophy     NaN    NaN      NaN          NaN  NaN   \n919    lv hypertrophy    93.0   True      0.0          NaN  NaN   \n\n                  thal  num  \n0         fixed defect    0  \n1               normal    2  \n2    reversable defect    1  \n3               normal    0  \n4               normal    0  \n..                 ...  ...  \n915                NaN    1  \n916                NaN    0  \n917       fixed defect    2  \n918                NaN    0  \n919                NaN    1  \n\n[920 rows x 16 columns]",
      "text/html": "<div>\n<style scoped>\n    .dataframe tbody tr th:only-of-type {\n        vertical-align: middle;\n    }\n\n    .dataframe tbody tr th {\n        vertical-align: top;\n    }\n\n    .dataframe thead th {\n        text-align: right;\n    }\n</style>\n<table border=\"1\" class=\"dataframe\">\n  <thead>\n    <tr style=\"text-align: right;\">\n      <th></th>\n      <th>id</th>\n      <th>age</th>\n      <th>sex</th>\n      <th>dataset</th>\n      <th>cp</th>\n      <th>trestbps</th>\n      <th>chol</th>\n      <th>fbs</th>\n      <th>restecg</th>\n      <th>thalch</th>\n      <th>exang</th>\n      <th>oldpeak</th>\n      <th>slope</th>\n      <th>ca</th>\n      <th>thal</th>\n      <th>num</th>\n    </tr>\n  </thead>\n  <tbody>\n    <tr>\n      <th>0</th>\n      <td>1</td>\n      <td>63</td>\n      <td>Male</td>\n      <td>Cleveland</td>\n      <td>typical angina</td>\n      <td>145.0</td>\n      <td>233.0</td>\n      <td>True</td>\n      <td>lv hypertrophy</td>\n      <td>150.0</td>\n      <td>False</td>\n      <td>2.3</td>\n      <td>downsloping</td>\n      <td>0.0</td>\n      <td>fixed defect</td>\n      <td>0</td>\n    </tr>\n    <tr>\n      <th>1</th>\n      <td>2</td>\n      <td>67</td>\n      <td>Male</td>\n      <td>Cleveland</td>\n      <td>asymptomatic</td>\n      <td>160.0</td>\n      <td>286.0</td>\n      <td>False</td>\n      <td>lv hypertrophy</td>\n      <td>108.0</td>\n      <td>True</td>\n      <td>1.5</td>\n      <td>flat</td>\n      <td>3.0</td>\n      <td>normal</td>\n      <td>2</td>\n    </tr>\n    <tr>\n      <th>2</th>\n      <td>3</td>\n      <td>67</td>\n      <td>Male</td>\n      <td>Cleveland</td>\n      <td>asymptomatic</td>\n      <td>120.0</td>\n      <td>229.0</td>\n      <td>False</td>\n      <td>lv hypertrophy</td>\n      <td>129.0</td>\n      <td>True</td>\n      <td>2.6</td>\n      <td>flat</td>\n      <td>2.0</td>\n      <td>reversable defect</td>\n      <td>1</td>\n    </tr>\n    <tr>\n      <th>3</th>\n      <td>4</td>\n      <td>37</td>\n      <td>Male</td>\n      <td>Cleveland</td>\n      <td>non-anginal</td>\n      <td>130.0</td>\n      <td>250.0</td>\n      <td>False</td>\n      <td>normal</td>\n      <td>187.0</td>\n      <td>False</td>\n      <td>3.5</td>\n      <td>downsloping</td>\n      <td>0.0</td>\n      <td>normal</td>\n      <td>0</td>\n    </tr>\n    <tr>\n      <th>4</th>\n      <td>5</td>\n      <td>41</td>\n      <td>Female</td>\n      <td>Cleveland</td>\n      <td>atypical angina</td>\n      <td>130.0</td>\n      <td>204.0</td>\n      <td>False</td>\n      <td>lv hypertrophy</td>\n      <td>172.0</td>\n      <td>False</td>\n      <td>1.4</td>\n      <td>upsloping</td>\n      <td>0.0</td>\n      <td>normal</td>\n      <td>0</td>\n    </tr>\n    <tr>\n      <th>...</th>\n      <td>...</td>\n      <td>...</td>\n      <td>...</td>\n      <td>...</td>\n      <td>...</td>\n      <td>...</td>\n      <td>...</td>\n      <td>...</td>\n      <td>...</td>\n      <td>...</td>\n      <td>...</td>\n      <td>...</td>\n      <td>...</td>\n      <td>...</td>\n      <td>...</td>\n      <td>...</td>\n    </tr>\n    <tr>\n      <th>915</th>\n      <td>916</td>\n      <td>54</td>\n      <td>Female</td>\n      <td>VA Long Beach</td>\n      <td>asymptomatic</td>\n      <td>127.0</td>\n      <td>333.0</td>\n      <td>True</td>\n      <td>st-t abnormality</td>\n      <td>154.0</td>\n      <td>False</td>\n      <td>0.0</td>\n      <td>NaN</td>\n      <td>NaN</td>\n      <td>NaN</td>\n      <td>1</td>\n    </tr>\n    <tr>\n      <th>916</th>\n      <td>917</td>\n      <td>62</td>\n      <td>Male</td>\n      <td>VA Long Beach</td>\n      <td>typical angina</td>\n      <td>NaN</td>\n      <td>139.0</td>\n      <td>False</td>\n      <td>st-t abnormality</td>\n      <td>NaN</td>\n      <td>NaN</td>\n      <td>NaN</td>\n      <td>NaN</td>\n      <td>NaN</td>\n      <td>NaN</td>\n      <td>0</td>\n    </tr>\n    <tr>\n      <th>917</th>\n      <td>918</td>\n      <td>55</td>\n      <td>Male</td>\n      <td>VA Long Beach</td>\n      <td>asymptomatic</td>\n      <td>122.0</td>\n      <td>223.0</td>\n      <td>True</td>\n      <td>st-t abnormality</td>\n      <td>100.0</td>\n      <td>False</td>\n      <td>0.0</td>\n      <td>NaN</td>\n      <td>NaN</td>\n      <td>fixed defect</td>\n      <td>2</td>\n    </tr>\n    <tr>\n      <th>918</th>\n      <td>919</td>\n      <td>58</td>\n      <td>Male</td>\n      <td>VA Long Beach</td>\n      <td>asymptomatic</td>\n      <td>NaN</td>\n      <td>385.0</td>\n      <td>True</td>\n      <td>lv hypertrophy</td>\n      <td>NaN</td>\n      <td>NaN</td>\n      <td>NaN</td>\n      <td>NaN</td>\n      <td>NaN</td>\n      <td>NaN</td>\n      <td>0</td>\n    </tr>\n    <tr>\n      <th>919</th>\n      <td>920</td>\n      <td>62</td>\n      <td>Male</td>\n      <td>VA Long Beach</td>\n      <td>atypical angina</td>\n      <td>120.0</td>\n      <td>254.0</td>\n      <td>False</td>\n      <td>lv hypertrophy</td>\n      <td>93.0</td>\n      <td>True</td>\n      <td>0.0</td>\n      <td>NaN</td>\n      <td>NaN</td>\n      <td>NaN</td>\n      <td>1</td>\n    </tr>\n  </tbody>\n</table>\n<p>920 rows × 16 columns</p>\n</div>"
     },
     "execution_count": 4,
     "metadata": {},
     "output_type": "execute_result"
    }
   ],
   "source": [
    "df001"
   ],
   "metadata": {
    "collapsed": false
   }
  },
  {
   "cell_type": "markdown",
   "source": [
    "### Splitando as as bases de teste e treino"
   ],
   "metadata": {
    "collapsed": false
   }
  },
  {
   "cell_type": "code",
   "execution_count": 7,
   "outputs": [],
   "source": [
    "dfx_treino, dfx_teste, dfy_treino, dfx_test = train_test_split(df001.drop(['num', 'id'], axis=1), df001['num'], test_size=0.3, random_state=0)"
   ],
   "metadata": {
    "collapsed": false
   }
  },
  {
   "cell_type": "code",
   "execution_count": 9,
   "outputs": [
    {
     "data": {
      "text/plain": "     age     sex        dataset               cp  trestbps   chol    fbs  \\\n76    60    Male      Cleveland     asymptomatic     125.0  258.0  False   \n48    65  Female      Cleveland      non-anginal     140.0  417.0   True   \n304   29    Male        Hungary  atypical angina     120.0  243.0  False   \n263   44    Male      Cleveland      non-anginal     120.0  226.0  False   \n744   52    Male  VA Long Beach      non-anginal     128.0    0.0  False   \n\n              restecg  thalch  exang  oldpeak      slope   ca  \\\n76     lv hypertrophy   141.0   True      2.8       flat  1.0   \n48     lv hypertrophy   157.0  False      0.8  upsloping  1.0   \n304            normal   160.0  False      0.0        NaN  NaN   \n263            normal   169.0  False      0.0  upsloping  0.0   \n744  st-t abnormality   180.0  False      3.0  upsloping  NaN   \n\n                  thal  \n76   reversable defect  \n48              normal  \n304                NaN  \n263             normal  \n744                NaN  ",
      "text/html": "<div>\n<style scoped>\n    .dataframe tbody tr th:only-of-type {\n        vertical-align: middle;\n    }\n\n    .dataframe tbody tr th {\n        vertical-align: top;\n    }\n\n    .dataframe thead th {\n        text-align: right;\n    }\n</style>\n<table border=\"1\" class=\"dataframe\">\n  <thead>\n    <tr style=\"text-align: right;\">\n      <th></th>\n      <th>age</th>\n      <th>sex</th>\n      <th>dataset</th>\n      <th>cp</th>\n      <th>trestbps</th>\n      <th>chol</th>\n      <th>fbs</th>\n      <th>restecg</th>\n      <th>thalch</th>\n      <th>exang</th>\n      <th>oldpeak</th>\n      <th>slope</th>\n      <th>ca</th>\n      <th>thal</th>\n    </tr>\n  </thead>\n  <tbody>\n    <tr>\n      <th>76</th>\n      <td>60</td>\n      <td>Male</td>\n      <td>Cleveland</td>\n      <td>asymptomatic</td>\n      <td>125.0</td>\n      <td>258.0</td>\n      <td>False</td>\n      <td>lv hypertrophy</td>\n      <td>141.0</td>\n      <td>True</td>\n      <td>2.8</td>\n      <td>flat</td>\n      <td>1.0</td>\n      <td>reversable defect</td>\n    </tr>\n    <tr>\n      <th>48</th>\n      <td>65</td>\n      <td>Female</td>\n      <td>Cleveland</td>\n      <td>non-anginal</td>\n      <td>140.0</td>\n      <td>417.0</td>\n      <td>True</td>\n      <td>lv hypertrophy</td>\n      <td>157.0</td>\n      <td>False</td>\n      <td>0.8</td>\n      <td>upsloping</td>\n      <td>1.0</td>\n      <td>normal</td>\n    </tr>\n    <tr>\n      <th>304</th>\n      <td>29</td>\n      <td>Male</td>\n      <td>Hungary</td>\n      <td>atypical angina</td>\n      <td>120.0</td>\n      <td>243.0</td>\n      <td>False</td>\n      <td>normal</td>\n      <td>160.0</td>\n      <td>False</td>\n      <td>0.0</td>\n      <td>NaN</td>\n      <td>NaN</td>\n      <td>NaN</td>\n    </tr>\n    <tr>\n      <th>263</th>\n      <td>44</td>\n      <td>Male</td>\n      <td>Cleveland</td>\n      <td>non-anginal</td>\n      <td>120.0</td>\n      <td>226.0</td>\n      <td>False</td>\n      <td>normal</td>\n      <td>169.0</td>\n      <td>False</td>\n      <td>0.0</td>\n      <td>upsloping</td>\n      <td>0.0</td>\n      <td>normal</td>\n    </tr>\n    <tr>\n      <th>744</th>\n      <td>52</td>\n      <td>Male</td>\n      <td>VA Long Beach</td>\n      <td>non-anginal</td>\n      <td>128.0</td>\n      <td>0.0</td>\n      <td>False</td>\n      <td>st-t abnormality</td>\n      <td>180.0</td>\n      <td>False</td>\n      <td>3.0</td>\n      <td>upsloping</td>\n      <td>NaN</td>\n      <td>NaN</td>\n    </tr>\n  </tbody>\n</table>\n</div>"
     },
     "execution_count": 9,
     "metadata": {},
     "output_type": "execute_result"
    }
   ],
   "source": [
    "dfx_treino.head()"
   ],
   "metadata": {
    "collapsed": false
   }
  },
  {
   "cell_type": "code",
   "execution_count": 10,
   "outputs": [
    {
     "data": {
      "text/plain": "age         0.000000\nsex         0.000000\ndataset     0.000000\ncp          0.000000\ntrestbps    0.060559\nchol        0.037267\nfbs         0.099379\nrestecg     0.003106\nthalch      0.055901\nexang       0.055901\noldpeak     0.066770\nslope       0.326087\nca          0.656832\nthal        0.518634\ndtype: float64"
     },
     "execution_count": 10,
     "metadata": {},
     "output_type": "execute_result"
    }
   ],
   "source": [
    "dfx_treino.isnull().mean()"
   ],
   "metadata": {
    "collapsed": false
   }
  },
  {
   "cell_type": "code",
   "execution_count": 13,
   "outputs": [
    {
     "data": {
      "text/plain": "age           int64\nsex          object\ndataset      object\ncp           object\ntrestbps    float64\nchol        float64\nfbs          object\nrestecg      object\nthalch      float64\nexang        object\noldpeak     float64\nslope        object\nca          float64\nthal         object\ndtype: object"
     },
     "execution_count": 13,
     "metadata": {},
     "output_type": "execute_result"
    }
   ],
   "source": [
    "dfx_treino.dtypes"
   ],
   "metadata": {
    "collapsed": false
   }
  },
  {
   "cell_type": "markdown",
   "source": [
    "### Separação do DF com as colunas numéricas"
   ],
   "metadata": {
    "collapsed": false
   }
  },
  {
   "cell_type": "code",
   "execution_count": 14,
   "outputs": [],
   "source": [
    "dfx_treino_1, dfx_teste_1, dfy_treino_1, dfx_test_1 = train_test_split(df001[['age', 'trestbps', 'chol', 'thalch', 'oldpeak', 'ca' ]], df001['num'], test_size=0.3, random_state=0)\n",
    "# Pegando apenas colunas numéricas para poder fazer média dos valores."
   ],
   "metadata": {
    "collapsed": false
   }
  },
  {
   "cell_type": "markdown",
   "source": [
    "Modo Pandas"
   ],
   "metadata": {
    "collapsed": false
   }
  },
  {
   "cell_type": "code",
   "execution_count": 16,
   "outputs": [
    {
     "name": "stdout",
     "output_type": "stream",
     "text": [
      "Replace pronto.\n"
     ]
    }
   ],
   "source": [
    "# Eliminado valores ausentes com o Pandas\n",
    "for col_name in 'age trestbps chol thalch oldpeak ca'.split():\n",
    "    media_calc = dfx_treino_1[col_name].mean()\n",
    "    dfx_treino_1[col_name] = dfx_treino_1[col_name].fillna(media_calc)\n",
    "    dfx_teste_1[col_name] = dfx_teste_1[col_name].fillna(media_calc)\n",
    "\n",
    "print('Replace pronto.')"
   ],
   "metadata": {
    "collapsed": false
   }
  },
  {
   "cell_type": "code",
   "execution_count": 17,
   "outputs": [
    {
     "data": {
      "text/plain": "age         0.0\ntrestbps    0.0\nchol        0.0\nthalch      0.0\noldpeak     0.0\nca          0.0\ndtype: float64"
     },
     "execution_count": 17,
     "metadata": {},
     "output_type": "execute_result"
    }
   ],
   "source": [
    "dfx_treino_1.isnull().mean()\n",
    "\n",
    "# Verificando se os valores nulos foram eliminados."
   ],
   "metadata": {
    "collapsed": false
   }
  },
  {
   "cell_type": "markdown",
   "source": [
    "Modo SKLearn SimpleImputer"
   ],
   "metadata": {
    "collapsed": false
   }
  },
  {
   "cell_type": "code",
   "execution_count": 62,
   "outputs": [],
   "source": [
    "cols_name = ['age', 'trestbps', 'chol', 'thalch', 'oldpeak', 'ca' ]\n",
    "\n",
    "dfx_treino_2, dfx_teste_2, dfy_treino_2, dfx_test_2 = train_test_split(df001[cols_name], df001['num'], test_size=0.3, random_state=0)\n",
    "# Pegando apenas colunas numéricas para poder fazer média dos valores."
   ],
   "metadata": {
    "collapsed": false
   }
  },
  {
   "cell_type": "code",
   "execution_count": 63,
   "outputs": [],
   "source": [
    "# Fazendo a imputação com o SKL\n",
    "\n",
    "imputer = SimpleImputer(strategy='mean')"
   ],
   "metadata": {
    "collapsed": false
   }
  },
  {
   "cell_type": "code",
   "execution_count": 64,
   "outputs": [
    {
     "data": {
      "text/plain": "SimpleImputer()",
      "text/html": "<style>#sk-container-id-7 {color: black;background-color: white;}#sk-container-id-7 pre{padding: 0;}#sk-container-id-7 div.sk-toggleable {background-color: white;}#sk-container-id-7 label.sk-toggleable__label {cursor: pointer;display: block;width: 100%;margin-bottom: 0;padding: 0.3em;box-sizing: border-box;text-align: center;}#sk-container-id-7 label.sk-toggleable__label-arrow:before {content: \"▸\";float: left;margin-right: 0.25em;color: #696969;}#sk-container-id-7 label.sk-toggleable__label-arrow:hover:before {color: black;}#sk-container-id-7 div.sk-estimator:hover label.sk-toggleable__label-arrow:before {color: black;}#sk-container-id-7 div.sk-toggleable__content {max-height: 0;max-width: 0;overflow: hidden;text-align: left;background-color: #f0f8ff;}#sk-container-id-7 div.sk-toggleable__content pre {margin: 0.2em;color: black;border-radius: 0.25em;background-color: #f0f8ff;}#sk-container-id-7 input.sk-toggleable__control:checked~div.sk-toggleable__content {max-height: 200px;max-width: 100%;overflow: auto;}#sk-container-id-7 input.sk-toggleable__control:checked~label.sk-toggleable__label-arrow:before {content: \"▾\";}#sk-container-id-7 div.sk-estimator input.sk-toggleable__control:checked~label.sk-toggleable__label {background-color: #d4ebff;}#sk-container-id-7 div.sk-label input.sk-toggleable__control:checked~label.sk-toggleable__label {background-color: #d4ebff;}#sk-container-id-7 input.sk-hidden--visually {border: 0;clip: rect(1px 1px 1px 1px);clip: rect(1px, 1px, 1px, 1px);height: 1px;margin: -1px;overflow: hidden;padding: 0;position: absolute;width: 1px;}#sk-container-id-7 div.sk-estimator {font-family: monospace;background-color: #f0f8ff;border: 1px dotted black;border-radius: 0.25em;box-sizing: border-box;margin-bottom: 0.5em;}#sk-container-id-7 div.sk-estimator:hover {background-color: #d4ebff;}#sk-container-id-7 div.sk-parallel-item::after {content: \"\";width: 100%;border-bottom: 1px solid gray;flex-grow: 1;}#sk-container-id-7 div.sk-label:hover label.sk-toggleable__label {background-color: #d4ebff;}#sk-container-id-7 div.sk-serial::before {content: \"\";position: absolute;border-left: 1px solid gray;box-sizing: border-box;top: 0;bottom: 0;left: 50%;z-index: 0;}#sk-container-id-7 div.sk-serial {display: flex;flex-direction: column;align-items: center;background-color: white;padding-right: 0.2em;padding-left: 0.2em;position: relative;}#sk-container-id-7 div.sk-item {position: relative;z-index: 1;}#sk-container-id-7 div.sk-parallel {display: flex;align-items: stretch;justify-content: center;background-color: white;position: relative;}#sk-container-id-7 div.sk-item::before, #sk-container-id-7 div.sk-parallel-item::before {content: \"\";position: absolute;border-left: 1px solid gray;box-sizing: border-box;top: 0;bottom: 0;left: 50%;z-index: -1;}#sk-container-id-7 div.sk-parallel-item {display: flex;flex-direction: column;z-index: 1;position: relative;background-color: white;}#sk-container-id-7 div.sk-parallel-item:first-child::after {align-self: flex-end;width: 50%;}#sk-container-id-7 div.sk-parallel-item:last-child::after {align-self: flex-start;width: 50%;}#sk-container-id-7 div.sk-parallel-item:only-child::after {width: 0;}#sk-container-id-7 div.sk-dashed-wrapped {border: 1px dashed gray;margin: 0 0.4em 0.5em 0.4em;box-sizing: border-box;padding-bottom: 0.4em;background-color: white;}#sk-container-id-7 div.sk-label label {font-family: monospace;font-weight: bold;display: inline-block;line-height: 1.2em;}#sk-container-id-7 div.sk-label-container {text-align: center;}#sk-container-id-7 div.sk-container {/* jupyter's `normalize.less` sets `[hidden] { display: none; }` but bootstrap.min.css set `[hidden] { display: none !important; }` so we also need the `!important` here to be able to override the default hidden behavior on the sphinx rendered scikit-learn.org. See: https://github.com/scikit-learn/scikit-learn/issues/21755 */display: inline-block !important;position: relative;}#sk-container-id-7 div.sk-text-repr-fallback {display: none;}</style><div id=\"sk-container-id-7\" class=\"sk-top-container\"><div class=\"sk-text-repr-fallback\"><pre>SimpleImputer()</pre><b>In a Jupyter environment, please rerun this cell to show the HTML representation or trust the notebook. <br />On GitHub, the HTML representation is unable to render, please try loading this page with nbviewer.org.</b></div><div class=\"sk-container\" hidden><div class=\"sk-item\"><div class=\"sk-estimator sk-toggleable\"><input class=\"sk-toggleable__control sk-hidden--visually\" id=\"sk-estimator-id-7\" type=\"checkbox\" checked><label for=\"sk-estimator-id-7\" class=\"sk-toggleable__label sk-toggleable__label-arrow\">SimpleImputer</label><div class=\"sk-toggleable__content\"><pre>SimpleImputer()</pre></div></div></div></div></div>"
     },
     "execution_count": 64,
     "metadata": {},
     "output_type": "execute_result"
    }
   ],
   "source": [
    "imputer.fit(dfx_treino_2)"
   ],
   "metadata": {
    "collapsed": false
   }
  },
  {
   "cell_type": "code",
   "execution_count": 65,
   "outputs": [
    {
     "data": {
      "text/plain": "array([ 53.33074534, 132.4661157 , 197.45645161, 137.84210526,\n         0.87670549,   0.66968326])"
     },
     "execution_count": 65,
     "metadata": {},
     "output_type": "execute_result"
    }
   ],
   "source": [
    "imputer.statistics_"
   ],
   "metadata": {
    "collapsed": false
   }
  },
  {
   "cell_type": "code",
   "execution_count": 66,
   "outputs": [
    {
     "data": {
      "text/plain": "              age    trestbps        chol      thalch     oldpeak          ca\ncount  644.000000  605.000000  620.000000  608.000000  601.000000  221.000000\nmean    53.330745  132.466116  197.456452  137.842105    0.876705    0.669683\nstd      9.383861   18.357224  111.265084   26.235181    1.108718    0.946013\nmin     28.000000   92.000000    0.000000   63.000000   -2.600000    0.000000\n25%     47.000000  120.000000  172.750000  120.000000    0.000000    0.000000\n50%     54.000000  130.000000  223.000000  140.000000    0.500000    0.000000\n75%     60.000000  140.000000  268.250000  158.000000    1.500000    1.000000\nmax     77.000000  200.000000  564.000000  202.000000    6.200000    3.000000",
      "text/html": "<div>\n<style scoped>\n    .dataframe tbody tr th:only-of-type {\n        vertical-align: middle;\n    }\n\n    .dataframe tbody tr th {\n        vertical-align: top;\n    }\n\n    .dataframe thead th {\n        text-align: right;\n    }\n</style>\n<table border=\"1\" class=\"dataframe\">\n  <thead>\n    <tr style=\"text-align: right;\">\n      <th></th>\n      <th>age</th>\n      <th>trestbps</th>\n      <th>chol</th>\n      <th>thalch</th>\n      <th>oldpeak</th>\n      <th>ca</th>\n    </tr>\n  </thead>\n  <tbody>\n    <tr>\n      <th>count</th>\n      <td>644.000000</td>\n      <td>605.000000</td>\n      <td>620.000000</td>\n      <td>608.000000</td>\n      <td>601.000000</td>\n      <td>221.000000</td>\n    </tr>\n    <tr>\n      <th>mean</th>\n      <td>53.330745</td>\n      <td>132.466116</td>\n      <td>197.456452</td>\n      <td>137.842105</td>\n      <td>0.876705</td>\n      <td>0.669683</td>\n    </tr>\n    <tr>\n      <th>std</th>\n      <td>9.383861</td>\n      <td>18.357224</td>\n      <td>111.265084</td>\n      <td>26.235181</td>\n      <td>1.108718</td>\n      <td>0.946013</td>\n    </tr>\n    <tr>\n      <th>min</th>\n      <td>28.000000</td>\n      <td>92.000000</td>\n      <td>0.000000</td>\n      <td>63.000000</td>\n      <td>-2.600000</td>\n      <td>0.000000</td>\n    </tr>\n    <tr>\n      <th>25%</th>\n      <td>47.000000</td>\n      <td>120.000000</td>\n      <td>172.750000</td>\n      <td>120.000000</td>\n      <td>0.000000</td>\n      <td>0.000000</td>\n    </tr>\n    <tr>\n      <th>50%</th>\n      <td>54.000000</td>\n      <td>130.000000</td>\n      <td>223.000000</td>\n      <td>140.000000</td>\n      <td>0.500000</td>\n      <td>0.000000</td>\n    </tr>\n    <tr>\n      <th>75%</th>\n      <td>60.000000</td>\n      <td>140.000000</td>\n      <td>268.250000</td>\n      <td>158.000000</td>\n      <td>1.500000</td>\n      <td>1.000000</td>\n    </tr>\n    <tr>\n      <th>max</th>\n      <td>77.000000</td>\n      <td>200.000000</td>\n      <td>564.000000</td>\n      <td>202.000000</td>\n      <td>6.200000</td>\n      <td>3.000000</td>\n    </tr>\n  </tbody>\n</table>\n</div>"
     },
     "execution_count": 66,
     "metadata": {},
     "output_type": "execute_result"
    }
   ],
   "source": [
    "dfx_treino_2.describe()"
   ],
   "metadata": {
    "collapsed": false
   }
  },
  {
   "cell_type": "code",
   "execution_count": 67,
   "outputs": [
    {
     "data": {
      "text/plain": "age         0.000000\ntrestbps    0.060559\nchol        0.037267\nthalch      0.055901\noldpeak     0.066770\nca          0.656832\ndtype: float64"
     },
     "execution_count": 67,
     "metadata": {},
     "output_type": "execute_result"
    }
   ],
   "source": [
    "dfx_treino_2.isnull().mean()"
   ],
   "metadata": {
    "collapsed": false
   }
  },
  {
   "cell_type": "code",
   "execution_count": 68,
   "outputs": [],
   "source": [
    "dfx_treino_2 = imputer.transform(dfx_treino_2)"
   ],
   "metadata": {
    "collapsed": false
   }
  },
  {
   "cell_type": "markdown",
   "source": [
    "Ele retorna um np.array"
   ],
   "metadata": {
    "collapsed": false
   }
  },
  {
   "cell_type": "code",
   "execution_count": 69,
   "outputs": [
    {
     "data": {
      "text/plain": "array([[ 60.        , 125.        , 258.        , 141.        ,\n          2.8       ,   1.        ],\n       [ 65.        , 140.        , 417.        , 157.        ,\n          0.8       ,   1.        ],\n       [ 29.        , 120.        , 243.        , 160.        ,\n          0.        ,   0.66968326],\n       ...,\n       [ 51.        , 130.        ,   0.        , 170.        ,\n         -0.7       ,   0.66968326],\n       [ 47.        , 135.        , 248.        , 170.        ,\n          0.        ,   0.66968326],\n       [ 61.        , 130.        ,   0.        , 115.        ,\n          0.        ,   0.66968326]])"
     },
     "execution_count": 69,
     "metadata": {},
     "output_type": "execute_result"
    }
   ],
   "source": [
    "dfx_treino_2"
   ],
   "metadata": {
    "collapsed": false
   }
  },
  {
   "cell_type": "code",
   "execution_count": 70,
   "outputs": [],
   "source": [
    "dfx_treino_2 = pd.DataFrame(dfx_treino_2, columns=cols_name)"
   ],
   "metadata": {
    "collapsed": false
   }
  },
  {
   "cell_type": "code",
   "execution_count": 71,
   "outputs": [
    {
     "data": {
      "text/plain": "      age    trestbps   chol      thalch   oldpeak        ca\n0    60.0  125.000000  258.0  141.000000  2.800000  1.000000\n1    65.0  140.000000  417.0  157.000000  0.800000  1.000000\n2    29.0  120.000000  243.0  160.000000  0.000000  0.669683\n3    44.0  120.000000  226.0  169.000000  0.000000  0.000000\n4    52.0  128.000000    0.0  180.000000  3.000000  0.669683\n..    ...         ...    ...         ...       ...       ...\n639  64.0  132.466116  306.0  137.842105  0.876705  0.669683\n640  43.0  132.000000  247.0  143.000000  0.100000  0.669683\n641  51.0  130.000000    0.0  170.000000 -0.700000  0.669683\n642  47.0  135.000000  248.0  170.000000  0.000000  0.669683\n643  61.0  130.000000    0.0  115.000000  0.000000  0.669683\n\n[644 rows x 6 columns]",
      "text/html": "<div>\n<style scoped>\n    .dataframe tbody tr th:only-of-type {\n        vertical-align: middle;\n    }\n\n    .dataframe tbody tr th {\n        vertical-align: top;\n    }\n\n    .dataframe thead th {\n        text-align: right;\n    }\n</style>\n<table border=\"1\" class=\"dataframe\">\n  <thead>\n    <tr style=\"text-align: right;\">\n      <th></th>\n      <th>age</th>\n      <th>trestbps</th>\n      <th>chol</th>\n      <th>thalch</th>\n      <th>oldpeak</th>\n      <th>ca</th>\n    </tr>\n  </thead>\n  <tbody>\n    <tr>\n      <th>0</th>\n      <td>60.0</td>\n      <td>125.000000</td>\n      <td>258.0</td>\n      <td>141.000000</td>\n      <td>2.800000</td>\n      <td>1.000000</td>\n    </tr>\n    <tr>\n      <th>1</th>\n      <td>65.0</td>\n      <td>140.000000</td>\n      <td>417.0</td>\n      <td>157.000000</td>\n      <td>0.800000</td>\n      <td>1.000000</td>\n    </tr>\n    <tr>\n      <th>2</th>\n      <td>29.0</td>\n      <td>120.000000</td>\n      <td>243.0</td>\n      <td>160.000000</td>\n      <td>0.000000</td>\n      <td>0.669683</td>\n    </tr>\n    <tr>\n      <th>3</th>\n      <td>44.0</td>\n      <td>120.000000</td>\n      <td>226.0</td>\n      <td>169.000000</td>\n      <td>0.000000</td>\n      <td>0.000000</td>\n    </tr>\n    <tr>\n      <th>4</th>\n      <td>52.0</td>\n      <td>128.000000</td>\n      <td>0.0</td>\n      <td>180.000000</td>\n      <td>3.000000</td>\n      <td>0.669683</td>\n    </tr>\n    <tr>\n      <th>...</th>\n      <td>...</td>\n      <td>...</td>\n      <td>...</td>\n      <td>...</td>\n      <td>...</td>\n      <td>...</td>\n    </tr>\n    <tr>\n      <th>639</th>\n      <td>64.0</td>\n      <td>132.466116</td>\n      <td>306.0</td>\n      <td>137.842105</td>\n      <td>0.876705</td>\n      <td>0.669683</td>\n    </tr>\n    <tr>\n      <th>640</th>\n      <td>43.0</td>\n      <td>132.000000</td>\n      <td>247.0</td>\n      <td>143.000000</td>\n      <td>0.100000</td>\n      <td>0.669683</td>\n    </tr>\n    <tr>\n      <th>641</th>\n      <td>51.0</td>\n      <td>130.000000</td>\n      <td>0.0</td>\n      <td>170.000000</td>\n      <td>-0.700000</td>\n      <td>0.669683</td>\n    </tr>\n    <tr>\n      <th>642</th>\n      <td>47.0</td>\n      <td>135.000000</td>\n      <td>248.0</td>\n      <td>170.000000</td>\n      <td>0.000000</td>\n      <td>0.669683</td>\n    </tr>\n    <tr>\n      <th>643</th>\n      <td>61.0</td>\n      <td>130.000000</td>\n      <td>0.0</td>\n      <td>115.000000</td>\n      <td>0.000000</td>\n      <td>0.669683</td>\n    </tr>\n  </tbody>\n</table>\n<p>644 rows × 6 columns</p>\n</div>"
     },
     "execution_count": 71,
     "metadata": {},
     "output_type": "execute_result"
    }
   ],
   "source": [
    "dfx_treino_2"
   ],
   "metadata": {
    "collapsed": false
   }
  },
  {
   "cell_type": "code",
   "execution_count": 72,
   "outputs": [
    {
     "data": {
      "text/plain": "age         0.0\ntrestbps    0.0\nchol        0.0\nthalch      0.0\noldpeak     0.0\nca          0.0\ndtype: float64"
     },
     "execution_count": 72,
     "metadata": {},
     "output_type": "execute_result"
    }
   ],
   "source": [
    "dfx_treino_2.isnull().mean()"
   ],
   "metadata": {
    "collapsed": false
   }
  },
  {
   "cell_type": "code",
   "execution_count": 73,
   "outputs": [
    {
     "data": {
      "text/plain": "              age    trestbps        chol      thalch     oldpeak          ca\ncount  644.000000  644.000000  644.000000  644.000000  644.000000  644.000000\nmean    53.330745  132.466116  197.456452  137.842105    0.876705    0.669683\nstd      9.383861   17.791804  109.168851   25.490182    1.071005    0.553354\nmin     28.000000   92.000000    0.000000   63.000000   -2.600000    0.000000\n25%     47.000000  120.000000  175.000000  120.000000    0.000000    0.669683\n50%     54.000000  130.000000  221.000000  137.921053    0.700000    0.669683\n75%     60.000000  140.000000  267.000000  156.250000    1.500000    0.669683\nmax     77.000000  200.000000  564.000000  202.000000    6.200000    3.000000",
      "text/html": "<div>\n<style scoped>\n    .dataframe tbody tr th:only-of-type {\n        vertical-align: middle;\n    }\n\n    .dataframe tbody tr th {\n        vertical-align: top;\n    }\n\n    .dataframe thead th {\n        text-align: right;\n    }\n</style>\n<table border=\"1\" class=\"dataframe\">\n  <thead>\n    <tr style=\"text-align: right;\">\n      <th></th>\n      <th>age</th>\n      <th>trestbps</th>\n      <th>chol</th>\n      <th>thalch</th>\n      <th>oldpeak</th>\n      <th>ca</th>\n    </tr>\n  </thead>\n  <tbody>\n    <tr>\n      <th>count</th>\n      <td>644.000000</td>\n      <td>644.000000</td>\n      <td>644.000000</td>\n      <td>644.000000</td>\n      <td>644.000000</td>\n      <td>644.000000</td>\n    </tr>\n    <tr>\n      <th>mean</th>\n      <td>53.330745</td>\n      <td>132.466116</td>\n      <td>197.456452</td>\n      <td>137.842105</td>\n      <td>0.876705</td>\n      <td>0.669683</td>\n    </tr>\n    <tr>\n      <th>std</th>\n      <td>9.383861</td>\n      <td>17.791804</td>\n      <td>109.168851</td>\n      <td>25.490182</td>\n      <td>1.071005</td>\n      <td>0.553354</td>\n    </tr>\n    <tr>\n      <th>min</th>\n      <td>28.000000</td>\n      <td>92.000000</td>\n      <td>0.000000</td>\n      <td>63.000000</td>\n      <td>-2.600000</td>\n      <td>0.000000</td>\n    </tr>\n    <tr>\n      <th>25%</th>\n      <td>47.000000</td>\n      <td>120.000000</td>\n      <td>175.000000</td>\n      <td>120.000000</td>\n      <td>0.000000</td>\n      <td>0.669683</td>\n    </tr>\n    <tr>\n      <th>50%</th>\n      <td>54.000000</td>\n      <td>130.000000</td>\n      <td>221.000000</td>\n      <td>137.921053</td>\n      <td>0.700000</td>\n      <td>0.669683</td>\n    </tr>\n    <tr>\n      <th>75%</th>\n      <td>60.000000</td>\n      <td>140.000000</td>\n      <td>267.000000</td>\n      <td>156.250000</td>\n      <td>1.500000</td>\n      <td>0.669683</td>\n    </tr>\n    <tr>\n      <th>max</th>\n      <td>77.000000</td>\n      <td>200.000000</td>\n      <td>564.000000</td>\n      <td>202.000000</td>\n      <td>6.200000</td>\n      <td>3.000000</td>\n    </tr>\n  </tbody>\n</table>\n</div>"
     },
     "execution_count": 73,
     "metadata": {},
     "output_type": "execute_result"
    }
   ],
   "source": [
    "dfx_treino_2.describe()"
   ],
   "metadata": {
    "collapsed": false
   }
  },
  {
   "cell_type": "markdown",
   "source": [
    "### Inputando valores com o Feature Engine"
   ],
   "metadata": {
    "collapsed": false
   }
  },
  {
   "cell_type": "code",
   "execution_count": 74,
   "outputs": [],
   "source": [
    "dfx_treino_3, dfx_teste_3, dfy_treino_3, dfx_test_3 = train_test_split(df001.drop(['id', 'num'], axis=1), df001['num'], test_size=0.3, random_state=0)\n",
    "\n",
    "# Dividi o DF novamente, mas aqui com todas as colunas (numéricas e classificatórias)"
   ],
   "metadata": {
    "collapsed": false
   }
  },
  {
   "cell_type": "code",
   "execution_count": 75,
   "outputs": [],
   "source": [
    "imputer_3 = MeanMedianImputer(imputation_method='mean', variables=cols_name)"
   ],
   "metadata": {
    "collapsed": false
   }
  },
  {
   "cell_type": "code",
   "execution_count": 76,
   "outputs": [
    {
     "data": {
      "text/plain": "MeanMedianImputer(imputation_method='mean',\n                  variables=['age', 'trestbps', 'chol', 'thalch', 'oldpeak',\n                             'ca'])",
      "text/html": "<style>#sk-container-id-8 {color: black;background-color: white;}#sk-container-id-8 pre{padding: 0;}#sk-container-id-8 div.sk-toggleable {background-color: white;}#sk-container-id-8 label.sk-toggleable__label {cursor: pointer;display: block;width: 100%;margin-bottom: 0;padding: 0.3em;box-sizing: border-box;text-align: center;}#sk-container-id-8 label.sk-toggleable__label-arrow:before {content: \"▸\";float: left;margin-right: 0.25em;color: #696969;}#sk-container-id-8 label.sk-toggleable__label-arrow:hover:before {color: black;}#sk-container-id-8 div.sk-estimator:hover label.sk-toggleable__label-arrow:before {color: black;}#sk-container-id-8 div.sk-toggleable__content {max-height: 0;max-width: 0;overflow: hidden;text-align: left;background-color: #f0f8ff;}#sk-container-id-8 div.sk-toggleable__content pre {margin: 0.2em;color: black;border-radius: 0.25em;background-color: #f0f8ff;}#sk-container-id-8 input.sk-toggleable__control:checked~div.sk-toggleable__content {max-height: 200px;max-width: 100%;overflow: auto;}#sk-container-id-8 input.sk-toggleable__control:checked~label.sk-toggleable__label-arrow:before {content: \"▾\";}#sk-container-id-8 div.sk-estimator input.sk-toggleable__control:checked~label.sk-toggleable__label {background-color: #d4ebff;}#sk-container-id-8 div.sk-label input.sk-toggleable__control:checked~label.sk-toggleable__label {background-color: #d4ebff;}#sk-container-id-8 input.sk-hidden--visually {border: 0;clip: rect(1px 1px 1px 1px);clip: rect(1px, 1px, 1px, 1px);height: 1px;margin: -1px;overflow: hidden;padding: 0;position: absolute;width: 1px;}#sk-container-id-8 div.sk-estimator {font-family: monospace;background-color: #f0f8ff;border: 1px dotted black;border-radius: 0.25em;box-sizing: border-box;margin-bottom: 0.5em;}#sk-container-id-8 div.sk-estimator:hover {background-color: #d4ebff;}#sk-container-id-8 div.sk-parallel-item::after {content: \"\";width: 100%;border-bottom: 1px solid gray;flex-grow: 1;}#sk-container-id-8 div.sk-label:hover label.sk-toggleable__label {background-color: #d4ebff;}#sk-container-id-8 div.sk-serial::before {content: \"\";position: absolute;border-left: 1px solid gray;box-sizing: border-box;top: 0;bottom: 0;left: 50%;z-index: 0;}#sk-container-id-8 div.sk-serial {display: flex;flex-direction: column;align-items: center;background-color: white;padding-right: 0.2em;padding-left: 0.2em;position: relative;}#sk-container-id-8 div.sk-item {position: relative;z-index: 1;}#sk-container-id-8 div.sk-parallel {display: flex;align-items: stretch;justify-content: center;background-color: white;position: relative;}#sk-container-id-8 div.sk-item::before, #sk-container-id-8 div.sk-parallel-item::before {content: \"\";position: absolute;border-left: 1px solid gray;box-sizing: border-box;top: 0;bottom: 0;left: 50%;z-index: -1;}#sk-container-id-8 div.sk-parallel-item {display: flex;flex-direction: column;z-index: 1;position: relative;background-color: white;}#sk-container-id-8 div.sk-parallel-item:first-child::after {align-self: flex-end;width: 50%;}#sk-container-id-8 div.sk-parallel-item:last-child::after {align-self: flex-start;width: 50%;}#sk-container-id-8 div.sk-parallel-item:only-child::after {width: 0;}#sk-container-id-8 div.sk-dashed-wrapped {border: 1px dashed gray;margin: 0 0.4em 0.5em 0.4em;box-sizing: border-box;padding-bottom: 0.4em;background-color: white;}#sk-container-id-8 div.sk-label label {font-family: monospace;font-weight: bold;display: inline-block;line-height: 1.2em;}#sk-container-id-8 div.sk-label-container {text-align: center;}#sk-container-id-8 div.sk-container {/* jupyter's `normalize.less` sets `[hidden] { display: none; }` but bootstrap.min.css set `[hidden] { display: none !important; }` so we also need the `!important` here to be able to override the default hidden behavior on the sphinx rendered scikit-learn.org. See: https://github.com/scikit-learn/scikit-learn/issues/21755 */display: inline-block !important;position: relative;}#sk-container-id-8 div.sk-text-repr-fallback {display: none;}</style><div id=\"sk-container-id-8\" class=\"sk-top-container\"><div class=\"sk-text-repr-fallback\"><pre>MeanMedianImputer(imputation_method=&#x27;mean&#x27;,\n                  variables=[&#x27;age&#x27;, &#x27;trestbps&#x27;, &#x27;chol&#x27;, &#x27;thalch&#x27;, &#x27;oldpeak&#x27;,\n                             &#x27;ca&#x27;])</pre><b>In a Jupyter environment, please rerun this cell to show the HTML representation or trust the notebook. <br />On GitHub, the HTML representation is unable to render, please try loading this page with nbviewer.org.</b></div><div class=\"sk-container\" hidden><div class=\"sk-item\"><div class=\"sk-estimator sk-toggleable\"><input class=\"sk-toggleable__control sk-hidden--visually\" id=\"sk-estimator-id-8\" type=\"checkbox\" checked><label for=\"sk-estimator-id-8\" class=\"sk-toggleable__label sk-toggleable__label-arrow\">MeanMedianImputer</label><div class=\"sk-toggleable__content\"><pre>MeanMedianImputer(imputation_method=&#x27;mean&#x27;,\n                  variables=[&#x27;age&#x27;, &#x27;trestbps&#x27;, &#x27;chol&#x27;, &#x27;thalch&#x27;, &#x27;oldpeak&#x27;,\n                             &#x27;ca&#x27;])</pre></div></div></div></div></div>"
     },
     "execution_count": 76,
     "metadata": {},
     "output_type": "execute_result"
    }
   ],
   "source": [
    "imputer_3.fit(dfx_treino_3)"
   ],
   "metadata": {
    "collapsed": false
   }
  },
  {
   "cell_type": "code",
   "execution_count": 77,
   "outputs": [
    {
     "data": {
      "text/plain": "{'age': 53.33074534161491,\n 'trestbps': 132.46611570247933,\n 'chol': 197.45645161290324,\n 'thalch': 137.8421052631579,\n 'oldpeak': 0.8767054908485856,\n 'ca': 0.669683257918552}"
     },
     "execution_count": 77,
     "metadata": {},
     "output_type": "execute_result"
    }
   ],
   "source": [
    "imputer_3.imputer_dict_\n",
    "\n",
    "# diferente do SKL, o Feature Engine, trata com dicionario e Dataframe ao invés de np.arrays"
   ],
   "metadata": {
    "collapsed": false
   }
  },
  {
   "cell_type": "code",
   "execution_count": 78,
   "outputs": [],
   "source": [
    "dfx_treino_3 = imputer_3.transform(dfx_treino_3)"
   ],
   "metadata": {
    "collapsed": false
   }
  },
  {
   "cell_type": "code",
   "execution_count": 79,
   "outputs": [
    {
     "data": {
      "text/plain": "     age     sex        dataset               cp    trestbps   chol    fbs  \\\n76    60    Male      Cleveland     asymptomatic  125.000000  258.0  False   \n48    65  Female      Cleveland      non-anginal  140.000000  417.0   True   \n304   29    Male        Hungary  atypical angina  120.000000  243.0  False   \n263   44    Male      Cleveland      non-anginal  120.000000  226.0  False   \n744   52    Male  VA Long Beach      non-anginal  128.000000    0.0  False   \n..   ...     ...            ...              ...         ...    ...    ...   \n835   64    Male  VA Long Beach     asymptomatic  132.466116  306.0   True   \n192   43    Male      Cleveland     asymptomatic  132.000000  247.0   True   \n629   51    Male    Switzerland     asymptomatic  130.000000    0.0    NaN   \n559   47  Female        Hungary      non-anginal  135.000000  248.0   True   \n684   61    Male    Switzerland     asymptomatic  130.000000    0.0  False   \n\n              restecg      thalch  exang   oldpeak      slope        ca  \\\n76     lv hypertrophy  141.000000   True  2.800000       flat  1.000000   \n48     lv hypertrophy  157.000000  False  0.800000  upsloping  1.000000   \n304            normal  160.000000  False  0.000000        NaN  0.669683   \n263            normal  169.000000  False  0.000000  upsloping  0.000000   \n744  st-t abnormality  180.000000  False  3.000000  upsloping  0.669683   \n..                ...         ...    ...       ...        ...       ...   \n835  st-t abnormality  137.842105    NaN  0.876705        NaN  0.669683   \n192    lv hypertrophy  143.000000   True  0.100000       flat  0.669683   \n629            normal  170.000000  False -0.700000  upsloping  0.669683   \n559            normal  170.000000  False  0.000000        NaN  0.669683   \n684    lv hypertrophy  115.000000  False  0.000000       flat  0.669683   \n\n                  thal  \n76   reversable defect  \n48              normal  \n304                NaN  \n263             normal  \n744                NaN  \n..                 ...  \n835                NaN  \n192  reversable defect  \n629                NaN  \n559                NaN  \n684  reversable defect  \n\n[644 rows x 14 columns]",
      "text/html": "<div>\n<style scoped>\n    .dataframe tbody tr th:only-of-type {\n        vertical-align: middle;\n    }\n\n    .dataframe tbody tr th {\n        vertical-align: top;\n    }\n\n    .dataframe thead th {\n        text-align: right;\n    }\n</style>\n<table border=\"1\" class=\"dataframe\">\n  <thead>\n    <tr style=\"text-align: right;\">\n      <th></th>\n      <th>age</th>\n      <th>sex</th>\n      <th>dataset</th>\n      <th>cp</th>\n      <th>trestbps</th>\n      <th>chol</th>\n      <th>fbs</th>\n      <th>restecg</th>\n      <th>thalch</th>\n      <th>exang</th>\n      <th>oldpeak</th>\n      <th>slope</th>\n      <th>ca</th>\n      <th>thal</th>\n    </tr>\n  </thead>\n  <tbody>\n    <tr>\n      <th>76</th>\n      <td>60</td>\n      <td>Male</td>\n      <td>Cleveland</td>\n      <td>asymptomatic</td>\n      <td>125.000000</td>\n      <td>258.0</td>\n      <td>False</td>\n      <td>lv hypertrophy</td>\n      <td>141.000000</td>\n      <td>True</td>\n      <td>2.800000</td>\n      <td>flat</td>\n      <td>1.000000</td>\n      <td>reversable defect</td>\n    </tr>\n    <tr>\n      <th>48</th>\n      <td>65</td>\n      <td>Female</td>\n      <td>Cleveland</td>\n      <td>non-anginal</td>\n      <td>140.000000</td>\n      <td>417.0</td>\n      <td>True</td>\n      <td>lv hypertrophy</td>\n      <td>157.000000</td>\n      <td>False</td>\n      <td>0.800000</td>\n      <td>upsloping</td>\n      <td>1.000000</td>\n      <td>normal</td>\n    </tr>\n    <tr>\n      <th>304</th>\n      <td>29</td>\n      <td>Male</td>\n      <td>Hungary</td>\n      <td>atypical angina</td>\n      <td>120.000000</td>\n      <td>243.0</td>\n      <td>False</td>\n      <td>normal</td>\n      <td>160.000000</td>\n      <td>False</td>\n      <td>0.000000</td>\n      <td>NaN</td>\n      <td>0.669683</td>\n      <td>NaN</td>\n    </tr>\n    <tr>\n      <th>263</th>\n      <td>44</td>\n      <td>Male</td>\n      <td>Cleveland</td>\n      <td>non-anginal</td>\n      <td>120.000000</td>\n      <td>226.0</td>\n      <td>False</td>\n      <td>normal</td>\n      <td>169.000000</td>\n      <td>False</td>\n      <td>0.000000</td>\n      <td>upsloping</td>\n      <td>0.000000</td>\n      <td>normal</td>\n    </tr>\n    <tr>\n      <th>744</th>\n      <td>52</td>\n      <td>Male</td>\n      <td>VA Long Beach</td>\n      <td>non-anginal</td>\n      <td>128.000000</td>\n      <td>0.0</td>\n      <td>False</td>\n      <td>st-t abnormality</td>\n      <td>180.000000</td>\n      <td>False</td>\n      <td>3.000000</td>\n      <td>upsloping</td>\n      <td>0.669683</td>\n      <td>NaN</td>\n    </tr>\n    <tr>\n      <th>...</th>\n      <td>...</td>\n      <td>...</td>\n      <td>...</td>\n      <td>...</td>\n      <td>...</td>\n      <td>...</td>\n      <td>...</td>\n      <td>...</td>\n      <td>...</td>\n      <td>...</td>\n      <td>...</td>\n      <td>...</td>\n      <td>...</td>\n      <td>...</td>\n    </tr>\n    <tr>\n      <th>835</th>\n      <td>64</td>\n      <td>Male</td>\n      <td>VA Long Beach</td>\n      <td>asymptomatic</td>\n      <td>132.466116</td>\n      <td>306.0</td>\n      <td>True</td>\n      <td>st-t abnormality</td>\n      <td>137.842105</td>\n      <td>NaN</td>\n      <td>0.876705</td>\n      <td>NaN</td>\n      <td>0.669683</td>\n      <td>NaN</td>\n    </tr>\n    <tr>\n      <th>192</th>\n      <td>43</td>\n      <td>Male</td>\n      <td>Cleveland</td>\n      <td>asymptomatic</td>\n      <td>132.000000</td>\n      <td>247.0</td>\n      <td>True</td>\n      <td>lv hypertrophy</td>\n      <td>143.000000</td>\n      <td>True</td>\n      <td>0.100000</td>\n      <td>flat</td>\n      <td>0.669683</td>\n      <td>reversable defect</td>\n    </tr>\n    <tr>\n      <th>629</th>\n      <td>51</td>\n      <td>Male</td>\n      <td>Switzerland</td>\n      <td>asymptomatic</td>\n      <td>130.000000</td>\n      <td>0.0</td>\n      <td>NaN</td>\n      <td>normal</td>\n      <td>170.000000</td>\n      <td>False</td>\n      <td>-0.700000</td>\n      <td>upsloping</td>\n      <td>0.669683</td>\n      <td>NaN</td>\n    </tr>\n    <tr>\n      <th>559</th>\n      <td>47</td>\n      <td>Female</td>\n      <td>Hungary</td>\n      <td>non-anginal</td>\n      <td>135.000000</td>\n      <td>248.0</td>\n      <td>True</td>\n      <td>normal</td>\n      <td>170.000000</td>\n      <td>False</td>\n      <td>0.000000</td>\n      <td>NaN</td>\n      <td>0.669683</td>\n      <td>NaN</td>\n    </tr>\n    <tr>\n      <th>684</th>\n      <td>61</td>\n      <td>Male</td>\n      <td>Switzerland</td>\n      <td>asymptomatic</td>\n      <td>130.000000</td>\n      <td>0.0</td>\n      <td>False</td>\n      <td>lv hypertrophy</td>\n      <td>115.000000</td>\n      <td>False</td>\n      <td>0.000000</td>\n      <td>flat</td>\n      <td>0.669683</td>\n      <td>reversable defect</td>\n    </tr>\n  </tbody>\n</table>\n<p>644 rows × 14 columns</p>\n</div>"
     },
     "execution_count": 79,
     "metadata": {},
     "output_type": "execute_result"
    }
   ],
   "source": [
    "dfx_treino_3\n",
    "\n",
    "# é o que eu mais gosto, confesso."
   ],
   "metadata": {
    "collapsed": false
   }
  },
  {
   "cell_type": "markdown",
   "source": [
    "## Inputando dados faltantes de variáveis categoricas"
   ],
   "metadata": {
    "collapsed": false
   }
  },
  {
   "cell_type": "code",
   "execution_count": 2,
   "outputs": [],
   "source": [
    "df002 = pd.read_csv('datasets/heart.csv')"
   ],
   "metadata": {
    "collapsed": false
   }
  },
  {
   "cell_type": "code",
   "execution_count": 3,
   "outputs": [],
   "source": [
    "dfcat_treino_x, dfcat_teste_x, dfcat_teste_x, dfcat_teste_y = train_test_split(df002.drop(['id', 'num'], axis=1), df002['num'], test_size=0.3, random_state=0)\n",
    "\n",
    "# Split padrão do df"
   ],
   "metadata": {
    "collapsed": false
   }
  },
  {
   "cell_type": "code",
   "execution_count": 4,
   "outputs": [
    {
     "data": {
      "text/plain": "     age     sex        dataset               cp  trestbps   chol    fbs  \\\n76    60    Male      Cleveland     asymptomatic     125.0  258.0  False   \n48    65  Female      Cleveland      non-anginal     140.0  417.0   True   \n304   29    Male        Hungary  atypical angina     120.0  243.0  False   \n263   44    Male      Cleveland      non-anginal     120.0  226.0  False   \n744   52    Male  VA Long Beach      non-anginal     128.0    0.0  False   \n\n              restecg  thalch  exang  oldpeak      slope   ca  \\\n76     lv hypertrophy   141.0   True      2.8       flat  1.0   \n48     lv hypertrophy   157.0  False      0.8  upsloping  1.0   \n304            normal   160.0  False      0.0        NaN  NaN   \n263            normal   169.0  False      0.0  upsloping  0.0   \n744  st-t abnormality   180.0  False      3.0  upsloping  NaN   \n\n                  thal  \n76   reversable defect  \n48              normal  \n304                NaN  \n263             normal  \n744                NaN  ",
      "text/html": "<div>\n<style scoped>\n    .dataframe tbody tr th:only-of-type {\n        vertical-align: middle;\n    }\n\n    .dataframe tbody tr th {\n        vertical-align: top;\n    }\n\n    .dataframe thead th {\n        text-align: right;\n    }\n</style>\n<table border=\"1\" class=\"dataframe\">\n  <thead>\n    <tr style=\"text-align: right;\">\n      <th></th>\n      <th>age</th>\n      <th>sex</th>\n      <th>dataset</th>\n      <th>cp</th>\n      <th>trestbps</th>\n      <th>chol</th>\n      <th>fbs</th>\n      <th>restecg</th>\n      <th>thalch</th>\n      <th>exang</th>\n      <th>oldpeak</th>\n      <th>slope</th>\n      <th>ca</th>\n      <th>thal</th>\n    </tr>\n  </thead>\n  <tbody>\n    <tr>\n      <th>76</th>\n      <td>60</td>\n      <td>Male</td>\n      <td>Cleveland</td>\n      <td>asymptomatic</td>\n      <td>125.0</td>\n      <td>258.0</td>\n      <td>False</td>\n      <td>lv hypertrophy</td>\n      <td>141.0</td>\n      <td>True</td>\n      <td>2.8</td>\n      <td>flat</td>\n      <td>1.0</td>\n      <td>reversable defect</td>\n    </tr>\n    <tr>\n      <th>48</th>\n      <td>65</td>\n      <td>Female</td>\n      <td>Cleveland</td>\n      <td>non-anginal</td>\n      <td>140.0</td>\n      <td>417.0</td>\n      <td>True</td>\n      <td>lv hypertrophy</td>\n      <td>157.0</td>\n      <td>False</td>\n      <td>0.8</td>\n      <td>upsloping</td>\n      <td>1.0</td>\n      <td>normal</td>\n    </tr>\n    <tr>\n      <th>304</th>\n      <td>29</td>\n      <td>Male</td>\n      <td>Hungary</td>\n      <td>atypical angina</td>\n      <td>120.0</td>\n      <td>243.0</td>\n      <td>False</td>\n      <td>normal</td>\n      <td>160.0</td>\n      <td>False</td>\n      <td>0.0</td>\n      <td>NaN</td>\n      <td>NaN</td>\n      <td>NaN</td>\n    </tr>\n    <tr>\n      <th>263</th>\n      <td>44</td>\n      <td>Male</td>\n      <td>Cleveland</td>\n      <td>non-anginal</td>\n      <td>120.0</td>\n      <td>226.0</td>\n      <td>False</td>\n      <td>normal</td>\n      <td>169.0</td>\n      <td>False</td>\n      <td>0.0</td>\n      <td>upsloping</td>\n      <td>0.0</td>\n      <td>normal</td>\n    </tr>\n    <tr>\n      <th>744</th>\n      <td>52</td>\n      <td>Male</td>\n      <td>VA Long Beach</td>\n      <td>non-anginal</td>\n      <td>128.0</td>\n      <td>0.0</td>\n      <td>False</td>\n      <td>st-t abnormality</td>\n      <td>180.0</td>\n      <td>False</td>\n      <td>3.0</td>\n      <td>upsloping</td>\n      <td>NaN</td>\n      <td>NaN</td>\n    </tr>\n  </tbody>\n</table>\n</div>"
     },
     "execution_count": 4,
     "metadata": {},
     "output_type": "execute_result"
    }
   ],
   "source": [
    "dfcat_treino_x.head()\n",
    "\n",
    "# Base de treino"
   ],
   "metadata": {
    "collapsed": false
   }
  },
  {
   "cell_type": "code",
   "execution_count": 5,
   "outputs": [
    {
     "data": {
      "text/plain": "age         0.000000\nsex         0.000000\ndataset     0.000000\ncp          0.000000\ntrestbps    0.060559\nchol        0.037267\nfbs         0.099379\nrestecg     0.003106\nthalch      0.055901\nexang       0.055901\noldpeak     0.066770\nslope       0.326087\nca          0.656832\nthal        0.518634\ndtype: float64"
     },
     "execution_count": 5,
     "metadata": {},
     "output_type": "execute_result"
    }
   ],
   "source": [
    "dfcat_treino_x.isnull().mean()"
   ],
   "metadata": {
    "collapsed": false
   }
  },
  {
   "cell_type": "code",
   "execution_count": 6,
   "outputs": [
    {
     "data": {
      "text/plain": "age           int64\nsex          object\ndataset      object\ncp           object\ntrestbps    float64\nchol        float64\nfbs          object\nrestecg      object\nthalch      float64\nexang        object\noldpeak     float64\nslope        object\nca          float64\nthal         object\ndtype: object"
     },
     "execution_count": 6,
     "metadata": {},
     "output_type": "execute_result"
    }
   ],
   "source": [
    "dfcat_treino_x.dtypes"
   ],
   "metadata": {
    "collapsed": false
   }
  },
  {
   "cell_type": "code",
   "execution_count": 8,
   "outputs": [],
   "source": [
    "cols_name_categorical = ['sex', 'dataset', 'cp', 'fbs', 'restecg', 'exang', 'slope', 'thal']\n",
    "\n",
    "imputer = CategoricalImputer(imputation_method='frequent', variables=cols_name_categorical)\n",
    "\n",
    "# Parametrizando o Imputer"
   ],
   "metadata": {
    "collapsed": false
   }
  },
  {
   "cell_type": "code",
   "execution_count": 10,
   "outputs": [
    {
     "data": {
      "text/plain": "CategoricalImputer(imputation_method='frequent',\n                   variables=['sex', 'dataset', 'cp', 'fbs', 'restecg', 'exang',\n                              'slope', 'thal'])",
      "text/html": "<style>#sk-container-id-1 {color: black;background-color: white;}#sk-container-id-1 pre{padding: 0;}#sk-container-id-1 div.sk-toggleable {background-color: white;}#sk-container-id-1 label.sk-toggleable__label {cursor: pointer;display: block;width: 100%;margin-bottom: 0;padding: 0.3em;box-sizing: border-box;text-align: center;}#sk-container-id-1 label.sk-toggleable__label-arrow:before {content: \"▸\";float: left;margin-right: 0.25em;color: #696969;}#sk-container-id-1 label.sk-toggleable__label-arrow:hover:before {color: black;}#sk-container-id-1 div.sk-estimator:hover label.sk-toggleable__label-arrow:before {color: black;}#sk-container-id-1 div.sk-toggleable__content {max-height: 0;max-width: 0;overflow: hidden;text-align: left;background-color: #f0f8ff;}#sk-container-id-1 div.sk-toggleable__content pre {margin: 0.2em;color: black;border-radius: 0.25em;background-color: #f0f8ff;}#sk-container-id-1 input.sk-toggleable__control:checked~div.sk-toggleable__content {max-height: 200px;max-width: 100%;overflow: auto;}#sk-container-id-1 input.sk-toggleable__control:checked~label.sk-toggleable__label-arrow:before {content: \"▾\";}#sk-container-id-1 div.sk-estimator input.sk-toggleable__control:checked~label.sk-toggleable__label {background-color: #d4ebff;}#sk-container-id-1 div.sk-label input.sk-toggleable__control:checked~label.sk-toggleable__label {background-color: #d4ebff;}#sk-container-id-1 input.sk-hidden--visually {border: 0;clip: rect(1px 1px 1px 1px);clip: rect(1px, 1px, 1px, 1px);height: 1px;margin: -1px;overflow: hidden;padding: 0;position: absolute;width: 1px;}#sk-container-id-1 div.sk-estimator {font-family: monospace;background-color: #f0f8ff;border: 1px dotted black;border-radius: 0.25em;box-sizing: border-box;margin-bottom: 0.5em;}#sk-container-id-1 div.sk-estimator:hover {background-color: #d4ebff;}#sk-container-id-1 div.sk-parallel-item::after {content: \"\";width: 100%;border-bottom: 1px solid gray;flex-grow: 1;}#sk-container-id-1 div.sk-label:hover label.sk-toggleable__label {background-color: #d4ebff;}#sk-container-id-1 div.sk-serial::before {content: \"\";position: absolute;border-left: 1px solid gray;box-sizing: border-box;top: 0;bottom: 0;left: 50%;z-index: 0;}#sk-container-id-1 div.sk-serial {display: flex;flex-direction: column;align-items: center;background-color: white;padding-right: 0.2em;padding-left: 0.2em;position: relative;}#sk-container-id-1 div.sk-item {position: relative;z-index: 1;}#sk-container-id-1 div.sk-parallel {display: flex;align-items: stretch;justify-content: center;background-color: white;position: relative;}#sk-container-id-1 div.sk-item::before, #sk-container-id-1 div.sk-parallel-item::before {content: \"\";position: absolute;border-left: 1px solid gray;box-sizing: border-box;top: 0;bottom: 0;left: 50%;z-index: -1;}#sk-container-id-1 div.sk-parallel-item {display: flex;flex-direction: column;z-index: 1;position: relative;background-color: white;}#sk-container-id-1 div.sk-parallel-item:first-child::after {align-self: flex-end;width: 50%;}#sk-container-id-1 div.sk-parallel-item:last-child::after {align-self: flex-start;width: 50%;}#sk-container-id-1 div.sk-parallel-item:only-child::after {width: 0;}#sk-container-id-1 div.sk-dashed-wrapped {border: 1px dashed gray;margin: 0 0.4em 0.5em 0.4em;box-sizing: border-box;padding-bottom: 0.4em;background-color: white;}#sk-container-id-1 div.sk-label label {font-family: monospace;font-weight: bold;display: inline-block;line-height: 1.2em;}#sk-container-id-1 div.sk-label-container {text-align: center;}#sk-container-id-1 div.sk-container {/* jupyter's `normalize.less` sets `[hidden] { display: none; }` but bootstrap.min.css set `[hidden] { display: none !important; }` so we also need the `!important` here to be able to override the default hidden behavior on the sphinx rendered scikit-learn.org. See: https://github.com/scikit-learn/scikit-learn/issues/21755 */display: inline-block !important;position: relative;}#sk-container-id-1 div.sk-text-repr-fallback {display: none;}</style><div id=\"sk-container-id-1\" class=\"sk-top-container\"><div class=\"sk-text-repr-fallback\"><pre>CategoricalImputer(imputation_method=&#x27;frequent&#x27;,\n                   variables=[&#x27;sex&#x27;, &#x27;dataset&#x27;, &#x27;cp&#x27;, &#x27;fbs&#x27;, &#x27;restecg&#x27;, &#x27;exang&#x27;,\n                              &#x27;slope&#x27;, &#x27;thal&#x27;])</pre><b>In a Jupyter environment, please rerun this cell to show the HTML representation or trust the notebook. <br />On GitHub, the HTML representation is unable to render, please try loading this page with nbviewer.org.</b></div><div class=\"sk-container\" hidden><div class=\"sk-item\"><div class=\"sk-estimator sk-toggleable\"><input class=\"sk-toggleable__control sk-hidden--visually\" id=\"sk-estimator-id-1\" type=\"checkbox\" checked><label for=\"sk-estimator-id-1\" class=\"sk-toggleable__label sk-toggleable__label-arrow\">CategoricalImputer</label><div class=\"sk-toggleable__content\"><pre>CategoricalImputer(imputation_method=&#x27;frequent&#x27;,\n                   variables=[&#x27;sex&#x27;, &#x27;dataset&#x27;, &#x27;cp&#x27;, &#x27;fbs&#x27;, &#x27;restecg&#x27;, &#x27;exang&#x27;,\n                              &#x27;slope&#x27;, &#x27;thal&#x27;])</pre></div></div></div></div></div>"
     },
     "execution_count": 10,
     "metadata": {},
     "output_type": "execute_result"
    }
   ],
   "source": [
    "imputer.fit(dfcat_treino_x)"
   ],
   "metadata": {
    "collapsed": false
   }
  },
  {
   "cell_type": "code",
   "execution_count": 11,
   "outputs": [
    {
     "data": {
      "text/plain": "{'sex': 'Male',\n 'dataset': 'Cleveland',\n 'cp': 'asymptomatic',\n 'fbs': False,\n 'restecg': 'normal',\n 'exang': False,\n 'slope': 'flat',\n 'thal': 'reversable defect'}"
     },
     "execution_count": 11,
     "metadata": {},
     "output_type": "execute_result"
    }
   ],
   "source": [
    "imputer.imputer_dict_"
   ],
   "metadata": {
    "collapsed": false
   }
  },
  {
   "cell_type": "code",
   "execution_count": 14,
   "outputs": [],
   "source": [
    "dfcat_treino_x = imputer.transform(dfcat_treino_x)"
   ],
   "metadata": {
    "collapsed": false
   }
  },
  {
   "cell_type": "code",
   "execution_count": 15,
   "outputs": [
    {
     "data": {
      "text/plain": "age         0.000000\nsex         0.000000\ndataset     0.000000\ncp          0.000000\ntrestbps    0.060559\nchol        0.037267\nfbs         0.000000\nrestecg     0.000000\nthalch      0.055901\nexang       0.000000\noldpeak     0.066770\nslope       0.000000\nca          0.656832\nthal        0.000000\ndtype: float64"
     },
     "execution_count": 15,
     "metadata": {},
     "output_type": "execute_result"
    }
   ],
   "source": [
    "dfcat_treino_x.isnull().mean()"
   ],
   "metadata": {
    "collapsed": false
   }
  },
  {
   "cell_type": "code",
   "execution_count": null,
   "outputs": [],
   "source": [],
   "metadata": {
    "collapsed": false
   }
  }
 ],
 "metadata": {
  "kernelspec": {
   "display_name": "Python 3",
   "language": "python",
   "name": "python3"
  },
  "language_info": {
   "codemirror_mode": {
    "name": "ipython",
    "version": 2
   },
   "file_extension": ".py",
   "mimetype": "text/x-python",
   "name": "python",
   "nbconvert_exporter": "python",
   "pygments_lexer": "ipython2",
   "version": "2.7.6"
  }
 },
 "nbformat": 4,
 "nbformat_minor": 0
}
