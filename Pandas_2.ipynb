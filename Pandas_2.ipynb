{
 "cells": [
  {
   "cell_type": "markdown",
   "source": [
    "# Pandas pt2\n",
    "\n",
    "Continuando a relembrar a utilização do Pandas"
   ],
   "metadata": {
    "collapsed": false
   }
  },
  {
   "cell_type": "code",
   "execution_count": 1,
   "metadata": {
    "collapsed": true
   },
   "outputs": [],
   "source": [
    "import pandas as pd\n",
    "import numpy as np"
   ]
  },
  {
   "cell_type": "code",
   "execution_count": 2,
   "outputs": [],
   "source": [
    "from numpy.random import randn\n",
    "np.random.seed(101)"
   ],
   "metadata": {
    "collapsed": false
   }
  },
  {
   "cell_type": "code",
   "execution_count": 3,
   "outputs": [],
   "source": [
    "df_01 = pd.DataFrame(randn(5, 4), index='A B C D E'.split(), columns='Alfa Beta Gama Beta_delta'.split())"
   ],
   "metadata": {
    "collapsed": false
   }
  },
  {
   "cell_type": "code",
   "execution_count": 4,
   "outputs": [
    {
     "data": {
      "text/plain": "       Alfa      Beta      Gama  Beta_delta\nA  2.706850  0.628133  0.907969    0.503826\nB  0.651118 -0.319318 -0.848077    0.605965\nC -2.018168  0.740122  0.528813   -0.589001\nD  0.188695 -0.758872 -0.933237    0.955057\nE  0.190794  1.978757  2.605967    0.683509",
      "text/html": "<div>\n<style scoped>\n    .dataframe tbody tr th:only-of-type {\n        vertical-align: middle;\n    }\n\n    .dataframe tbody tr th {\n        vertical-align: top;\n    }\n\n    .dataframe thead th {\n        text-align: right;\n    }\n</style>\n<table border=\"1\" class=\"dataframe\">\n  <thead>\n    <tr style=\"text-align: right;\">\n      <th></th>\n      <th>Alfa</th>\n      <th>Beta</th>\n      <th>Gama</th>\n      <th>Beta_delta</th>\n    </tr>\n  </thead>\n  <tbody>\n    <tr>\n      <th>A</th>\n      <td>2.706850</td>\n      <td>0.628133</td>\n      <td>0.907969</td>\n      <td>0.503826</td>\n    </tr>\n    <tr>\n      <th>B</th>\n      <td>0.651118</td>\n      <td>-0.319318</td>\n      <td>-0.848077</td>\n      <td>0.605965</td>\n    </tr>\n    <tr>\n      <th>C</th>\n      <td>-2.018168</td>\n      <td>0.740122</td>\n      <td>0.528813</td>\n      <td>-0.589001</td>\n    </tr>\n    <tr>\n      <th>D</th>\n      <td>0.188695</td>\n      <td>-0.758872</td>\n      <td>-0.933237</td>\n      <td>0.955057</td>\n    </tr>\n    <tr>\n      <th>E</th>\n      <td>0.190794</td>\n      <td>1.978757</td>\n      <td>2.605967</td>\n      <td>0.683509</td>\n    </tr>\n  </tbody>\n</table>\n</div>"
     },
     "execution_count": 4,
     "metadata": {},
     "output_type": "execute_result"
    }
   ],
   "source": [
    "df_01"
   ],
   "metadata": {
    "collapsed": false
   }
  },
  {
   "cell_type": "code",
   "execution_count": 5,
   "outputs": [
    {
     "data": {
      "text/plain": "    Alfa   Beta   Gama  Beta_delta\nA   True   True   True        True\nB   True  False  False        True\nC  False   True   True       False\nD   True  False  False        True\nE   True   True   True        True",
      "text/html": "<div>\n<style scoped>\n    .dataframe tbody tr th:only-of-type {\n        vertical-align: middle;\n    }\n\n    .dataframe tbody tr th {\n        vertical-align: top;\n    }\n\n    .dataframe thead th {\n        text-align: right;\n    }\n</style>\n<table border=\"1\" class=\"dataframe\">\n  <thead>\n    <tr style=\"text-align: right;\">\n      <th></th>\n      <th>Alfa</th>\n      <th>Beta</th>\n      <th>Gama</th>\n      <th>Beta_delta</th>\n    </tr>\n  </thead>\n  <tbody>\n    <tr>\n      <th>A</th>\n      <td>True</td>\n      <td>True</td>\n      <td>True</td>\n      <td>True</td>\n    </tr>\n    <tr>\n      <th>B</th>\n      <td>True</td>\n      <td>False</td>\n      <td>False</td>\n      <td>True</td>\n    </tr>\n    <tr>\n      <th>C</th>\n      <td>False</td>\n      <td>True</td>\n      <td>True</td>\n      <td>False</td>\n    </tr>\n    <tr>\n      <th>D</th>\n      <td>True</td>\n      <td>False</td>\n      <td>False</td>\n      <td>True</td>\n    </tr>\n    <tr>\n      <th>E</th>\n      <td>True</td>\n      <td>True</td>\n      <td>True</td>\n      <td>True</td>\n    </tr>\n  </tbody>\n</table>\n</div>"
     },
     "execution_count": 5,
     "metadata": {},
     "output_type": "execute_result"
    }
   ],
   "source": [
    "df_01_boleano_maiores_que_zero = df_01 > 0\n",
    "df_01_boleano_maiores_que_zero"
   ],
   "metadata": {
    "collapsed": false
   }
  },
  {
   "cell_type": "code",
   "execution_count": 6,
   "outputs": [
    {
     "data": {
      "text/plain": "       Alfa      Beta      Gama  Beta_delta\nA  2.706850  0.628133  0.907969    0.503826\nB  0.651118       NaN       NaN    0.605965\nC       NaN  0.740122  0.528813         NaN\nD  0.188695       NaN       NaN    0.955057\nE  0.190794  1.978757  2.605967    0.683509",
      "text/html": "<div>\n<style scoped>\n    .dataframe tbody tr th:only-of-type {\n        vertical-align: middle;\n    }\n\n    .dataframe tbody tr th {\n        vertical-align: top;\n    }\n\n    .dataframe thead th {\n        text-align: right;\n    }\n</style>\n<table border=\"1\" class=\"dataframe\">\n  <thead>\n    <tr style=\"text-align: right;\">\n      <th></th>\n      <th>Alfa</th>\n      <th>Beta</th>\n      <th>Gama</th>\n      <th>Beta_delta</th>\n    </tr>\n  </thead>\n  <tbody>\n    <tr>\n      <th>A</th>\n      <td>2.706850</td>\n      <td>0.628133</td>\n      <td>0.907969</td>\n      <td>0.503826</td>\n    </tr>\n    <tr>\n      <th>B</th>\n      <td>0.651118</td>\n      <td>NaN</td>\n      <td>NaN</td>\n      <td>0.605965</td>\n    </tr>\n    <tr>\n      <th>C</th>\n      <td>NaN</td>\n      <td>0.740122</td>\n      <td>0.528813</td>\n      <td>NaN</td>\n    </tr>\n    <tr>\n      <th>D</th>\n      <td>0.188695</td>\n      <td>NaN</td>\n      <td>NaN</td>\n      <td>0.955057</td>\n    </tr>\n    <tr>\n      <th>E</th>\n      <td>0.190794</td>\n      <td>1.978757</td>\n      <td>2.605967</td>\n      <td>0.683509</td>\n    </tr>\n  </tbody>\n</table>\n</div>"
     },
     "execution_count": 6,
     "metadata": {},
     "output_type": "execute_result"
    }
   ],
   "source": [
    "df_01[df_01_boleano_maiores_que_zero]"
   ],
   "metadata": {
    "collapsed": false
   }
  },
  {
   "cell_type": "markdown",
   "source": [
    "Este comportamento segue para Series, e pode ser aplicado diretamente no DF. Esta prática é apenas de filtro não altera o DF por si só."
   ],
   "metadata": {
    "collapsed": false
   }
  },
  {
   "cell_type": "code",
   "execution_count": 7,
   "outputs": [
    {
     "data": {
      "text/plain": "A     True\nB     True\nC    False\nD     True\nE     True\nName: Alfa, dtype: bool"
     },
     "execution_count": 7,
     "metadata": {},
     "output_type": "execute_result"
    }
   ],
   "source": [
    "serie_filtro_alfa = df_01['Alfa'] > 0\n",
    "serie_filtro_alfa"
   ],
   "metadata": {
    "collapsed": false
   }
  },
  {
   "cell_type": "code",
   "execution_count": 8,
   "outputs": [
    {
     "data": {
      "text/plain": "       Alfa      Beta      Gama  Beta_delta\nA  2.706850  0.628133  0.907969    0.503826\nB  0.651118 -0.319318 -0.848077    0.605965\nD  0.188695 -0.758872 -0.933237    0.955057\nE  0.190794  1.978757  2.605967    0.683509",
      "text/html": "<div>\n<style scoped>\n    .dataframe tbody tr th:only-of-type {\n        vertical-align: middle;\n    }\n\n    .dataframe tbody tr th {\n        vertical-align: top;\n    }\n\n    .dataframe thead th {\n        text-align: right;\n    }\n</style>\n<table border=\"1\" class=\"dataframe\">\n  <thead>\n    <tr style=\"text-align: right;\">\n      <th></th>\n      <th>Alfa</th>\n      <th>Beta</th>\n      <th>Gama</th>\n      <th>Beta_delta</th>\n    </tr>\n  </thead>\n  <tbody>\n    <tr>\n      <th>A</th>\n      <td>2.706850</td>\n      <td>0.628133</td>\n      <td>0.907969</td>\n      <td>0.503826</td>\n    </tr>\n    <tr>\n      <th>B</th>\n      <td>0.651118</td>\n      <td>-0.319318</td>\n      <td>-0.848077</td>\n      <td>0.605965</td>\n    </tr>\n    <tr>\n      <th>D</th>\n      <td>0.188695</td>\n      <td>-0.758872</td>\n      <td>-0.933237</td>\n      <td>0.955057</td>\n    </tr>\n    <tr>\n      <th>E</th>\n      <td>0.190794</td>\n      <td>1.978757</td>\n      <td>2.605967</td>\n      <td>0.683509</td>\n    </tr>\n  </tbody>\n</table>\n</div>"
     },
     "execution_count": 8,
     "metadata": {},
     "output_type": "execute_result"
    }
   ],
   "source": [
    "df_01[serie_filtro_alfa]"
   ],
   "metadata": {
    "collapsed": false
   }
  },
  {
   "cell_type": "code",
   "execution_count": 9,
   "outputs": [
    {
     "data": {
      "text/plain": "       Alfa      Beta      Gama  Beta_delta\nA  2.706850  0.628133  0.907969    0.503826\nB  0.651118 -0.319318 -0.848077    0.605965\nD  0.188695 -0.758872 -0.933237    0.955057\nE  0.190794  1.978757  2.605967    0.683509",
      "text/html": "<div>\n<style scoped>\n    .dataframe tbody tr th:only-of-type {\n        vertical-align: middle;\n    }\n\n    .dataframe tbody tr th {\n        vertical-align: top;\n    }\n\n    .dataframe thead th {\n        text-align: right;\n    }\n</style>\n<table border=\"1\" class=\"dataframe\">\n  <thead>\n    <tr style=\"text-align: right;\">\n      <th></th>\n      <th>Alfa</th>\n      <th>Beta</th>\n      <th>Gama</th>\n      <th>Beta_delta</th>\n    </tr>\n  </thead>\n  <tbody>\n    <tr>\n      <th>A</th>\n      <td>2.706850</td>\n      <td>0.628133</td>\n      <td>0.907969</td>\n      <td>0.503826</td>\n    </tr>\n    <tr>\n      <th>B</th>\n      <td>0.651118</td>\n      <td>-0.319318</td>\n      <td>-0.848077</td>\n      <td>0.605965</td>\n    </tr>\n    <tr>\n      <th>D</th>\n      <td>0.188695</td>\n      <td>-0.758872</td>\n      <td>-0.933237</td>\n      <td>0.955057</td>\n    </tr>\n    <tr>\n      <th>E</th>\n      <td>0.190794</td>\n      <td>1.978757</td>\n      <td>2.605967</td>\n      <td>0.683509</td>\n    </tr>\n  </tbody>\n</table>\n</div>"
     },
     "execution_count": 9,
     "metadata": {},
     "output_type": "execute_result"
    }
   ],
   "source": [
    "df_02 = df_01[df_01['Alfa']>0]\n",
    "df_02"
   ],
   "metadata": {
    "collapsed": false
   }
  },
  {
   "cell_type": "markdown",
   "source": [
    "Pode ser aninhado com Slices"
   ],
   "metadata": {
    "collapsed": false
   }
  },
  {
   "cell_type": "code",
   "execution_count": 10,
   "outputs": [
    {
     "data": {
      "text/plain": "       Gama  Beta_delta\nA  0.907969    0.503826\nB -0.848077    0.605965\nD -0.933237    0.955057\nE  2.605967    0.683509",
      "text/html": "<div>\n<style scoped>\n    .dataframe tbody tr th:only-of-type {\n        vertical-align: middle;\n    }\n\n    .dataframe tbody tr th {\n        vertical-align: top;\n    }\n\n    .dataframe thead th {\n        text-align: right;\n    }\n</style>\n<table border=\"1\" class=\"dataframe\">\n  <thead>\n    <tr style=\"text-align: right;\">\n      <th></th>\n      <th>Gama</th>\n      <th>Beta_delta</th>\n    </tr>\n  </thead>\n  <tbody>\n    <tr>\n      <th>A</th>\n      <td>0.907969</td>\n      <td>0.503826</td>\n    </tr>\n    <tr>\n      <th>B</th>\n      <td>-0.848077</td>\n      <td>0.605965</td>\n    </tr>\n    <tr>\n      <th>D</th>\n      <td>-0.933237</td>\n      <td>0.955057</td>\n    </tr>\n    <tr>\n      <th>E</th>\n      <td>2.605967</td>\n      <td>0.683509</td>\n    </tr>\n  </tbody>\n</table>\n</div>"
     },
     "execution_count": 10,
     "metadata": {},
     "output_type": "execute_result"
    }
   ],
   "source": [
    "df_01[df_01['Alfa']>0][['Gama', 'Beta_delta']]"
   ],
   "metadata": {
    "collapsed": false
   }
  },
  {
   "cell_type": "code",
   "execution_count": 11,
   "outputs": [
    {
     "data": {
      "text/plain": "       Gama  Beta_delta\nA  0.907969    0.503826\nB -0.848077    0.605965\nD -0.933237    0.955057\nE  2.605967    0.683509",
      "text/html": "<div>\n<style scoped>\n    .dataframe tbody tr th:only-of-type {\n        vertical-align: middle;\n    }\n\n    .dataframe tbody tr th {\n        vertical-align: top;\n    }\n\n    .dataframe thead th {\n        text-align: right;\n    }\n</style>\n<table border=\"1\" class=\"dataframe\">\n  <thead>\n    <tr style=\"text-align: right;\">\n      <th></th>\n      <th>Gama</th>\n      <th>Beta_delta</th>\n    </tr>\n  </thead>\n  <tbody>\n    <tr>\n      <th>A</th>\n      <td>0.907969</td>\n      <td>0.503826</td>\n    </tr>\n    <tr>\n      <th>B</th>\n      <td>-0.848077</td>\n      <td>0.605965</td>\n    </tr>\n    <tr>\n      <th>D</th>\n      <td>-0.933237</td>\n      <td>0.955057</td>\n    </tr>\n    <tr>\n      <th>E</th>\n      <td>2.605967</td>\n      <td>0.683509</td>\n    </tr>\n  </tbody>\n</table>\n</div>"
     },
     "execution_count": 11,
     "metadata": {},
     "output_type": "execute_result"
    }
   ],
   "source": [
    "# o mesmo que a celula acima.\n",
    "df_02[['Gama', 'Beta_delta']]"
   ],
   "metadata": {
    "collapsed": false
   }
  },
  {
   "cell_type": "markdown",
   "source": [
    "Para estes slices os operadores lógicos a serem utilizados devem ser os sinais para evitar erros."
   ],
   "metadata": {
    "collapsed": false
   }
  },
  {
   "cell_type": "code",
   "execution_count": 12,
   "outputs": [
    {
     "data": {
      "text/plain": "       Alfa      Beta      Gama  Beta_delta\nA  2.706850  0.628133  0.907969    0.503826\nB  0.651118 -0.319318 -0.848077    0.605965\nD  0.188695 -0.758872 -0.933237    0.955057\nE  0.190794  1.978757  2.605967    0.683509",
      "text/html": "<div>\n<style scoped>\n    .dataframe tbody tr th:only-of-type {\n        vertical-align: middle;\n    }\n\n    .dataframe tbody tr th {\n        vertical-align: top;\n    }\n\n    .dataframe thead th {\n        text-align: right;\n    }\n</style>\n<table border=\"1\" class=\"dataframe\">\n  <thead>\n    <tr style=\"text-align: right;\">\n      <th></th>\n      <th>Alfa</th>\n      <th>Beta</th>\n      <th>Gama</th>\n      <th>Beta_delta</th>\n    </tr>\n  </thead>\n  <tbody>\n    <tr>\n      <th>A</th>\n      <td>2.706850</td>\n      <td>0.628133</td>\n      <td>0.907969</td>\n      <td>0.503826</td>\n    </tr>\n    <tr>\n      <th>B</th>\n      <td>0.651118</td>\n      <td>-0.319318</td>\n      <td>-0.848077</td>\n      <td>0.605965</td>\n    </tr>\n    <tr>\n      <th>D</th>\n      <td>0.188695</td>\n      <td>-0.758872</td>\n      <td>-0.933237</td>\n      <td>0.955057</td>\n    </tr>\n    <tr>\n      <th>E</th>\n      <td>0.190794</td>\n      <td>1.978757</td>\n      <td>2.605967</td>\n      <td>0.683509</td>\n    </tr>\n  </tbody>\n</table>\n</div>"
     },
     "execution_count": 12,
     "metadata": {},
     "output_type": "execute_result"
    }
   ],
   "source": [
    "df_01[(df_01['Beta_delta'] > 0) & ((df_01['Alfa'] > 0) | (df_01['Beta'] > 0))]\n",
    "# Slice onde Beta_delta é maior que 0 e Alfa ou Beta é maior que 0\n",
    "# AND = &\n",
    "# OR = |"
   ],
   "metadata": {
    "collapsed": false
   }
  },
  {
   "cell_type": "markdown",
   "source": [
    "#### Reset do index\n",
    "modo simples (depende do inplace)"
   ],
   "metadata": {
    "collapsed": false
   }
  },
  {
   "cell_type": "code",
   "execution_count": 13,
   "outputs": [
    {
     "data": {
      "text/plain": "       Alfa      Beta      Gama  Beta_delta\nA  2.706850  0.628133  0.907969    0.503826\nB  0.651118 -0.319318 -0.848077    0.605965\nD  0.188695 -0.758872 -0.933237    0.955057\nE  0.190794  1.978757  2.605967    0.683509",
      "text/html": "<div>\n<style scoped>\n    .dataframe tbody tr th:only-of-type {\n        vertical-align: middle;\n    }\n\n    .dataframe tbody tr th {\n        vertical-align: top;\n    }\n\n    .dataframe thead th {\n        text-align: right;\n    }\n</style>\n<table border=\"1\" class=\"dataframe\">\n  <thead>\n    <tr style=\"text-align: right;\">\n      <th></th>\n      <th>Alfa</th>\n      <th>Beta</th>\n      <th>Gama</th>\n      <th>Beta_delta</th>\n    </tr>\n  </thead>\n  <tbody>\n    <tr>\n      <th>A</th>\n      <td>2.706850</td>\n      <td>0.628133</td>\n      <td>0.907969</td>\n      <td>0.503826</td>\n    </tr>\n    <tr>\n      <th>B</th>\n      <td>0.651118</td>\n      <td>-0.319318</td>\n      <td>-0.848077</td>\n      <td>0.605965</td>\n    </tr>\n    <tr>\n      <th>D</th>\n      <td>0.188695</td>\n      <td>-0.758872</td>\n      <td>-0.933237</td>\n      <td>0.955057</td>\n    </tr>\n    <tr>\n      <th>E</th>\n      <td>0.190794</td>\n      <td>1.978757</td>\n      <td>2.605967</td>\n      <td>0.683509</td>\n    </tr>\n  </tbody>\n</table>\n</div>"
     },
     "execution_count": 13,
     "metadata": {},
     "output_type": "execute_result"
    }
   ],
   "source": [
    "df_03 = df_01[(df_01['Beta_delta'] > 0) & ((df_01['Alfa'] > 0) | (df_01['Beta'] > 0))]\n",
    "df_03"
   ],
   "metadata": {
    "collapsed": false
   }
  },
  {
   "cell_type": "code",
   "execution_count": 14,
   "outputs": [
    {
     "data": {
      "text/plain": "  index      Alfa      Beta      Gama  Beta_delta\n0     A  2.706850  0.628133  0.907969    0.503826\n1     B  0.651118 -0.319318 -0.848077    0.605965\n2     D  0.188695 -0.758872 -0.933237    0.955057\n3     E  0.190794  1.978757  2.605967    0.683509",
      "text/html": "<div>\n<style scoped>\n    .dataframe tbody tr th:only-of-type {\n        vertical-align: middle;\n    }\n\n    .dataframe tbody tr th {\n        vertical-align: top;\n    }\n\n    .dataframe thead th {\n        text-align: right;\n    }\n</style>\n<table border=\"1\" class=\"dataframe\">\n  <thead>\n    <tr style=\"text-align: right;\">\n      <th></th>\n      <th>index</th>\n      <th>Alfa</th>\n      <th>Beta</th>\n      <th>Gama</th>\n      <th>Beta_delta</th>\n    </tr>\n  </thead>\n  <tbody>\n    <tr>\n      <th>0</th>\n      <td>A</td>\n      <td>2.706850</td>\n      <td>0.628133</td>\n      <td>0.907969</td>\n      <td>0.503826</td>\n    </tr>\n    <tr>\n      <th>1</th>\n      <td>B</td>\n      <td>0.651118</td>\n      <td>-0.319318</td>\n      <td>-0.848077</td>\n      <td>0.605965</td>\n    </tr>\n    <tr>\n      <th>2</th>\n      <td>D</td>\n      <td>0.188695</td>\n      <td>-0.758872</td>\n      <td>-0.933237</td>\n      <td>0.955057</td>\n    </tr>\n    <tr>\n      <th>3</th>\n      <td>E</td>\n      <td>0.190794</td>\n      <td>1.978757</td>\n      <td>2.605967</td>\n      <td>0.683509</td>\n    </tr>\n  </tbody>\n</table>\n</div>"
     },
     "execution_count": 14,
     "metadata": {},
     "output_type": "execute_result"
    }
   ],
   "source": [
    "df_03.reset_index(inplace=True)\n",
    "df_03\n",
    "# O antigo index vira uma coluna"
   ],
   "metadata": {
    "collapsed": false
   }
  },
  {
   "cell_type": "markdown",
   "source": [
    "Informando a coluna a ser usada como indice\n",
    "Usamos o método set_index()\n",
    "Também é sensível ao inplace=True"
   ],
   "metadata": {
    "collapsed": false
   }
  },
  {
   "cell_type": "code",
   "execution_count": 15,
   "outputs": [
    {
     "data": {
      "text/plain": "       Alfa      Beta      Gama  Beta_delta Outros_valores\nA  2.706850  0.628133  0.907969    0.503826           Cod1\nB  0.651118 -0.319318 -0.848077    0.605965           Cod2\nD  0.188695 -0.758872 -0.933237    0.955057           Cod3\nE  0.190794  1.978757  2.605967    0.683509           Cod4",
      "text/html": "<div>\n<style scoped>\n    .dataframe tbody tr th:only-of-type {\n        vertical-align: middle;\n    }\n\n    .dataframe tbody tr th {\n        vertical-align: top;\n    }\n\n    .dataframe thead th {\n        text-align: right;\n    }\n</style>\n<table border=\"1\" class=\"dataframe\">\n  <thead>\n    <tr style=\"text-align: right;\">\n      <th></th>\n      <th>Alfa</th>\n      <th>Beta</th>\n      <th>Gama</th>\n      <th>Beta_delta</th>\n      <th>Outros_valores</th>\n    </tr>\n  </thead>\n  <tbody>\n    <tr>\n      <th>A</th>\n      <td>2.706850</td>\n      <td>0.628133</td>\n      <td>0.907969</td>\n      <td>0.503826</td>\n      <td>Cod1</td>\n    </tr>\n    <tr>\n      <th>B</th>\n      <td>0.651118</td>\n      <td>-0.319318</td>\n      <td>-0.848077</td>\n      <td>0.605965</td>\n      <td>Cod2</td>\n    </tr>\n    <tr>\n      <th>D</th>\n      <td>0.188695</td>\n      <td>-0.758872</td>\n      <td>-0.933237</td>\n      <td>0.955057</td>\n      <td>Cod3</td>\n    </tr>\n    <tr>\n      <th>E</th>\n      <td>0.190794</td>\n      <td>1.978757</td>\n      <td>2.605967</td>\n      <td>0.683509</td>\n      <td>Cod4</td>\n    </tr>\n  </tbody>\n</table>\n</div>"
     },
     "execution_count": 15,
     "metadata": {},
     "output_type": "execute_result"
    }
   ],
   "source": [
    "df_04 = df_01[(df_01['Beta_delta'] > 0) & ((df_01['Alfa'] > 0) | (df_01['Beta'] > 0))].copy()\n",
    "df_04['Outros_valores'] =  ['Cod1','Cod2','Cod3', 'Cod4']\n",
    "df_04"
   ],
   "metadata": {
    "collapsed": false
   }
  },
  {
   "cell_type": "code",
   "execution_count": 16,
   "outputs": [
    {
     "data": {
      "text/plain": "                    Alfa      Beta      Gama  Beta_delta\nOutros_valores                                          \nCod1            2.706850  0.628133  0.907969    0.503826\nCod2            0.651118 -0.319318 -0.848077    0.605965\nCod3            0.188695 -0.758872 -0.933237    0.955057\nCod4            0.190794  1.978757  2.605967    0.683509",
      "text/html": "<div>\n<style scoped>\n    .dataframe tbody tr th:only-of-type {\n        vertical-align: middle;\n    }\n\n    .dataframe tbody tr th {\n        vertical-align: top;\n    }\n\n    .dataframe thead th {\n        text-align: right;\n    }\n</style>\n<table border=\"1\" class=\"dataframe\">\n  <thead>\n    <tr style=\"text-align: right;\">\n      <th></th>\n      <th>Alfa</th>\n      <th>Beta</th>\n      <th>Gama</th>\n      <th>Beta_delta</th>\n    </tr>\n    <tr>\n      <th>Outros_valores</th>\n      <th></th>\n      <th></th>\n      <th></th>\n      <th></th>\n    </tr>\n  </thead>\n  <tbody>\n    <tr>\n      <th>Cod1</th>\n      <td>2.706850</td>\n      <td>0.628133</td>\n      <td>0.907969</td>\n      <td>0.503826</td>\n    </tr>\n    <tr>\n      <th>Cod2</th>\n      <td>0.651118</td>\n      <td>-0.319318</td>\n      <td>-0.848077</td>\n      <td>0.605965</td>\n    </tr>\n    <tr>\n      <th>Cod3</th>\n      <td>0.188695</td>\n      <td>-0.758872</td>\n      <td>-0.933237</td>\n      <td>0.955057</td>\n    </tr>\n    <tr>\n      <th>Cod4</th>\n      <td>0.190794</td>\n      <td>1.978757</td>\n      <td>2.605967</td>\n      <td>0.683509</td>\n    </tr>\n  </tbody>\n</table>\n</div>"
     },
     "execution_count": 16,
     "metadata": {},
     "output_type": "execute_result"
    }
   ],
   "source": [
    "nome_da_coluna = 'Outros_valores'\n",
    "df_04.set_index(nome_da_coluna, inplace=True)\n",
    "df_04"
   ],
   "metadata": {
    "collapsed": false
   }
  },
  {
   "cell_type": "code",
   "execution_count": 17,
   "outputs": [
    {
     "data": {
      "text/plain": "Alfa          0.651118\nBeta         -0.319318\nGama         -0.848077\nBeta_delta    0.605965\nName: Cod2, dtype: float64"
     },
     "execution_count": 17,
     "metadata": {},
     "output_type": "execute_result"
    }
   ],
   "source": [
    "df_04.loc['Cod2']"
   ],
   "metadata": {
    "collapsed": false
   }
  },
  {
   "cell_type": "markdown",
   "source": [
    "### Index Multiniveis"
   ],
   "metadata": {
    "collapsed": false
   }
  },
  {
   "cell_type": "code",
   "execution_count": 18,
   "outputs": [],
   "source": [
    "from datetime import datetime\n",
    "import itertools\n",
    "\n",
    "lista_operadores = ['Maria', 'José', 'Pedro']\n",
    "lista_datas = [\n",
    "    datetime(2022, 11, 1),\n",
    "    datetime(2022, 11, 2),\n",
    "    datetime(2022, 11, 3),\n",
    "    datetime(2022, 11, 4),\n",
    "    datetime(2022, 11, 5)\n",
    "]\n",
    "\n",
    "index_multinivel_data = list(itertools.product(lista_datas, lista_operadores))\n",
    "index_multinivel_operadores = list(itertools.product(lista_operadores, lista_datas))\n",
    "\n",
    "# Temos uma lista de tuplas para os valores do DF\n",
    "\n"
   ],
   "metadata": {
    "collapsed": false
   }
  },
  {
   "cell_type": "code",
   "execution_count": 19,
   "outputs": [
    {
     "name": "stdout",
     "output_type": "stream",
     "text": [
      "('Maria', datetime.datetime(2022, 11, 1, 0, 0))\n",
      "('Maria', datetime.datetime(2022, 11, 2, 0, 0))\n",
      "('Maria', datetime.datetime(2022, 11, 3, 0, 0))\n",
      "('Maria', datetime.datetime(2022, 11, 4, 0, 0))\n",
      "('Maria', datetime.datetime(2022, 11, 5, 0, 0))\n",
      "('José', datetime.datetime(2022, 11, 1, 0, 0))\n",
      "('José', datetime.datetime(2022, 11, 2, 0, 0))\n",
      "('José', datetime.datetime(2022, 11, 3, 0, 0))\n",
      "('José', datetime.datetime(2022, 11, 4, 0, 0))\n",
      "('José', datetime.datetime(2022, 11, 5, 0, 0))\n",
      "('Pedro', datetime.datetime(2022, 11, 1, 0, 0))\n",
      "('Pedro', datetime.datetime(2022, 11, 2, 0, 0))\n",
      "('Pedro', datetime.datetime(2022, 11, 3, 0, 0))\n",
      "('Pedro', datetime.datetime(2022, 11, 4, 0, 0))\n",
      "('Pedro', datetime.datetime(2022, 11, 5, 0, 0))\n"
     ]
    }
   ],
   "source": [
    "for i in index_multinivel_operadores:\n",
    "    print(i)"
   ],
   "metadata": {
    "collapsed": false
   }
  },
  {
   "cell_type": "code",
   "execution_count": 20,
   "outputs": [],
   "source": [
    "index_transformado_data = pd.MultiIndex.from_tuples(index_multinivel_data)\n",
    "index_transformado_operadores = pd.MultiIndex.from_tuples(index_multinivel_operadores)\n",
    "\n",
    "# Temos o indice pronto para o DF\n",
    "dados = randn(15, 3)\n",
    "df_multinivel_01_data = pd.DataFrame(dados, index=index_transformado_data, columns='Alfa Beta Delta'.split())\n",
    "df_multinivel_01_operadores = pd.DataFrame(dados, index=index_transformado_operadores, columns='Alfa Beta Delta'.split())"
   ],
   "metadata": {
    "collapsed": false
   }
  },
  {
   "cell_type": "code",
   "execution_count": 21,
   "outputs": [
    {
     "data": {
      "text/plain": "                      Alfa      Beta     Delta\n2022-11-01 Maria  0.302665  1.693723 -1.706086\n           José  -1.159119 -0.134841  0.390528\n           Pedro  0.166905  0.184502  0.807706\n2022-11-02 Maria  0.072960  0.638787  0.329646\n           José  -0.497104 -0.754070 -0.943406\n           Pedro  0.484752 -0.116773  1.901755\n2022-11-03 Maria  0.238127  1.996652 -0.993263\n           José   0.196800 -1.136645  0.000366\n           Pedro  1.025984 -0.156598 -0.031579\n2022-11-04 Maria  0.649826  2.154846 -0.610259\n           José  -0.755325 -0.346419  0.147027\n           Pedro -0.479448  0.558769  1.024810\n2022-11-05 Maria -0.925874  1.862864 -1.133817\n           José   0.610478  0.386030  2.084019\n           Pedro -0.376519  0.230336  0.681209",
      "text/html": "<div>\n<style scoped>\n    .dataframe tbody tr th:only-of-type {\n        vertical-align: middle;\n    }\n\n    .dataframe tbody tr th {\n        vertical-align: top;\n    }\n\n    .dataframe thead th {\n        text-align: right;\n    }\n</style>\n<table border=\"1\" class=\"dataframe\">\n  <thead>\n    <tr style=\"text-align: right;\">\n      <th></th>\n      <th></th>\n      <th>Alfa</th>\n      <th>Beta</th>\n      <th>Delta</th>\n    </tr>\n  </thead>\n  <tbody>\n    <tr>\n      <th rowspan=\"3\" valign=\"top\">2022-11-01</th>\n      <th>Maria</th>\n      <td>0.302665</td>\n      <td>1.693723</td>\n      <td>-1.706086</td>\n    </tr>\n    <tr>\n      <th>José</th>\n      <td>-1.159119</td>\n      <td>-0.134841</td>\n      <td>0.390528</td>\n    </tr>\n    <tr>\n      <th>Pedro</th>\n      <td>0.166905</td>\n      <td>0.184502</td>\n      <td>0.807706</td>\n    </tr>\n    <tr>\n      <th rowspan=\"3\" valign=\"top\">2022-11-02</th>\n      <th>Maria</th>\n      <td>0.072960</td>\n      <td>0.638787</td>\n      <td>0.329646</td>\n    </tr>\n    <tr>\n      <th>José</th>\n      <td>-0.497104</td>\n      <td>-0.754070</td>\n      <td>-0.943406</td>\n    </tr>\n    <tr>\n      <th>Pedro</th>\n      <td>0.484752</td>\n      <td>-0.116773</td>\n      <td>1.901755</td>\n    </tr>\n    <tr>\n      <th rowspan=\"3\" valign=\"top\">2022-11-03</th>\n      <th>Maria</th>\n      <td>0.238127</td>\n      <td>1.996652</td>\n      <td>-0.993263</td>\n    </tr>\n    <tr>\n      <th>José</th>\n      <td>0.196800</td>\n      <td>-1.136645</td>\n      <td>0.000366</td>\n    </tr>\n    <tr>\n      <th>Pedro</th>\n      <td>1.025984</td>\n      <td>-0.156598</td>\n      <td>-0.031579</td>\n    </tr>\n    <tr>\n      <th rowspan=\"3\" valign=\"top\">2022-11-04</th>\n      <th>Maria</th>\n      <td>0.649826</td>\n      <td>2.154846</td>\n      <td>-0.610259</td>\n    </tr>\n    <tr>\n      <th>José</th>\n      <td>-0.755325</td>\n      <td>-0.346419</td>\n      <td>0.147027</td>\n    </tr>\n    <tr>\n      <th>Pedro</th>\n      <td>-0.479448</td>\n      <td>0.558769</td>\n      <td>1.024810</td>\n    </tr>\n    <tr>\n      <th rowspan=\"3\" valign=\"top\">2022-11-05</th>\n      <th>Maria</th>\n      <td>-0.925874</td>\n      <td>1.862864</td>\n      <td>-1.133817</td>\n    </tr>\n    <tr>\n      <th>José</th>\n      <td>0.610478</td>\n      <td>0.386030</td>\n      <td>2.084019</td>\n    </tr>\n    <tr>\n      <th>Pedro</th>\n      <td>-0.376519</td>\n      <td>0.230336</td>\n      <td>0.681209</td>\n    </tr>\n  </tbody>\n</table>\n</div>"
     },
     "execution_count": 21,
     "metadata": {},
     "output_type": "execute_result"
    }
   ],
   "source": [
    "df_multinivel_01_data"
   ],
   "metadata": {
    "collapsed": false
   }
  },
  {
   "cell_type": "code",
   "execution_count": 22,
   "outputs": [
    {
     "data": {
      "text/plain": "                      Alfa      Beta     Delta\nMaria 2022-11-01  0.302665  1.693723 -1.706086\n      2022-11-02 -1.159119 -0.134841  0.390528\n      2022-11-03  0.166905  0.184502  0.807706\n      2022-11-04  0.072960  0.638787  0.329646\n      2022-11-05 -0.497104 -0.754070 -0.943406\nJosé  2022-11-01  0.484752 -0.116773  1.901755\n      2022-11-02  0.238127  1.996652 -0.993263\n      2022-11-03  0.196800 -1.136645  0.000366\n      2022-11-04  1.025984 -0.156598 -0.031579\n      2022-11-05  0.649826  2.154846 -0.610259\nPedro 2022-11-01 -0.755325 -0.346419  0.147027\n      2022-11-02 -0.479448  0.558769  1.024810\n      2022-11-03 -0.925874  1.862864 -1.133817\n      2022-11-04  0.610478  0.386030  2.084019\n      2022-11-05 -0.376519  0.230336  0.681209",
      "text/html": "<div>\n<style scoped>\n    .dataframe tbody tr th:only-of-type {\n        vertical-align: middle;\n    }\n\n    .dataframe tbody tr th {\n        vertical-align: top;\n    }\n\n    .dataframe thead th {\n        text-align: right;\n    }\n</style>\n<table border=\"1\" class=\"dataframe\">\n  <thead>\n    <tr style=\"text-align: right;\">\n      <th></th>\n      <th></th>\n      <th>Alfa</th>\n      <th>Beta</th>\n      <th>Delta</th>\n    </tr>\n  </thead>\n  <tbody>\n    <tr>\n      <th rowspan=\"5\" valign=\"top\">Maria</th>\n      <th>2022-11-01</th>\n      <td>0.302665</td>\n      <td>1.693723</td>\n      <td>-1.706086</td>\n    </tr>\n    <tr>\n      <th>2022-11-02</th>\n      <td>-1.159119</td>\n      <td>-0.134841</td>\n      <td>0.390528</td>\n    </tr>\n    <tr>\n      <th>2022-11-03</th>\n      <td>0.166905</td>\n      <td>0.184502</td>\n      <td>0.807706</td>\n    </tr>\n    <tr>\n      <th>2022-11-04</th>\n      <td>0.072960</td>\n      <td>0.638787</td>\n      <td>0.329646</td>\n    </tr>\n    <tr>\n      <th>2022-11-05</th>\n      <td>-0.497104</td>\n      <td>-0.754070</td>\n      <td>-0.943406</td>\n    </tr>\n    <tr>\n      <th rowspan=\"5\" valign=\"top\">José</th>\n      <th>2022-11-01</th>\n      <td>0.484752</td>\n      <td>-0.116773</td>\n      <td>1.901755</td>\n    </tr>\n    <tr>\n      <th>2022-11-02</th>\n      <td>0.238127</td>\n      <td>1.996652</td>\n      <td>-0.993263</td>\n    </tr>\n    <tr>\n      <th>2022-11-03</th>\n      <td>0.196800</td>\n      <td>-1.136645</td>\n      <td>0.000366</td>\n    </tr>\n    <tr>\n      <th>2022-11-04</th>\n      <td>1.025984</td>\n      <td>-0.156598</td>\n      <td>-0.031579</td>\n    </tr>\n    <tr>\n      <th>2022-11-05</th>\n      <td>0.649826</td>\n      <td>2.154846</td>\n      <td>-0.610259</td>\n    </tr>\n    <tr>\n      <th rowspan=\"5\" valign=\"top\">Pedro</th>\n      <th>2022-11-01</th>\n      <td>-0.755325</td>\n      <td>-0.346419</td>\n      <td>0.147027</td>\n    </tr>\n    <tr>\n      <th>2022-11-02</th>\n      <td>-0.479448</td>\n      <td>0.558769</td>\n      <td>1.024810</td>\n    </tr>\n    <tr>\n      <th>2022-11-03</th>\n      <td>-0.925874</td>\n      <td>1.862864</td>\n      <td>-1.133817</td>\n    </tr>\n    <tr>\n      <th>2022-11-04</th>\n      <td>0.610478</td>\n      <td>0.386030</td>\n      <td>2.084019</td>\n    </tr>\n    <tr>\n      <th>2022-11-05</th>\n      <td>-0.376519</td>\n      <td>0.230336</td>\n      <td>0.681209</td>\n    </tr>\n  </tbody>\n</table>\n</div>"
     },
     "execution_count": 22,
     "metadata": {},
     "output_type": "execute_result"
    }
   ],
   "source": [
    "df_multinivel_01_operadores"
   ],
   "metadata": {
    "collapsed": false
   }
  },
  {
   "cell_type": "code",
   "execution_count": 23,
   "outputs": [
    {
     "data": {
      "text/plain": "                Alfa      Beta     Delta\n2022-11-01  0.484752 -0.116773  1.901755\n2022-11-02  0.238127  1.996652 -0.993263\n2022-11-03  0.196800 -1.136645  0.000366\n2022-11-04  1.025984 -0.156598 -0.031579\n2022-11-05  0.649826  2.154846 -0.610259",
      "text/html": "<div>\n<style scoped>\n    .dataframe tbody tr th:only-of-type {\n        vertical-align: middle;\n    }\n\n    .dataframe tbody tr th {\n        vertical-align: top;\n    }\n\n    .dataframe thead th {\n        text-align: right;\n    }\n</style>\n<table border=\"1\" class=\"dataframe\">\n  <thead>\n    <tr style=\"text-align: right;\">\n      <th></th>\n      <th>Alfa</th>\n      <th>Beta</th>\n      <th>Delta</th>\n    </tr>\n  </thead>\n  <tbody>\n    <tr>\n      <th>2022-11-01</th>\n      <td>0.484752</td>\n      <td>-0.116773</td>\n      <td>1.901755</td>\n    </tr>\n    <tr>\n      <th>2022-11-02</th>\n      <td>0.238127</td>\n      <td>1.996652</td>\n      <td>-0.993263</td>\n    </tr>\n    <tr>\n      <th>2022-11-03</th>\n      <td>0.196800</td>\n      <td>-1.136645</td>\n      <td>0.000366</td>\n    </tr>\n    <tr>\n      <th>2022-11-04</th>\n      <td>1.025984</td>\n      <td>-0.156598</td>\n      <td>-0.031579</td>\n    </tr>\n    <tr>\n      <th>2022-11-05</th>\n      <td>0.649826</td>\n      <td>2.154846</td>\n      <td>-0.610259</td>\n    </tr>\n  </tbody>\n</table>\n</div>"
     },
     "execution_count": 23,
     "metadata": {},
     "output_type": "execute_result"
    }
   ],
   "source": [
    "df_multinivel_01_operadores.loc['José']\n",
    "\n",
    "#df apenas com os dados do Operador José"
   ],
   "metadata": {
    "collapsed": false
   }
  },
  {
   "cell_type": "code",
   "execution_count": 24,
   "outputs": [
    {
     "data": {
      "text/plain": "Alfa     0.238127\nBeta     1.996652\nDelta   -0.993263\nName: 2022-11-02 00:00:00, dtype: float64"
     },
     "execution_count": 24,
     "metadata": {},
     "output_type": "execute_result"
    }
   ],
   "source": [
    "df_multinivel_01_operadores.loc['José'].loc['2022-11-02']\n",
    "\n",
    "# sub slice do DF\n"
   ],
   "metadata": {
    "collapsed": false
   }
  },
  {
   "cell_type": "markdown",
   "source": [
    "Index pode ser nomeados."
   ],
   "metadata": {
    "collapsed": false
   }
  },
  {
   "cell_type": "code",
   "execution_count": 25,
   "outputs": [
    {
     "data": {
      "text/plain": "FrozenList([None, None])"
     },
     "execution_count": 25,
     "metadata": {},
     "output_type": "execute_result"
    }
   ],
   "source": [
    "df_multinivel_01_operadores.index.names"
   ],
   "metadata": {
    "collapsed": false
   }
  },
  {
   "cell_type": "code",
   "execution_count": 26,
   "outputs": [
    {
     "data": {
      "text/plain": "                           Alfa      Beta     Delta\nOperadores Datas                                   \nMaria      2022-11-01  0.302665  1.693723 -1.706086\n           2022-11-02 -1.159119 -0.134841  0.390528\n           2022-11-03  0.166905  0.184502  0.807706\n           2022-11-04  0.072960  0.638787  0.329646\n           2022-11-05 -0.497104 -0.754070 -0.943406\nJosé       2022-11-01  0.484752 -0.116773  1.901755\n           2022-11-02  0.238127  1.996652 -0.993263\n           2022-11-03  0.196800 -1.136645  0.000366\n           2022-11-04  1.025984 -0.156598 -0.031579\n           2022-11-05  0.649826  2.154846 -0.610259\nPedro      2022-11-01 -0.755325 -0.346419  0.147027\n           2022-11-02 -0.479448  0.558769  1.024810\n           2022-11-03 -0.925874  1.862864 -1.133817\n           2022-11-04  0.610478  0.386030  2.084019\n           2022-11-05 -0.376519  0.230336  0.681209",
      "text/html": "<div>\n<style scoped>\n    .dataframe tbody tr th:only-of-type {\n        vertical-align: middle;\n    }\n\n    .dataframe tbody tr th {\n        vertical-align: top;\n    }\n\n    .dataframe thead th {\n        text-align: right;\n    }\n</style>\n<table border=\"1\" class=\"dataframe\">\n  <thead>\n    <tr style=\"text-align: right;\">\n      <th></th>\n      <th></th>\n      <th>Alfa</th>\n      <th>Beta</th>\n      <th>Delta</th>\n    </tr>\n    <tr>\n      <th>Operadores</th>\n      <th>Datas</th>\n      <th></th>\n      <th></th>\n      <th></th>\n    </tr>\n  </thead>\n  <tbody>\n    <tr>\n      <th rowspan=\"5\" valign=\"top\">Maria</th>\n      <th>2022-11-01</th>\n      <td>0.302665</td>\n      <td>1.693723</td>\n      <td>-1.706086</td>\n    </tr>\n    <tr>\n      <th>2022-11-02</th>\n      <td>-1.159119</td>\n      <td>-0.134841</td>\n      <td>0.390528</td>\n    </tr>\n    <tr>\n      <th>2022-11-03</th>\n      <td>0.166905</td>\n      <td>0.184502</td>\n      <td>0.807706</td>\n    </tr>\n    <tr>\n      <th>2022-11-04</th>\n      <td>0.072960</td>\n      <td>0.638787</td>\n      <td>0.329646</td>\n    </tr>\n    <tr>\n      <th>2022-11-05</th>\n      <td>-0.497104</td>\n      <td>-0.754070</td>\n      <td>-0.943406</td>\n    </tr>\n    <tr>\n      <th rowspan=\"5\" valign=\"top\">José</th>\n      <th>2022-11-01</th>\n      <td>0.484752</td>\n      <td>-0.116773</td>\n      <td>1.901755</td>\n    </tr>\n    <tr>\n      <th>2022-11-02</th>\n      <td>0.238127</td>\n      <td>1.996652</td>\n      <td>-0.993263</td>\n    </tr>\n    <tr>\n      <th>2022-11-03</th>\n      <td>0.196800</td>\n      <td>-1.136645</td>\n      <td>0.000366</td>\n    </tr>\n    <tr>\n      <th>2022-11-04</th>\n      <td>1.025984</td>\n      <td>-0.156598</td>\n      <td>-0.031579</td>\n    </tr>\n    <tr>\n      <th>2022-11-05</th>\n      <td>0.649826</td>\n      <td>2.154846</td>\n      <td>-0.610259</td>\n    </tr>\n    <tr>\n      <th rowspan=\"5\" valign=\"top\">Pedro</th>\n      <th>2022-11-01</th>\n      <td>-0.755325</td>\n      <td>-0.346419</td>\n      <td>0.147027</td>\n    </tr>\n    <tr>\n      <th>2022-11-02</th>\n      <td>-0.479448</td>\n      <td>0.558769</td>\n      <td>1.024810</td>\n    </tr>\n    <tr>\n      <th>2022-11-03</th>\n      <td>-0.925874</td>\n      <td>1.862864</td>\n      <td>-1.133817</td>\n    </tr>\n    <tr>\n      <th>2022-11-04</th>\n      <td>0.610478</td>\n      <td>0.386030</td>\n      <td>2.084019</td>\n    </tr>\n    <tr>\n      <th>2022-11-05</th>\n      <td>-0.376519</td>\n      <td>0.230336</td>\n      <td>0.681209</td>\n    </tr>\n  </tbody>\n</table>\n</div>"
     },
     "execution_count": 26,
     "metadata": {},
     "output_type": "execute_result"
    }
   ],
   "source": [
    "# para configurar basta informar uma lista\n",
    "df_multinivel_01_operadores.index.names = ['Operadores', 'Datas']\n",
    "df_multinivel_01_operadores"
   ],
   "metadata": {
    "collapsed": false
   }
  },
  {
   "cell_type": "markdown",
   "source": [
    "Ainda sobre slices em index multiniveis\n",
    "\n",
    "podemos usar o método xs()"
   ],
   "metadata": {
    "collapsed": false
   }
  },
  {
   "cell_type": "code",
   "execution_count": 27,
   "outputs": [
    {
     "data": {
      "text/plain": "                Alfa      Beta     Delta\nDatas                                   \n2022-11-01  0.302665  1.693723 -1.706086\n2022-11-02 -1.159119 -0.134841  0.390528\n2022-11-03  0.166905  0.184502  0.807706\n2022-11-04  0.072960  0.638787  0.329646\n2022-11-05 -0.497104 -0.754070 -0.943406",
      "text/html": "<div>\n<style scoped>\n    .dataframe tbody tr th:only-of-type {\n        vertical-align: middle;\n    }\n\n    .dataframe tbody tr th {\n        vertical-align: top;\n    }\n\n    .dataframe thead th {\n        text-align: right;\n    }\n</style>\n<table border=\"1\" class=\"dataframe\">\n  <thead>\n    <tr style=\"text-align: right;\">\n      <th></th>\n      <th>Alfa</th>\n      <th>Beta</th>\n      <th>Delta</th>\n    </tr>\n    <tr>\n      <th>Datas</th>\n      <th></th>\n      <th></th>\n      <th></th>\n    </tr>\n  </thead>\n  <tbody>\n    <tr>\n      <th>2022-11-01</th>\n      <td>0.302665</td>\n      <td>1.693723</td>\n      <td>-1.706086</td>\n    </tr>\n    <tr>\n      <th>2022-11-02</th>\n      <td>-1.159119</td>\n      <td>-0.134841</td>\n      <td>0.390528</td>\n    </tr>\n    <tr>\n      <th>2022-11-03</th>\n      <td>0.166905</td>\n      <td>0.184502</td>\n      <td>0.807706</td>\n    </tr>\n    <tr>\n      <th>2022-11-04</th>\n      <td>0.072960</td>\n      <td>0.638787</td>\n      <td>0.329646</td>\n    </tr>\n    <tr>\n      <th>2022-11-05</th>\n      <td>-0.497104</td>\n      <td>-0.754070</td>\n      <td>-0.943406</td>\n    </tr>\n  </tbody>\n</table>\n</div>"
     },
     "execution_count": 27,
     "metadata": {},
     "output_type": "execute_result"
    }
   ],
   "source": [
    "df_multinivel_01_operadores.xs('Maria')"
   ],
   "metadata": {
    "collapsed": false
   }
  },
  {
   "cell_type": "code",
   "execution_count": 28,
   "outputs": [
    {
     "data": {
      "text/plain": "                Alfa      Beta     Delta\nOperadores                              \nMaria       0.072960  0.638787  0.329646\nJosé        1.025984 -0.156598 -0.031579\nPedro       0.610478  0.386030  2.084019",
      "text/html": "<div>\n<style scoped>\n    .dataframe tbody tr th:only-of-type {\n        vertical-align: middle;\n    }\n\n    .dataframe tbody tr th {\n        vertical-align: top;\n    }\n\n    .dataframe thead th {\n        text-align: right;\n    }\n</style>\n<table border=\"1\" class=\"dataframe\">\n  <thead>\n    <tr style=\"text-align: right;\">\n      <th></th>\n      <th>Alfa</th>\n      <th>Beta</th>\n      <th>Delta</th>\n    </tr>\n    <tr>\n      <th>Operadores</th>\n      <th></th>\n      <th></th>\n      <th></th>\n    </tr>\n  </thead>\n  <tbody>\n    <tr>\n      <th>Maria</th>\n      <td>0.072960</td>\n      <td>0.638787</td>\n      <td>0.329646</td>\n    </tr>\n    <tr>\n      <th>José</th>\n      <td>1.025984</td>\n      <td>-0.156598</td>\n      <td>-0.031579</td>\n    </tr>\n    <tr>\n      <th>Pedro</th>\n      <td>0.610478</td>\n      <td>0.386030</td>\n      <td>2.084019</td>\n    </tr>\n  </tbody>\n</table>\n</div>"
     },
     "execution_count": 28,
     "metadata": {},
     "output_type": "execute_result"
    }
   ],
   "source": [
    "df_multinivel_01_operadores.xs('2022-11-04', level='Datas')"
   ],
   "metadata": {
    "collapsed": false
   }
  },
  {
   "cell_type": "markdown",
   "source": [
    "### Tratamento de valores NaN"
   ],
   "metadata": {
    "collapsed": false
   }
  },
  {
   "cell_type": "code",
   "execution_count": 29,
   "outputs": [
    {
     "data": {
      "text/plain": "       Alfa      Beta      Gama  Beta_delta\nB  0.651118       NaN       NaN    0.605965\nC       NaN  0.740122  0.528813         NaN\nD  0.188695       NaN       NaN    0.955057\nE  0.190794  1.978757  2.605967    0.683509",
      "text/html": "<div>\n<style scoped>\n    .dataframe tbody tr th:only-of-type {\n        vertical-align: middle;\n    }\n\n    .dataframe tbody tr th {\n        vertical-align: top;\n    }\n\n    .dataframe thead th {\n        text-align: right;\n    }\n</style>\n<table border=\"1\" class=\"dataframe\">\n  <thead>\n    <tr style=\"text-align: right;\">\n      <th></th>\n      <th>Alfa</th>\n      <th>Beta</th>\n      <th>Gama</th>\n      <th>Beta_delta</th>\n    </tr>\n  </thead>\n  <tbody>\n    <tr>\n      <th>B</th>\n      <td>0.651118</td>\n      <td>NaN</td>\n      <td>NaN</td>\n      <td>0.605965</td>\n    </tr>\n    <tr>\n      <th>C</th>\n      <td>NaN</td>\n      <td>0.740122</td>\n      <td>0.528813</td>\n      <td>NaN</td>\n    </tr>\n    <tr>\n      <th>D</th>\n      <td>0.188695</td>\n      <td>NaN</td>\n      <td>NaN</td>\n      <td>0.955057</td>\n    </tr>\n    <tr>\n      <th>E</th>\n      <td>0.190794</td>\n      <td>1.978757</td>\n      <td>2.605967</td>\n      <td>0.683509</td>\n    </tr>\n  </tbody>\n</table>\n</div>"
     },
     "execution_count": 29,
     "metadata": {},
     "output_type": "execute_result"
    }
   ],
   "source": [
    "df_05 =  df_01[df_01_boleano_maiores_que_zero].copy().iloc[1:]\n",
    "df_05"
   ],
   "metadata": {
    "collapsed": false
   }
  },
  {
   "cell_type": "markdown",
   "source": [
    "Eliminando NaN\n",
    "\n",
    "dropna()\n",
    "De forma direta, dropna ELIMINA as linhas com NaN\n",
    "sensível ao inplace"
   ],
   "metadata": {
    "collapsed": false
   }
  },
  {
   "cell_type": "code",
   "execution_count": 30,
   "outputs": [
    {
     "data": {
      "text/plain": "       Alfa      Beta      Gama  Beta_delta\nE  0.190794  1.978757  2.605967    0.683509",
      "text/html": "<div>\n<style scoped>\n    .dataframe tbody tr th:only-of-type {\n        vertical-align: middle;\n    }\n\n    .dataframe tbody tr th {\n        vertical-align: top;\n    }\n\n    .dataframe thead th {\n        text-align: right;\n    }\n</style>\n<table border=\"1\" class=\"dataframe\">\n  <thead>\n    <tr style=\"text-align: right;\">\n      <th></th>\n      <th>Alfa</th>\n      <th>Beta</th>\n      <th>Gama</th>\n      <th>Beta_delta</th>\n    </tr>\n  </thead>\n  <tbody>\n    <tr>\n      <th>E</th>\n      <td>0.190794</td>\n      <td>1.978757</td>\n      <td>2.605967</td>\n      <td>0.683509</td>\n    </tr>\n  </tbody>\n</table>\n</div>"
     },
     "execution_count": 30,
     "metadata": {},
     "output_type": "execute_result"
    }
   ],
   "source": [
    "df_05.dropna()"
   ],
   "metadata": {
    "collapsed": false
   }
  },
  {
   "cell_type": "markdown",
   "source": [
    "dropna() para eliminar colunas, deve apontar para axis=1\n",
    "TODAS as colunas que não possuírem 100% dos dados válidos."
   ],
   "metadata": {
    "collapsed": false
   }
  },
  {
   "cell_type": "code",
   "execution_count": 31,
   "outputs": [
    {
     "data": {
      "text/plain": "Empty DataFrame\nColumns: []\nIndex: [B, C, D, E]",
      "text/html": "<div>\n<style scoped>\n    .dataframe tbody tr th:only-of-type {\n        vertical-align: middle;\n    }\n\n    .dataframe tbody tr th {\n        vertical-align: top;\n    }\n\n    .dataframe thead th {\n        text-align: right;\n    }\n</style>\n<table border=\"1\" class=\"dataframe\">\n  <thead>\n    <tr style=\"text-align: right;\">\n      <th></th>\n    </tr>\n  </thead>\n  <tbody>\n    <tr>\n      <th>B</th>\n    </tr>\n    <tr>\n      <th>C</th>\n    </tr>\n    <tr>\n      <th>D</th>\n    </tr>\n    <tr>\n      <th>E</th>\n    </tr>\n  </tbody>\n</table>\n</div>"
     },
     "execution_count": 31,
     "metadata": {},
     "output_type": "execute_result"
    }
   ],
   "source": [
    "df_05.dropna(axis=1)"
   ],
   "metadata": {
    "collapsed": false
   }
  },
  {
   "cell_type": "markdown",
   "source": [
    "dropna() pode ser usado com o parâmetro thresh=VALOR, onde VALOR indica a quantidade minima a ser considerada para eliminar a coluna/linha\n",
    "Linhas ou colunas com as quantidades de dados ausentes sendo menor do que o especificado no parametro thresh permanecerão no DF resultante."
   ],
   "metadata": {
    "collapsed": false
   }
  },
  {
   "cell_type": "code",
   "execution_count": 32,
   "outputs": [
    {
     "data": {
      "text/plain": "       Alfa      Beta      Gama  Beta_delta\nB  0.651118       NaN       NaN    0.605965\nC       NaN  0.740122  0.528813         NaN\nD  0.188695       NaN       NaN    0.955057\nE  0.190794  1.978757  2.605967    0.683509",
      "text/html": "<div>\n<style scoped>\n    .dataframe tbody tr th:only-of-type {\n        vertical-align: middle;\n    }\n\n    .dataframe tbody tr th {\n        vertical-align: top;\n    }\n\n    .dataframe thead th {\n        text-align: right;\n    }\n</style>\n<table border=\"1\" class=\"dataframe\">\n  <thead>\n    <tr style=\"text-align: right;\">\n      <th></th>\n      <th>Alfa</th>\n      <th>Beta</th>\n      <th>Gama</th>\n      <th>Beta_delta</th>\n    </tr>\n  </thead>\n  <tbody>\n    <tr>\n      <th>B</th>\n      <td>0.651118</td>\n      <td>NaN</td>\n      <td>NaN</td>\n      <td>0.605965</td>\n    </tr>\n    <tr>\n      <th>C</th>\n      <td>NaN</td>\n      <td>0.740122</td>\n      <td>0.528813</td>\n      <td>NaN</td>\n    </tr>\n    <tr>\n      <th>D</th>\n      <td>0.188695</td>\n      <td>NaN</td>\n      <td>NaN</td>\n      <td>0.955057</td>\n    </tr>\n    <tr>\n      <th>E</th>\n      <td>0.190794</td>\n      <td>1.978757</td>\n      <td>2.605967</td>\n      <td>0.683509</td>\n    </tr>\n  </tbody>\n</table>\n</div>"
     },
     "execution_count": 32,
     "metadata": {},
     "output_type": "execute_result"
    }
   ],
   "source": [
    "df_05.dropna(thresh=2)"
   ],
   "metadata": {
    "collapsed": false
   }
  },
  {
   "cell_type": "markdown",
   "source": [
    "fillna()\n",
    "\n",
    "fillna SUBSTITUI os valores NaN pelo especificado."
   ],
   "metadata": {
    "collapsed": false
   }
  },
  {
   "cell_type": "code",
   "execution_count": 33,
   "outputs": [
    {
     "data": {
      "text/plain": "              Alfa             Beta             Gama       Beta_delta\nB         0.651118  Sem dados no DB  Sem dados no DB         0.605965\nC  Sem dados no DB         0.740122         0.528813  Sem dados no DB\nD         0.188695  Sem dados no DB  Sem dados no DB         0.955057\nE         0.190794         1.978757         2.605967         0.683509",
      "text/html": "<div>\n<style scoped>\n    .dataframe tbody tr th:only-of-type {\n        vertical-align: middle;\n    }\n\n    .dataframe tbody tr th {\n        vertical-align: top;\n    }\n\n    .dataframe thead th {\n        text-align: right;\n    }\n</style>\n<table border=\"1\" class=\"dataframe\">\n  <thead>\n    <tr style=\"text-align: right;\">\n      <th></th>\n      <th>Alfa</th>\n      <th>Beta</th>\n      <th>Gama</th>\n      <th>Beta_delta</th>\n    </tr>\n  </thead>\n  <tbody>\n    <tr>\n      <th>B</th>\n      <td>0.651118</td>\n      <td>Sem dados no DB</td>\n      <td>Sem dados no DB</td>\n      <td>0.605965</td>\n    </tr>\n    <tr>\n      <th>C</th>\n      <td>Sem dados no DB</td>\n      <td>0.740122</td>\n      <td>0.528813</td>\n      <td>Sem dados no DB</td>\n    </tr>\n    <tr>\n      <th>D</th>\n      <td>0.188695</td>\n      <td>Sem dados no DB</td>\n      <td>Sem dados no DB</td>\n      <td>0.955057</td>\n    </tr>\n    <tr>\n      <th>E</th>\n      <td>0.190794</td>\n      <td>1.978757</td>\n      <td>2.605967</td>\n      <td>0.683509</td>\n    </tr>\n  </tbody>\n</table>\n</div>"
     },
     "execution_count": 33,
     "metadata": {},
     "output_type": "execute_result"
    }
   ],
   "source": [
    "df_05.fillna(value=\"Sem dados no DB\")"
   ],
   "metadata": {
    "collapsed": false
   }
  },
  {
   "cell_type": "code",
   "execution_count": 34,
   "outputs": [
    {
     "data": {
      "text/plain": "       Alfa      Beta      Gama  Beta_delta\nB  0.651118  0.000000  0.000000    0.605965\nC  0.000000  0.740122  0.528813    0.000000\nD  0.188695  0.000000  0.000000    0.955057\nE  0.190794  1.978757  2.605967    0.683509",
      "text/html": "<div>\n<style scoped>\n    .dataframe tbody tr th:only-of-type {\n        vertical-align: middle;\n    }\n\n    .dataframe tbody tr th {\n        vertical-align: top;\n    }\n\n    .dataframe thead th {\n        text-align: right;\n    }\n</style>\n<table border=\"1\" class=\"dataframe\">\n  <thead>\n    <tr style=\"text-align: right;\">\n      <th></th>\n      <th>Alfa</th>\n      <th>Beta</th>\n      <th>Gama</th>\n      <th>Beta_delta</th>\n    </tr>\n  </thead>\n  <tbody>\n    <tr>\n      <th>B</th>\n      <td>0.651118</td>\n      <td>0.000000</td>\n      <td>0.000000</td>\n      <td>0.605965</td>\n    </tr>\n    <tr>\n      <th>C</th>\n      <td>0.000000</td>\n      <td>0.740122</td>\n      <td>0.528813</td>\n      <td>0.000000</td>\n    </tr>\n    <tr>\n      <th>D</th>\n      <td>0.188695</td>\n      <td>0.000000</td>\n      <td>0.000000</td>\n      <td>0.955057</td>\n    </tr>\n    <tr>\n      <th>E</th>\n      <td>0.190794</td>\n      <td>1.978757</td>\n      <td>2.605967</td>\n      <td>0.683509</td>\n    </tr>\n  </tbody>\n</table>\n</div>"
     },
     "execution_count": 34,
     "metadata": {},
     "output_type": "execute_result"
    }
   ],
   "source": [
    "df_05.fillna(value=0)\n"
   ],
   "metadata": {
    "collapsed": false
   }
  },
  {
   "cell_type": "markdown",
   "source": [
    "no método fillna() podemos utilizar uma fórmula no parametro VALUE"
   ],
   "metadata": {
    "collapsed": false
   }
  },
  {
   "cell_type": "code",
   "execution_count": 35,
   "outputs": [
    {
     "data": {
      "text/plain": "       Alfa      Beta      Gama  Beta_delta\nB  0.651118  0.740122  0.740122    0.605965\nC  0.740122  0.740122  0.528813    0.740122\nD  0.188695  0.740122  0.740122    0.955057\nE  0.190794  1.978757  2.605967    0.683509",
      "text/html": "<div>\n<style scoped>\n    .dataframe tbody tr th:only-of-type {\n        vertical-align: middle;\n    }\n\n    .dataframe tbody tr th {\n        vertical-align: top;\n    }\n\n    .dataframe thead th {\n        text-align: right;\n    }\n</style>\n<table border=\"1\" class=\"dataframe\">\n  <thead>\n    <tr style=\"text-align: right;\">\n      <th></th>\n      <th>Alfa</th>\n      <th>Beta</th>\n      <th>Gama</th>\n      <th>Beta_delta</th>\n    </tr>\n  </thead>\n  <tbody>\n    <tr>\n      <th>B</th>\n      <td>0.651118</td>\n      <td>0.740122</td>\n      <td>0.740122</td>\n      <td>0.605965</td>\n    </tr>\n    <tr>\n      <th>C</th>\n      <td>0.740122</td>\n      <td>0.740122</td>\n      <td>0.528813</td>\n      <td>0.740122</td>\n    </tr>\n    <tr>\n      <th>D</th>\n      <td>0.188695</td>\n      <td>0.740122</td>\n      <td>0.740122</td>\n      <td>0.955057</td>\n    </tr>\n    <tr>\n      <th>E</th>\n      <td>0.190794</td>\n      <td>1.978757</td>\n      <td>2.605967</td>\n      <td>0.683509</td>\n    </tr>\n  </tbody>\n</table>\n</div>"
     },
     "execution_count": 35,
     "metadata": {},
     "output_type": "execute_result"
    }
   ],
   "source": [
    "df_05.fillna(value=df_05['Beta'].min())\n",
    "# Substituir o valor do NaN com o valor MINIMO obtido através do método Series.min()"
   ],
   "metadata": {
    "collapsed": false
   }
  },
  {
   "cell_type": "code",
   "execution_count": 36,
   "outputs": [
    {
     "data": {
      "text/plain": "       Alfa      Beta      Gama  Beta_delta\nB  0.651118  1.211931  1.211931    0.605965\nC       NaN  0.740122  0.528813         NaN\nD  0.188695  1.910113  1.910113    0.955057\nE  0.190794  1.978757  2.605967    0.683509",
      "text/html": "<div>\n<style scoped>\n    .dataframe tbody tr th:only-of-type {\n        vertical-align: middle;\n    }\n\n    .dataframe tbody tr th {\n        vertical-align: top;\n    }\n\n    .dataframe thead th {\n        text-align: right;\n    }\n</style>\n<table border=\"1\" class=\"dataframe\">\n  <thead>\n    <tr style=\"text-align: right;\">\n      <th></th>\n      <th>Alfa</th>\n      <th>Beta</th>\n      <th>Gama</th>\n      <th>Beta_delta</th>\n    </tr>\n  </thead>\n  <tbody>\n    <tr>\n      <th>B</th>\n      <td>0.651118</td>\n      <td>1.211931</td>\n      <td>1.211931</td>\n      <td>0.605965</td>\n    </tr>\n    <tr>\n      <th>C</th>\n      <td>NaN</td>\n      <td>0.740122</td>\n      <td>0.528813</td>\n      <td>NaN</td>\n    </tr>\n    <tr>\n      <th>D</th>\n      <td>0.188695</td>\n      <td>1.910113</td>\n      <td>1.910113</td>\n      <td>0.955057</td>\n    </tr>\n    <tr>\n      <th>E</th>\n      <td>0.190794</td>\n      <td>1.978757</td>\n      <td>2.605967</td>\n      <td>0.683509</td>\n    </tr>\n  </tbody>\n</table>\n</div>"
     },
     "execution_count": 36,
     "metadata": {},
     "output_type": "execute_result"
    }
   ],
   "source": [
    "for i in df_05.index:\n",
    "    df_05.loc[i].fillna(value=df_05.loc[i]['Beta_delta']*2, inplace=True)\n",
    "df_05\n",
    "# Fazendo um replace de ietm baseado no valor da linha."
   ],
   "metadata": {
    "collapsed": false
   }
  },
  {
   "cell_type": "code",
   "execution_count": 37,
   "outputs": [
    {
     "data": {
      "text/plain": "       Alfa      Beta      Gama  Beta_delta\nB  0.651118       NaN       NaN    0.605965\nC       NaN  0.740122  0.528813         NaN\nD  0.188695       NaN       NaN    0.955057\nE  0.190794  1.978757  2.605967    0.683509",
      "text/html": "<div>\n<style scoped>\n    .dataframe tbody tr th:only-of-type {\n        vertical-align: middle;\n    }\n\n    .dataframe tbody tr th {\n        vertical-align: top;\n    }\n\n    .dataframe thead th {\n        text-align: right;\n    }\n</style>\n<table border=\"1\" class=\"dataframe\">\n  <thead>\n    <tr style=\"text-align: right;\">\n      <th></th>\n      <th>Alfa</th>\n      <th>Beta</th>\n      <th>Gama</th>\n      <th>Beta_delta</th>\n    </tr>\n  </thead>\n  <tbody>\n    <tr>\n      <th>B</th>\n      <td>0.651118</td>\n      <td>NaN</td>\n      <td>NaN</td>\n      <td>0.605965</td>\n    </tr>\n    <tr>\n      <th>C</th>\n      <td>NaN</td>\n      <td>0.740122</td>\n      <td>0.528813</td>\n      <td>NaN</td>\n    </tr>\n    <tr>\n      <th>D</th>\n      <td>0.188695</td>\n      <td>NaN</td>\n      <td>NaN</td>\n      <td>0.955057</td>\n    </tr>\n    <tr>\n      <th>E</th>\n      <td>0.190794</td>\n      <td>1.978757</td>\n      <td>2.605967</td>\n      <td>0.683509</td>\n    </tr>\n  </tbody>\n</table>\n</div>"
     },
     "execution_count": 37,
     "metadata": {},
     "output_type": "execute_result"
    }
   ],
   "source": [
    "df_06 =  df_01[df_01_boleano_maiores_que_zero].copy().iloc[1:]\n",
    "df_06"
   ],
   "metadata": {
    "collapsed": false
   }
  },
  {
   "cell_type": "markdown",
   "source": [
    "fillna ainda tem o parâmetro METHOD\n",
    "pode ser usado FFILL para preenccher com o primeiro  valor antecessor válido\n",
    "e BFILL para preencher com o proximo valor válido."
   ],
   "metadata": {
    "collapsed": false
   }
  },
  {
   "cell_type": "code",
   "execution_count": 38,
   "outputs": [
    {
     "data": {
      "text/plain": "       Alfa      Beta      Gama  Beta_delta\nB  0.651118       NaN       NaN    0.605965\nC  0.651118  0.740122  0.528813    0.605965\nD  0.188695  0.740122  0.528813    0.955057\nE  0.190794  1.978757  2.605967    0.683509",
      "text/html": "<div>\n<style scoped>\n    .dataframe tbody tr th:only-of-type {\n        vertical-align: middle;\n    }\n\n    .dataframe tbody tr th {\n        vertical-align: top;\n    }\n\n    .dataframe thead th {\n        text-align: right;\n    }\n</style>\n<table border=\"1\" class=\"dataframe\">\n  <thead>\n    <tr style=\"text-align: right;\">\n      <th></th>\n      <th>Alfa</th>\n      <th>Beta</th>\n      <th>Gama</th>\n      <th>Beta_delta</th>\n    </tr>\n  </thead>\n  <tbody>\n    <tr>\n      <th>B</th>\n      <td>0.651118</td>\n      <td>NaN</td>\n      <td>NaN</td>\n      <td>0.605965</td>\n    </tr>\n    <tr>\n      <th>C</th>\n      <td>0.651118</td>\n      <td>0.740122</td>\n      <td>0.528813</td>\n      <td>0.605965</td>\n    </tr>\n    <tr>\n      <th>D</th>\n      <td>0.188695</td>\n      <td>0.740122</td>\n      <td>0.528813</td>\n      <td>0.955057</td>\n    </tr>\n    <tr>\n      <th>E</th>\n      <td>0.190794</td>\n      <td>1.978757</td>\n      <td>2.605967</td>\n      <td>0.683509</td>\n    </tr>\n  </tbody>\n</table>\n</div>"
     },
     "execution_count": 38,
     "metadata": {},
     "output_type": "execute_result"
    }
   ],
   "source": [
    "df_06.fillna(method='ffill')"
   ],
   "metadata": {
    "collapsed": false
   }
  },
  {
   "cell_type": "code",
   "execution_count": 39,
   "outputs": [
    {
     "data": {
      "text/plain": "       Alfa      Beta      Gama  Beta_delta\nB  0.651118  0.740122  0.528813    0.605965\nC  0.188695  0.740122  0.528813    0.955057\nD  0.188695  1.978757  2.605967    0.955057\nE  0.190794  1.978757  2.605967    0.683509",
      "text/html": "<div>\n<style scoped>\n    .dataframe tbody tr th:only-of-type {\n        vertical-align: middle;\n    }\n\n    .dataframe tbody tr th {\n        vertical-align: top;\n    }\n\n    .dataframe thead th {\n        text-align: right;\n    }\n</style>\n<table border=\"1\" class=\"dataframe\">\n  <thead>\n    <tr style=\"text-align: right;\">\n      <th></th>\n      <th>Alfa</th>\n      <th>Beta</th>\n      <th>Gama</th>\n      <th>Beta_delta</th>\n    </tr>\n  </thead>\n  <tbody>\n    <tr>\n      <th>B</th>\n      <td>0.651118</td>\n      <td>0.740122</td>\n      <td>0.528813</td>\n      <td>0.605965</td>\n    </tr>\n    <tr>\n      <th>C</th>\n      <td>0.188695</td>\n      <td>0.740122</td>\n      <td>0.528813</td>\n      <td>0.955057</td>\n    </tr>\n    <tr>\n      <th>D</th>\n      <td>0.188695</td>\n      <td>1.978757</td>\n      <td>2.605967</td>\n      <td>0.955057</td>\n    </tr>\n    <tr>\n      <th>E</th>\n      <td>0.190794</td>\n      <td>1.978757</td>\n      <td>2.605967</td>\n      <td>0.683509</td>\n    </tr>\n  </tbody>\n</table>\n</div>"
     },
     "execution_count": 39,
     "metadata": {},
     "output_type": "execute_result"
    }
   ],
   "source": [
    "df_06.fillna(method='bfill')"
   ],
   "metadata": {
    "collapsed": false
   }
  },
  {
   "cell_type": "code",
   "execution_count": null,
   "outputs": [],
   "source": [],
   "metadata": {
    "collapsed": false
   }
  }
 ],
 "metadata": {
  "kernelspec": {
   "display_name": "Python 3",
   "language": "python",
   "name": "python3"
  },
  "language_info": {
   "codemirror_mode": {
    "name": "ipython",
    "version": 2
   },
   "file_extension": ".py",
   "mimetype": "text/x-python",
   "name": "python",
   "nbconvert_exporter": "python",
   "pygments_lexer": "ipython2",
   "version": "2.7.6"
  }
 },
 "nbformat": 4,
 "nbformat_minor": 0
}
